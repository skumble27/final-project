{
 "metadata": {
  "language_info": {
   "codemirror_mode": {
    "name": "ipython",
    "version": 3
   },
   "file_extension": ".py",
   "mimetype": "text/x-python",
   "name": "python",
   "nbconvert_exporter": "python",
   "pygments_lexer": "ipython3",
   "version": "3.6.12-final"
  },
  "orig_nbformat": 2,
  "kernelspec": {
   "name": "python361264bitbootcampmonashconda2e6efb6a376242db90ce542f5ab8dbba",
   "display_name": "Python 3.6.12 64-bit ('BootCampMonash': conda)",
   "language": "python"
  }
 },
 "nbformat": 4,
 "nbformat_minor": 2,
 "cells": [
  {
   "cell_type": "code",
   "execution_count": 1,
   "metadata": {},
   "outputs": [],
   "source": [
    "# Importing Pandas dependency\n",
    "import pandas as pd"
   ]
  },
  {
   "cell_type": "code",
   "execution_count": 2,
   "metadata": {},
   "outputs": [
    {
     "output_type": "execute_result",
     "data": {
      "text/plain": [
       "      country_code  year    population  gdp_current_usd\n",
       "0              AFG  1960  8.996973e+06     5.377778e+08\n",
       "1              AFG  1961  9.169410e+06     5.488889e+08\n",
       "2              AFG  1962  9.351441e+06     5.466667e+08\n",
       "3              AFG  1963  9.543205e+06     7.511112e+08\n",
       "4              AFG  1964  9.744781e+06     8.000000e+08\n",
       "...            ...   ...           ...              ...\n",
       "16099          WLD  2016  7.424286e+09     7.640000e+13\n",
       "16100          WLD  2017  7.509074e+09     8.130000e+13\n",
       "16101          WLD  2018  7.591945e+09     8.640000e+13\n",
       "16102          WLD  2019  7.673534e+09     8.780000e+13\n",
       "16103          WLD  2020  7.673534e+09     8.780000e+13\n",
       "\n",
       "[16104 rows x 4 columns]"
      ],
      "text/html": "<div>\n<style scoped>\n    .dataframe tbody tr th:only-of-type {\n        vertical-align: middle;\n    }\n\n    .dataframe tbody tr th {\n        vertical-align: top;\n    }\n\n    .dataframe thead th {\n        text-align: right;\n    }\n</style>\n<table border=\"1\" class=\"dataframe\">\n  <thead>\n    <tr style=\"text-align: right;\">\n      <th></th>\n      <th>country_code</th>\n      <th>year</th>\n      <th>population</th>\n      <th>gdp_current_usd</th>\n    </tr>\n  </thead>\n  <tbody>\n    <tr>\n      <th>0</th>\n      <td>AFG</td>\n      <td>1960</td>\n      <td>8.996973e+06</td>\n      <td>5.377778e+08</td>\n    </tr>\n    <tr>\n      <th>1</th>\n      <td>AFG</td>\n      <td>1961</td>\n      <td>9.169410e+06</td>\n      <td>5.488889e+08</td>\n    </tr>\n    <tr>\n      <th>2</th>\n      <td>AFG</td>\n      <td>1962</td>\n      <td>9.351441e+06</td>\n      <td>5.466667e+08</td>\n    </tr>\n    <tr>\n      <th>3</th>\n      <td>AFG</td>\n      <td>1963</td>\n      <td>9.543205e+06</td>\n      <td>7.511112e+08</td>\n    </tr>\n    <tr>\n      <th>4</th>\n      <td>AFG</td>\n      <td>1964</td>\n      <td>9.744781e+06</td>\n      <td>8.000000e+08</td>\n    </tr>\n    <tr>\n      <th>...</th>\n      <td>...</td>\n      <td>...</td>\n      <td>...</td>\n      <td>...</td>\n    </tr>\n    <tr>\n      <th>16099</th>\n      <td>WLD</td>\n      <td>2016</td>\n      <td>7.424286e+09</td>\n      <td>7.640000e+13</td>\n    </tr>\n    <tr>\n      <th>16100</th>\n      <td>WLD</td>\n      <td>2017</td>\n      <td>7.509074e+09</td>\n      <td>8.130000e+13</td>\n    </tr>\n    <tr>\n      <th>16101</th>\n      <td>WLD</td>\n      <td>2018</td>\n      <td>7.591945e+09</td>\n      <td>8.640000e+13</td>\n    </tr>\n    <tr>\n      <th>16102</th>\n      <td>WLD</td>\n      <td>2019</td>\n      <td>7.673534e+09</td>\n      <td>8.780000e+13</td>\n    </tr>\n    <tr>\n      <th>16103</th>\n      <td>WLD</td>\n      <td>2020</td>\n      <td>7.673534e+09</td>\n      <td>8.780000e+13</td>\n    </tr>\n  </tbody>\n</table>\n<p>16104 rows × 4 columns</p>\n</div>"
     },
     "metadata": {},
     "execution_count": 2
    }
   ],
   "source": [
    "country_df = pd.read_csv('raw_data/country_template_year.csv')\n",
    "country_df"
   ]
  },
  {
   "cell_type": "code",
   "execution_count": 3,
   "metadata": {},
   "outputs": [
    {
     "output_type": "execute_result",
     "data": {
      "text/plain": [
       "           country country_code  year  population  gdp_current_usd  \\\n",
       "0      Afghanistan          AFG  1960   8996973.0     5.377778e+08   \n",
       "1      Afghanistan          AFG  1961   9169410.0     5.488889e+08   \n",
       "2      Afghanistan          AFG  1962   9351441.0     5.466667e+08   \n",
       "3      Afghanistan          AFG  1963   9543205.0     7.511112e+08   \n",
       "4      Afghanistan          AFG  1964   9744781.0     8.000000e+08   \n",
       "...            ...          ...   ...         ...              ...   \n",
       "13171     Zimbabwe          ZWE  2016  14030390.0     2.054868e+10   \n",
       "13172     Zimbabwe          ZWE  2017  14236745.0     2.204090e+10   \n",
       "13173     Zimbabwe          ZWE  2018  14439018.0     2.431156e+10   \n",
       "13174     Zimbabwe          ZWE  2019  14645468.0     2.144076e+10   \n",
       "13175     Zimbabwe          ZWE  2020         0.0     0.000000e+00   \n",
       "\n",
       "       land_area_ha  agri_land_%  forest_area_%  cereal_yield_kg_ha  \\\n",
       "0               0.0     0.000000       6.857399                 0.0   \n",
       "1        65286000.0    57.745918       6.171659              1115.1   \n",
       "2        65286000.0    57.837821       6.233999              1079.0   \n",
       "3        65286000.0    57.914407       6.296968               985.8   \n",
       "4        65286000.0    58.010906       6.360574              1082.8   \n",
       "...             ...          ...            ...                 ...   \n",
       "13171    38685000.0    41.876696      35.542457               581.8   \n",
       "13172    38685000.0     0.000000       0.000000               616.0   \n",
       "13173    38685000.0     0.000000       0.000000                 0.0   \n",
       "13174           0.0     0.000000       0.000000                 0.0   \n",
       "13175           0.0     0.000000       0.000000                 0.0   \n",
       "\n",
       "       cash_crop_yield_kg_ha  employment_agri_%  \\\n",
       "0                       0.00          77.550771   \n",
       "1                     223.02          78.334112   \n",
       "2                     215.80          87.037902   \n",
       "3                     197.16          78.334112   \n",
       "4                     216.56          79.125366   \n",
       "...                      ...                ...   \n",
       "13171                 116.36          67.066002   \n",
       "13172                 123.20          66.764999   \n",
       "13173                   0.00          66.306999   \n",
       "13174                   0.00          66.543999   \n",
       "13175                   0.00          66.269997   \n",
       "\n",
       "       livestock_production_100_index  \n",
       "0                           42.936300  \n",
       "1                           43.370000  \n",
       "2                           43.990000  \n",
       "3                           47.030000  \n",
       "4                           48.560000  \n",
       "...                               ...  \n",
       "13171                      106.250000  \n",
       "13172                      106.249894  \n",
       "13173                      106.249787  \n",
       "13174                      106.249681  \n",
       "13175                      106.249575  \n",
       "\n",
       "[13176 rows x 12 columns]"
      ],
      "text/html": "<div>\n<style scoped>\n    .dataframe tbody tr th:only-of-type {\n        vertical-align: middle;\n    }\n\n    .dataframe tbody tr th {\n        vertical-align: top;\n    }\n\n    .dataframe thead th {\n        text-align: right;\n    }\n</style>\n<table border=\"1\" class=\"dataframe\">\n  <thead>\n    <tr style=\"text-align: right;\">\n      <th></th>\n      <th>country</th>\n      <th>country_code</th>\n      <th>year</th>\n      <th>population</th>\n      <th>gdp_current_usd</th>\n      <th>land_area_ha</th>\n      <th>agri_land_%</th>\n      <th>forest_area_%</th>\n      <th>cereal_yield_kg_ha</th>\n      <th>cash_crop_yield_kg_ha</th>\n      <th>employment_agri_%</th>\n      <th>livestock_production_100_index</th>\n    </tr>\n  </thead>\n  <tbody>\n    <tr>\n      <th>0</th>\n      <td>Afghanistan</td>\n      <td>AFG</td>\n      <td>1960</td>\n      <td>8996973.0</td>\n      <td>5.377778e+08</td>\n      <td>0.0</td>\n      <td>0.000000</td>\n      <td>6.857399</td>\n      <td>0.0</td>\n      <td>0.00</td>\n      <td>77.550771</td>\n      <td>42.936300</td>\n    </tr>\n    <tr>\n      <th>1</th>\n      <td>Afghanistan</td>\n      <td>AFG</td>\n      <td>1961</td>\n      <td>9169410.0</td>\n      <td>5.488889e+08</td>\n      <td>65286000.0</td>\n      <td>57.745918</td>\n      <td>6.171659</td>\n      <td>1115.1</td>\n      <td>223.02</td>\n      <td>78.334112</td>\n      <td>43.370000</td>\n    </tr>\n    <tr>\n      <th>2</th>\n      <td>Afghanistan</td>\n      <td>AFG</td>\n      <td>1962</td>\n      <td>9351441.0</td>\n      <td>5.466667e+08</td>\n      <td>65286000.0</td>\n      <td>57.837821</td>\n      <td>6.233999</td>\n      <td>1079.0</td>\n      <td>215.80</td>\n      <td>87.037902</td>\n      <td>43.990000</td>\n    </tr>\n    <tr>\n      <th>3</th>\n      <td>Afghanistan</td>\n      <td>AFG</td>\n      <td>1963</td>\n      <td>9543205.0</td>\n      <td>7.511112e+08</td>\n      <td>65286000.0</td>\n      <td>57.914407</td>\n      <td>6.296968</td>\n      <td>985.8</td>\n      <td>197.16</td>\n      <td>78.334112</td>\n      <td>47.030000</td>\n    </tr>\n    <tr>\n      <th>4</th>\n      <td>Afghanistan</td>\n      <td>AFG</td>\n      <td>1964</td>\n      <td>9744781.0</td>\n      <td>8.000000e+08</td>\n      <td>65286000.0</td>\n      <td>58.010906</td>\n      <td>6.360574</td>\n      <td>1082.8</td>\n      <td>216.56</td>\n      <td>79.125366</td>\n      <td>48.560000</td>\n    </tr>\n    <tr>\n      <th>...</th>\n      <td>...</td>\n      <td>...</td>\n      <td>...</td>\n      <td>...</td>\n      <td>...</td>\n      <td>...</td>\n      <td>...</td>\n      <td>...</td>\n      <td>...</td>\n      <td>...</td>\n      <td>...</td>\n      <td>...</td>\n    </tr>\n    <tr>\n      <th>13171</th>\n      <td>Zimbabwe</td>\n      <td>ZWE</td>\n      <td>2016</td>\n      <td>14030390.0</td>\n      <td>2.054868e+10</td>\n      <td>38685000.0</td>\n      <td>41.876696</td>\n      <td>35.542457</td>\n      <td>581.8</td>\n      <td>116.36</td>\n      <td>67.066002</td>\n      <td>106.250000</td>\n    </tr>\n    <tr>\n      <th>13172</th>\n      <td>Zimbabwe</td>\n      <td>ZWE</td>\n      <td>2017</td>\n      <td>14236745.0</td>\n      <td>2.204090e+10</td>\n      <td>38685000.0</td>\n      <td>0.000000</td>\n      <td>0.000000</td>\n      <td>616.0</td>\n      <td>123.20</td>\n      <td>66.764999</td>\n      <td>106.249894</td>\n    </tr>\n    <tr>\n      <th>13173</th>\n      <td>Zimbabwe</td>\n      <td>ZWE</td>\n      <td>2018</td>\n      <td>14439018.0</td>\n      <td>2.431156e+10</td>\n      <td>38685000.0</td>\n      <td>0.000000</td>\n      <td>0.000000</td>\n      <td>0.0</td>\n      <td>0.00</td>\n      <td>66.306999</td>\n      <td>106.249787</td>\n    </tr>\n    <tr>\n      <th>13174</th>\n      <td>Zimbabwe</td>\n      <td>ZWE</td>\n      <td>2019</td>\n      <td>14645468.0</td>\n      <td>2.144076e+10</td>\n      <td>0.0</td>\n      <td>0.000000</td>\n      <td>0.000000</td>\n      <td>0.0</td>\n      <td>0.00</td>\n      <td>66.543999</td>\n      <td>106.249681</td>\n    </tr>\n    <tr>\n      <th>13175</th>\n      <td>Zimbabwe</td>\n      <td>ZWE</td>\n      <td>2020</td>\n      <td>0.0</td>\n      <td>0.000000e+00</td>\n      <td>0.0</td>\n      <td>0.000000</td>\n      <td>0.000000</td>\n      <td>0.0</td>\n      <td>0.00</td>\n      <td>66.269997</td>\n      <td>106.249575</td>\n    </tr>\n  </tbody>\n</table>\n<p>13176 rows × 12 columns</p>\n</div>"
     },
     "metadata": {},
     "execution_count": 3
    }
   ],
   "source": [
    "agriculture = pd.read_csv('cleaned_data/agricultureData.csv')\n",
    "agriculture"
   ]
  },
  {
   "cell_type": "code",
   "execution_count": 13,
   "metadata": {},
   "outputs": [
    {
     "output_type": "execute_result",
     "data": {
      "text/plain": [
       "      country_code  year  population  gdp_current_usd      country  \\\n",
       "0              AFG  1960   8996973.0     5.377778e+08  Afghanistan   \n",
       "1              AFG  1961   9169410.0     5.488889e+08  Afghanistan   \n",
       "2              AFG  1962   9351441.0     5.466667e+08  Afghanistan   \n",
       "3              AFG  1963   9543205.0     7.511112e+08  Afghanistan   \n",
       "4              AFG  1964   9744781.0     8.000000e+08  Afghanistan   \n",
       "...            ...   ...         ...              ...          ...   \n",
       "13171          ZWE  2016  14030390.0     2.054868e+10     Zimbabwe   \n",
       "13172          ZWE  2017  14236745.0     2.204090e+10     Zimbabwe   \n",
       "13173          ZWE  2018  14439018.0     2.431156e+10     Zimbabwe   \n",
       "13174          ZWE  2019  14645468.0     2.144076e+10     Zimbabwe   \n",
       "13175          ZWE  2020         0.0     0.000000e+00     Zimbabwe   \n",
       "\n",
       "       land_area_ha  agri_land_%  forest_area_%  cereal_yield_kg_ha  \\\n",
       "0               0.0     0.000000       6.857399                 0.0   \n",
       "1        65286000.0    57.745918       6.171659              1115.1   \n",
       "2        65286000.0    57.837821       6.233999              1079.0   \n",
       "3        65286000.0    57.914407       6.296968               985.8   \n",
       "4        65286000.0    58.010906       6.360574              1082.8   \n",
       "...             ...          ...            ...                 ...   \n",
       "13171    38685000.0    41.876696      35.542457               581.8   \n",
       "13172    38685000.0     0.000000       0.000000               616.0   \n",
       "13173    38685000.0     0.000000       0.000000                 0.0   \n",
       "13174           0.0     0.000000       0.000000                 0.0   \n",
       "13175           0.0     0.000000       0.000000                 0.0   \n",
       "\n",
       "       cash_crop_yield_kg_ha  employment_agri_%  \\\n",
       "0                       0.00          77.550771   \n",
       "1                     223.02          78.334112   \n",
       "2                     215.80          87.037902   \n",
       "3                     197.16          78.334112   \n",
       "4                     216.56          79.125366   \n",
       "...                      ...                ...   \n",
       "13171                 116.36          67.066002   \n",
       "13172                 123.20          66.764999   \n",
       "13173                   0.00          66.306999   \n",
       "13174                   0.00          66.543999   \n",
       "13175                   0.00          66.269997   \n",
       "\n",
       "       livestock_production_100_index  \n",
       "0                           42.936300  \n",
       "1                           43.370000  \n",
       "2                           43.990000  \n",
       "3                           47.030000  \n",
       "4                           48.560000  \n",
       "...                               ...  \n",
       "13171                      106.250000  \n",
       "13172                      106.249894  \n",
       "13173                      106.249787  \n",
       "13174                      106.249681  \n",
       "13175                      106.249575  \n",
       "\n",
       "[13176 rows x 12 columns]"
      ],
      "text/html": "<div>\n<style scoped>\n    .dataframe tbody tr th:only-of-type {\n        vertical-align: middle;\n    }\n\n    .dataframe tbody tr th {\n        vertical-align: top;\n    }\n\n    .dataframe thead th {\n        text-align: right;\n    }\n</style>\n<table border=\"1\" class=\"dataframe\">\n  <thead>\n    <tr style=\"text-align: right;\">\n      <th></th>\n      <th>country_code</th>\n      <th>year</th>\n      <th>population</th>\n      <th>gdp_current_usd</th>\n      <th>country</th>\n      <th>land_area_ha</th>\n      <th>agri_land_%</th>\n      <th>forest_area_%</th>\n      <th>cereal_yield_kg_ha</th>\n      <th>cash_crop_yield_kg_ha</th>\n      <th>employment_agri_%</th>\n      <th>livestock_production_100_index</th>\n    </tr>\n  </thead>\n  <tbody>\n    <tr>\n      <th>0</th>\n      <td>AFG</td>\n      <td>1960</td>\n      <td>8996973.0</td>\n      <td>5.377778e+08</td>\n      <td>Afghanistan</td>\n      <td>0.0</td>\n      <td>0.000000</td>\n      <td>6.857399</td>\n      <td>0.0</td>\n      <td>0.00</td>\n      <td>77.550771</td>\n      <td>42.936300</td>\n    </tr>\n    <tr>\n      <th>1</th>\n      <td>AFG</td>\n      <td>1961</td>\n      <td>9169410.0</td>\n      <td>5.488889e+08</td>\n      <td>Afghanistan</td>\n      <td>65286000.0</td>\n      <td>57.745918</td>\n      <td>6.171659</td>\n      <td>1115.1</td>\n      <td>223.02</td>\n      <td>78.334112</td>\n      <td>43.370000</td>\n    </tr>\n    <tr>\n      <th>2</th>\n      <td>AFG</td>\n      <td>1962</td>\n      <td>9351441.0</td>\n      <td>5.466667e+08</td>\n      <td>Afghanistan</td>\n      <td>65286000.0</td>\n      <td>57.837821</td>\n      <td>6.233999</td>\n      <td>1079.0</td>\n      <td>215.80</td>\n      <td>87.037902</td>\n      <td>43.990000</td>\n    </tr>\n    <tr>\n      <th>3</th>\n      <td>AFG</td>\n      <td>1963</td>\n      <td>9543205.0</td>\n      <td>7.511112e+08</td>\n      <td>Afghanistan</td>\n      <td>65286000.0</td>\n      <td>57.914407</td>\n      <td>6.296968</td>\n      <td>985.8</td>\n      <td>197.16</td>\n      <td>78.334112</td>\n      <td>47.030000</td>\n    </tr>\n    <tr>\n      <th>4</th>\n      <td>AFG</td>\n      <td>1964</td>\n      <td>9744781.0</td>\n      <td>8.000000e+08</td>\n      <td>Afghanistan</td>\n      <td>65286000.0</td>\n      <td>58.010906</td>\n      <td>6.360574</td>\n      <td>1082.8</td>\n      <td>216.56</td>\n      <td>79.125366</td>\n      <td>48.560000</td>\n    </tr>\n    <tr>\n      <th>...</th>\n      <td>...</td>\n      <td>...</td>\n      <td>...</td>\n      <td>...</td>\n      <td>...</td>\n      <td>...</td>\n      <td>...</td>\n      <td>...</td>\n      <td>...</td>\n      <td>...</td>\n      <td>...</td>\n      <td>...</td>\n    </tr>\n    <tr>\n      <th>13171</th>\n      <td>ZWE</td>\n      <td>2016</td>\n      <td>14030390.0</td>\n      <td>2.054868e+10</td>\n      <td>Zimbabwe</td>\n      <td>38685000.0</td>\n      <td>41.876696</td>\n      <td>35.542457</td>\n      <td>581.8</td>\n      <td>116.36</td>\n      <td>67.066002</td>\n      <td>106.250000</td>\n    </tr>\n    <tr>\n      <th>13172</th>\n      <td>ZWE</td>\n      <td>2017</td>\n      <td>14236745.0</td>\n      <td>2.204090e+10</td>\n      <td>Zimbabwe</td>\n      <td>38685000.0</td>\n      <td>0.000000</td>\n      <td>0.000000</td>\n      <td>616.0</td>\n      <td>123.20</td>\n      <td>66.764999</td>\n      <td>106.249894</td>\n    </tr>\n    <tr>\n      <th>13173</th>\n      <td>ZWE</td>\n      <td>2018</td>\n      <td>14439018.0</td>\n      <td>2.431156e+10</td>\n      <td>Zimbabwe</td>\n      <td>38685000.0</td>\n      <td>0.000000</td>\n      <td>0.000000</td>\n      <td>0.0</td>\n      <td>0.00</td>\n      <td>66.306999</td>\n      <td>106.249787</td>\n    </tr>\n    <tr>\n      <th>13174</th>\n      <td>ZWE</td>\n      <td>2019</td>\n      <td>14645468.0</td>\n      <td>2.144076e+10</td>\n      <td>Zimbabwe</td>\n      <td>0.0</td>\n      <td>0.000000</td>\n      <td>0.000000</td>\n      <td>0.0</td>\n      <td>0.00</td>\n      <td>66.543999</td>\n      <td>106.249681</td>\n    </tr>\n    <tr>\n      <th>13175</th>\n      <td>ZWE</td>\n      <td>2020</td>\n      <td>0.0</td>\n      <td>0.000000e+00</td>\n      <td>Zimbabwe</td>\n      <td>0.0</td>\n      <td>0.000000</td>\n      <td>0.000000</td>\n      <td>0.0</td>\n      <td>0.00</td>\n      <td>66.269997</td>\n      <td>106.249575</td>\n    </tr>\n  </tbody>\n</table>\n<p>13176 rows × 12 columns</p>\n</div>"
     },
     "metadata": {},
     "execution_count": 13
    }
   ],
   "source": [
    "agriculture1 = pd.merge(country_df, agriculture, on=['country_code','year','population','gdp_current_usd'], how='inner')\n",
    "agriculture1.to_csv('cleaned_data/agriculture_cleaned.csv', index=False)\n",
    "agriculture1"
   ]
  },
  {
   "cell_type": "code",
   "execution_count": 5,
   "metadata": {},
   "outputs": [
    {
     "output_type": "execute_result",
     "data": {
      "text/plain": [
       "           country country_code  year  pm2.5_air_pollution  \\\n",
       "0      Afghanistan          AFG  1960            64.951772   \n",
       "1      Afghanistan          AFG  1961            64.958268   \n",
       "2      Afghanistan          AFG  1962            64.964764   \n",
       "3      Afghanistan          AFG  1963            64.971261   \n",
       "4      Afghanistan          AFG  1964            64.977759   \n",
       "...            ...          ...   ...                  ...   \n",
       "13171     Zimbabwe          ZWE  2016            21.726947   \n",
       "13172     Zimbabwe          ZWE  2017            22.251671   \n",
       "13173     Zimbabwe          ZWE  2018            22.229419   \n",
       "13174     Zimbabwe          ZWE  2019            22.207190   \n",
       "13175     Zimbabwe          ZWE  2020            22.184983   \n",
       "\n",
       "      access_to_electricity_%  renewable_electricity_%  urban_population_%  \\\n",
       "0                 22.25299274                 2.871174               8.401   \n",
       "1                 22.27526801                 3.190194               8.684   \n",
       "2                 22.29756558                 3.544660               8.976   \n",
       "3                 22.31988546                 3.938511               9.276   \n",
       "4                 22.34222769                 4.376123               9.586   \n",
       "...                       ...                      ...                 ...   \n",
       "13171             39.92399216                52.197034              32.296   \n",
       "13172             40.48204803                51.675063              32.237   \n",
       "13173             41.04158401                51.158313              32.209   \n",
       "13174             41.04199443                50.646730              32.210   \n",
       "13175             41.04240486                50.140262               0.000   \n",
       "\n",
       "       electricity_consumption_kwh  \n",
       "0                       138.332032  \n",
       "1                       138.470503  \n",
       "2                       138.609112  \n",
       "3                       138.747860  \n",
       "4                       138.886746  \n",
       "...                            ...  \n",
       "13171                   610.346034  \n",
       "13172                   610.956991  \n",
       "13173                   611.568559  \n",
       "13174                   612.180740  \n",
       "13175                   612.793534  \n",
       "\n",
       "[13176 rows x 8 columns]"
      ],
      "text/html": "<div>\n<style scoped>\n    .dataframe tbody tr th:only-of-type {\n        vertical-align: middle;\n    }\n\n    .dataframe tbody tr th {\n        vertical-align: top;\n    }\n\n    .dataframe thead th {\n        text-align: right;\n    }\n</style>\n<table border=\"1\" class=\"dataframe\">\n  <thead>\n    <tr style=\"text-align: right;\">\n      <th></th>\n      <th>country</th>\n      <th>country_code</th>\n      <th>year</th>\n      <th>pm2.5_air_pollution</th>\n      <th>access_to_electricity_%</th>\n      <th>renewable_electricity_%</th>\n      <th>urban_population_%</th>\n      <th>electricity_consumption_kwh</th>\n    </tr>\n  </thead>\n  <tbody>\n    <tr>\n      <th>0</th>\n      <td>Afghanistan</td>\n      <td>AFG</td>\n      <td>1960</td>\n      <td>64.951772</td>\n      <td>22.25299274</td>\n      <td>2.871174</td>\n      <td>8.401</td>\n      <td>138.332032</td>\n    </tr>\n    <tr>\n      <th>1</th>\n      <td>Afghanistan</td>\n      <td>AFG</td>\n      <td>1961</td>\n      <td>64.958268</td>\n      <td>22.27526801</td>\n      <td>3.190194</td>\n      <td>8.684</td>\n      <td>138.470503</td>\n    </tr>\n    <tr>\n      <th>2</th>\n      <td>Afghanistan</td>\n      <td>AFG</td>\n      <td>1962</td>\n      <td>64.964764</td>\n      <td>22.29756558</td>\n      <td>3.544660</td>\n      <td>8.976</td>\n      <td>138.609112</td>\n    </tr>\n    <tr>\n      <th>3</th>\n      <td>Afghanistan</td>\n      <td>AFG</td>\n      <td>1963</td>\n      <td>64.971261</td>\n      <td>22.31988546</td>\n      <td>3.938511</td>\n      <td>9.276</td>\n      <td>138.747860</td>\n    </tr>\n    <tr>\n      <th>4</th>\n      <td>Afghanistan</td>\n      <td>AFG</td>\n      <td>1964</td>\n      <td>64.977759</td>\n      <td>22.34222769</td>\n      <td>4.376123</td>\n      <td>9.586</td>\n      <td>138.886746</td>\n    </tr>\n    <tr>\n      <th>...</th>\n      <td>...</td>\n      <td>...</td>\n      <td>...</td>\n      <td>...</td>\n      <td>...</td>\n      <td>...</td>\n      <td>...</td>\n      <td>...</td>\n    </tr>\n    <tr>\n      <th>13171</th>\n      <td>Zimbabwe</td>\n      <td>ZWE</td>\n      <td>2016</td>\n      <td>21.726947</td>\n      <td>39.92399216</td>\n      <td>52.197034</td>\n      <td>32.296</td>\n      <td>610.346034</td>\n    </tr>\n    <tr>\n      <th>13172</th>\n      <td>Zimbabwe</td>\n      <td>ZWE</td>\n      <td>2017</td>\n      <td>22.251671</td>\n      <td>40.48204803</td>\n      <td>51.675063</td>\n      <td>32.237</td>\n      <td>610.956991</td>\n    </tr>\n    <tr>\n      <th>13173</th>\n      <td>Zimbabwe</td>\n      <td>ZWE</td>\n      <td>2018</td>\n      <td>22.229419</td>\n      <td>41.04158401</td>\n      <td>51.158313</td>\n      <td>32.209</td>\n      <td>611.568559</td>\n    </tr>\n    <tr>\n      <th>13174</th>\n      <td>Zimbabwe</td>\n      <td>ZWE</td>\n      <td>2019</td>\n      <td>22.207190</td>\n      <td>41.04199443</td>\n      <td>50.646730</td>\n      <td>32.210</td>\n      <td>612.180740</td>\n    </tr>\n    <tr>\n      <th>13175</th>\n      <td>Zimbabwe</td>\n      <td>ZWE</td>\n      <td>2020</td>\n      <td>22.184983</td>\n      <td>41.04240486</td>\n      <td>50.140262</td>\n      <td>0.000</td>\n      <td>612.793534</td>\n    </tr>\n  </tbody>\n</table>\n<p>13176 rows × 8 columns</p>\n</div>"
     },
     "metadata": {},
     "execution_count": 5
    }
   ],
   "source": [
    "environment = pd.read_csv('cleaned_data/environmentData.csv')\n",
    "environment"
   ]
  },
  {
   "cell_type": "code",
   "execution_count": 6,
   "metadata": {},
   "outputs": [
    {
     "output_type": "execute_result",
     "data": {
      "text/plain": [
       "      country_code  year  population  gdp_current_usd      country  \\\n",
       "0              AFG  1960   8996973.0     5.377778e+08  Afghanistan   \n",
       "1              AFG  1961   9169410.0     5.488889e+08  Afghanistan   \n",
       "2              AFG  1962   9351441.0     5.466667e+08  Afghanistan   \n",
       "3              AFG  1963   9543205.0     7.511112e+08  Afghanistan   \n",
       "4              AFG  1964   9744781.0     8.000000e+08  Afghanistan   \n",
       "...            ...   ...         ...              ...          ...   \n",
       "13171          ZWE  2016  14030390.0     2.054868e+10     Zimbabwe   \n",
       "13172          ZWE  2017  14236745.0     2.204090e+10     Zimbabwe   \n",
       "13173          ZWE  2018  14439018.0     2.431156e+10     Zimbabwe   \n",
       "13174          ZWE  2019  14645468.0     2.144076e+10     Zimbabwe   \n",
       "13175          ZWE  2020         0.0     0.000000e+00     Zimbabwe   \n",
       "\n",
       "       pm2.5_air_pollution access_to_electricity_%  renewable_electricity_%  \\\n",
       "0                64.951772             22.25299274                 2.871174   \n",
       "1                64.958268             22.27526801                 3.190194   \n",
       "2                64.964764             22.29756558                 3.544660   \n",
       "3                64.971261             22.31988546                 3.938511   \n",
       "4                64.977759             22.34222769                 4.376123   \n",
       "...                    ...                     ...                      ...   \n",
       "13171            21.726947             39.92399216                52.197034   \n",
       "13172            22.251671             40.48204803                51.675063   \n",
       "13173            22.229419             41.04158401                51.158313   \n",
       "13174            22.207190             41.04199443                50.646730   \n",
       "13175            22.184983             41.04240486                50.140262   \n",
       "\n",
       "       urban_population_%  electricity_consumption_kwh  \n",
       "0                   8.401                   138.332032  \n",
       "1                   8.684                   138.470503  \n",
       "2                   8.976                   138.609112  \n",
       "3                   9.276                   138.747860  \n",
       "4                   9.586                   138.886746  \n",
       "...                   ...                          ...  \n",
       "13171              32.296                   610.346034  \n",
       "13172              32.237                   610.956991  \n",
       "13173              32.209                   611.568559  \n",
       "13174              32.210                   612.180740  \n",
       "13175               0.000                   612.793534  \n",
       "\n",
       "[13176 rows x 10 columns]"
      ],
      "text/html": "<div>\n<style scoped>\n    .dataframe tbody tr th:only-of-type {\n        vertical-align: middle;\n    }\n\n    .dataframe tbody tr th {\n        vertical-align: top;\n    }\n\n    .dataframe thead th {\n        text-align: right;\n    }\n</style>\n<table border=\"1\" class=\"dataframe\">\n  <thead>\n    <tr style=\"text-align: right;\">\n      <th></th>\n      <th>country_code</th>\n      <th>year</th>\n      <th>population</th>\n      <th>gdp_current_usd</th>\n      <th>country</th>\n      <th>pm2.5_air_pollution</th>\n      <th>access_to_electricity_%</th>\n      <th>renewable_electricity_%</th>\n      <th>urban_population_%</th>\n      <th>electricity_consumption_kwh</th>\n    </tr>\n  </thead>\n  <tbody>\n    <tr>\n      <th>0</th>\n      <td>AFG</td>\n      <td>1960</td>\n      <td>8996973.0</td>\n      <td>5.377778e+08</td>\n      <td>Afghanistan</td>\n      <td>64.951772</td>\n      <td>22.25299274</td>\n      <td>2.871174</td>\n      <td>8.401</td>\n      <td>138.332032</td>\n    </tr>\n    <tr>\n      <th>1</th>\n      <td>AFG</td>\n      <td>1961</td>\n      <td>9169410.0</td>\n      <td>5.488889e+08</td>\n      <td>Afghanistan</td>\n      <td>64.958268</td>\n      <td>22.27526801</td>\n      <td>3.190194</td>\n      <td>8.684</td>\n      <td>138.470503</td>\n    </tr>\n    <tr>\n      <th>2</th>\n      <td>AFG</td>\n      <td>1962</td>\n      <td>9351441.0</td>\n      <td>5.466667e+08</td>\n      <td>Afghanistan</td>\n      <td>64.964764</td>\n      <td>22.29756558</td>\n      <td>3.544660</td>\n      <td>8.976</td>\n      <td>138.609112</td>\n    </tr>\n    <tr>\n      <th>3</th>\n      <td>AFG</td>\n      <td>1963</td>\n      <td>9543205.0</td>\n      <td>7.511112e+08</td>\n      <td>Afghanistan</td>\n      <td>64.971261</td>\n      <td>22.31988546</td>\n      <td>3.938511</td>\n      <td>9.276</td>\n      <td>138.747860</td>\n    </tr>\n    <tr>\n      <th>4</th>\n      <td>AFG</td>\n      <td>1964</td>\n      <td>9744781.0</td>\n      <td>8.000000e+08</td>\n      <td>Afghanistan</td>\n      <td>64.977759</td>\n      <td>22.34222769</td>\n      <td>4.376123</td>\n      <td>9.586</td>\n      <td>138.886746</td>\n    </tr>\n    <tr>\n      <th>...</th>\n      <td>...</td>\n      <td>...</td>\n      <td>...</td>\n      <td>...</td>\n      <td>...</td>\n      <td>...</td>\n      <td>...</td>\n      <td>...</td>\n      <td>...</td>\n      <td>...</td>\n    </tr>\n    <tr>\n      <th>13171</th>\n      <td>ZWE</td>\n      <td>2016</td>\n      <td>14030390.0</td>\n      <td>2.054868e+10</td>\n      <td>Zimbabwe</td>\n      <td>21.726947</td>\n      <td>39.92399216</td>\n      <td>52.197034</td>\n      <td>32.296</td>\n      <td>610.346034</td>\n    </tr>\n    <tr>\n      <th>13172</th>\n      <td>ZWE</td>\n      <td>2017</td>\n      <td>14236745.0</td>\n      <td>2.204090e+10</td>\n      <td>Zimbabwe</td>\n      <td>22.251671</td>\n      <td>40.48204803</td>\n      <td>51.675063</td>\n      <td>32.237</td>\n      <td>610.956991</td>\n    </tr>\n    <tr>\n      <th>13173</th>\n      <td>ZWE</td>\n      <td>2018</td>\n      <td>14439018.0</td>\n      <td>2.431156e+10</td>\n      <td>Zimbabwe</td>\n      <td>22.229419</td>\n      <td>41.04158401</td>\n      <td>51.158313</td>\n      <td>32.209</td>\n      <td>611.568559</td>\n    </tr>\n    <tr>\n      <th>13174</th>\n      <td>ZWE</td>\n      <td>2019</td>\n      <td>14645468.0</td>\n      <td>2.144076e+10</td>\n      <td>Zimbabwe</td>\n      <td>22.207190</td>\n      <td>41.04199443</td>\n      <td>50.646730</td>\n      <td>32.210</td>\n      <td>612.180740</td>\n    </tr>\n    <tr>\n      <th>13175</th>\n      <td>ZWE</td>\n      <td>2020</td>\n      <td>0.0</td>\n      <td>0.000000e+00</td>\n      <td>Zimbabwe</td>\n      <td>22.184983</td>\n      <td>41.04240486</td>\n      <td>50.140262</td>\n      <td>0.000</td>\n      <td>612.793534</td>\n    </tr>\n  </tbody>\n</table>\n<p>13176 rows × 10 columns</p>\n</div>"
     },
     "metadata": {},
     "execution_count": 6
    }
   ],
   "source": [
    "environment1 = pd.merge(country_df, environment, on=['country_code','year'], how='inner')\n",
    "environment1.to_csv('cleaned_data/environment_cleaned.csv',index=False)\n",
    "environment1"
   ]
  },
  {
   "cell_type": "code",
   "execution_count": 7,
   "metadata": {},
   "outputs": [
    {
     "output_type": "execute_result",
     "data": {
      "text/plain": [
       "           country country_code  year  atm_per_100000  borrowers_from_banks  \\\n",
       "0      Afghanistan          AFG  1960        0.000000              0.000000   \n",
       "1      Afghanistan          AFG  1961        0.000000              0.000000   \n",
       "2      Afghanistan          AFG  1962        0.000000              0.000000   \n",
       "3      Afghanistan          AFG  1963        0.000000              0.000000   \n",
       "4      Afghanistan          AFG  1964        0.000000              0.000000   \n",
       "...            ...          ...   ...             ...                   ...   \n",
       "13171     Zimbabwe          ZWE  2016        7.073321             40.671346   \n",
       "13172     Zimbabwe          ZWE  2017        6.889214             40.956438   \n",
       "13173     Zimbabwe          ZWE  2018        6.625208            142.527944   \n",
       "13174     Zimbabwe          ZWE  2019        6.398139             90.239497   \n",
       "13175     Zimbabwe          ZWE  2020        0.000000              0.000000   \n",
       "\n",
       "       broad_money_growth_%  listed_domestic_companies  \\\n",
       "0                  0.000000                          0   \n",
       "1                 10.291859                          0   \n",
       "2                 17.827298                          0   \n",
       "3                 15.579196                          0   \n",
       "4                 22.888116                          0   \n",
       "...                     ...                        ...   \n",
       "13171             19.048048                          0   \n",
       "13172             38.646489                          0   \n",
       "13173             28.048464                          0   \n",
       "13174            249.835278                          0   \n",
       "13175              0.000000                          0   \n",
       "\n",
       "       foreign_investment_gdp  inflation_%  stocks_traded_%gdp  total_reserves  \n",
       "0                    0.000000     0.000000                 0.0    5.069080e+07  \n",
       "1                    0.000000     0.000000                 0.0    4.244450e+07  \n",
       "2                    0.000000     0.000000                 0.0    4.059210e+07  \n",
       "3                    0.000000     0.000000                 0.0    4.554780e+07  \n",
       "4                    0.000000     0.000000                 0.0    4.461968e+07  \n",
       "...                       ...          ...                 ...             ...  \n",
       "13171                1.669274    -1.566413                 0.0    4.071932e+08  \n",
       "13172                1.121496     0.909733                 0.0    2.926212e+08  \n",
       "13173                3.062893     0.000000                 0.0    8.695109e+07  \n",
       "13174                1.305924     0.000000                 0.0    1.512405e+08  \n",
       "13175                0.000000     0.000000                 0.0    0.000000e+00  \n",
       "\n",
       "[13176 rows x 11 columns]"
      ],
      "text/html": "<div>\n<style scoped>\n    .dataframe tbody tr th:only-of-type {\n        vertical-align: middle;\n    }\n\n    .dataframe tbody tr th {\n        vertical-align: top;\n    }\n\n    .dataframe thead th {\n        text-align: right;\n    }\n</style>\n<table border=\"1\" class=\"dataframe\">\n  <thead>\n    <tr style=\"text-align: right;\">\n      <th></th>\n      <th>country</th>\n      <th>country_code</th>\n      <th>year</th>\n      <th>atm_per_100000</th>\n      <th>borrowers_from_banks</th>\n      <th>broad_money_growth_%</th>\n      <th>listed_domestic_companies</th>\n      <th>foreign_investment_gdp</th>\n      <th>inflation_%</th>\n      <th>stocks_traded_%gdp</th>\n      <th>total_reserves</th>\n    </tr>\n  </thead>\n  <tbody>\n    <tr>\n      <th>0</th>\n      <td>Afghanistan</td>\n      <td>AFG</td>\n      <td>1960</td>\n      <td>0.000000</td>\n      <td>0.000000</td>\n      <td>0.000000</td>\n      <td>0</td>\n      <td>0.000000</td>\n      <td>0.000000</td>\n      <td>0.0</td>\n      <td>5.069080e+07</td>\n    </tr>\n    <tr>\n      <th>1</th>\n      <td>Afghanistan</td>\n      <td>AFG</td>\n      <td>1961</td>\n      <td>0.000000</td>\n      <td>0.000000</td>\n      <td>10.291859</td>\n      <td>0</td>\n      <td>0.000000</td>\n      <td>0.000000</td>\n      <td>0.0</td>\n      <td>4.244450e+07</td>\n    </tr>\n    <tr>\n      <th>2</th>\n      <td>Afghanistan</td>\n      <td>AFG</td>\n      <td>1962</td>\n      <td>0.000000</td>\n      <td>0.000000</td>\n      <td>17.827298</td>\n      <td>0</td>\n      <td>0.000000</td>\n      <td>0.000000</td>\n      <td>0.0</td>\n      <td>4.059210e+07</td>\n    </tr>\n    <tr>\n      <th>3</th>\n      <td>Afghanistan</td>\n      <td>AFG</td>\n      <td>1963</td>\n      <td>0.000000</td>\n      <td>0.000000</td>\n      <td>15.579196</td>\n      <td>0</td>\n      <td>0.000000</td>\n      <td>0.000000</td>\n      <td>0.0</td>\n      <td>4.554780e+07</td>\n    </tr>\n    <tr>\n      <th>4</th>\n      <td>Afghanistan</td>\n      <td>AFG</td>\n      <td>1964</td>\n      <td>0.000000</td>\n      <td>0.000000</td>\n      <td>22.888116</td>\n      <td>0</td>\n      <td>0.000000</td>\n      <td>0.000000</td>\n      <td>0.0</td>\n      <td>4.461968e+07</td>\n    </tr>\n    <tr>\n      <th>...</th>\n      <td>...</td>\n      <td>...</td>\n      <td>...</td>\n      <td>...</td>\n      <td>...</td>\n      <td>...</td>\n      <td>...</td>\n      <td>...</td>\n      <td>...</td>\n      <td>...</td>\n      <td>...</td>\n    </tr>\n    <tr>\n      <th>13171</th>\n      <td>Zimbabwe</td>\n      <td>ZWE</td>\n      <td>2016</td>\n      <td>7.073321</td>\n      <td>40.671346</td>\n      <td>19.048048</td>\n      <td>0</td>\n      <td>1.669274</td>\n      <td>-1.566413</td>\n      <td>0.0</td>\n      <td>4.071932e+08</td>\n    </tr>\n    <tr>\n      <th>13172</th>\n      <td>Zimbabwe</td>\n      <td>ZWE</td>\n      <td>2017</td>\n      <td>6.889214</td>\n      <td>40.956438</td>\n      <td>38.646489</td>\n      <td>0</td>\n      <td>1.121496</td>\n      <td>0.909733</td>\n      <td>0.0</td>\n      <td>2.926212e+08</td>\n    </tr>\n    <tr>\n      <th>13173</th>\n      <td>Zimbabwe</td>\n      <td>ZWE</td>\n      <td>2018</td>\n      <td>6.625208</td>\n      <td>142.527944</td>\n      <td>28.048464</td>\n      <td>0</td>\n      <td>3.062893</td>\n      <td>0.000000</td>\n      <td>0.0</td>\n      <td>8.695109e+07</td>\n    </tr>\n    <tr>\n      <th>13174</th>\n      <td>Zimbabwe</td>\n      <td>ZWE</td>\n      <td>2019</td>\n      <td>6.398139</td>\n      <td>90.239497</td>\n      <td>249.835278</td>\n      <td>0</td>\n      <td>1.305924</td>\n      <td>0.000000</td>\n      <td>0.0</td>\n      <td>1.512405e+08</td>\n    </tr>\n    <tr>\n      <th>13175</th>\n      <td>Zimbabwe</td>\n      <td>ZWE</td>\n      <td>2020</td>\n      <td>0.000000</td>\n      <td>0.000000</td>\n      <td>0.000000</td>\n      <td>0</td>\n      <td>0.000000</td>\n      <td>0.000000</td>\n      <td>0.0</td>\n      <td>0.000000e+00</td>\n    </tr>\n  </tbody>\n</table>\n<p>13176 rows × 11 columns</p>\n</div>"
     },
     "metadata": {},
     "execution_count": 7
    }
   ],
   "source": [
    "finance = pd.read_csv('cleaned_data/financeData.csv')\n",
    "finance"
   ]
  },
  {
   "cell_type": "code",
   "execution_count": 8,
   "metadata": {},
   "outputs": [],
   "source": [
    "finance1 = pd.merge(country_df, finance, on=['country_code','year'], how='inner')\n",
    "finance1.to_csv('cleaned_data/finance_cleaned.csv', index=False)"
   ]
  },
  {
   "cell_type": "code",
   "execution_count": 9,
   "metadata": {},
   "outputs": [
    {
     "output_type": "execute_result",
     "data": {
      "text/plain": [
       "           country country_code  year  population  total_cancer_cases  \\\n",
       "0      Afghanistan          AFG  1960   8996973.0             0.00000   \n",
       "1      Afghanistan          AFG  1961   9169410.0             0.00000   \n",
       "2      Afghanistan          AFG  1962   9351441.0             0.00000   \n",
       "3      Afghanistan          AFG  1963   9543205.0             0.00000   \n",
       "4      Afghanistan          AFG  1964   9744781.0             0.00000   \n",
       "...            ...          ...   ...         ...                 ...   \n",
       "13171     Zimbabwe          ZWE  2016  14030390.0         79553.23268   \n",
       "13172     Zimbabwe          ZWE  2017  14236745.0         80654.10705   \n",
       "13173     Zimbabwe          ZWE  2018  14439018.0             0.00000   \n",
       "13174     Zimbabwe          ZWE  2019  14645468.0             0.00000   \n",
       "13175     Zimbabwe          ZWE  2020         0.0             0.00000   \n",
       "\n",
       "       total_cancer_deaths  total_obesity_numbers   birth_rate   death_rate  \\\n",
       "0                 0.000000                   0.00  461355.7785  289873.4731   \n",
       "1                 0.000000                   0.00  471060.0999  290202.6571   \n",
       "2                 0.000000                   0.00  481197.0995  290764.3550   \n",
       "3                 0.000000                   0.00  491761.3537  291554.4560   \n",
       "4                 0.000000                   0.00  502723.5070  292557.8152   \n",
       "...                    ...                    ...          ...          ...   \n",
       "13171          9698.880172             2174710.45  461094.7370  116255.8115   \n",
       "13172          9871.972337                   0.00  451760.3923  114520.3768   \n",
       "13173             0.000000                   0.00  442931.3162  113822.7789   \n",
       "13174             0.000000                   0.00       0.0000       0.0000   \n",
       "13175             0.000000                   0.00       0.0000       0.0000   \n",
       "\n",
       "       life_expectency  dtp_immunisation  measles_immunisation  \n",
       "0               32.446                 0                     0  \n",
       "1               32.962                 0                     0  \n",
       "2               33.471                 0                     0  \n",
       "3               33.971                 0                     0  \n",
       "4               34.463                 0                     0  \n",
       "...                ...               ...                   ...  \n",
       "13171           60.294                90                    95  \n",
       "13172           60.812                89                    90  \n",
       "13173           61.195                89                    88  \n",
       "13174            0.000                90                    85  \n",
       "13175            0.000                 0                     0  \n",
       "\n",
       "[13176 rows x 12 columns]"
      ],
      "text/html": "<div>\n<style scoped>\n    .dataframe tbody tr th:only-of-type {\n        vertical-align: middle;\n    }\n\n    .dataframe tbody tr th {\n        vertical-align: top;\n    }\n\n    .dataframe thead th {\n        text-align: right;\n    }\n</style>\n<table border=\"1\" class=\"dataframe\">\n  <thead>\n    <tr style=\"text-align: right;\">\n      <th></th>\n      <th>country</th>\n      <th>country_code</th>\n      <th>year</th>\n      <th>population</th>\n      <th>total_cancer_cases</th>\n      <th>total_cancer_deaths</th>\n      <th>total_obesity_numbers</th>\n      <th>birth_rate</th>\n      <th>death_rate</th>\n      <th>life_expectency</th>\n      <th>dtp_immunisation</th>\n      <th>measles_immunisation</th>\n    </tr>\n  </thead>\n  <tbody>\n    <tr>\n      <th>0</th>\n      <td>Afghanistan</td>\n      <td>AFG</td>\n      <td>1960</td>\n      <td>8996973.0</td>\n      <td>0.00000</td>\n      <td>0.000000</td>\n      <td>0.00</td>\n      <td>461355.7785</td>\n      <td>289873.4731</td>\n      <td>32.446</td>\n      <td>0</td>\n      <td>0</td>\n    </tr>\n    <tr>\n      <th>1</th>\n      <td>Afghanistan</td>\n      <td>AFG</td>\n      <td>1961</td>\n      <td>9169410.0</td>\n      <td>0.00000</td>\n      <td>0.000000</td>\n      <td>0.00</td>\n      <td>471060.0999</td>\n      <td>290202.6571</td>\n      <td>32.962</td>\n      <td>0</td>\n      <td>0</td>\n    </tr>\n    <tr>\n      <th>2</th>\n      <td>Afghanistan</td>\n      <td>AFG</td>\n      <td>1962</td>\n      <td>9351441.0</td>\n      <td>0.00000</td>\n      <td>0.000000</td>\n      <td>0.00</td>\n      <td>481197.0995</td>\n      <td>290764.3550</td>\n      <td>33.471</td>\n      <td>0</td>\n      <td>0</td>\n    </tr>\n    <tr>\n      <th>3</th>\n      <td>Afghanistan</td>\n      <td>AFG</td>\n      <td>1963</td>\n      <td>9543205.0</td>\n      <td>0.00000</td>\n      <td>0.000000</td>\n      <td>0.00</td>\n      <td>491761.3537</td>\n      <td>291554.4560</td>\n      <td>33.971</td>\n      <td>0</td>\n      <td>0</td>\n    </tr>\n    <tr>\n      <th>4</th>\n      <td>Afghanistan</td>\n      <td>AFG</td>\n      <td>1964</td>\n      <td>9744781.0</td>\n      <td>0.00000</td>\n      <td>0.000000</td>\n      <td>0.00</td>\n      <td>502723.5070</td>\n      <td>292557.8152</td>\n      <td>34.463</td>\n      <td>0</td>\n      <td>0</td>\n    </tr>\n    <tr>\n      <th>...</th>\n      <td>...</td>\n      <td>...</td>\n      <td>...</td>\n      <td>...</td>\n      <td>...</td>\n      <td>...</td>\n      <td>...</td>\n      <td>...</td>\n      <td>...</td>\n      <td>...</td>\n      <td>...</td>\n      <td>...</td>\n    </tr>\n    <tr>\n      <th>13171</th>\n      <td>Zimbabwe</td>\n      <td>ZWE</td>\n      <td>2016</td>\n      <td>14030390.0</td>\n      <td>79553.23268</td>\n      <td>9698.880172</td>\n      <td>2174710.45</td>\n      <td>461094.7370</td>\n      <td>116255.8115</td>\n      <td>60.294</td>\n      <td>90</td>\n      <td>95</td>\n    </tr>\n    <tr>\n      <th>13172</th>\n      <td>Zimbabwe</td>\n      <td>ZWE</td>\n      <td>2017</td>\n      <td>14236745.0</td>\n      <td>80654.10705</td>\n      <td>9871.972337</td>\n      <td>0.00</td>\n      <td>451760.3923</td>\n      <td>114520.3768</td>\n      <td>60.812</td>\n      <td>89</td>\n      <td>90</td>\n    </tr>\n    <tr>\n      <th>13173</th>\n      <td>Zimbabwe</td>\n      <td>ZWE</td>\n      <td>2018</td>\n      <td>14439018.0</td>\n      <td>0.00000</td>\n      <td>0.000000</td>\n      <td>0.00</td>\n      <td>442931.3162</td>\n      <td>113822.7789</td>\n      <td>61.195</td>\n      <td>89</td>\n      <td>88</td>\n    </tr>\n    <tr>\n      <th>13174</th>\n      <td>Zimbabwe</td>\n      <td>ZWE</td>\n      <td>2019</td>\n      <td>14645468.0</td>\n      <td>0.00000</td>\n      <td>0.000000</td>\n      <td>0.00</td>\n      <td>0.0000</td>\n      <td>0.0000</td>\n      <td>0.000</td>\n      <td>90</td>\n      <td>85</td>\n    </tr>\n    <tr>\n      <th>13175</th>\n      <td>Zimbabwe</td>\n      <td>ZWE</td>\n      <td>2020</td>\n      <td>0.0</td>\n      <td>0.00000</td>\n      <td>0.000000</td>\n      <td>0.00</td>\n      <td>0.0000</td>\n      <td>0.0000</td>\n      <td>0.000</td>\n      <td>0</td>\n      <td>0</td>\n    </tr>\n  </tbody>\n</table>\n<p>13176 rows × 12 columns</p>\n</div>"
     },
     "metadata": {},
     "execution_count": 9
    }
   ],
   "source": [
    "health = pd.read_csv('cleaned_data/healthData.csv')\n",
    "health"
   ]
  },
  {
   "cell_type": "code",
   "execution_count": 10,
   "metadata": {},
   "outputs": [
    {
     "output_type": "execute_result",
     "data": {
      "text/plain": [
       "      country_code  year  population  gdp_current_usd      country  \\\n",
       "0              AFG  1960   8996973.0     5.377778e+08  Afghanistan   \n",
       "1              AFG  1961   9169410.0     5.488889e+08  Afghanistan   \n",
       "2              AFG  1962   9351441.0     5.466667e+08  Afghanistan   \n",
       "3              AFG  1963   9543205.0     7.511112e+08  Afghanistan   \n",
       "4              AFG  1964   9744781.0     8.000000e+08  Afghanistan   \n",
       "...            ...   ...         ...              ...          ...   \n",
       "13171          ZWE  2016  14030390.0     2.054868e+10     Zimbabwe   \n",
       "13172          ZWE  2017  14236745.0     2.204090e+10     Zimbabwe   \n",
       "13173          ZWE  2018  14439018.0     2.431156e+10     Zimbabwe   \n",
       "13174          ZWE  2019  14645468.0     2.144076e+10     Zimbabwe   \n",
       "13175          ZWE  2020         0.0     0.000000e+00     Zimbabwe   \n",
       "\n",
       "       total_cancer_cases  total_cancer_deaths  total_obesity_numbers  \\\n",
       "0                 0.00000             0.000000                   0.00   \n",
       "1                 0.00000             0.000000                   0.00   \n",
       "2                 0.00000             0.000000                   0.00   \n",
       "3                 0.00000             0.000000                   0.00   \n",
       "4                 0.00000             0.000000                   0.00   \n",
       "...                   ...                  ...                    ...   \n",
       "13171         79553.23268          9698.880172             2174710.45   \n",
       "13172         80654.10705          9871.972337                   0.00   \n",
       "13173             0.00000             0.000000                   0.00   \n",
       "13174             0.00000             0.000000                   0.00   \n",
       "13175             0.00000             0.000000                   0.00   \n",
       "\n",
       "        birth_rate   death_rate  life_expectency  dtp_immunisation  \\\n",
       "0      461355.7785  289873.4731           32.446                 0   \n",
       "1      471060.0999  290202.6571           32.962                 0   \n",
       "2      481197.0995  290764.3550           33.471                 0   \n",
       "3      491761.3537  291554.4560           33.971                 0   \n",
       "4      502723.5070  292557.8152           34.463                 0   \n",
       "...            ...          ...              ...               ...   \n",
       "13171  461094.7370  116255.8115           60.294                90   \n",
       "13172  451760.3923  114520.3768           60.812                89   \n",
       "13173  442931.3162  113822.7789           61.195                89   \n",
       "13174       0.0000       0.0000            0.000                90   \n",
       "13175       0.0000       0.0000            0.000                 0   \n",
       "\n",
       "       measles_immunisation  \n",
       "0                         0  \n",
       "1                         0  \n",
       "2                         0  \n",
       "3                         0  \n",
       "4                         0  \n",
       "...                     ...  \n",
       "13171                    95  \n",
       "13172                    90  \n",
       "13173                    88  \n",
       "13174                    85  \n",
       "13175                     0  \n",
       "\n",
       "[13176 rows x 13 columns]"
      ],
      "text/html": "<div>\n<style scoped>\n    .dataframe tbody tr th:only-of-type {\n        vertical-align: middle;\n    }\n\n    .dataframe tbody tr th {\n        vertical-align: top;\n    }\n\n    .dataframe thead th {\n        text-align: right;\n    }\n</style>\n<table border=\"1\" class=\"dataframe\">\n  <thead>\n    <tr style=\"text-align: right;\">\n      <th></th>\n      <th>country_code</th>\n      <th>year</th>\n      <th>population</th>\n      <th>gdp_current_usd</th>\n      <th>country</th>\n      <th>total_cancer_cases</th>\n      <th>total_cancer_deaths</th>\n      <th>total_obesity_numbers</th>\n      <th>birth_rate</th>\n      <th>death_rate</th>\n      <th>life_expectency</th>\n      <th>dtp_immunisation</th>\n      <th>measles_immunisation</th>\n    </tr>\n  </thead>\n  <tbody>\n    <tr>\n      <th>0</th>\n      <td>AFG</td>\n      <td>1960</td>\n      <td>8996973.0</td>\n      <td>5.377778e+08</td>\n      <td>Afghanistan</td>\n      <td>0.00000</td>\n      <td>0.000000</td>\n      <td>0.00</td>\n      <td>461355.7785</td>\n      <td>289873.4731</td>\n      <td>32.446</td>\n      <td>0</td>\n      <td>0</td>\n    </tr>\n    <tr>\n      <th>1</th>\n      <td>AFG</td>\n      <td>1961</td>\n      <td>9169410.0</td>\n      <td>5.488889e+08</td>\n      <td>Afghanistan</td>\n      <td>0.00000</td>\n      <td>0.000000</td>\n      <td>0.00</td>\n      <td>471060.0999</td>\n      <td>290202.6571</td>\n      <td>32.962</td>\n      <td>0</td>\n      <td>0</td>\n    </tr>\n    <tr>\n      <th>2</th>\n      <td>AFG</td>\n      <td>1962</td>\n      <td>9351441.0</td>\n      <td>5.466667e+08</td>\n      <td>Afghanistan</td>\n      <td>0.00000</td>\n      <td>0.000000</td>\n      <td>0.00</td>\n      <td>481197.0995</td>\n      <td>290764.3550</td>\n      <td>33.471</td>\n      <td>0</td>\n      <td>0</td>\n    </tr>\n    <tr>\n      <th>3</th>\n      <td>AFG</td>\n      <td>1963</td>\n      <td>9543205.0</td>\n      <td>7.511112e+08</td>\n      <td>Afghanistan</td>\n      <td>0.00000</td>\n      <td>0.000000</td>\n      <td>0.00</td>\n      <td>491761.3537</td>\n      <td>291554.4560</td>\n      <td>33.971</td>\n      <td>0</td>\n      <td>0</td>\n    </tr>\n    <tr>\n      <th>4</th>\n      <td>AFG</td>\n      <td>1964</td>\n      <td>9744781.0</td>\n      <td>8.000000e+08</td>\n      <td>Afghanistan</td>\n      <td>0.00000</td>\n      <td>0.000000</td>\n      <td>0.00</td>\n      <td>502723.5070</td>\n      <td>292557.8152</td>\n      <td>34.463</td>\n      <td>0</td>\n      <td>0</td>\n    </tr>\n    <tr>\n      <th>...</th>\n      <td>...</td>\n      <td>...</td>\n      <td>...</td>\n      <td>...</td>\n      <td>...</td>\n      <td>...</td>\n      <td>...</td>\n      <td>...</td>\n      <td>...</td>\n      <td>...</td>\n      <td>...</td>\n      <td>...</td>\n      <td>...</td>\n    </tr>\n    <tr>\n      <th>13171</th>\n      <td>ZWE</td>\n      <td>2016</td>\n      <td>14030390.0</td>\n      <td>2.054868e+10</td>\n      <td>Zimbabwe</td>\n      <td>79553.23268</td>\n      <td>9698.880172</td>\n      <td>2174710.45</td>\n      <td>461094.7370</td>\n      <td>116255.8115</td>\n      <td>60.294</td>\n      <td>90</td>\n      <td>95</td>\n    </tr>\n    <tr>\n      <th>13172</th>\n      <td>ZWE</td>\n      <td>2017</td>\n      <td>14236745.0</td>\n      <td>2.204090e+10</td>\n      <td>Zimbabwe</td>\n      <td>80654.10705</td>\n      <td>9871.972337</td>\n      <td>0.00</td>\n      <td>451760.3923</td>\n      <td>114520.3768</td>\n      <td>60.812</td>\n      <td>89</td>\n      <td>90</td>\n    </tr>\n    <tr>\n      <th>13173</th>\n      <td>ZWE</td>\n      <td>2018</td>\n      <td>14439018.0</td>\n      <td>2.431156e+10</td>\n      <td>Zimbabwe</td>\n      <td>0.00000</td>\n      <td>0.000000</td>\n      <td>0.00</td>\n      <td>442931.3162</td>\n      <td>113822.7789</td>\n      <td>61.195</td>\n      <td>89</td>\n      <td>88</td>\n    </tr>\n    <tr>\n      <th>13174</th>\n      <td>ZWE</td>\n      <td>2019</td>\n      <td>14645468.0</td>\n      <td>2.144076e+10</td>\n      <td>Zimbabwe</td>\n      <td>0.00000</td>\n      <td>0.000000</td>\n      <td>0.00</td>\n      <td>0.0000</td>\n      <td>0.0000</td>\n      <td>0.000</td>\n      <td>90</td>\n      <td>85</td>\n    </tr>\n    <tr>\n      <th>13175</th>\n      <td>ZWE</td>\n      <td>2020</td>\n      <td>0.0</td>\n      <td>0.000000e+00</td>\n      <td>Zimbabwe</td>\n      <td>0.00000</td>\n      <td>0.000000</td>\n      <td>0.00</td>\n      <td>0.0000</td>\n      <td>0.0000</td>\n      <td>0.000</td>\n      <td>0</td>\n      <td>0</td>\n    </tr>\n  </tbody>\n</table>\n<p>13176 rows × 13 columns</p>\n</div>"
     },
     "metadata": {},
     "execution_count": 10
    }
   ],
   "source": [
    "health1 = pd.merge(country_df, health, on=['country_code','population','year'], how='inner')\n",
    "health1.to_csv('cleaned_data/health_cleaned.csv')\n",
    "health1"
   ]
  },
  {
   "cell_type": "code",
   "execution_count": 11,
   "metadata": {},
   "outputs": [
    {
     "output_type": "execute_result",
     "data": {
      "text/plain": [
       "           country country_code  year  high_tech_export  patent_applications  \\\n",
       "0      Afghanistan          AFG  1960               0.0                    0   \n",
       "1      Afghanistan          AFG  1961               0.0                    0   \n",
       "2      Afghanistan          AFG  1962               0.0                    0   \n",
       "3      Afghanistan          AFG  1963               0.0                    0   \n",
       "4      Afghanistan          AFG  1964               0.0                    0   \n",
       "...            ...          ...   ...               ...                  ...   \n",
       "13171     Zimbabwe          ZWE  2016        13735165.0                    8   \n",
       "13172     Zimbabwe          ZWE  2017        11206210.0                    0   \n",
       "13173     Zimbabwe          ZWE  2018         9719357.0                    0   \n",
       "13174     Zimbabwe          ZWE  2019        27810712.0                    0   \n",
       "13175     Zimbabwe          ZWE  2020               0.0                    0   \n",
       "\n",
       "       science_publications  technology_grants_current_usd  \n",
       "0                      0.00                        1510000  \n",
       "1                      0.00                        1620000  \n",
       "2                      0.00                        1870000  \n",
       "3                      0.00                        1990000  \n",
       "4                      0.00                        2150000  \n",
       "...                     ...                            ...  \n",
       "13171                313.80                       59800000  \n",
       "13172                340.45                       52490000  \n",
       "13173                359.33                       54420000  \n",
       "13174                  0.00                              0  \n",
       "13175                  0.00                              0  \n",
       "\n",
       "[13176 rows x 7 columns]"
      ],
      "text/html": "<div>\n<style scoped>\n    .dataframe tbody tr th:only-of-type {\n        vertical-align: middle;\n    }\n\n    .dataframe tbody tr th {\n        vertical-align: top;\n    }\n\n    .dataframe thead th {\n        text-align: right;\n    }\n</style>\n<table border=\"1\" class=\"dataframe\">\n  <thead>\n    <tr style=\"text-align: right;\">\n      <th></th>\n      <th>country</th>\n      <th>country_code</th>\n      <th>year</th>\n      <th>high_tech_export</th>\n      <th>patent_applications</th>\n      <th>science_publications</th>\n      <th>technology_grants_current_usd</th>\n    </tr>\n  </thead>\n  <tbody>\n    <tr>\n      <th>0</th>\n      <td>Afghanistan</td>\n      <td>AFG</td>\n      <td>1960</td>\n      <td>0.0</td>\n      <td>0</td>\n      <td>0.00</td>\n      <td>1510000</td>\n    </tr>\n    <tr>\n      <th>1</th>\n      <td>Afghanistan</td>\n      <td>AFG</td>\n      <td>1961</td>\n      <td>0.0</td>\n      <td>0</td>\n      <td>0.00</td>\n      <td>1620000</td>\n    </tr>\n    <tr>\n      <th>2</th>\n      <td>Afghanistan</td>\n      <td>AFG</td>\n      <td>1962</td>\n      <td>0.0</td>\n      <td>0</td>\n      <td>0.00</td>\n      <td>1870000</td>\n    </tr>\n    <tr>\n      <th>3</th>\n      <td>Afghanistan</td>\n      <td>AFG</td>\n      <td>1963</td>\n      <td>0.0</td>\n      <td>0</td>\n      <td>0.00</td>\n      <td>1990000</td>\n    </tr>\n    <tr>\n      <th>4</th>\n      <td>Afghanistan</td>\n      <td>AFG</td>\n      <td>1964</td>\n      <td>0.0</td>\n      <td>0</td>\n      <td>0.00</td>\n      <td>2150000</td>\n    </tr>\n    <tr>\n      <th>...</th>\n      <td>...</td>\n      <td>...</td>\n      <td>...</td>\n      <td>...</td>\n      <td>...</td>\n      <td>...</td>\n      <td>...</td>\n    </tr>\n    <tr>\n      <th>13171</th>\n      <td>Zimbabwe</td>\n      <td>ZWE</td>\n      <td>2016</td>\n      <td>13735165.0</td>\n      <td>8</td>\n      <td>313.80</td>\n      <td>59800000</td>\n    </tr>\n    <tr>\n      <th>13172</th>\n      <td>Zimbabwe</td>\n      <td>ZWE</td>\n      <td>2017</td>\n      <td>11206210.0</td>\n      <td>0</td>\n      <td>340.45</td>\n      <td>52490000</td>\n    </tr>\n    <tr>\n      <th>13173</th>\n      <td>Zimbabwe</td>\n      <td>ZWE</td>\n      <td>2018</td>\n      <td>9719357.0</td>\n      <td>0</td>\n      <td>359.33</td>\n      <td>54420000</td>\n    </tr>\n    <tr>\n      <th>13174</th>\n      <td>Zimbabwe</td>\n      <td>ZWE</td>\n      <td>2019</td>\n      <td>27810712.0</td>\n      <td>0</td>\n      <td>0.00</td>\n      <td>0</td>\n    </tr>\n    <tr>\n      <th>13175</th>\n      <td>Zimbabwe</td>\n      <td>ZWE</td>\n      <td>2020</td>\n      <td>0.0</td>\n      <td>0</td>\n      <td>0.00</td>\n      <td>0</td>\n    </tr>\n  </tbody>\n</table>\n<p>13176 rows × 7 columns</p>\n</div>"
     },
     "metadata": {},
     "execution_count": 11
    }
   ],
   "source": [
    "scitech = pd.read_csv('cleaned_data/scitechData.csv')\n",
    "scitech"
   ]
  },
  {
   "cell_type": "code",
   "execution_count": null,
   "metadata": {},
   "outputs": [],
   "source": []
  }
 ]
}