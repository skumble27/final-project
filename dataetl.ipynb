{
 "metadata": {
  "language_info": {
   "codemirror_mode": {
    "name": "ipython",
    "version": 3
   },
   "file_extension": ".py",
   "mimetype": "text/x-python",
   "name": "python",
   "nbconvert_exporter": "python",
   "pygments_lexer": "ipython3",
   "version": "3.6.12-final"
  },
  "orig_nbformat": 2,
  "kernelspec": {
   "name": "python3",
   "display_name": "Python 3.6.12 64-bit ('apiproject': conda)",
   "metadata": {
    "interpreter": {
     "hash": "65141e336b334a21ac1724ea85117fff93a000c15b507ad8f7a437392607e163"
    }
   }
  }
 },
 "nbformat": 4,
 "nbformat_minor": 2,
 "cells": [
  {
   "source": [
    "# Financial Data"
   ],
   "cell_type": "markdown",
   "metadata": {}
  },
  {
   "cell_type": "code",
   "execution_count": 1,
   "metadata": {},
   "outputs": [],
   "source": [
    "# Importing Pandas to clean the dataset\n",
    "import pandas as pd"
   ]
  },
  {
   "cell_type": "code",
   "execution_count": 2,
   "metadata": {},
   "outputs": [
    {
     "output_type": "execute_result",
     "data": {
      "text/plain": [
       "      LOCATION  TIME  Population, total\n",
       "0          AFG  1960       8.996973e+06\n",
       "1          AFG  1961       9.169410e+06\n",
       "2          AFG  1962       9.351441e+06\n",
       "3          AFG  1963       9.543205e+06\n",
       "4          AFG  1964       9.744781e+06\n",
       "...        ...   ...                ...\n",
       "16099      WLD  2016       7.424286e+09\n",
       "16100      WLD  2017       7.509074e+09\n",
       "16101      WLD  2018       7.591945e+09\n",
       "16102      WLD  2019       7.673534e+09\n",
       "16103      WLD  2020       0.000000e+00\n",
       "\n",
       "[16104 rows x 3 columns]"
      ],
      "text/html": "<div>\n<style scoped>\n    .dataframe tbody tr th:only-of-type {\n        vertical-align: middle;\n    }\n\n    .dataframe tbody tr th {\n        vertical-align: top;\n    }\n\n    .dataframe thead th {\n        text-align: right;\n    }\n</style>\n<table border=\"1\" class=\"dataframe\">\n  <thead>\n    <tr style=\"text-align: right;\">\n      <th></th>\n      <th>LOCATION</th>\n      <th>TIME</th>\n      <th>Population, total</th>\n    </tr>\n  </thead>\n  <tbody>\n    <tr>\n      <th>0</th>\n      <td>AFG</td>\n      <td>1960</td>\n      <td>8.996973e+06</td>\n    </tr>\n    <tr>\n      <th>1</th>\n      <td>AFG</td>\n      <td>1961</td>\n      <td>9.169410e+06</td>\n    </tr>\n    <tr>\n      <th>2</th>\n      <td>AFG</td>\n      <td>1962</td>\n      <td>9.351441e+06</td>\n    </tr>\n    <tr>\n      <th>3</th>\n      <td>AFG</td>\n      <td>1963</td>\n      <td>9.543205e+06</td>\n    </tr>\n    <tr>\n      <th>4</th>\n      <td>AFG</td>\n      <td>1964</td>\n      <td>9.744781e+06</td>\n    </tr>\n    <tr>\n      <th>...</th>\n      <td>...</td>\n      <td>...</td>\n      <td>...</td>\n    </tr>\n    <tr>\n      <th>16099</th>\n      <td>WLD</td>\n      <td>2016</td>\n      <td>7.424286e+09</td>\n    </tr>\n    <tr>\n      <th>16100</th>\n      <td>WLD</td>\n      <td>2017</td>\n      <td>7.509074e+09</td>\n    </tr>\n    <tr>\n      <th>16101</th>\n      <td>WLD</td>\n      <td>2018</td>\n      <td>7.591945e+09</td>\n    </tr>\n    <tr>\n      <th>16102</th>\n      <td>WLD</td>\n      <td>2019</td>\n      <td>7.673534e+09</td>\n    </tr>\n    <tr>\n      <th>16103</th>\n      <td>WLD</td>\n      <td>2020</td>\n      <td>0.000000e+00</td>\n    </tr>\n  </tbody>\n</table>\n<p>16104 rows × 3 columns</p>\n</div>"
     },
     "metadata": {},
     "execution_count": 2
    }
   ],
   "source": [
    "# A template of countries and the years have been created seperately and will be used to merge all relevant data frames\n",
    "country_year = pd.read_csv('raw_data/country_template_year.csv')\n",
    "country_year"
   ]
  },
  {
   "cell_type": "code",
   "execution_count": 3,
   "metadata": {},
   "outputs": [
    {
     "output_type": "execute_result",
     "data": {
      "text/plain": [
       "dtype('int64')"
      ]
     },
     "metadata": {},
     "execution_count": 3
    }
   ],
   "source": [
    "# Checking the data type for year\n",
    "country_year['TIME'].dtypes"
   ]
  },
  {
   "cell_type": "code",
   "execution_count": 4,
   "metadata": {},
   "outputs": [
    {
     "output_type": "execute_result",
     "data": {
      "text/plain": [
       "      LOCATION  TIME  Automated teller machines (ATMs) (per 100,000 adults)\n",
       "0          AFG  1960                                           0.000000    \n",
       "1          AFG  1961                                           0.000000    \n",
       "2          AFG  1962                                           0.000000    \n",
       "3          AFG  1963                                           0.000000    \n",
       "4          AFG  1964                                           0.000000    \n",
       "...        ...   ...                                                ...    \n",
       "16099      WLD  2016                                          38.330143    \n",
       "16100      WLD  2017                                          38.034455    \n",
       "16101      WLD  2018                                          40.949620    \n",
       "16102      WLD  2019                                          49.615022    \n",
       "16103      WLD  2020                                           0.000000    \n",
       "\n",
       "[16104 rows x 3 columns]"
      ],
      "text/html": "<div>\n<style scoped>\n    .dataframe tbody tr th:only-of-type {\n        vertical-align: middle;\n    }\n\n    .dataframe tbody tr th {\n        vertical-align: top;\n    }\n\n    .dataframe thead th {\n        text-align: right;\n    }\n</style>\n<table border=\"1\" class=\"dataframe\">\n  <thead>\n    <tr style=\"text-align: right;\">\n      <th></th>\n      <th>LOCATION</th>\n      <th>TIME</th>\n      <th>Automated teller machines (ATMs) (per 100,000 adults)</th>\n    </tr>\n  </thead>\n  <tbody>\n    <tr>\n      <th>0</th>\n      <td>AFG</td>\n      <td>1960</td>\n      <td>0.000000</td>\n    </tr>\n    <tr>\n      <th>1</th>\n      <td>AFG</td>\n      <td>1961</td>\n      <td>0.000000</td>\n    </tr>\n    <tr>\n      <th>2</th>\n      <td>AFG</td>\n      <td>1962</td>\n      <td>0.000000</td>\n    </tr>\n    <tr>\n      <th>3</th>\n      <td>AFG</td>\n      <td>1963</td>\n      <td>0.000000</td>\n    </tr>\n    <tr>\n      <th>4</th>\n      <td>AFG</td>\n      <td>1964</td>\n      <td>0.000000</td>\n    </tr>\n    <tr>\n      <th>...</th>\n      <td>...</td>\n      <td>...</td>\n      <td>...</td>\n    </tr>\n    <tr>\n      <th>16099</th>\n      <td>WLD</td>\n      <td>2016</td>\n      <td>38.330143</td>\n    </tr>\n    <tr>\n      <th>16100</th>\n      <td>WLD</td>\n      <td>2017</td>\n      <td>38.034455</td>\n    </tr>\n    <tr>\n      <th>16101</th>\n      <td>WLD</td>\n      <td>2018</td>\n      <td>40.949620</td>\n    </tr>\n    <tr>\n      <th>16102</th>\n      <td>WLD</td>\n      <td>2019</td>\n      <td>49.615022</td>\n    </tr>\n    <tr>\n      <th>16103</th>\n      <td>WLD</td>\n      <td>2020</td>\n      <td>0.000000</td>\n    </tr>\n  </tbody>\n</table>\n<p>16104 rows × 3 columns</p>\n</div>"
     },
     "metadata": {},
     "execution_count": 4
    }
   ],
   "source": [
    "# Automated teller dataset\n",
    "tellers = pd.read_csv('raw_data/automated_teller_machines.csv')\n",
    "tellers"
   ]
  },
  {
   "cell_type": "code",
   "execution_count": 5,
   "metadata": {},
   "outputs": [
    {
     "output_type": "execute_result",
     "data": {
      "text/plain": [
       "dtype('int64')"
      ]
     },
     "metadata": {},
     "execution_count": 5
    }
   ],
   "source": [
    "# Checking the datatype for year\n",
    "tellers['TIME'].dtypes"
   ]
  },
  {
   "cell_type": "code",
   "execution_count": 6,
   "metadata": {},
   "outputs": [
    {
     "output_type": "execute_result",
     "data": {
      "text/plain": [
       "      LOCATION  TIME  Population, total  \\\n",
       "0          AFG  1960       8.996973e+06   \n",
       "1          AFG  1961       9.169410e+06   \n",
       "2          AFG  1962       9.351441e+06   \n",
       "3          AFG  1963       9.543205e+06   \n",
       "4          AFG  1964       9.744781e+06   \n",
       "...        ...   ...                ...   \n",
       "16099      WLD  2016       7.424286e+09   \n",
       "16100      WLD  2017       7.509074e+09   \n",
       "16101      WLD  2018       7.591945e+09   \n",
       "16102      WLD  2019       7.673534e+09   \n",
       "16103      WLD  2020       0.000000e+00   \n",
       "\n",
       "       Automated teller machines (ATMs) (per 100,000 adults)  \n",
       "0                                               0.000000      \n",
       "1                                               0.000000      \n",
       "2                                               0.000000      \n",
       "3                                               0.000000      \n",
       "4                                               0.000000      \n",
       "...                                                  ...      \n",
       "16099                                          38.330143      \n",
       "16100                                          38.034455      \n",
       "16101                                          40.949620      \n",
       "16102                                          49.615022      \n",
       "16103                                           0.000000      \n",
       "\n",
       "[16104 rows x 4 columns]"
      ],
      "text/html": "<div>\n<style scoped>\n    .dataframe tbody tr th:only-of-type {\n        vertical-align: middle;\n    }\n\n    .dataframe tbody tr th {\n        vertical-align: top;\n    }\n\n    .dataframe thead th {\n        text-align: right;\n    }\n</style>\n<table border=\"1\" class=\"dataframe\">\n  <thead>\n    <tr style=\"text-align: right;\">\n      <th></th>\n      <th>LOCATION</th>\n      <th>TIME</th>\n      <th>Population, total</th>\n      <th>Automated teller machines (ATMs) (per 100,000 adults)</th>\n    </tr>\n  </thead>\n  <tbody>\n    <tr>\n      <th>0</th>\n      <td>AFG</td>\n      <td>1960</td>\n      <td>8.996973e+06</td>\n      <td>0.000000</td>\n    </tr>\n    <tr>\n      <th>1</th>\n      <td>AFG</td>\n      <td>1961</td>\n      <td>9.169410e+06</td>\n      <td>0.000000</td>\n    </tr>\n    <tr>\n      <th>2</th>\n      <td>AFG</td>\n      <td>1962</td>\n      <td>9.351441e+06</td>\n      <td>0.000000</td>\n    </tr>\n    <tr>\n      <th>3</th>\n      <td>AFG</td>\n      <td>1963</td>\n      <td>9.543205e+06</td>\n      <td>0.000000</td>\n    </tr>\n    <tr>\n      <th>4</th>\n      <td>AFG</td>\n      <td>1964</td>\n      <td>9.744781e+06</td>\n      <td>0.000000</td>\n    </tr>\n    <tr>\n      <th>...</th>\n      <td>...</td>\n      <td>...</td>\n      <td>...</td>\n      <td>...</td>\n    </tr>\n    <tr>\n      <th>16099</th>\n      <td>WLD</td>\n      <td>2016</td>\n      <td>7.424286e+09</td>\n      <td>38.330143</td>\n    </tr>\n    <tr>\n      <th>16100</th>\n      <td>WLD</td>\n      <td>2017</td>\n      <td>7.509074e+09</td>\n      <td>38.034455</td>\n    </tr>\n    <tr>\n      <th>16101</th>\n      <td>WLD</td>\n      <td>2018</td>\n      <td>7.591945e+09</td>\n      <td>40.949620</td>\n    </tr>\n    <tr>\n      <th>16102</th>\n      <td>WLD</td>\n      <td>2019</td>\n      <td>7.673534e+09</td>\n      <td>49.615022</td>\n    </tr>\n    <tr>\n      <th>16103</th>\n      <td>WLD</td>\n      <td>2020</td>\n      <td>0.000000e+00</td>\n      <td>0.000000</td>\n    </tr>\n  </tbody>\n</table>\n<p>16104 rows × 4 columns</p>\n</div>"
     },
     "metadata": {},
     "execution_count": 6
    }
   ],
   "source": [
    "# Merging the two data frames \n",
    "merge = pd.merge(country_year, tellers, on=['LOCATION','TIME'],how='left').copy()\n",
    "merge"
   ]
  },
  {
   "cell_type": "code",
   "execution_count": 7,
   "metadata": {},
   "outputs": [
    {
     "output_type": "execute_result",
     "data": {
      "text/plain": [
       "      LOCATION  TIME  Borrowers from commercial banks (per 1,000 adults)\n",
       "0          AFG  1960                                           0.000000 \n",
       "1          AFG  1961                                           0.000000 \n",
       "2          AFG  1962                                           0.000000 \n",
       "3          AFG  1963                                           0.000000 \n",
       "4          AFG  1964                                           0.000000 \n",
       "...        ...   ...                                                ... \n",
       "16099      WLD  2016                                         164.010187 \n",
       "16100      WLD  2017                                         164.077303 \n",
       "16101      WLD  2018                                           0.000000 \n",
       "16102      WLD  2019                                           0.000000 \n",
       "16103      WLD  2020                                           0.000000 \n",
       "\n",
       "[16104 rows x 3 columns]"
      ],
      "text/html": "<div>\n<style scoped>\n    .dataframe tbody tr th:only-of-type {\n        vertical-align: middle;\n    }\n\n    .dataframe tbody tr th {\n        vertical-align: top;\n    }\n\n    .dataframe thead th {\n        text-align: right;\n    }\n</style>\n<table border=\"1\" class=\"dataframe\">\n  <thead>\n    <tr style=\"text-align: right;\">\n      <th></th>\n      <th>LOCATION</th>\n      <th>TIME</th>\n      <th>Borrowers from commercial banks (per 1,000 adults)</th>\n    </tr>\n  </thead>\n  <tbody>\n    <tr>\n      <th>0</th>\n      <td>AFG</td>\n      <td>1960</td>\n      <td>0.000000</td>\n    </tr>\n    <tr>\n      <th>1</th>\n      <td>AFG</td>\n      <td>1961</td>\n      <td>0.000000</td>\n    </tr>\n    <tr>\n      <th>2</th>\n      <td>AFG</td>\n      <td>1962</td>\n      <td>0.000000</td>\n    </tr>\n    <tr>\n      <th>3</th>\n      <td>AFG</td>\n      <td>1963</td>\n      <td>0.000000</td>\n    </tr>\n    <tr>\n      <th>4</th>\n      <td>AFG</td>\n      <td>1964</td>\n      <td>0.000000</td>\n    </tr>\n    <tr>\n      <th>...</th>\n      <td>...</td>\n      <td>...</td>\n      <td>...</td>\n    </tr>\n    <tr>\n      <th>16099</th>\n      <td>WLD</td>\n      <td>2016</td>\n      <td>164.010187</td>\n    </tr>\n    <tr>\n      <th>16100</th>\n      <td>WLD</td>\n      <td>2017</td>\n      <td>164.077303</td>\n    </tr>\n    <tr>\n      <th>16101</th>\n      <td>WLD</td>\n      <td>2018</td>\n      <td>0.000000</td>\n    </tr>\n    <tr>\n      <th>16102</th>\n      <td>WLD</td>\n      <td>2019</td>\n      <td>0.000000</td>\n    </tr>\n    <tr>\n      <th>16103</th>\n      <td>WLD</td>\n      <td>2020</td>\n      <td>0.000000</td>\n    </tr>\n  </tbody>\n</table>\n<p>16104 rows × 3 columns</p>\n</div>"
     },
     "metadata": {},
     "execution_count": 7
    }
   ],
   "source": [
    "# Borrowing money from bank\n",
    "bank_loans = pd.read_csv('raw_data/borrowersfrombanks.csv')\n",
    "bank_loans"
   ]
  },
  {
   "cell_type": "code",
   "execution_count": 8,
   "metadata": {},
   "outputs": [
    {
     "output_type": "execute_result",
     "data": {
      "text/plain": [
       "      LOCATION  TIME  Population, total  \\\n",
       "0          AFG  1960       8.996973e+06   \n",
       "1          AFG  1961       9.169410e+06   \n",
       "2          AFG  1962       9.351441e+06   \n",
       "3          AFG  1963       9.543205e+06   \n",
       "4          AFG  1964       9.744781e+06   \n",
       "...        ...   ...                ...   \n",
       "16099      WLD  2016       7.424286e+09   \n",
       "16100      WLD  2017       7.509074e+09   \n",
       "16101      WLD  2018       7.591945e+09   \n",
       "16102      WLD  2019       7.673534e+09   \n",
       "16103      WLD  2020       0.000000e+00   \n",
       "\n",
       "       Automated teller machines (ATMs) (per 100,000 adults)  \\\n",
       "0                                               0.000000       \n",
       "1                                               0.000000       \n",
       "2                                               0.000000       \n",
       "3                                               0.000000       \n",
       "4                                               0.000000       \n",
       "...                                                  ...       \n",
       "16099                                          38.330143       \n",
       "16100                                          38.034455       \n",
       "16101                                          40.949620       \n",
       "16102                                          49.615022       \n",
       "16103                                           0.000000       \n",
       "\n",
       "       Borrowers from commercial banks (per 1,000 adults)  \n",
       "0                                               0.000000   \n",
       "1                                               0.000000   \n",
       "2                                               0.000000   \n",
       "3                                               0.000000   \n",
       "4                                               0.000000   \n",
       "...                                                  ...   \n",
       "16099                                         164.010187   \n",
       "16100                                         164.077303   \n",
       "16101                                           0.000000   \n",
       "16102                                           0.000000   \n",
       "16103                                           0.000000   \n",
       "\n",
       "[16104 rows x 5 columns]"
      ],
      "text/html": "<div>\n<style scoped>\n    .dataframe tbody tr th:only-of-type {\n        vertical-align: middle;\n    }\n\n    .dataframe tbody tr th {\n        vertical-align: top;\n    }\n\n    .dataframe thead th {\n        text-align: right;\n    }\n</style>\n<table border=\"1\" class=\"dataframe\">\n  <thead>\n    <tr style=\"text-align: right;\">\n      <th></th>\n      <th>LOCATION</th>\n      <th>TIME</th>\n      <th>Population, total</th>\n      <th>Automated teller machines (ATMs) (per 100,000 adults)</th>\n      <th>Borrowers from commercial banks (per 1,000 adults)</th>\n    </tr>\n  </thead>\n  <tbody>\n    <tr>\n      <th>0</th>\n      <td>AFG</td>\n      <td>1960</td>\n      <td>8.996973e+06</td>\n      <td>0.000000</td>\n      <td>0.000000</td>\n    </tr>\n    <tr>\n      <th>1</th>\n      <td>AFG</td>\n      <td>1961</td>\n      <td>9.169410e+06</td>\n      <td>0.000000</td>\n      <td>0.000000</td>\n    </tr>\n    <tr>\n      <th>2</th>\n      <td>AFG</td>\n      <td>1962</td>\n      <td>9.351441e+06</td>\n      <td>0.000000</td>\n      <td>0.000000</td>\n    </tr>\n    <tr>\n      <th>3</th>\n      <td>AFG</td>\n      <td>1963</td>\n      <td>9.543205e+06</td>\n      <td>0.000000</td>\n      <td>0.000000</td>\n    </tr>\n    <tr>\n      <th>4</th>\n      <td>AFG</td>\n      <td>1964</td>\n      <td>9.744781e+06</td>\n      <td>0.000000</td>\n      <td>0.000000</td>\n    </tr>\n    <tr>\n      <th>...</th>\n      <td>...</td>\n      <td>...</td>\n      <td>...</td>\n      <td>...</td>\n      <td>...</td>\n    </tr>\n    <tr>\n      <th>16099</th>\n      <td>WLD</td>\n      <td>2016</td>\n      <td>7.424286e+09</td>\n      <td>38.330143</td>\n      <td>164.010187</td>\n    </tr>\n    <tr>\n      <th>16100</th>\n      <td>WLD</td>\n      <td>2017</td>\n      <td>7.509074e+09</td>\n      <td>38.034455</td>\n      <td>164.077303</td>\n    </tr>\n    <tr>\n      <th>16101</th>\n      <td>WLD</td>\n      <td>2018</td>\n      <td>7.591945e+09</td>\n      <td>40.949620</td>\n      <td>0.000000</td>\n    </tr>\n    <tr>\n      <th>16102</th>\n      <td>WLD</td>\n      <td>2019</td>\n      <td>7.673534e+09</td>\n      <td>49.615022</td>\n      <td>0.000000</td>\n    </tr>\n    <tr>\n      <th>16103</th>\n      <td>WLD</td>\n      <td>2020</td>\n      <td>0.000000e+00</td>\n      <td>0.000000</td>\n      <td>0.000000</td>\n    </tr>\n  </tbody>\n</table>\n<p>16104 rows × 5 columns</p>\n</div>"
     },
     "metadata": {},
     "execution_count": 8
    }
   ],
   "source": [
    "# Merging bank loans\n",
    "merge1 = pd.merge(merge, bank_loans, on=['TIME','LOCATION'], how='left')\n",
    "merge1"
   ]
  },
  {
   "cell_type": "code",
   "execution_count": 9,
   "metadata": {},
   "outputs": [
    {
     "output_type": "execute_result",
     "data": {
      "text/plain": [
       "      LOCATION  TIME  broad_money_growth_%\n",
       "0          AFG  1960              0.000000\n",
       "1          AFG  1961             10.291859\n",
       "2          AFG  1962             17.827298\n",
       "3          AFG  1963             15.579196\n",
       "4          AFG  1964             22.888116\n",
       "...        ...   ...                   ...\n",
       "16099      WLD  2016              0.000000\n",
       "16100      WLD  2017              0.000000\n",
       "16101      WLD  2018              0.000000\n",
       "16102      WLD  2019              0.000000\n",
       "16103      WLD  2020              0.000000\n",
       "\n",
       "[16104 rows x 3 columns]"
      ],
      "text/html": "<div>\n<style scoped>\n    .dataframe tbody tr th:only-of-type {\n        vertical-align: middle;\n    }\n\n    .dataframe tbody tr th {\n        vertical-align: top;\n    }\n\n    .dataframe thead th {\n        text-align: right;\n    }\n</style>\n<table border=\"1\" class=\"dataframe\">\n  <thead>\n    <tr style=\"text-align: right;\">\n      <th></th>\n      <th>LOCATION</th>\n      <th>TIME</th>\n      <th>broad_money_growth_%</th>\n    </tr>\n  </thead>\n  <tbody>\n    <tr>\n      <th>0</th>\n      <td>AFG</td>\n      <td>1960</td>\n      <td>0.000000</td>\n    </tr>\n    <tr>\n      <th>1</th>\n      <td>AFG</td>\n      <td>1961</td>\n      <td>10.291859</td>\n    </tr>\n    <tr>\n      <th>2</th>\n      <td>AFG</td>\n      <td>1962</td>\n      <td>17.827298</td>\n    </tr>\n    <tr>\n      <th>3</th>\n      <td>AFG</td>\n      <td>1963</td>\n      <td>15.579196</td>\n    </tr>\n    <tr>\n      <th>4</th>\n      <td>AFG</td>\n      <td>1964</td>\n      <td>22.888116</td>\n    </tr>\n    <tr>\n      <th>...</th>\n      <td>...</td>\n      <td>...</td>\n      <td>...</td>\n    </tr>\n    <tr>\n      <th>16099</th>\n      <td>WLD</td>\n      <td>2016</td>\n      <td>0.000000</td>\n    </tr>\n    <tr>\n      <th>16100</th>\n      <td>WLD</td>\n      <td>2017</td>\n      <td>0.000000</td>\n    </tr>\n    <tr>\n      <th>16101</th>\n      <td>WLD</td>\n      <td>2018</td>\n      <td>0.000000</td>\n    </tr>\n    <tr>\n      <th>16102</th>\n      <td>WLD</td>\n      <td>2019</td>\n      <td>0.000000</td>\n    </tr>\n    <tr>\n      <th>16103</th>\n      <td>WLD</td>\n      <td>2020</td>\n      <td>0.000000</td>\n    </tr>\n  </tbody>\n</table>\n<p>16104 rows × 3 columns</p>\n</div>"
     },
     "metadata": {},
     "execution_count": 9
    }
   ],
   "source": [
    "# Broad Money Growth Dataframe\n",
    "broad_money_growth = pd.read_csv('raw_data/broadmoneygrowth.csv')\n",
    "broad_money_growth"
   ]
  },
  {
   "cell_type": "code",
   "execution_count": 10,
   "metadata": {},
   "outputs": [
    {
     "output_type": "execute_result",
     "data": {
      "text/plain": [
       "      LOCATION  TIME  Population, total  \\\n",
       "0          AFG  1960       8.996973e+06   \n",
       "1          AFG  1961       9.169410e+06   \n",
       "2          AFG  1962       9.351441e+06   \n",
       "3          AFG  1963       9.543205e+06   \n",
       "4          AFG  1964       9.744781e+06   \n",
       "...        ...   ...                ...   \n",
       "16099      WLD  2016       7.424286e+09   \n",
       "16100      WLD  2017       7.509074e+09   \n",
       "16101      WLD  2018       7.591945e+09   \n",
       "16102      WLD  2019       7.673534e+09   \n",
       "16103      WLD  2020       0.000000e+00   \n",
       "\n",
       "       Automated teller machines (ATMs) (per 100,000 adults)  \\\n",
       "0                                               0.000000       \n",
       "1                                               0.000000       \n",
       "2                                               0.000000       \n",
       "3                                               0.000000       \n",
       "4                                               0.000000       \n",
       "...                                                  ...       \n",
       "16099                                          38.330143       \n",
       "16100                                          38.034455       \n",
       "16101                                          40.949620       \n",
       "16102                                          49.615022       \n",
       "16103                                           0.000000       \n",
       "\n",
       "       Borrowers from commercial banks (per 1,000 adults)  \\\n",
       "0                                               0.000000    \n",
       "1                                               0.000000    \n",
       "2                                               0.000000    \n",
       "3                                               0.000000    \n",
       "4                                               0.000000    \n",
       "...                                                  ...    \n",
       "16099                                         164.010187    \n",
       "16100                                         164.077303    \n",
       "16101                                           0.000000    \n",
       "16102                                           0.000000    \n",
       "16103                                           0.000000    \n",
       "\n",
       "       broad_money_growth_%  \n",
       "0                  0.000000  \n",
       "1                 10.291859  \n",
       "2                 17.827298  \n",
       "3                 15.579196  \n",
       "4                 22.888116  \n",
       "...                     ...  \n",
       "16099              0.000000  \n",
       "16100              0.000000  \n",
       "16101              0.000000  \n",
       "16102              0.000000  \n",
       "16103              0.000000  \n",
       "\n",
       "[16104 rows x 6 columns]"
      ],
      "text/html": "<div>\n<style scoped>\n    .dataframe tbody tr th:only-of-type {\n        vertical-align: middle;\n    }\n\n    .dataframe tbody tr th {\n        vertical-align: top;\n    }\n\n    .dataframe thead th {\n        text-align: right;\n    }\n</style>\n<table border=\"1\" class=\"dataframe\">\n  <thead>\n    <tr style=\"text-align: right;\">\n      <th></th>\n      <th>LOCATION</th>\n      <th>TIME</th>\n      <th>Population, total</th>\n      <th>Automated teller machines (ATMs) (per 100,000 adults)</th>\n      <th>Borrowers from commercial banks (per 1,000 adults)</th>\n      <th>broad_money_growth_%</th>\n    </tr>\n  </thead>\n  <tbody>\n    <tr>\n      <th>0</th>\n      <td>AFG</td>\n      <td>1960</td>\n      <td>8.996973e+06</td>\n      <td>0.000000</td>\n      <td>0.000000</td>\n      <td>0.000000</td>\n    </tr>\n    <tr>\n      <th>1</th>\n      <td>AFG</td>\n      <td>1961</td>\n      <td>9.169410e+06</td>\n      <td>0.000000</td>\n      <td>0.000000</td>\n      <td>10.291859</td>\n    </tr>\n    <tr>\n      <th>2</th>\n      <td>AFG</td>\n      <td>1962</td>\n      <td>9.351441e+06</td>\n      <td>0.000000</td>\n      <td>0.000000</td>\n      <td>17.827298</td>\n    </tr>\n    <tr>\n      <th>3</th>\n      <td>AFG</td>\n      <td>1963</td>\n      <td>9.543205e+06</td>\n      <td>0.000000</td>\n      <td>0.000000</td>\n      <td>15.579196</td>\n    </tr>\n    <tr>\n      <th>4</th>\n      <td>AFG</td>\n      <td>1964</td>\n      <td>9.744781e+06</td>\n      <td>0.000000</td>\n      <td>0.000000</td>\n      <td>22.888116</td>\n    </tr>\n    <tr>\n      <th>...</th>\n      <td>...</td>\n      <td>...</td>\n      <td>...</td>\n      <td>...</td>\n      <td>...</td>\n      <td>...</td>\n    </tr>\n    <tr>\n      <th>16099</th>\n      <td>WLD</td>\n      <td>2016</td>\n      <td>7.424286e+09</td>\n      <td>38.330143</td>\n      <td>164.010187</td>\n      <td>0.000000</td>\n    </tr>\n    <tr>\n      <th>16100</th>\n      <td>WLD</td>\n      <td>2017</td>\n      <td>7.509074e+09</td>\n      <td>38.034455</td>\n      <td>164.077303</td>\n      <td>0.000000</td>\n    </tr>\n    <tr>\n      <th>16101</th>\n      <td>WLD</td>\n      <td>2018</td>\n      <td>7.591945e+09</td>\n      <td>40.949620</td>\n      <td>0.000000</td>\n      <td>0.000000</td>\n    </tr>\n    <tr>\n      <th>16102</th>\n      <td>WLD</td>\n      <td>2019</td>\n      <td>7.673534e+09</td>\n      <td>49.615022</td>\n      <td>0.000000</td>\n      <td>0.000000</td>\n    </tr>\n    <tr>\n      <th>16103</th>\n      <td>WLD</td>\n      <td>2020</td>\n      <td>0.000000e+00</td>\n      <td>0.000000</td>\n      <td>0.000000</td>\n      <td>0.000000</td>\n    </tr>\n  </tbody>\n</table>\n<p>16104 rows × 6 columns</p>\n</div>"
     },
     "metadata": {},
     "execution_count": 10
    }
   ],
   "source": [
    "merge2 = pd.merge(merge1, broad_money_growth, on=['TIME','LOCATION'], how='left')\n",
    "merge2"
   ]
  },
  {
   "cell_type": "code",
   "execution_count": 11,
   "metadata": {},
   "outputs": [
    {
     "output_type": "execute_result",
     "data": {
      "text/plain": [
       "      LOCATION  TIME  Listed domestic companies, total\n",
       "0          AFG  1960                                 0\n",
       "1          AFG  1961                                 0\n",
       "2          AFG  1962                                 0\n",
       "3          AFG  1963                                 0\n",
       "4          AFG  1964                                 0\n",
       "...        ...   ...                               ...\n",
       "16099      WLD  2016                             43522\n",
       "16100      WLD  2017                             43444\n",
       "16101      WLD  2018                             43342\n",
       "16102      WLD  2019                                 0\n",
       "16103      WLD  2020                                 0\n",
       "\n",
       "[16104 rows x 3 columns]"
      ],
      "text/html": "<div>\n<style scoped>\n    .dataframe tbody tr th:only-of-type {\n        vertical-align: middle;\n    }\n\n    .dataframe tbody tr th {\n        vertical-align: top;\n    }\n\n    .dataframe thead th {\n        text-align: right;\n    }\n</style>\n<table border=\"1\" class=\"dataframe\">\n  <thead>\n    <tr style=\"text-align: right;\">\n      <th></th>\n      <th>LOCATION</th>\n      <th>TIME</th>\n      <th>Listed domestic companies, total</th>\n    </tr>\n  </thead>\n  <tbody>\n    <tr>\n      <th>0</th>\n      <td>AFG</td>\n      <td>1960</td>\n      <td>0</td>\n    </tr>\n    <tr>\n      <th>1</th>\n      <td>AFG</td>\n      <td>1961</td>\n      <td>0</td>\n    </tr>\n    <tr>\n      <th>2</th>\n      <td>AFG</td>\n      <td>1962</td>\n      <td>0</td>\n    </tr>\n    <tr>\n      <th>3</th>\n      <td>AFG</td>\n      <td>1963</td>\n      <td>0</td>\n    </tr>\n    <tr>\n      <th>4</th>\n      <td>AFG</td>\n      <td>1964</td>\n      <td>0</td>\n    </tr>\n    <tr>\n      <th>...</th>\n      <td>...</td>\n      <td>...</td>\n      <td>...</td>\n    </tr>\n    <tr>\n      <th>16099</th>\n      <td>WLD</td>\n      <td>2016</td>\n      <td>43522</td>\n    </tr>\n    <tr>\n      <th>16100</th>\n      <td>WLD</td>\n      <td>2017</td>\n      <td>43444</td>\n    </tr>\n    <tr>\n      <th>16101</th>\n      <td>WLD</td>\n      <td>2018</td>\n      <td>43342</td>\n    </tr>\n    <tr>\n      <th>16102</th>\n      <td>WLD</td>\n      <td>2019</td>\n      <td>0</td>\n    </tr>\n    <tr>\n      <th>16103</th>\n      <td>WLD</td>\n      <td>2020</td>\n      <td>0</td>\n    </tr>\n  </tbody>\n</table>\n<p>16104 rows × 3 columns</p>\n</div>"
     },
     "metadata": {},
     "execution_count": 11
    }
   ],
   "source": [
    "# Domestic Companies\n",
    "domestic_companies = pd.read_csv('raw_data/domesticcompanieslist.csv')\n",
    "domestic_companies"
   ]
  },
  {
   "cell_type": "code",
   "execution_count": 12,
   "metadata": {},
   "outputs": [
    {
     "output_type": "execute_result",
     "data": {
      "text/plain": [
       "      LOCATION  TIME  Population, total  \\\n",
       "0          AFG  1960       8.996973e+06   \n",
       "1          AFG  1961       9.169410e+06   \n",
       "2          AFG  1962       9.351441e+06   \n",
       "3          AFG  1963       9.543205e+06   \n",
       "4          AFG  1964       9.744781e+06   \n",
       "...        ...   ...                ...   \n",
       "16099      WLD  2016       7.424286e+09   \n",
       "16100      WLD  2017       7.509074e+09   \n",
       "16101      WLD  2018       7.591945e+09   \n",
       "16102      WLD  2019       7.673534e+09   \n",
       "16103      WLD  2020       0.000000e+00   \n",
       "\n",
       "       Automated teller machines (ATMs) (per 100,000 adults)  \\\n",
       "0                                               0.000000       \n",
       "1                                               0.000000       \n",
       "2                                               0.000000       \n",
       "3                                               0.000000       \n",
       "4                                               0.000000       \n",
       "...                                                  ...       \n",
       "16099                                          38.330143       \n",
       "16100                                          38.034455       \n",
       "16101                                          40.949620       \n",
       "16102                                          49.615022       \n",
       "16103                                           0.000000       \n",
       "\n",
       "       Borrowers from commercial banks (per 1,000 adults)  \\\n",
       "0                                               0.000000    \n",
       "1                                               0.000000    \n",
       "2                                               0.000000    \n",
       "3                                               0.000000    \n",
       "4                                               0.000000    \n",
       "...                                                  ...    \n",
       "16099                                         164.010187    \n",
       "16100                                         164.077303    \n",
       "16101                                           0.000000    \n",
       "16102                                           0.000000    \n",
       "16103                                           0.000000    \n",
       "\n",
       "       broad_money_growth_%  Listed domestic companies, total  \n",
       "0                  0.000000                                 0  \n",
       "1                 10.291859                                 0  \n",
       "2                 17.827298                                 0  \n",
       "3                 15.579196                                 0  \n",
       "4                 22.888116                                 0  \n",
       "...                     ...                               ...  \n",
       "16099              0.000000                             43522  \n",
       "16100              0.000000                             43444  \n",
       "16101              0.000000                             43342  \n",
       "16102              0.000000                                 0  \n",
       "16103              0.000000                                 0  \n",
       "\n",
       "[16104 rows x 7 columns]"
      ],
      "text/html": "<div>\n<style scoped>\n    .dataframe tbody tr th:only-of-type {\n        vertical-align: middle;\n    }\n\n    .dataframe tbody tr th {\n        vertical-align: top;\n    }\n\n    .dataframe thead th {\n        text-align: right;\n    }\n</style>\n<table border=\"1\" class=\"dataframe\">\n  <thead>\n    <tr style=\"text-align: right;\">\n      <th></th>\n      <th>LOCATION</th>\n      <th>TIME</th>\n      <th>Population, total</th>\n      <th>Automated teller machines (ATMs) (per 100,000 adults)</th>\n      <th>Borrowers from commercial banks (per 1,000 adults)</th>\n      <th>broad_money_growth_%</th>\n      <th>Listed domestic companies, total</th>\n    </tr>\n  </thead>\n  <tbody>\n    <tr>\n      <th>0</th>\n      <td>AFG</td>\n      <td>1960</td>\n      <td>8.996973e+06</td>\n      <td>0.000000</td>\n      <td>0.000000</td>\n      <td>0.000000</td>\n      <td>0</td>\n    </tr>\n    <tr>\n      <th>1</th>\n      <td>AFG</td>\n      <td>1961</td>\n      <td>9.169410e+06</td>\n      <td>0.000000</td>\n      <td>0.000000</td>\n      <td>10.291859</td>\n      <td>0</td>\n    </tr>\n    <tr>\n      <th>2</th>\n      <td>AFG</td>\n      <td>1962</td>\n      <td>9.351441e+06</td>\n      <td>0.000000</td>\n      <td>0.000000</td>\n      <td>17.827298</td>\n      <td>0</td>\n    </tr>\n    <tr>\n      <th>3</th>\n      <td>AFG</td>\n      <td>1963</td>\n      <td>9.543205e+06</td>\n      <td>0.000000</td>\n      <td>0.000000</td>\n      <td>15.579196</td>\n      <td>0</td>\n    </tr>\n    <tr>\n      <th>4</th>\n      <td>AFG</td>\n      <td>1964</td>\n      <td>9.744781e+06</td>\n      <td>0.000000</td>\n      <td>0.000000</td>\n      <td>22.888116</td>\n      <td>0</td>\n    </tr>\n    <tr>\n      <th>...</th>\n      <td>...</td>\n      <td>...</td>\n      <td>...</td>\n      <td>...</td>\n      <td>...</td>\n      <td>...</td>\n      <td>...</td>\n    </tr>\n    <tr>\n      <th>16099</th>\n      <td>WLD</td>\n      <td>2016</td>\n      <td>7.424286e+09</td>\n      <td>38.330143</td>\n      <td>164.010187</td>\n      <td>0.000000</td>\n      <td>43522</td>\n    </tr>\n    <tr>\n      <th>16100</th>\n      <td>WLD</td>\n      <td>2017</td>\n      <td>7.509074e+09</td>\n      <td>38.034455</td>\n      <td>164.077303</td>\n      <td>0.000000</td>\n      <td>43444</td>\n    </tr>\n    <tr>\n      <th>16101</th>\n      <td>WLD</td>\n      <td>2018</td>\n      <td>7.591945e+09</td>\n      <td>40.949620</td>\n      <td>0.000000</td>\n      <td>0.000000</td>\n      <td>43342</td>\n    </tr>\n    <tr>\n      <th>16102</th>\n      <td>WLD</td>\n      <td>2019</td>\n      <td>7.673534e+09</td>\n      <td>49.615022</td>\n      <td>0.000000</td>\n      <td>0.000000</td>\n      <td>0</td>\n    </tr>\n    <tr>\n      <th>16103</th>\n      <td>WLD</td>\n      <td>2020</td>\n      <td>0.000000e+00</td>\n      <td>0.000000</td>\n      <td>0.000000</td>\n      <td>0.000000</td>\n      <td>0</td>\n    </tr>\n  </tbody>\n</table>\n<p>16104 rows × 7 columns</p>\n</div>"
     },
     "metadata": {},
     "execution_count": 12
    }
   ],
   "source": [
    "merge3 = pd.merge(merge2, domestic_companies, on=['TIME','LOCATION'], how='left')\n",
    "merge3"
   ]
  },
  {
   "cell_type": "code",
   "execution_count": 13,
   "metadata": {},
   "outputs": [
    {
     "output_type": "execute_result",
     "data": {
      "text/plain": [
       "      LOCATION  TIME  Foreign direct investment, net inflows (% of GDP)  \\\n",
       "0          AFG  1960                                           0.000000   \n",
       "1          AFG  1961                                           0.000000   \n",
       "2          AFG  1962                                           0.000000   \n",
       "3          AFG  1963                                           0.000000   \n",
       "4          AFG  1964                                           0.000000   \n",
       "...        ...   ...                                                ...   \n",
       "16099      WLD  2016                                           3.473328   \n",
       "16100      WLD  2017                                           2.666773   \n",
       "16101      WLD  2018                                           1.320038   \n",
       "16102      WLD  2019                                           1.767214   \n",
       "16103      WLD  2020                                           0.000000   \n",
       "\n",
       "       Unnamed: 3  Unnamed: 4  Unnamed: 5  Unnamed: 6  Unnamed: 7  Unnamed: 8  \\\n",
       "0             NaN         NaN         NaN         NaN         NaN         NaN   \n",
       "1             NaN         NaN         NaN         NaN         NaN         NaN   \n",
       "2             NaN         NaN         NaN         NaN         NaN         NaN   \n",
       "3             NaN         NaN         NaN         NaN         NaN         NaN   \n",
       "4             NaN         NaN         NaN         NaN         NaN         NaN   \n",
       "...           ...         ...         ...         ...         ...         ...   \n",
       "16099         NaN         NaN         NaN         NaN         NaN         NaN   \n",
       "16100         NaN         NaN         NaN         NaN         NaN         NaN   \n",
       "16101         NaN         NaN         NaN         NaN         NaN         NaN   \n",
       "16102         NaN         NaN         NaN         NaN         NaN         NaN   \n",
       "16103         NaN         NaN         NaN         NaN         NaN         NaN   \n",
       "\n",
       "       Unnamed: 9  ...  Unnamed: 174  Unnamed: 175  Unnamed: 176  \\\n",
       "0             NaN  ...           NaN           NaN           NaN   \n",
       "1             NaN  ...           NaN           NaN           NaN   \n",
       "2             NaN  ...           NaN           NaN           NaN   \n",
       "3             NaN  ...           NaN           NaN           NaN   \n",
       "4             NaN  ...           NaN           NaN           NaN   \n",
       "...           ...  ...           ...           ...           ...   \n",
       "16099         NaN  ...           NaN           NaN           NaN   \n",
       "16100         NaN  ...           NaN           NaN           NaN   \n",
       "16101         NaN  ...           NaN           NaN           NaN   \n",
       "16102         NaN  ...           NaN           NaN           NaN   \n",
       "16103         NaN  ...           NaN           NaN           NaN   \n",
       "\n",
       "       Unnamed: 177  Unnamed: 178  Unnamed: 179  Unnamed: 180  Unnamed: 181  \\\n",
       "0               NaN           NaN           NaN           NaN           NaN   \n",
       "1               NaN           NaN           NaN           NaN           NaN   \n",
       "2               NaN           NaN           NaN           NaN           NaN   \n",
       "3               NaN           NaN           NaN           NaN           NaN   \n",
       "4               NaN           NaN           NaN           NaN           NaN   \n",
       "...             ...           ...           ...           ...           ...   \n",
       "16099           NaN           NaN           NaN           NaN           NaN   \n",
       "16100           NaN           NaN           NaN           NaN           NaN   \n",
       "16101           NaN           NaN           NaN           NaN           NaN   \n",
       "16102           NaN           NaN           NaN           NaN           NaN   \n",
       "16103           NaN           NaN           NaN           NaN           NaN   \n",
       "\n",
       "       Unnamed: 182  Unnamed: 183  \n",
       "0               NaN           NaN  \n",
       "1               NaN           NaN  \n",
       "2               NaN           NaN  \n",
       "3               NaN           NaN  \n",
       "4               NaN           NaN  \n",
       "...             ...           ...  \n",
       "16099           NaN           NaN  \n",
       "16100           NaN           NaN  \n",
       "16101           NaN           NaN  \n",
       "16102           NaN           NaN  \n",
       "16103           NaN           NaN  \n",
       "\n",
       "[16104 rows x 184 columns]"
      ],
      "text/html": "<div>\n<style scoped>\n    .dataframe tbody tr th:only-of-type {\n        vertical-align: middle;\n    }\n\n    .dataframe tbody tr th {\n        vertical-align: top;\n    }\n\n    .dataframe thead th {\n        text-align: right;\n    }\n</style>\n<table border=\"1\" class=\"dataframe\">\n  <thead>\n    <tr style=\"text-align: right;\">\n      <th></th>\n      <th>LOCATION</th>\n      <th>TIME</th>\n      <th>Foreign direct investment, net inflows (% of GDP)</th>\n      <th>Unnamed: 3</th>\n      <th>Unnamed: 4</th>\n      <th>Unnamed: 5</th>\n      <th>Unnamed: 6</th>\n      <th>Unnamed: 7</th>\n      <th>Unnamed: 8</th>\n      <th>Unnamed: 9</th>\n      <th>...</th>\n      <th>Unnamed: 174</th>\n      <th>Unnamed: 175</th>\n      <th>Unnamed: 176</th>\n      <th>Unnamed: 177</th>\n      <th>Unnamed: 178</th>\n      <th>Unnamed: 179</th>\n      <th>Unnamed: 180</th>\n      <th>Unnamed: 181</th>\n      <th>Unnamed: 182</th>\n      <th>Unnamed: 183</th>\n    </tr>\n  </thead>\n  <tbody>\n    <tr>\n      <th>0</th>\n      <td>AFG</td>\n      <td>1960</td>\n      <td>0.000000</td>\n      <td>NaN</td>\n      <td>NaN</td>\n      <td>NaN</td>\n      <td>NaN</td>\n      <td>NaN</td>\n      <td>NaN</td>\n      <td>NaN</td>\n      <td>...</td>\n      <td>NaN</td>\n      <td>NaN</td>\n      <td>NaN</td>\n      <td>NaN</td>\n      <td>NaN</td>\n      <td>NaN</td>\n      <td>NaN</td>\n      <td>NaN</td>\n      <td>NaN</td>\n      <td>NaN</td>\n    </tr>\n    <tr>\n      <th>1</th>\n      <td>AFG</td>\n      <td>1961</td>\n      <td>0.000000</td>\n      <td>NaN</td>\n      <td>NaN</td>\n      <td>NaN</td>\n      <td>NaN</td>\n      <td>NaN</td>\n      <td>NaN</td>\n      <td>NaN</td>\n      <td>...</td>\n      <td>NaN</td>\n      <td>NaN</td>\n      <td>NaN</td>\n      <td>NaN</td>\n      <td>NaN</td>\n      <td>NaN</td>\n      <td>NaN</td>\n      <td>NaN</td>\n      <td>NaN</td>\n      <td>NaN</td>\n    </tr>\n    <tr>\n      <th>2</th>\n      <td>AFG</td>\n      <td>1962</td>\n      <td>0.000000</td>\n      <td>NaN</td>\n      <td>NaN</td>\n      <td>NaN</td>\n      <td>NaN</td>\n      <td>NaN</td>\n      <td>NaN</td>\n      <td>NaN</td>\n      <td>...</td>\n      <td>NaN</td>\n      <td>NaN</td>\n      <td>NaN</td>\n      <td>NaN</td>\n      <td>NaN</td>\n      <td>NaN</td>\n      <td>NaN</td>\n      <td>NaN</td>\n      <td>NaN</td>\n      <td>NaN</td>\n    </tr>\n    <tr>\n      <th>3</th>\n      <td>AFG</td>\n      <td>1963</td>\n      <td>0.000000</td>\n      <td>NaN</td>\n      <td>NaN</td>\n      <td>NaN</td>\n      <td>NaN</td>\n      <td>NaN</td>\n      <td>NaN</td>\n      <td>NaN</td>\n      <td>...</td>\n      <td>NaN</td>\n      <td>NaN</td>\n      <td>NaN</td>\n      <td>NaN</td>\n      <td>NaN</td>\n      <td>NaN</td>\n      <td>NaN</td>\n      <td>NaN</td>\n      <td>NaN</td>\n      <td>NaN</td>\n    </tr>\n    <tr>\n      <th>4</th>\n      <td>AFG</td>\n      <td>1964</td>\n      <td>0.000000</td>\n      <td>NaN</td>\n      <td>NaN</td>\n      <td>NaN</td>\n      <td>NaN</td>\n      <td>NaN</td>\n      <td>NaN</td>\n      <td>NaN</td>\n      <td>...</td>\n      <td>NaN</td>\n      <td>NaN</td>\n      <td>NaN</td>\n      <td>NaN</td>\n      <td>NaN</td>\n      <td>NaN</td>\n      <td>NaN</td>\n      <td>NaN</td>\n      <td>NaN</td>\n      <td>NaN</td>\n    </tr>\n    <tr>\n      <th>...</th>\n      <td>...</td>\n      <td>...</td>\n      <td>...</td>\n      <td>...</td>\n      <td>...</td>\n      <td>...</td>\n      <td>...</td>\n      <td>...</td>\n      <td>...</td>\n      <td>...</td>\n      <td>...</td>\n      <td>...</td>\n      <td>...</td>\n      <td>...</td>\n      <td>...</td>\n      <td>...</td>\n      <td>...</td>\n      <td>...</td>\n      <td>...</td>\n      <td>...</td>\n      <td>...</td>\n    </tr>\n    <tr>\n      <th>16099</th>\n      <td>WLD</td>\n      <td>2016</td>\n      <td>3.473328</td>\n      <td>NaN</td>\n      <td>NaN</td>\n      <td>NaN</td>\n      <td>NaN</td>\n      <td>NaN</td>\n      <td>NaN</td>\n      <td>NaN</td>\n      <td>...</td>\n      <td>NaN</td>\n      <td>NaN</td>\n      <td>NaN</td>\n      <td>NaN</td>\n      <td>NaN</td>\n      <td>NaN</td>\n      <td>NaN</td>\n      <td>NaN</td>\n      <td>NaN</td>\n      <td>NaN</td>\n    </tr>\n    <tr>\n      <th>16100</th>\n      <td>WLD</td>\n      <td>2017</td>\n      <td>2.666773</td>\n      <td>NaN</td>\n      <td>NaN</td>\n      <td>NaN</td>\n      <td>NaN</td>\n      <td>NaN</td>\n      <td>NaN</td>\n      <td>NaN</td>\n      <td>...</td>\n      <td>NaN</td>\n      <td>NaN</td>\n      <td>NaN</td>\n      <td>NaN</td>\n      <td>NaN</td>\n      <td>NaN</td>\n      <td>NaN</td>\n      <td>NaN</td>\n      <td>NaN</td>\n      <td>NaN</td>\n    </tr>\n    <tr>\n      <th>16101</th>\n      <td>WLD</td>\n      <td>2018</td>\n      <td>1.320038</td>\n      <td>NaN</td>\n      <td>NaN</td>\n      <td>NaN</td>\n      <td>NaN</td>\n      <td>NaN</td>\n      <td>NaN</td>\n      <td>NaN</td>\n      <td>...</td>\n      <td>NaN</td>\n      <td>NaN</td>\n      <td>NaN</td>\n      <td>NaN</td>\n      <td>NaN</td>\n      <td>NaN</td>\n      <td>NaN</td>\n      <td>NaN</td>\n      <td>NaN</td>\n      <td>NaN</td>\n    </tr>\n    <tr>\n      <th>16102</th>\n      <td>WLD</td>\n      <td>2019</td>\n      <td>1.767214</td>\n      <td>NaN</td>\n      <td>NaN</td>\n      <td>NaN</td>\n      <td>NaN</td>\n      <td>NaN</td>\n      <td>NaN</td>\n      <td>NaN</td>\n      <td>...</td>\n      <td>NaN</td>\n      <td>NaN</td>\n      <td>NaN</td>\n      <td>NaN</td>\n      <td>NaN</td>\n      <td>NaN</td>\n      <td>NaN</td>\n      <td>NaN</td>\n      <td>NaN</td>\n      <td>NaN</td>\n    </tr>\n    <tr>\n      <th>16103</th>\n      <td>WLD</td>\n      <td>2020</td>\n      <td>0.000000</td>\n      <td>NaN</td>\n      <td>NaN</td>\n      <td>NaN</td>\n      <td>NaN</td>\n      <td>NaN</td>\n      <td>NaN</td>\n      <td>NaN</td>\n      <td>...</td>\n      <td>NaN</td>\n      <td>NaN</td>\n      <td>NaN</td>\n      <td>NaN</td>\n      <td>NaN</td>\n      <td>NaN</td>\n      <td>NaN</td>\n      <td>NaN</td>\n      <td>NaN</td>\n      <td>NaN</td>\n    </tr>\n  </tbody>\n</table>\n<p>16104 rows × 184 columns</p>\n</div>"
     },
     "metadata": {},
     "execution_count": 13
    }
   ],
   "source": [
    "# Foreign Investments\n",
    "foreign_investments = pd.read_csv('raw_data/foreigninvestment.csv')\n",
    "foreign_investments"
   ]
  },
  {
   "cell_type": "code",
   "execution_count": 14,
   "metadata": {},
   "outputs": [
    {
     "output_type": "execute_result",
     "data": {
      "text/plain": [
       "      LOCATION  TIME  Foreign direct investment, net inflows (% of GDP)\n",
       "0          AFG  1960                                           0.000000\n",
       "1          AFG  1961                                           0.000000\n",
       "2          AFG  1962                                           0.000000\n",
       "3          AFG  1963                                           0.000000\n",
       "4          AFG  1964                                           0.000000\n",
       "...        ...   ...                                                ...\n",
       "16099      WLD  2016                                           3.473328\n",
       "16100      WLD  2017                                           2.666773\n",
       "16101      WLD  2018                                           1.320038\n",
       "16102      WLD  2019                                           1.767214\n",
       "16103      WLD  2020                                           0.000000\n",
       "\n",
       "[16104 rows x 3 columns]"
      ],
      "text/html": "<div>\n<style scoped>\n    .dataframe tbody tr th:only-of-type {\n        vertical-align: middle;\n    }\n\n    .dataframe tbody tr th {\n        vertical-align: top;\n    }\n\n    .dataframe thead th {\n        text-align: right;\n    }\n</style>\n<table border=\"1\" class=\"dataframe\">\n  <thead>\n    <tr style=\"text-align: right;\">\n      <th></th>\n      <th>LOCATION</th>\n      <th>TIME</th>\n      <th>Foreign direct investment, net inflows (% of GDP)</th>\n    </tr>\n  </thead>\n  <tbody>\n    <tr>\n      <th>0</th>\n      <td>AFG</td>\n      <td>1960</td>\n      <td>0.000000</td>\n    </tr>\n    <tr>\n      <th>1</th>\n      <td>AFG</td>\n      <td>1961</td>\n      <td>0.000000</td>\n    </tr>\n    <tr>\n      <th>2</th>\n      <td>AFG</td>\n      <td>1962</td>\n      <td>0.000000</td>\n    </tr>\n    <tr>\n      <th>3</th>\n      <td>AFG</td>\n      <td>1963</td>\n      <td>0.000000</td>\n    </tr>\n    <tr>\n      <th>4</th>\n      <td>AFG</td>\n      <td>1964</td>\n      <td>0.000000</td>\n    </tr>\n    <tr>\n      <th>...</th>\n      <td>...</td>\n      <td>...</td>\n      <td>...</td>\n    </tr>\n    <tr>\n      <th>16099</th>\n      <td>WLD</td>\n      <td>2016</td>\n      <td>3.473328</td>\n    </tr>\n    <tr>\n      <th>16100</th>\n      <td>WLD</td>\n      <td>2017</td>\n      <td>2.666773</td>\n    </tr>\n    <tr>\n      <th>16101</th>\n      <td>WLD</td>\n      <td>2018</td>\n      <td>1.320038</td>\n    </tr>\n    <tr>\n      <th>16102</th>\n      <td>WLD</td>\n      <td>2019</td>\n      <td>1.767214</td>\n    </tr>\n    <tr>\n      <th>16103</th>\n      <td>WLD</td>\n      <td>2020</td>\n      <td>0.000000</td>\n    </tr>\n  </tbody>\n</table>\n<p>16104 rows × 3 columns</p>\n</div>"
     },
     "metadata": {},
     "execution_count": 14
    }
   ],
   "source": [
    "foreign_investments1 = foreign_investments[['LOCATION',\t'TIME',\t'Foreign direct investment, net inflows (% of GDP)']].copy()\n",
    "foreign_investments1"
   ]
  },
  {
   "cell_type": "code",
   "execution_count": 15,
   "metadata": {},
   "outputs": [
    {
     "output_type": "execute_result",
     "data": {
      "text/plain": [
       "      LOCATION  TIME  Population, total  \\\n",
       "0          AFG  1960       8.996973e+06   \n",
       "1          AFG  1961       9.169410e+06   \n",
       "2          AFG  1962       9.351441e+06   \n",
       "3          AFG  1963       9.543205e+06   \n",
       "4          AFG  1964       9.744781e+06   \n",
       "...        ...   ...                ...   \n",
       "16099      WLD  2016       7.424286e+09   \n",
       "16100      WLD  2017       7.509074e+09   \n",
       "16101      WLD  2018       7.591945e+09   \n",
       "16102      WLD  2019       7.673534e+09   \n",
       "16103      WLD  2020       0.000000e+00   \n",
       "\n",
       "       Automated teller machines (ATMs) (per 100,000 adults)  \\\n",
       "0                                               0.000000       \n",
       "1                                               0.000000       \n",
       "2                                               0.000000       \n",
       "3                                               0.000000       \n",
       "4                                               0.000000       \n",
       "...                                                  ...       \n",
       "16099                                          38.330143       \n",
       "16100                                          38.034455       \n",
       "16101                                          40.949620       \n",
       "16102                                          49.615022       \n",
       "16103                                           0.000000       \n",
       "\n",
       "       Borrowers from commercial banks (per 1,000 adults)  \\\n",
       "0                                               0.000000    \n",
       "1                                               0.000000    \n",
       "2                                               0.000000    \n",
       "3                                               0.000000    \n",
       "4                                               0.000000    \n",
       "...                                                  ...    \n",
       "16099                                         164.010187    \n",
       "16100                                         164.077303    \n",
       "16101                                           0.000000    \n",
       "16102                                           0.000000    \n",
       "16103                                           0.000000    \n",
       "\n",
       "       broad_money_growth_%  Listed domestic companies, total  \\\n",
       "0                  0.000000                                 0   \n",
       "1                 10.291859                                 0   \n",
       "2                 17.827298                                 0   \n",
       "3                 15.579196                                 0   \n",
       "4                 22.888116                                 0   \n",
       "...                     ...                               ...   \n",
       "16099              0.000000                             43522   \n",
       "16100              0.000000                             43444   \n",
       "16101              0.000000                             43342   \n",
       "16102              0.000000                                 0   \n",
       "16103              0.000000                                 0   \n",
       "\n",
       "       Foreign direct investment, net inflows (% of GDP)  \n",
       "0                                               0.000000  \n",
       "1                                               0.000000  \n",
       "2                                               0.000000  \n",
       "3                                               0.000000  \n",
       "4                                               0.000000  \n",
       "...                                                  ...  \n",
       "16099                                           3.473328  \n",
       "16100                                           2.666773  \n",
       "16101                                           1.320038  \n",
       "16102                                           1.767214  \n",
       "16103                                           0.000000  \n",
       "\n",
       "[16104 rows x 8 columns]"
      ],
      "text/html": "<div>\n<style scoped>\n    .dataframe tbody tr th:only-of-type {\n        vertical-align: middle;\n    }\n\n    .dataframe tbody tr th {\n        vertical-align: top;\n    }\n\n    .dataframe thead th {\n        text-align: right;\n    }\n</style>\n<table border=\"1\" class=\"dataframe\">\n  <thead>\n    <tr style=\"text-align: right;\">\n      <th></th>\n      <th>LOCATION</th>\n      <th>TIME</th>\n      <th>Population, total</th>\n      <th>Automated teller machines (ATMs) (per 100,000 adults)</th>\n      <th>Borrowers from commercial banks (per 1,000 adults)</th>\n      <th>broad_money_growth_%</th>\n      <th>Listed domestic companies, total</th>\n      <th>Foreign direct investment, net inflows (% of GDP)</th>\n    </tr>\n  </thead>\n  <tbody>\n    <tr>\n      <th>0</th>\n      <td>AFG</td>\n      <td>1960</td>\n      <td>8.996973e+06</td>\n      <td>0.000000</td>\n      <td>0.000000</td>\n      <td>0.000000</td>\n      <td>0</td>\n      <td>0.000000</td>\n    </tr>\n    <tr>\n      <th>1</th>\n      <td>AFG</td>\n      <td>1961</td>\n      <td>9.169410e+06</td>\n      <td>0.000000</td>\n      <td>0.000000</td>\n      <td>10.291859</td>\n      <td>0</td>\n      <td>0.000000</td>\n    </tr>\n    <tr>\n      <th>2</th>\n      <td>AFG</td>\n      <td>1962</td>\n      <td>9.351441e+06</td>\n      <td>0.000000</td>\n      <td>0.000000</td>\n      <td>17.827298</td>\n      <td>0</td>\n      <td>0.000000</td>\n    </tr>\n    <tr>\n      <th>3</th>\n      <td>AFG</td>\n      <td>1963</td>\n      <td>9.543205e+06</td>\n      <td>0.000000</td>\n      <td>0.000000</td>\n      <td>15.579196</td>\n      <td>0</td>\n      <td>0.000000</td>\n    </tr>\n    <tr>\n      <th>4</th>\n      <td>AFG</td>\n      <td>1964</td>\n      <td>9.744781e+06</td>\n      <td>0.000000</td>\n      <td>0.000000</td>\n      <td>22.888116</td>\n      <td>0</td>\n      <td>0.000000</td>\n    </tr>\n    <tr>\n      <th>...</th>\n      <td>...</td>\n      <td>...</td>\n      <td>...</td>\n      <td>...</td>\n      <td>...</td>\n      <td>...</td>\n      <td>...</td>\n      <td>...</td>\n    </tr>\n    <tr>\n      <th>16099</th>\n      <td>WLD</td>\n      <td>2016</td>\n      <td>7.424286e+09</td>\n      <td>38.330143</td>\n      <td>164.010187</td>\n      <td>0.000000</td>\n      <td>43522</td>\n      <td>3.473328</td>\n    </tr>\n    <tr>\n      <th>16100</th>\n      <td>WLD</td>\n      <td>2017</td>\n      <td>7.509074e+09</td>\n      <td>38.034455</td>\n      <td>164.077303</td>\n      <td>0.000000</td>\n      <td>43444</td>\n      <td>2.666773</td>\n    </tr>\n    <tr>\n      <th>16101</th>\n      <td>WLD</td>\n      <td>2018</td>\n      <td>7.591945e+09</td>\n      <td>40.949620</td>\n      <td>0.000000</td>\n      <td>0.000000</td>\n      <td>43342</td>\n      <td>1.320038</td>\n    </tr>\n    <tr>\n      <th>16102</th>\n      <td>WLD</td>\n      <td>2019</td>\n      <td>7.673534e+09</td>\n      <td>49.615022</td>\n      <td>0.000000</td>\n      <td>0.000000</td>\n      <td>0</td>\n      <td>1.767214</td>\n    </tr>\n    <tr>\n      <th>16103</th>\n      <td>WLD</td>\n      <td>2020</td>\n      <td>0.000000e+00</td>\n      <td>0.000000</td>\n      <td>0.000000</td>\n      <td>0.000000</td>\n      <td>0</td>\n      <td>0.000000</td>\n    </tr>\n  </tbody>\n</table>\n<p>16104 rows × 8 columns</p>\n</div>"
     },
     "metadata": {},
     "execution_count": 15
    }
   ],
   "source": [
    "merge4=pd.merge(merge3, foreign_investments1, on=['TIME','LOCATION'], how='left')\n",
    "merge4"
   ]
  },
  {
   "cell_type": "code",
   "execution_count": 16,
   "metadata": {},
   "outputs": [
    {
     "output_type": "execute_result",
     "data": {
      "text/plain": [
       "      LOCATION  TIME  Inflation, consumer prices (annual %)  Unnamed: 3  \\\n",
       "0          AFG  1960                               0.000000         NaN   \n",
       "1          AFG  1961                               0.000000         NaN   \n",
       "2          AFG  1962                               0.000000         NaN   \n",
       "3          AFG  1963                               0.000000         NaN   \n",
       "4          AFG  1964                               0.000000         NaN   \n",
       "...        ...   ...                                    ...         ...   \n",
       "16099      WLD  2016                               1.457383         NaN   \n",
       "16100      WLD  2017                               2.182718         NaN   \n",
       "16101      WLD  2018                               2.457965         NaN   \n",
       "16102      WLD  2019                               2.301233         NaN   \n",
       "16103      WLD  2020                               0.000000         NaN   \n",
       "\n",
       "       Unnamed: 4  Unnamed: 5  Unnamed: 6  Unnamed: 7  Unnamed: 8  Unnamed: 9  \\\n",
       "0             NaN         NaN         NaN         NaN         NaN         NaN   \n",
       "1             NaN         NaN         NaN         NaN         NaN         NaN   \n",
       "2             NaN         NaN         NaN         NaN         NaN         NaN   \n",
       "3             NaN         NaN         NaN         NaN         NaN         NaN   \n",
       "4             NaN         NaN         NaN         NaN         NaN         NaN   \n",
       "...           ...         ...         ...         ...         ...         ...   \n",
       "16099         NaN         NaN         NaN         NaN         NaN         NaN   \n",
       "16100         NaN         NaN         NaN         NaN         NaN         NaN   \n",
       "16101         NaN         NaN         NaN         NaN         NaN         NaN   \n",
       "16102         NaN         NaN         NaN         NaN         NaN         NaN   \n",
       "16103         NaN         NaN         NaN         NaN         NaN         NaN   \n",
       "\n",
       "       ...  Unnamed: 61  Unnamed: 62  Unnamed: 63  Unnamed: 64  Unnamed: 65  \\\n",
       "0      ...          NaN          NaN          NaN          NaN          NaN   \n",
       "1      ...          NaN          NaN          NaN          NaN          NaN   \n",
       "2      ...          NaN          NaN          NaN          NaN          NaN   \n",
       "3      ...          NaN          NaN          NaN          NaN          NaN   \n",
       "4      ...          NaN          NaN          NaN          NaN          NaN   \n",
       "...    ...          ...          ...          ...          ...          ...   \n",
       "16099  ...          NaN          NaN          NaN          NaN          NaN   \n",
       "16100  ...          NaN          NaN          NaN          NaN          NaN   \n",
       "16101  ...          NaN          NaN          NaN          NaN          NaN   \n",
       "16102  ...          NaN          NaN          NaN          NaN          NaN   \n",
       "16103  ...          NaN          NaN          NaN          NaN          NaN   \n",
       "\n",
       "       Unnamed: 66  Unnamed: 67  Unnamed: 68  Unnamed: 69  Unnamed: 70  \n",
       "0              NaN          NaN          NaN          NaN          NaN  \n",
       "1              NaN          NaN          NaN          NaN          NaN  \n",
       "2              NaN          NaN          NaN          NaN          NaN  \n",
       "3              NaN          NaN          NaN          NaN          NaN  \n",
       "4              NaN          NaN          NaN          NaN          NaN  \n",
       "...            ...          ...          ...          ...          ...  \n",
       "16099          NaN          NaN          NaN          NaN          NaN  \n",
       "16100          NaN          NaN          NaN          NaN          NaN  \n",
       "16101          NaN          NaN          NaN          NaN          NaN  \n",
       "16102          NaN          NaN          NaN          NaN          NaN  \n",
       "16103          NaN          NaN          NaN          NaN          NaN  \n",
       "\n",
       "[16104 rows x 71 columns]"
      ],
      "text/html": "<div>\n<style scoped>\n    .dataframe tbody tr th:only-of-type {\n        vertical-align: middle;\n    }\n\n    .dataframe tbody tr th {\n        vertical-align: top;\n    }\n\n    .dataframe thead th {\n        text-align: right;\n    }\n</style>\n<table border=\"1\" class=\"dataframe\">\n  <thead>\n    <tr style=\"text-align: right;\">\n      <th></th>\n      <th>LOCATION</th>\n      <th>TIME</th>\n      <th>Inflation, consumer prices (annual %)</th>\n      <th>Unnamed: 3</th>\n      <th>Unnamed: 4</th>\n      <th>Unnamed: 5</th>\n      <th>Unnamed: 6</th>\n      <th>Unnamed: 7</th>\n      <th>Unnamed: 8</th>\n      <th>Unnamed: 9</th>\n      <th>...</th>\n      <th>Unnamed: 61</th>\n      <th>Unnamed: 62</th>\n      <th>Unnamed: 63</th>\n      <th>Unnamed: 64</th>\n      <th>Unnamed: 65</th>\n      <th>Unnamed: 66</th>\n      <th>Unnamed: 67</th>\n      <th>Unnamed: 68</th>\n      <th>Unnamed: 69</th>\n      <th>Unnamed: 70</th>\n    </tr>\n  </thead>\n  <tbody>\n    <tr>\n      <th>0</th>\n      <td>AFG</td>\n      <td>1960</td>\n      <td>0.000000</td>\n      <td>NaN</td>\n      <td>NaN</td>\n      <td>NaN</td>\n      <td>NaN</td>\n      <td>NaN</td>\n      <td>NaN</td>\n      <td>NaN</td>\n      <td>...</td>\n      <td>NaN</td>\n      <td>NaN</td>\n      <td>NaN</td>\n      <td>NaN</td>\n      <td>NaN</td>\n      <td>NaN</td>\n      <td>NaN</td>\n      <td>NaN</td>\n      <td>NaN</td>\n      <td>NaN</td>\n    </tr>\n    <tr>\n      <th>1</th>\n      <td>AFG</td>\n      <td>1961</td>\n      <td>0.000000</td>\n      <td>NaN</td>\n      <td>NaN</td>\n      <td>NaN</td>\n      <td>NaN</td>\n      <td>NaN</td>\n      <td>NaN</td>\n      <td>NaN</td>\n      <td>...</td>\n      <td>NaN</td>\n      <td>NaN</td>\n      <td>NaN</td>\n      <td>NaN</td>\n      <td>NaN</td>\n      <td>NaN</td>\n      <td>NaN</td>\n      <td>NaN</td>\n      <td>NaN</td>\n      <td>NaN</td>\n    </tr>\n    <tr>\n      <th>2</th>\n      <td>AFG</td>\n      <td>1962</td>\n      <td>0.000000</td>\n      <td>NaN</td>\n      <td>NaN</td>\n      <td>NaN</td>\n      <td>NaN</td>\n      <td>NaN</td>\n      <td>NaN</td>\n      <td>NaN</td>\n      <td>...</td>\n      <td>NaN</td>\n      <td>NaN</td>\n      <td>NaN</td>\n      <td>NaN</td>\n      <td>NaN</td>\n      <td>NaN</td>\n      <td>NaN</td>\n      <td>NaN</td>\n      <td>NaN</td>\n      <td>NaN</td>\n    </tr>\n    <tr>\n      <th>3</th>\n      <td>AFG</td>\n      <td>1963</td>\n      <td>0.000000</td>\n      <td>NaN</td>\n      <td>NaN</td>\n      <td>NaN</td>\n      <td>NaN</td>\n      <td>NaN</td>\n      <td>NaN</td>\n      <td>NaN</td>\n      <td>...</td>\n      <td>NaN</td>\n      <td>NaN</td>\n      <td>NaN</td>\n      <td>NaN</td>\n      <td>NaN</td>\n      <td>NaN</td>\n      <td>NaN</td>\n      <td>NaN</td>\n      <td>NaN</td>\n      <td>NaN</td>\n    </tr>\n    <tr>\n      <th>4</th>\n      <td>AFG</td>\n      <td>1964</td>\n      <td>0.000000</td>\n      <td>NaN</td>\n      <td>NaN</td>\n      <td>NaN</td>\n      <td>NaN</td>\n      <td>NaN</td>\n      <td>NaN</td>\n      <td>NaN</td>\n      <td>...</td>\n      <td>NaN</td>\n      <td>NaN</td>\n      <td>NaN</td>\n      <td>NaN</td>\n      <td>NaN</td>\n      <td>NaN</td>\n      <td>NaN</td>\n      <td>NaN</td>\n      <td>NaN</td>\n      <td>NaN</td>\n    </tr>\n    <tr>\n      <th>...</th>\n      <td>...</td>\n      <td>...</td>\n      <td>...</td>\n      <td>...</td>\n      <td>...</td>\n      <td>...</td>\n      <td>...</td>\n      <td>...</td>\n      <td>...</td>\n      <td>...</td>\n      <td>...</td>\n      <td>...</td>\n      <td>...</td>\n      <td>...</td>\n      <td>...</td>\n      <td>...</td>\n      <td>...</td>\n      <td>...</td>\n      <td>...</td>\n      <td>...</td>\n      <td>...</td>\n    </tr>\n    <tr>\n      <th>16099</th>\n      <td>WLD</td>\n      <td>2016</td>\n      <td>1.457383</td>\n      <td>NaN</td>\n      <td>NaN</td>\n      <td>NaN</td>\n      <td>NaN</td>\n      <td>NaN</td>\n      <td>NaN</td>\n      <td>NaN</td>\n      <td>...</td>\n      <td>NaN</td>\n      <td>NaN</td>\n      <td>NaN</td>\n      <td>NaN</td>\n      <td>NaN</td>\n      <td>NaN</td>\n      <td>NaN</td>\n      <td>NaN</td>\n      <td>NaN</td>\n      <td>NaN</td>\n    </tr>\n    <tr>\n      <th>16100</th>\n      <td>WLD</td>\n      <td>2017</td>\n      <td>2.182718</td>\n      <td>NaN</td>\n      <td>NaN</td>\n      <td>NaN</td>\n      <td>NaN</td>\n      <td>NaN</td>\n      <td>NaN</td>\n      <td>NaN</td>\n      <td>...</td>\n      <td>NaN</td>\n      <td>NaN</td>\n      <td>NaN</td>\n      <td>NaN</td>\n      <td>NaN</td>\n      <td>NaN</td>\n      <td>NaN</td>\n      <td>NaN</td>\n      <td>NaN</td>\n      <td>NaN</td>\n    </tr>\n    <tr>\n      <th>16101</th>\n      <td>WLD</td>\n      <td>2018</td>\n      <td>2.457965</td>\n      <td>NaN</td>\n      <td>NaN</td>\n      <td>NaN</td>\n      <td>NaN</td>\n      <td>NaN</td>\n      <td>NaN</td>\n      <td>NaN</td>\n      <td>...</td>\n      <td>NaN</td>\n      <td>NaN</td>\n      <td>NaN</td>\n      <td>NaN</td>\n      <td>NaN</td>\n      <td>NaN</td>\n      <td>NaN</td>\n      <td>NaN</td>\n      <td>NaN</td>\n      <td>NaN</td>\n    </tr>\n    <tr>\n      <th>16102</th>\n      <td>WLD</td>\n      <td>2019</td>\n      <td>2.301233</td>\n      <td>NaN</td>\n      <td>NaN</td>\n      <td>NaN</td>\n      <td>NaN</td>\n      <td>NaN</td>\n      <td>NaN</td>\n      <td>NaN</td>\n      <td>...</td>\n      <td>NaN</td>\n      <td>NaN</td>\n      <td>NaN</td>\n      <td>NaN</td>\n      <td>NaN</td>\n      <td>NaN</td>\n      <td>NaN</td>\n      <td>NaN</td>\n      <td>NaN</td>\n      <td>NaN</td>\n    </tr>\n    <tr>\n      <th>16103</th>\n      <td>WLD</td>\n      <td>2020</td>\n      <td>0.000000</td>\n      <td>NaN</td>\n      <td>NaN</td>\n      <td>NaN</td>\n      <td>NaN</td>\n      <td>NaN</td>\n      <td>NaN</td>\n      <td>NaN</td>\n      <td>...</td>\n      <td>NaN</td>\n      <td>NaN</td>\n      <td>NaN</td>\n      <td>NaN</td>\n      <td>NaN</td>\n      <td>NaN</td>\n      <td>NaN</td>\n      <td>NaN</td>\n      <td>NaN</td>\n      <td>NaN</td>\n    </tr>\n  </tbody>\n</table>\n<p>16104 rows × 71 columns</p>\n</div>"
     },
     "metadata": {},
     "execution_count": 16
    }
   ],
   "source": [
    "# Inflation rates\n",
    "inflation_rates = pd.read_csv('raw_data/inflationrates.csv')\n",
    "inflation_rates"
   ]
  },
  {
   "cell_type": "code",
   "execution_count": 17,
   "metadata": {},
   "outputs": [
    {
     "output_type": "execute_result",
     "data": {
      "text/plain": [
       "      LOCATION  TIME  Inflation, consumer prices (annual %)\n",
       "0          AFG  1960                               0.000000\n",
       "1          AFG  1961                               0.000000\n",
       "2          AFG  1962                               0.000000\n",
       "3          AFG  1963                               0.000000\n",
       "4          AFG  1964                               0.000000\n",
       "...        ...   ...                                    ...\n",
       "16099      WLD  2016                               1.457383\n",
       "16100      WLD  2017                               2.182718\n",
       "16101      WLD  2018                               2.457965\n",
       "16102      WLD  2019                               2.301233\n",
       "16103      WLD  2020                               0.000000\n",
       "\n",
       "[16104 rows x 3 columns]"
      ],
      "text/html": "<div>\n<style scoped>\n    .dataframe tbody tr th:only-of-type {\n        vertical-align: middle;\n    }\n\n    .dataframe tbody tr th {\n        vertical-align: top;\n    }\n\n    .dataframe thead th {\n        text-align: right;\n    }\n</style>\n<table border=\"1\" class=\"dataframe\">\n  <thead>\n    <tr style=\"text-align: right;\">\n      <th></th>\n      <th>LOCATION</th>\n      <th>TIME</th>\n      <th>Inflation, consumer prices (annual %)</th>\n    </tr>\n  </thead>\n  <tbody>\n    <tr>\n      <th>0</th>\n      <td>AFG</td>\n      <td>1960</td>\n      <td>0.000000</td>\n    </tr>\n    <tr>\n      <th>1</th>\n      <td>AFG</td>\n      <td>1961</td>\n      <td>0.000000</td>\n    </tr>\n    <tr>\n      <th>2</th>\n      <td>AFG</td>\n      <td>1962</td>\n      <td>0.000000</td>\n    </tr>\n    <tr>\n      <th>3</th>\n      <td>AFG</td>\n      <td>1963</td>\n      <td>0.000000</td>\n    </tr>\n    <tr>\n      <th>4</th>\n      <td>AFG</td>\n      <td>1964</td>\n      <td>0.000000</td>\n    </tr>\n    <tr>\n      <th>...</th>\n      <td>...</td>\n      <td>...</td>\n      <td>...</td>\n    </tr>\n    <tr>\n      <th>16099</th>\n      <td>WLD</td>\n      <td>2016</td>\n      <td>1.457383</td>\n    </tr>\n    <tr>\n      <th>16100</th>\n      <td>WLD</td>\n      <td>2017</td>\n      <td>2.182718</td>\n    </tr>\n    <tr>\n      <th>16101</th>\n      <td>WLD</td>\n      <td>2018</td>\n      <td>2.457965</td>\n    </tr>\n    <tr>\n      <th>16102</th>\n      <td>WLD</td>\n      <td>2019</td>\n      <td>2.301233</td>\n    </tr>\n    <tr>\n      <th>16103</th>\n      <td>WLD</td>\n      <td>2020</td>\n      <td>0.000000</td>\n    </tr>\n  </tbody>\n</table>\n<p>16104 rows × 3 columns</p>\n</div>"
     },
     "metadata": {},
     "execution_count": 17
    }
   ],
   "source": [
    "inflation_rates1 = inflation_rates[['LOCATION',\t'TIME',\t'Inflation, consumer prices (annual %)']]\n",
    "inflation_rates1"
   ]
  },
  {
   "cell_type": "code",
   "execution_count": 18,
   "metadata": {},
   "outputs": [
    {
     "output_type": "execute_result",
     "data": {
      "text/plain": [
       "      LOCATION  TIME  Population, total  \\\n",
       "0          AFG  1960       8.996973e+06   \n",
       "1          AFG  1961       9.169410e+06   \n",
       "2          AFG  1962       9.351441e+06   \n",
       "3          AFG  1963       9.543205e+06   \n",
       "4          AFG  1964       9.744781e+06   \n",
       "...        ...   ...                ...   \n",
       "16099      WLD  2016       7.424286e+09   \n",
       "16100      WLD  2017       7.509074e+09   \n",
       "16101      WLD  2018       7.591945e+09   \n",
       "16102      WLD  2019       7.673534e+09   \n",
       "16103      WLD  2020       0.000000e+00   \n",
       "\n",
       "       Automated teller machines (ATMs) (per 100,000 adults)  \\\n",
       "0                                               0.000000       \n",
       "1                                               0.000000       \n",
       "2                                               0.000000       \n",
       "3                                               0.000000       \n",
       "4                                               0.000000       \n",
       "...                                                  ...       \n",
       "16099                                          38.330143       \n",
       "16100                                          38.034455       \n",
       "16101                                          40.949620       \n",
       "16102                                          49.615022       \n",
       "16103                                           0.000000       \n",
       "\n",
       "       Borrowers from commercial banks (per 1,000 adults)  \\\n",
       "0                                               0.000000    \n",
       "1                                               0.000000    \n",
       "2                                               0.000000    \n",
       "3                                               0.000000    \n",
       "4                                               0.000000    \n",
       "...                                                  ...    \n",
       "16099                                         164.010187    \n",
       "16100                                         164.077303    \n",
       "16101                                           0.000000    \n",
       "16102                                           0.000000    \n",
       "16103                                           0.000000    \n",
       "\n",
       "       broad_money_growth_%  Listed domestic companies, total  \\\n",
       "0                  0.000000                                 0   \n",
       "1                 10.291859                                 0   \n",
       "2                 17.827298                                 0   \n",
       "3                 15.579196                                 0   \n",
       "4                 22.888116                                 0   \n",
       "...                     ...                               ...   \n",
       "16099              0.000000                             43522   \n",
       "16100              0.000000                             43444   \n",
       "16101              0.000000                             43342   \n",
       "16102              0.000000                                 0   \n",
       "16103              0.000000                                 0   \n",
       "\n",
       "       Foreign direct investment, net inflows (% of GDP)  \\\n",
       "0                                               0.000000   \n",
       "1                                               0.000000   \n",
       "2                                               0.000000   \n",
       "3                                               0.000000   \n",
       "4                                               0.000000   \n",
       "...                                                  ...   \n",
       "16099                                           3.473328   \n",
       "16100                                           2.666773   \n",
       "16101                                           1.320038   \n",
       "16102                                           1.767214   \n",
       "16103                                           0.000000   \n",
       "\n",
       "       Inflation, consumer prices (annual %)  \n",
       "0                                   0.000000  \n",
       "1                                   0.000000  \n",
       "2                                   0.000000  \n",
       "3                                   0.000000  \n",
       "4                                   0.000000  \n",
       "...                                      ...  \n",
       "16099                               1.457383  \n",
       "16100                               2.182718  \n",
       "16101                               2.457965  \n",
       "16102                               2.301233  \n",
       "16103                               0.000000  \n",
       "\n",
       "[16104 rows x 9 columns]"
      ],
      "text/html": "<div>\n<style scoped>\n    .dataframe tbody tr th:only-of-type {\n        vertical-align: middle;\n    }\n\n    .dataframe tbody tr th {\n        vertical-align: top;\n    }\n\n    .dataframe thead th {\n        text-align: right;\n    }\n</style>\n<table border=\"1\" class=\"dataframe\">\n  <thead>\n    <tr style=\"text-align: right;\">\n      <th></th>\n      <th>LOCATION</th>\n      <th>TIME</th>\n      <th>Population, total</th>\n      <th>Automated teller machines (ATMs) (per 100,000 adults)</th>\n      <th>Borrowers from commercial banks (per 1,000 adults)</th>\n      <th>broad_money_growth_%</th>\n      <th>Listed domestic companies, total</th>\n      <th>Foreign direct investment, net inflows (% of GDP)</th>\n      <th>Inflation, consumer prices (annual %)</th>\n    </tr>\n  </thead>\n  <tbody>\n    <tr>\n      <th>0</th>\n      <td>AFG</td>\n      <td>1960</td>\n      <td>8.996973e+06</td>\n      <td>0.000000</td>\n      <td>0.000000</td>\n      <td>0.000000</td>\n      <td>0</td>\n      <td>0.000000</td>\n      <td>0.000000</td>\n    </tr>\n    <tr>\n      <th>1</th>\n      <td>AFG</td>\n      <td>1961</td>\n      <td>9.169410e+06</td>\n      <td>0.000000</td>\n      <td>0.000000</td>\n      <td>10.291859</td>\n      <td>0</td>\n      <td>0.000000</td>\n      <td>0.000000</td>\n    </tr>\n    <tr>\n      <th>2</th>\n      <td>AFG</td>\n      <td>1962</td>\n      <td>9.351441e+06</td>\n      <td>0.000000</td>\n      <td>0.000000</td>\n      <td>17.827298</td>\n      <td>0</td>\n      <td>0.000000</td>\n      <td>0.000000</td>\n    </tr>\n    <tr>\n      <th>3</th>\n      <td>AFG</td>\n      <td>1963</td>\n      <td>9.543205e+06</td>\n      <td>0.000000</td>\n      <td>0.000000</td>\n      <td>15.579196</td>\n      <td>0</td>\n      <td>0.000000</td>\n      <td>0.000000</td>\n    </tr>\n    <tr>\n      <th>4</th>\n      <td>AFG</td>\n      <td>1964</td>\n      <td>9.744781e+06</td>\n      <td>0.000000</td>\n      <td>0.000000</td>\n      <td>22.888116</td>\n      <td>0</td>\n      <td>0.000000</td>\n      <td>0.000000</td>\n    </tr>\n    <tr>\n      <th>...</th>\n      <td>...</td>\n      <td>...</td>\n      <td>...</td>\n      <td>...</td>\n      <td>...</td>\n      <td>...</td>\n      <td>...</td>\n      <td>...</td>\n      <td>...</td>\n    </tr>\n    <tr>\n      <th>16099</th>\n      <td>WLD</td>\n      <td>2016</td>\n      <td>7.424286e+09</td>\n      <td>38.330143</td>\n      <td>164.010187</td>\n      <td>0.000000</td>\n      <td>43522</td>\n      <td>3.473328</td>\n      <td>1.457383</td>\n    </tr>\n    <tr>\n      <th>16100</th>\n      <td>WLD</td>\n      <td>2017</td>\n      <td>7.509074e+09</td>\n      <td>38.034455</td>\n      <td>164.077303</td>\n      <td>0.000000</td>\n      <td>43444</td>\n      <td>2.666773</td>\n      <td>2.182718</td>\n    </tr>\n    <tr>\n      <th>16101</th>\n      <td>WLD</td>\n      <td>2018</td>\n      <td>7.591945e+09</td>\n      <td>40.949620</td>\n      <td>0.000000</td>\n      <td>0.000000</td>\n      <td>43342</td>\n      <td>1.320038</td>\n      <td>2.457965</td>\n    </tr>\n    <tr>\n      <th>16102</th>\n      <td>WLD</td>\n      <td>2019</td>\n      <td>7.673534e+09</td>\n      <td>49.615022</td>\n      <td>0.000000</td>\n      <td>0.000000</td>\n      <td>0</td>\n      <td>1.767214</td>\n      <td>2.301233</td>\n    </tr>\n    <tr>\n      <th>16103</th>\n      <td>WLD</td>\n      <td>2020</td>\n      <td>0.000000e+00</td>\n      <td>0.000000</td>\n      <td>0.000000</td>\n      <td>0.000000</td>\n      <td>0</td>\n      <td>0.000000</td>\n      <td>0.000000</td>\n    </tr>\n  </tbody>\n</table>\n<p>16104 rows × 9 columns</p>\n</div>"
     },
     "metadata": {},
     "execution_count": 18
    }
   ],
   "source": [
    "merge5 = pd.merge(merge4, inflation_rates1, on=['TIME','LOCATION']).copy()\n",
    "merge5"
   ]
  },
  {
   "cell_type": "code",
   "execution_count": 19,
   "metadata": {},
   "outputs": [
    {
     "output_type": "execute_result",
     "data": {
      "text/plain": [
       "      LOCATION  TIME  Stocks traded, total value (% of GDP)\n",
       "0          AFG  1960                               0.000000\n",
       "1          AFG  1961                               0.000000\n",
       "2          AFG  1962                               0.000000\n",
       "3          AFG  1963                               0.000000\n",
       "4          AFG  1964                               0.000000\n",
       "...        ...   ...                                    ...\n",
       "16099      WLD  2016                             124.014981\n",
       "16100      WLD  2017                             116.874198\n",
       "16101      WLD  2018                              96.488669\n",
       "16102      WLD  2019                              87.492619\n",
       "16103      WLD  2020                               0.000000\n",
       "\n",
       "[16104 rows x 3 columns]"
      ],
      "text/html": "<div>\n<style scoped>\n    .dataframe tbody tr th:only-of-type {\n        vertical-align: middle;\n    }\n\n    .dataframe tbody tr th {\n        vertical-align: top;\n    }\n\n    .dataframe thead th {\n        text-align: right;\n    }\n</style>\n<table border=\"1\" class=\"dataframe\">\n  <thead>\n    <tr style=\"text-align: right;\">\n      <th></th>\n      <th>LOCATION</th>\n      <th>TIME</th>\n      <th>Stocks traded, total value (% of GDP)</th>\n    </tr>\n  </thead>\n  <tbody>\n    <tr>\n      <th>0</th>\n      <td>AFG</td>\n      <td>1960</td>\n      <td>0.000000</td>\n    </tr>\n    <tr>\n      <th>1</th>\n      <td>AFG</td>\n      <td>1961</td>\n      <td>0.000000</td>\n    </tr>\n    <tr>\n      <th>2</th>\n      <td>AFG</td>\n      <td>1962</td>\n      <td>0.000000</td>\n    </tr>\n    <tr>\n      <th>3</th>\n      <td>AFG</td>\n      <td>1963</td>\n      <td>0.000000</td>\n    </tr>\n    <tr>\n      <th>4</th>\n      <td>AFG</td>\n      <td>1964</td>\n      <td>0.000000</td>\n    </tr>\n    <tr>\n      <th>...</th>\n      <td>...</td>\n      <td>...</td>\n      <td>...</td>\n    </tr>\n    <tr>\n      <th>16099</th>\n      <td>WLD</td>\n      <td>2016</td>\n      <td>124.014981</td>\n    </tr>\n    <tr>\n      <th>16100</th>\n      <td>WLD</td>\n      <td>2017</td>\n      <td>116.874198</td>\n    </tr>\n    <tr>\n      <th>16101</th>\n      <td>WLD</td>\n      <td>2018</td>\n      <td>96.488669</td>\n    </tr>\n    <tr>\n      <th>16102</th>\n      <td>WLD</td>\n      <td>2019</td>\n      <td>87.492619</td>\n    </tr>\n    <tr>\n      <th>16103</th>\n      <td>WLD</td>\n      <td>2020</td>\n      <td>0.000000</td>\n    </tr>\n  </tbody>\n</table>\n<p>16104 rows × 3 columns</p>\n</div>"
     },
     "metadata": {},
     "execution_count": 19
    }
   ],
   "source": [
    "# Stock trading\n",
    "stock_trading = pd.read_csv('raw_data/stockstraded.csv')\n",
    "stock_trading"
   ]
  },
  {
   "cell_type": "code",
   "execution_count": 20,
   "metadata": {},
   "outputs": [
    {
     "output_type": "execute_result",
     "data": {
      "text/plain": [
       "      LOCATION  TIME  Population, total  \\\n",
       "0          AFG  1960       8.996973e+06   \n",
       "1          AFG  1961       9.169410e+06   \n",
       "2          AFG  1962       9.351441e+06   \n",
       "3          AFG  1963       9.543205e+06   \n",
       "4          AFG  1964       9.744781e+06   \n",
       "...        ...   ...                ...   \n",
       "16099      WLD  2016       7.424286e+09   \n",
       "16100      WLD  2017       7.509074e+09   \n",
       "16101      WLD  2018       7.591945e+09   \n",
       "16102      WLD  2019       7.673534e+09   \n",
       "16103      WLD  2020       0.000000e+00   \n",
       "\n",
       "       Automated teller machines (ATMs) (per 100,000 adults)  \\\n",
       "0                                               0.000000       \n",
       "1                                               0.000000       \n",
       "2                                               0.000000       \n",
       "3                                               0.000000       \n",
       "4                                               0.000000       \n",
       "...                                                  ...       \n",
       "16099                                          38.330143       \n",
       "16100                                          38.034455       \n",
       "16101                                          40.949620       \n",
       "16102                                          49.615022       \n",
       "16103                                           0.000000       \n",
       "\n",
       "       Borrowers from commercial banks (per 1,000 adults)  \\\n",
       "0                                               0.000000    \n",
       "1                                               0.000000    \n",
       "2                                               0.000000    \n",
       "3                                               0.000000    \n",
       "4                                               0.000000    \n",
       "...                                                  ...    \n",
       "16099                                         164.010187    \n",
       "16100                                         164.077303    \n",
       "16101                                           0.000000    \n",
       "16102                                           0.000000    \n",
       "16103                                           0.000000    \n",
       "\n",
       "       broad_money_growth_%  Listed domestic companies, total  \\\n",
       "0                  0.000000                                 0   \n",
       "1                 10.291859                                 0   \n",
       "2                 17.827298                                 0   \n",
       "3                 15.579196                                 0   \n",
       "4                 22.888116                                 0   \n",
       "...                     ...                               ...   \n",
       "16099              0.000000                             43522   \n",
       "16100              0.000000                             43444   \n",
       "16101              0.000000                             43342   \n",
       "16102              0.000000                                 0   \n",
       "16103              0.000000                                 0   \n",
       "\n",
       "       Foreign direct investment, net inflows (% of GDP)  \\\n",
       "0                                               0.000000   \n",
       "1                                               0.000000   \n",
       "2                                               0.000000   \n",
       "3                                               0.000000   \n",
       "4                                               0.000000   \n",
       "...                                                  ...   \n",
       "16099                                           3.473328   \n",
       "16100                                           2.666773   \n",
       "16101                                           1.320038   \n",
       "16102                                           1.767214   \n",
       "16103                                           0.000000   \n",
       "\n",
       "       Inflation, consumer prices (annual %)  \\\n",
       "0                                   0.000000   \n",
       "1                                   0.000000   \n",
       "2                                   0.000000   \n",
       "3                                   0.000000   \n",
       "4                                   0.000000   \n",
       "...                                      ...   \n",
       "16099                               1.457383   \n",
       "16100                               2.182718   \n",
       "16101                               2.457965   \n",
       "16102                               2.301233   \n",
       "16103                               0.000000   \n",
       "\n",
       "       Stocks traded, total value (% of GDP)  \n",
       "0                                   0.000000  \n",
       "1                                   0.000000  \n",
       "2                                   0.000000  \n",
       "3                                   0.000000  \n",
       "4                                   0.000000  \n",
       "...                                      ...  \n",
       "16099                             124.014981  \n",
       "16100                             116.874198  \n",
       "16101                              96.488669  \n",
       "16102                              87.492619  \n",
       "16103                               0.000000  \n",
       "\n",
       "[16104 rows x 10 columns]"
      ],
      "text/html": "<div>\n<style scoped>\n    .dataframe tbody tr th:only-of-type {\n        vertical-align: middle;\n    }\n\n    .dataframe tbody tr th {\n        vertical-align: top;\n    }\n\n    .dataframe thead th {\n        text-align: right;\n    }\n</style>\n<table border=\"1\" class=\"dataframe\">\n  <thead>\n    <tr style=\"text-align: right;\">\n      <th></th>\n      <th>LOCATION</th>\n      <th>TIME</th>\n      <th>Population, total</th>\n      <th>Automated teller machines (ATMs) (per 100,000 adults)</th>\n      <th>Borrowers from commercial banks (per 1,000 adults)</th>\n      <th>broad_money_growth_%</th>\n      <th>Listed domestic companies, total</th>\n      <th>Foreign direct investment, net inflows (% of GDP)</th>\n      <th>Inflation, consumer prices (annual %)</th>\n      <th>Stocks traded, total value (% of GDP)</th>\n    </tr>\n  </thead>\n  <tbody>\n    <tr>\n      <th>0</th>\n      <td>AFG</td>\n      <td>1960</td>\n      <td>8.996973e+06</td>\n      <td>0.000000</td>\n      <td>0.000000</td>\n      <td>0.000000</td>\n      <td>0</td>\n      <td>0.000000</td>\n      <td>0.000000</td>\n      <td>0.000000</td>\n    </tr>\n    <tr>\n      <th>1</th>\n      <td>AFG</td>\n      <td>1961</td>\n      <td>9.169410e+06</td>\n      <td>0.000000</td>\n      <td>0.000000</td>\n      <td>10.291859</td>\n      <td>0</td>\n      <td>0.000000</td>\n      <td>0.000000</td>\n      <td>0.000000</td>\n    </tr>\n    <tr>\n      <th>2</th>\n      <td>AFG</td>\n      <td>1962</td>\n      <td>9.351441e+06</td>\n      <td>0.000000</td>\n      <td>0.000000</td>\n      <td>17.827298</td>\n      <td>0</td>\n      <td>0.000000</td>\n      <td>0.000000</td>\n      <td>0.000000</td>\n    </tr>\n    <tr>\n      <th>3</th>\n      <td>AFG</td>\n      <td>1963</td>\n      <td>9.543205e+06</td>\n      <td>0.000000</td>\n      <td>0.000000</td>\n      <td>15.579196</td>\n      <td>0</td>\n      <td>0.000000</td>\n      <td>0.000000</td>\n      <td>0.000000</td>\n    </tr>\n    <tr>\n      <th>4</th>\n      <td>AFG</td>\n      <td>1964</td>\n      <td>9.744781e+06</td>\n      <td>0.000000</td>\n      <td>0.000000</td>\n      <td>22.888116</td>\n      <td>0</td>\n      <td>0.000000</td>\n      <td>0.000000</td>\n      <td>0.000000</td>\n    </tr>\n    <tr>\n      <th>...</th>\n      <td>...</td>\n      <td>...</td>\n      <td>...</td>\n      <td>...</td>\n      <td>...</td>\n      <td>...</td>\n      <td>...</td>\n      <td>...</td>\n      <td>...</td>\n      <td>...</td>\n    </tr>\n    <tr>\n      <th>16099</th>\n      <td>WLD</td>\n      <td>2016</td>\n      <td>7.424286e+09</td>\n      <td>38.330143</td>\n      <td>164.010187</td>\n      <td>0.000000</td>\n      <td>43522</td>\n      <td>3.473328</td>\n      <td>1.457383</td>\n      <td>124.014981</td>\n    </tr>\n    <tr>\n      <th>16100</th>\n      <td>WLD</td>\n      <td>2017</td>\n      <td>7.509074e+09</td>\n      <td>38.034455</td>\n      <td>164.077303</td>\n      <td>0.000000</td>\n      <td>43444</td>\n      <td>2.666773</td>\n      <td>2.182718</td>\n      <td>116.874198</td>\n    </tr>\n    <tr>\n      <th>16101</th>\n      <td>WLD</td>\n      <td>2018</td>\n      <td>7.591945e+09</td>\n      <td>40.949620</td>\n      <td>0.000000</td>\n      <td>0.000000</td>\n      <td>43342</td>\n      <td>1.320038</td>\n      <td>2.457965</td>\n      <td>96.488669</td>\n    </tr>\n    <tr>\n      <th>16102</th>\n      <td>WLD</td>\n      <td>2019</td>\n      <td>7.673534e+09</td>\n      <td>49.615022</td>\n      <td>0.000000</td>\n      <td>0.000000</td>\n      <td>0</td>\n      <td>1.767214</td>\n      <td>2.301233</td>\n      <td>87.492619</td>\n    </tr>\n    <tr>\n      <th>16103</th>\n      <td>WLD</td>\n      <td>2020</td>\n      <td>0.000000e+00</td>\n      <td>0.000000</td>\n      <td>0.000000</td>\n      <td>0.000000</td>\n      <td>0</td>\n      <td>0.000000</td>\n      <td>0.000000</td>\n      <td>0.000000</td>\n    </tr>\n  </tbody>\n</table>\n<p>16104 rows × 10 columns</p>\n</div>"
     },
     "metadata": {},
     "execution_count": 20
    }
   ],
   "source": [
    "merge6 = pd.merge(merge5, stock_trading, on=['TIME','LOCATION'], how='left').copy()\n",
    "merge6"
   ]
  },
  {
   "cell_type": "code",
   "execution_count": 21,
   "metadata": {},
   "outputs": [
    {
     "output_type": "execute_result",
     "data": {
      "text/plain": [
       "      LOCATION  TIME  Total reserves (includes gold, current US$)\n",
       "0          AFG  1960                                   50690800.0\n",
       "1          AFG  1961                                   42444500.0\n",
       "2          AFG  1962                                   40592100.0\n",
       "3          AFG  1963                                   45547800.0\n",
       "4          AFG  1964                                   44619680.0\n",
       "...        ...   ...                                          ...\n",
       "16099      WLD  2016                                          0.0\n",
       "16100      WLD  2017                                          0.0\n",
       "16101      WLD  2018                                          0.0\n",
       "16102      WLD  2019                                          0.0\n",
       "16103      WLD  2020                                          0.0\n",
       "\n",
       "[16104 rows x 3 columns]"
      ],
      "text/html": "<div>\n<style scoped>\n    .dataframe tbody tr th:only-of-type {\n        vertical-align: middle;\n    }\n\n    .dataframe tbody tr th {\n        vertical-align: top;\n    }\n\n    .dataframe thead th {\n        text-align: right;\n    }\n</style>\n<table border=\"1\" class=\"dataframe\">\n  <thead>\n    <tr style=\"text-align: right;\">\n      <th></th>\n      <th>LOCATION</th>\n      <th>TIME</th>\n      <th>Total reserves (includes gold, current US$)</th>\n    </tr>\n  </thead>\n  <tbody>\n    <tr>\n      <th>0</th>\n      <td>AFG</td>\n      <td>1960</td>\n      <td>50690800.0</td>\n    </tr>\n    <tr>\n      <th>1</th>\n      <td>AFG</td>\n      <td>1961</td>\n      <td>42444500.0</td>\n    </tr>\n    <tr>\n      <th>2</th>\n      <td>AFG</td>\n      <td>1962</td>\n      <td>40592100.0</td>\n    </tr>\n    <tr>\n      <th>3</th>\n      <td>AFG</td>\n      <td>1963</td>\n      <td>45547800.0</td>\n    </tr>\n    <tr>\n      <th>4</th>\n      <td>AFG</td>\n      <td>1964</td>\n      <td>44619680.0</td>\n    </tr>\n    <tr>\n      <th>...</th>\n      <td>...</td>\n      <td>...</td>\n      <td>...</td>\n    </tr>\n    <tr>\n      <th>16099</th>\n      <td>WLD</td>\n      <td>2016</td>\n      <td>0.0</td>\n    </tr>\n    <tr>\n      <th>16100</th>\n      <td>WLD</td>\n      <td>2017</td>\n      <td>0.0</td>\n    </tr>\n    <tr>\n      <th>16101</th>\n      <td>WLD</td>\n      <td>2018</td>\n      <td>0.0</td>\n    </tr>\n    <tr>\n      <th>16102</th>\n      <td>WLD</td>\n      <td>2019</td>\n      <td>0.0</td>\n    </tr>\n    <tr>\n      <th>16103</th>\n      <td>WLD</td>\n      <td>2020</td>\n      <td>0.0</td>\n    </tr>\n  </tbody>\n</table>\n<p>16104 rows × 3 columns</p>\n</div>"
     },
     "metadata": {},
     "execution_count": 21
    }
   ],
   "source": [
    "# Total reserves\n",
    "total_reserves = pd.read_csv('raw_data/totalreserves.csv')\n",
    "total_reserves"
   ]
  },
  {
   "cell_type": "code",
   "execution_count": 22,
   "metadata": {},
   "outputs": [
    {
     "output_type": "execute_result",
     "data": {
      "text/plain": [
       "      LOCATION  TIME  Population, total  \\\n",
       "0          AFG  1960       8.996973e+06   \n",
       "1          AFG  1961       9.169410e+06   \n",
       "2          AFG  1962       9.351441e+06   \n",
       "3          AFG  1963       9.543205e+06   \n",
       "4          AFG  1964       9.744781e+06   \n",
       "...        ...   ...                ...   \n",
       "16099      WLD  2016       7.424286e+09   \n",
       "16100      WLD  2017       7.509074e+09   \n",
       "16101      WLD  2018       7.591945e+09   \n",
       "16102      WLD  2019       7.673534e+09   \n",
       "16103      WLD  2020       0.000000e+00   \n",
       "\n",
       "       Automated teller machines (ATMs) (per 100,000 adults)  \\\n",
       "0                                               0.000000       \n",
       "1                                               0.000000       \n",
       "2                                               0.000000       \n",
       "3                                               0.000000       \n",
       "4                                               0.000000       \n",
       "...                                                  ...       \n",
       "16099                                          38.330143       \n",
       "16100                                          38.034455       \n",
       "16101                                          40.949620       \n",
       "16102                                          49.615022       \n",
       "16103                                           0.000000       \n",
       "\n",
       "       Borrowers from commercial banks (per 1,000 adults)  \\\n",
       "0                                               0.000000    \n",
       "1                                               0.000000    \n",
       "2                                               0.000000    \n",
       "3                                               0.000000    \n",
       "4                                               0.000000    \n",
       "...                                                  ...    \n",
       "16099                                         164.010187    \n",
       "16100                                         164.077303    \n",
       "16101                                           0.000000    \n",
       "16102                                           0.000000    \n",
       "16103                                           0.000000    \n",
       "\n",
       "       broad_money_growth_%  Listed domestic companies, total  \\\n",
       "0                  0.000000                                 0   \n",
       "1                 10.291859                                 0   \n",
       "2                 17.827298                                 0   \n",
       "3                 15.579196                                 0   \n",
       "4                 22.888116                                 0   \n",
       "...                     ...                               ...   \n",
       "16099              0.000000                             43522   \n",
       "16100              0.000000                             43444   \n",
       "16101              0.000000                             43342   \n",
       "16102              0.000000                                 0   \n",
       "16103              0.000000                                 0   \n",
       "\n",
       "       Foreign direct investment, net inflows (% of GDP)  \\\n",
       "0                                               0.000000   \n",
       "1                                               0.000000   \n",
       "2                                               0.000000   \n",
       "3                                               0.000000   \n",
       "4                                               0.000000   \n",
       "...                                                  ...   \n",
       "16099                                           3.473328   \n",
       "16100                                           2.666773   \n",
       "16101                                           1.320038   \n",
       "16102                                           1.767214   \n",
       "16103                                           0.000000   \n",
       "\n",
       "       Inflation, consumer prices (annual %)  \\\n",
       "0                                   0.000000   \n",
       "1                                   0.000000   \n",
       "2                                   0.000000   \n",
       "3                                   0.000000   \n",
       "4                                   0.000000   \n",
       "...                                      ...   \n",
       "16099                               1.457383   \n",
       "16100                               2.182718   \n",
       "16101                               2.457965   \n",
       "16102                               2.301233   \n",
       "16103                               0.000000   \n",
       "\n",
       "       Stocks traded, total value (% of GDP)  \\\n",
       "0                                   0.000000   \n",
       "1                                   0.000000   \n",
       "2                                   0.000000   \n",
       "3                                   0.000000   \n",
       "4                                   0.000000   \n",
       "...                                      ...   \n",
       "16099                             124.014981   \n",
       "16100                             116.874198   \n",
       "16101                              96.488669   \n",
       "16102                              87.492619   \n",
       "16103                               0.000000   \n",
       "\n",
       "       Total reserves (includes gold, current US$)  \n",
       "0                                       50690800.0  \n",
       "1                                       42444500.0  \n",
       "2                                       40592100.0  \n",
       "3                                       45547800.0  \n",
       "4                                       44619680.0  \n",
       "...                                            ...  \n",
       "16099                                          0.0  \n",
       "16100                                          0.0  \n",
       "16101                                          0.0  \n",
       "16102                                          0.0  \n",
       "16103                                          0.0  \n",
       "\n",
       "[16104 rows x 11 columns]"
      ],
      "text/html": "<div>\n<style scoped>\n    .dataframe tbody tr th:only-of-type {\n        vertical-align: middle;\n    }\n\n    .dataframe tbody tr th {\n        vertical-align: top;\n    }\n\n    .dataframe thead th {\n        text-align: right;\n    }\n</style>\n<table border=\"1\" class=\"dataframe\">\n  <thead>\n    <tr style=\"text-align: right;\">\n      <th></th>\n      <th>LOCATION</th>\n      <th>TIME</th>\n      <th>Population, total</th>\n      <th>Automated teller machines (ATMs) (per 100,000 adults)</th>\n      <th>Borrowers from commercial banks (per 1,000 adults)</th>\n      <th>broad_money_growth_%</th>\n      <th>Listed domestic companies, total</th>\n      <th>Foreign direct investment, net inflows (% of GDP)</th>\n      <th>Inflation, consumer prices (annual %)</th>\n      <th>Stocks traded, total value (% of GDP)</th>\n      <th>Total reserves (includes gold, current US$)</th>\n    </tr>\n  </thead>\n  <tbody>\n    <tr>\n      <th>0</th>\n      <td>AFG</td>\n      <td>1960</td>\n      <td>8.996973e+06</td>\n      <td>0.000000</td>\n      <td>0.000000</td>\n      <td>0.000000</td>\n      <td>0</td>\n      <td>0.000000</td>\n      <td>0.000000</td>\n      <td>0.000000</td>\n      <td>50690800.0</td>\n    </tr>\n    <tr>\n      <th>1</th>\n      <td>AFG</td>\n      <td>1961</td>\n      <td>9.169410e+06</td>\n      <td>0.000000</td>\n      <td>0.000000</td>\n      <td>10.291859</td>\n      <td>0</td>\n      <td>0.000000</td>\n      <td>0.000000</td>\n      <td>0.000000</td>\n      <td>42444500.0</td>\n    </tr>\n    <tr>\n      <th>2</th>\n      <td>AFG</td>\n      <td>1962</td>\n      <td>9.351441e+06</td>\n      <td>0.000000</td>\n      <td>0.000000</td>\n      <td>17.827298</td>\n      <td>0</td>\n      <td>0.000000</td>\n      <td>0.000000</td>\n      <td>0.000000</td>\n      <td>40592100.0</td>\n    </tr>\n    <tr>\n      <th>3</th>\n      <td>AFG</td>\n      <td>1963</td>\n      <td>9.543205e+06</td>\n      <td>0.000000</td>\n      <td>0.000000</td>\n      <td>15.579196</td>\n      <td>0</td>\n      <td>0.000000</td>\n      <td>0.000000</td>\n      <td>0.000000</td>\n      <td>45547800.0</td>\n    </tr>\n    <tr>\n      <th>4</th>\n      <td>AFG</td>\n      <td>1964</td>\n      <td>9.744781e+06</td>\n      <td>0.000000</td>\n      <td>0.000000</td>\n      <td>22.888116</td>\n      <td>0</td>\n      <td>0.000000</td>\n      <td>0.000000</td>\n      <td>0.000000</td>\n      <td>44619680.0</td>\n    </tr>\n    <tr>\n      <th>...</th>\n      <td>...</td>\n      <td>...</td>\n      <td>...</td>\n      <td>...</td>\n      <td>...</td>\n      <td>...</td>\n      <td>...</td>\n      <td>...</td>\n      <td>...</td>\n      <td>...</td>\n      <td>...</td>\n    </tr>\n    <tr>\n      <th>16099</th>\n      <td>WLD</td>\n      <td>2016</td>\n      <td>7.424286e+09</td>\n      <td>38.330143</td>\n      <td>164.010187</td>\n      <td>0.000000</td>\n      <td>43522</td>\n      <td>3.473328</td>\n      <td>1.457383</td>\n      <td>124.014981</td>\n      <td>0.0</td>\n    </tr>\n    <tr>\n      <th>16100</th>\n      <td>WLD</td>\n      <td>2017</td>\n      <td>7.509074e+09</td>\n      <td>38.034455</td>\n      <td>164.077303</td>\n      <td>0.000000</td>\n      <td>43444</td>\n      <td>2.666773</td>\n      <td>2.182718</td>\n      <td>116.874198</td>\n      <td>0.0</td>\n    </tr>\n    <tr>\n      <th>16101</th>\n      <td>WLD</td>\n      <td>2018</td>\n      <td>7.591945e+09</td>\n      <td>40.949620</td>\n      <td>0.000000</td>\n      <td>0.000000</td>\n      <td>43342</td>\n      <td>1.320038</td>\n      <td>2.457965</td>\n      <td>96.488669</td>\n      <td>0.0</td>\n    </tr>\n    <tr>\n      <th>16102</th>\n      <td>WLD</td>\n      <td>2019</td>\n      <td>7.673534e+09</td>\n      <td>49.615022</td>\n      <td>0.000000</td>\n      <td>0.000000</td>\n      <td>0</td>\n      <td>1.767214</td>\n      <td>2.301233</td>\n      <td>87.492619</td>\n      <td>0.0</td>\n    </tr>\n    <tr>\n      <th>16103</th>\n      <td>WLD</td>\n      <td>2020</td>\n      <td>0.000000e+00</td>\n      <td>0.000000</td>\n      <td>0.000000</td>\n      <td>0.000000</td>\n      <td>0</td>\n      <td>0.000000</td>\n      <td>0.000000</td>\n      <td>0.000000</td>\n      <td>0.0</td>\n    </tr>\n  </tbody>\n</table>\n<p>16104 rows × 11 columns</p>\n</div>"
     },
     "metadata": {},
     "execution_count": 22
    }
   ],
   "source": [
    "merge7 = pd.merge(merge6, total_reserves, on=['TIME','LOCATION'], how='left').copy()\n",
    "merge7"
   ]
  },
  {
   "cell_type": "code",
   "execution_count": 23,
   "metadata": {},
   "outputs": [
    {
     "output_type": "execute_result",
     "data": {
      "text/plain": [
       "      LOCATION  TIME  Population, total  \\\n",
       "0          AFG  1960       8.996973e+06   \n",
       "1          AFG  1961       9.169410e+06   \n",
       "2          AFG  1962       9.351441e+06   \n",
       "3          AFG  1963       9.543205e+06   \n",
       "4          AFG  1964       9.744781e+06   \n",
       "...        ...   ...                ...   \n",
       "16099      WLD  2016       7.424286e+09   \n",
       "16100      WLD  2017       7.509074e+09   \n",
       "16101      WLD  2018       7.591945e+09   \n",
       "16102      WLD  2019       7.673534e+09   \n",
       "16103      WLD  2020       0.000000e+00   \n",
       "\n",
       "       Automated teller machines (ATMs) (per 100,000 adults)  \\\n",
       "0                                               0.000000       \n",
       "1                                               0.000000       \n",
       "2                                               0.000000       \n",
       "3                                               0.000000       \n",
       "4                                               0.000000       \n",
       "...                                                  ...       \n",
       "16099                                          38.330143       \n",
       "16100                                          38.034455       \n",
       "16101                                          40.949620       \n",
       "16102                                          49.615022       \n",
       "16103                                           0.000000       \n",
       "\n",
       "       Borrowers from commercial banks (per 1,000 adults)  \\\n",
       "0                                               0.000000    \n",
       "1                                               0.000000    \n",
       "2                                               0.000000    \n",
       "3                                               0.000000    \n",
       "4                                               0.000000    \n",
       "...                                                  ...    \n",
       "16099                                         164.010187    \n",
       "16100                                         164.077303    \n",
       "16101                                           0.000000    \n",
       "16102                                           0.000000    \n",
       "16103                                           0.000000    \n",
       "\n",
       "       broad_money_growth_%  Listed domestic companies, total  \\\n",
       "0                  0.000000                                 0   \n",
       "1                 10.291859                                 0   \n",
       "2                 17.827298                                 0   \n",
       "3                 15.579196                                 0   \n",
       "4                 22.888116                                 0   \n",
       "...                     ...                               ...   \n",
       "16099              0.000000                             43522   \n",
       "16100              0.000000                             43444   \n",
       "16101              0.000000                             43342   \n",
       "16102              0.000000                                 0   \n",
       "16103              0.000000                                 0   \n",
       "\n",
       "       Foreign direct investment, net inflows (% of GDP)  \\\n",
       "0                                               0.000000   \n",
       "1                                               0.000000   \n",
       "2                                               0.000000   \n",
       "3                                               0.000000   \n",
       "4                                               0.000000   \n",
       "...                                                  ...   \n",
       "16099                                           3.473328   \n",
       "16100                                           2.666773   \n",
       "16101                                           1.320038   \n",
       "16102                                           1.767214   \n",
       "16103                                           0.000000   \n",
       "\n",
       "       Inflation, consumer prices (annual %)  \\\n",
       "0                                   0.000000   \n",
       "1                                   0.000000   \n",
       "2                                   0.000000   \n",
       "3                                   0.000000   \n",
       "4                                   0.000000   \n",
       "...                                      ...   \n",
       "16099                               1.457383   \n",
       "16100                               2.182718   \n",
       "16101                               2.457965   \n",
       "16102                               2.301233   \n",
       "16103                               0.000000   \n",
       "\n",
       "       Stocks traded, total value (% of GDP)  \\\n",
       "0                                   0.000000   \n",
       "1                                   0.000000   \n",
       "2                                   0.000000   \n",
       "3                                   0.000000   \n",
       "4                                   0.000000   \n",
       "...                                      ...   \n",
       "16099                             124.014981   \n",
       "16100                             116.874198   \n",
       "16101                              96.488669   \n",
       "16102                              87.492619   \n",
       "16103                               0.000000   \n",
       "\n",
       "       Total reserves (includes gold, current US$)  \n",
       "0                                       50690800.0  \n",
       "1                                       42444500.0  \n",
       "2                                       40592100.0  \n",
       "3                                       45547800.0  \n",
       "4                                       44619680.0  \n",
       "...                                            ...  \n",
       "16099                                          0.0  \n",
       "16100                                          0.0  \n",
       "16101                                          0.0  \n",
       "16102                                          0.0  \n",
       "16103                                          0.0  \n",
       "\n",
       "[16104 rows x 11 columns]"
      ],
      "text/html": "<div>\n<style scoped>\n    .dataframe tbody tr th:only-of-type {\n        vertical-align: middle;\n    }\n\n    .dataframe tbody tr th {\n        vertical-align: top;\n    }\n\n    .dataframe thead th {\n        text-align: right;\n    }\n</style>\n<table border=\"1\" class=\"dataframe\">\n  <thead>\n    <tr style=\"text-align: right;\">\n      <th></th>\n      <th>LOCATION</th>\n      <th>TIME</th>\n      <th>Population, total</th>\n      <th>Automated teller machines (ATMs) (per 100,000 adults)</th>\n      <th>Borrowers from commercial banks (per 1,000 adults)</th>\n      <th>broad_money_growth_%</th>\n      <th>Listed domestic companies, total</th>\n      <th>Foreign direct investment, net inflows (% of GDP)</th>\n      <th>Inflation, consumer prices (annual %)</th>\n      <th>Stocks traded, total value (% of GDP)</th>\n      <th>Total reserves (includes gold, current US$)</th>\n    </tr>\n  </thead>\n  <tbody>\n    <tr>\n      <th>0</th>\n      <td>AFG</td>\n      <td>1960</td>\n      <td>8.996973e+06</td>\n      <td>0.000000</td>\n      <td>0.000000</td>\n      <td>0.000000</td>\n      <td>0</td>\n      <td>0.000000</td>\n      <td>0.000000</td>\n      <td>0.000000</td>\n      <td>50690800.0</td>\n    </tr>\n    <tr>\n      <th>1</th>\n      <td>AFG</td>\n      <td>1961</td>\n      <td>9.169410e+06</td>\n      <td>0.000000</td>\n      <td>0.000000</td>\n      <td>10.291859</td>\n      <td>0</td>\n      <td>0.000000</td>\n      <td>0.000000</td>\n      <td>0.000000</td>\n      <td>42444500.0</td>\n    </tr>\n    <tr>\n      <th>2</th>\n      <td>AFG</td>\n      <td>1962</td>\n      <td>9.351441e+06</td>\n      <td>0.000000</td>\n      <td>0.000000</td>\n      <td>17.827298</td>\n      <td>0</td>\n      <td>0.000000</td>\n      <td>0.000000</td>\n      <td>0.000000</td>\n      <td>40592100.0</td>\n    </tr>\n    <tr>\n      <th>3</th>\n      <td>AFG</td>\n      <td>1963</td>\n      <td>9.543205e+06</td>\n      <td>0.000000</td>\n      <td>0.000000</td>\n      <td>15.579196</td>\n      <td>0</td>\n      <td>0.000000</td>\n      <td>0.000000</td>\n      <td>0.000000</td>\n      <td>45547800.0</td>\n    </tr>\n    <tr>\n      <th>4</th>\n      <td>AFG</td>\n      <td>1964</td>\n      <td>9.744781e+06</td>\n      <td>0.000000</td>\n      <td>0.000000</td>\n      <td>22.888116</td>\n      <td>0</td>\n      <td>0.000000</td>\n      <td>0.000000</td>\n      <td>0.000000</td>\n      <td>44619680.0</td>\n    </tr>\n    <tr>\n      <th>...</th>\n      <td>...</td>\n      <td>...</td>\n      <td>...</td>\n      <td>...</td>\n      <td>...</td>\n      <td>...</td>\n      <td>...</td>\n      <td>...</td>\n      <td>...</td>\n      <td>...</td>\n      <td>...</td>\n    </tr>\n    <tr>\n      <th>16099</th>\n      <td>WLD</td>\n      <td>2016</td>\n      <td>7.424286e+09</td>\n      <td>38.330143</td>\n      <td>164.010187</td>\n      <td>0.000000</td>\n      <td>43522</td>\n      <td>3.473328</td>\n      <td>1.457383</td>\n      <td>124.014981</td>\n      <td>0.0</td>\n    </tr>\n    <tr>\n      <th>16100</th>\n      <td>WLD</td>\n      <td>2017</td>\n      <td>7.509074e+09</td>\n      <td>38.034455</td>\n      <td>164.077303</td>\n      <td>0.000000</td>\n      <td>43444</td>\n      <td>2.666773</td>\n      <td>2.182718</td>\n      <td>116.874198</td>\n      <td>0.0</td>\n    </tr>\n    <tr>\n      <th>16101</th>\n      <td>WLD</td>\n      <td>2018</td>\n      <td>7.591945e+09</td>\n      <td>40.949620</td>\n      <td>0.000000</td>\n      <td>0.000000</td>\n      <td>43342</td>\n      <td>1.320038</td>\n      <td>2.457965</td>\n      <td>96.488669</td>\n      <td>0.0</td>\n    </tr>\n    <tr>\n      <th>16102</th>\n      <td>WLD</td>\n      <td>2019</td>\n      <td>7.673534e+09</td>\n      <td>49.615022</td>\n      <td>0.000000</td>\n      <td>0.000000</td>\n      <td>0</td>\n      <td>1.767214</td>\n      <td>2.301233</td>\n      <td>87.492619</td>\n      <td>0.0</td>\n    </tr>\n    <tr>\n      <th>16103</th>\n      <td>WLD</td>\n      <td>2020</td>\n      <td>0.000000e+00</td>\n      <td>0.000000</td>\n      <td>0.000000</td>\n      <td>0.000000</td>\n      <td>0</td>\n      <td>0.000000</td>\n      <td>0.000000</td>\n      <td>0.000000</td>\n      <td>0.0</td>\n    </tr>\n  </tbody>\n</table>\n<p>16104 rows × 11 columns</p>\n</div>"
     },
     "metadata": {},
     "execution_count": 23
    }
   ],
   "source": [
    "finance_data = merge7\n",
    "finance_data"
   ]
  },
  {
   "cell_type": "code",
   "execution_count": 24,
   "metadata": {},
   "outputs": [],
   "source": [
    "# Obtaining a list of all the countries and their associated three letter codes\n",
    "countries = pd.read_html('https://countrycode.org/')"
   ]
  },
  {
   "cell_type": "code",
   "execution_count": 25,
   "metadata": {},
   "outputs": [
    {
     "output_type": "execute_result",
     "data": {
      "text/plain": [
       "[               COUNTRY COUNTRY CODE ISO CODES  POPULATION  AREA KM2  \\\n",
       " 0          Afghanistan           93  AF / AFG    29121286    647500   \n",
       " 1              Albania          355  AL / ALB     2986952     28748   \n",
       " 2              Algeria          213  DZ / DZA    34586184   2381740   \n",
       " 3       American Samoa        1-684  AS / ASM       57881       199   \n",
       " 4              Andorra          376  AD / AND       84000       468   \n",
       " ..                 ...          ...       ...         ...       ...   \n",
       " 235  Wallis and Futuna          681  WF / WLF       16025       274   \n",
       " 236     Western Sahara          212  EH / ESH      273008    266000   \n",
       " 237              Yemen          967  YE / YEM    23495361    527970   \n",
       " 238             Zambia          260  ZM / ZMB    13460305    752614   \n",
       " 239           Zimbabwe          263  ZW / ZWE    11651858    390580   \n",
       " \n",
       "           GDP $USD  \n",
       " 0    20.65 Billion  \n",
       " 1     12.8 Billion  \n",
       " 2    215.7 Billion  \n",
       " 3    462.2 Million  \n",
       " 4      4.8 Billion  \n",
       " ..             ...  \n",
       " 235            NaN  \n",
       " 236            NaN  \n",
       " 237  43.89 Billion  \n",
       " 238  22.24 Billion  \n",
       " 239  10.48 Billion  \n",
       " \n",
       " [240 rows x 6 columns],\n",
       "                COUNTRY COUNTRY CODE ISO CODES\n",
       " 0          Afghanistan           93  AF / AFG\n",
       " 1              Albania          355  AL / ALB\n",
       " 2              Algeria          213  DZ / DZA\n",
       " 3       American Samoa        1-684  AS / ASM\n",
       " 4              Andorra          376  AD / AND\n",
       " ..                 ...          ...       ...\n",
       " 235  Wallis and Futuna          681  WF / WLF\n",
       " 236     Western Sahara          212  EH / ESH\n",
       " 237              Yemen          967  YE / YEM\n",
       " 238             Zambia          260  ZM / ZMB\n",
       " 239           Zimbabwe          263  ZW / ZWE\n",
       " \n",
       " [240 rows x 3 columns]]"
      ]
     },
     "metadata": {},
     "execution_count": 25
    }
   ],
   "source": [
    "# Viewing the Dataframe\n",
    "countries"
   ]
  },
  {
   "cell_type": "code",
   "execution_count": 26,
   "metadata": {},
   "outputs": [
    {
     "output_type": "execute_result",
     "data": {
      "text/plain": [
       "list"
      ]
     },
     "metadata": {},
     "execution_count": 26
    }
   ],
   "source": [
    "# Determing the type for the country variable\n",
    "type(countries)"
   ]
  },
  {
   "cell_type": "code",
   "execution_count": 27,
   "metadata": {},
   "outputs": [
    {
     "output_type": "execute_result",
     "data": {
      "text/plain": [
       "               COUNTRY COUNTRY CODE ISO CODES  POPULATION  AREA KM2  \\\n",
       "0          Afghanistan           93  AF / AFG    29121286    647500   \n",
       "1              Albania          355  AL / ALB     2986952     28748   \n",
       "2              Algeria          213  DZ / DZA    34586184   2381740   \n",
       "3       American Samoa        1-684  AS / ASM       57881       199   \n",
       "4              Andorra          376  AD / AND       84000       468   \n",
       "..                 ...          ...       ...         ...       ...   \n",
       "235  Wallis and Futuna          681  WF / WLF       16025       274   \n",
       "236     Western Sahara          212  EH / ESH      273008    266000   \n",
       "237              Yemen          967  YE / YEM    23495361    527970   \n",
       "238             Zambia          260  ZM / ZMB    13460305    752614   \n",
       "239           Zimbabwe          263  ZW / ZWE    11651858    390580   \n",
       "\n",
       "          GDP $USD  \n",
       "0    20.65 Billion  \n",
       "1     12.8 Billion  \n",
       "2    215.7 Billion  \n",
       "3    462.2 Million  \n",
       "4      4.8 Billion  \n",
       "..             ...  \n",
       "235            NaN  \n",
       "236            NaN  \n",
       "237  43.89 Billion  \n",
       "238  22.24 Billion  \n",
       "239  10.48 Billion  \n",
       "\n",
       "[240 rows x 6 columns]"
      ],
      "text/html": "<div>\n<style scoped>\n    .dataframe tbody tr th:only-of-type {\n        vertical-align: middle;\n    }\n\n    .dataframe tbody tr th {\n        vertical-align: top;\n    }\n\n    .dataframe thead th {\n        text-align: right;\n    }\n</style>\n<table border=\"1\" class=\"dataframe\">\n  <thead>\n    <tr style=\"text-align: right;\">\n      <th></th>\n      <th>COUNTRY</th>\n      <th>COUNTRY CODE</th>\n      <th>ISO CODES</th>\n      <th>POPULATION</th>\n      <th>AREA KM2</th>\n      <th>GDP $USD</th>\n    </tr>\n  </thead>\n  <tbody>\n    <tr>\n      <th>0</th>\n      <td>Afghanistan</td>\n      <td>93</td>\n      <td>AF / AFG</td>\n      <td>29121286</td>\n      <td>647500</td>\n      <td>20.65 Billion</td>\n    </tr>\n    <tr>\n      <th>1</th>\n      <td>Albania</td>\n      <td>355</td>\n      <td>AL / ALB</td>\n      <td>2986952</td>\n      <td>28748</td>\n      <td>12.8 Billion</td>\n    </tr>\n    <tr>\n      <th>2</th>\n      <td>Algeria</td>\n      <td>213</td>\n      <td>DZ / DZA</td>\n      <td>34586184</td>\n      <td>2381740</td>\n      <td>215.7 Billion</td>\n    </tr>\n    <tr>\n      <th>3</th>\n      <td>American Samoa</td>\n      <td>1-684</td>\n      <td>AS / ASM</td>\n      <td>57881</td>\n      <td>199</td>\n      <td>462.2 Million</td>\n    </tr>\n    <tr>\n      <th>4</th>\n      <td>Andorra</td>\n      <td>376</td>\n      <td>AD / AND</td>\n      <td>84000</td>\n      <td>468</td>\n      <td>4.8 Billion</td>\n    </tr>\n    <tr>\n      <th>...</th>\n      <td>...</td>\n      <td>...</td>\n      <td>...</td>\n      <td>...</td>\n      <td>...</td>\n      <td>...</td>\n    </tr>\n    <tr>\n      <th>235</th>\n      <td>Wallis and Futuna</td>\n      <td>681</td>\n      <td>WF / WLF</td>\n      <td>16025</td>\n      <td>274</td>\n      <td>NaN</td>\n    </tr>\n    <tr>\n      <th>236</th>\n      <td>Western Sahara</td>\n      <td>212</td>\n      <td>EH / ESH</td>\n      <td>273008</td>\n      <td>266000</td>\n      <td>NaN</td>\n    </tr>\n    <tr>\n      <th>237</th>\n      <td>Yemen</td>\n      <td>967</td>\n      <td>YE / YEM</td>\n      <td>23495361</td>\n      <td>527970</td>\n      <td>43.89 Billion</td>\n    </tr>\n    <tr>\n      <th>238</th>\n      <td>Zambia</td>\n      <td>260</td>\n      <td>ZM / ZMB</td>\n      <td>13460305</td>\n      <td>752614</td>\n      <td>22.24 Billion</td>\n    </tr>\n    <tr>\n      <th>239</th>\n      <td>Zimbabwe</td>\n      <td>263</td>\n      <td>ZW / ZWE</td>\n      <td>11651858</td>\n      <td>390580</td>\n      <td>10.48 Billion</td>\n    </tr>\n  </tbody>\n</table>\n<p>240 rows × 6 columns</p>\n</div>"
     },
     "metadata": {},
     "execution_count": 27
    }
   ],
   "source": [
    "# Obtain the first key of the list\n",
    "countries_list = countries[0]\n",
    "countries_list"
   ]
  },
  {
   "cell_type": "code",
   "execution_count": 28,
   "metadata": {},
   "outputs": [
    {
     "output_type": "execute_result",
     "data": {
      "text/plain": [
       "       0     1\n",
       "0    AF    AFG\n",
       "1    AL    ALB\n",
       "2    DZ    DZA\n",
       "3    AS    ASM\n",
       "4    AD    AND\n",
       "..   ...   ...\n",
       "235  WF    WLF\n",
       "236  EH    ESH\n",
       "237  YE    YEM\n",
       "238  ZM    ZMB\n",
       "239  ZW    ZWE\n",
       "\n",
       "[240 rows x 2 columns]"
      ],
      "text/html": "<div>\n<style scoped>\n    .dataframe tbody tr th:only-of-type {\n        vertical-align: middle;\n    }\n\n    .dataframe tbody tr th {\n        vertical-align: top;\n    }\n\n    .dataframe thead th {\n        text-align: right;\n    }\n</style>\n<table border=\"1\" class=\"dataframe\">\n  <thead>\n    <tr style=\"text-align: right;\">\n      <th></th>\n      <th>0</th>\n      <th>1</th>\n    </tr>\n  </thead>\n  <tbody>\n    <tr>\n      <th>0</th>\n      <td>AF</td>\n      <td>AFG</td>\n    </tr>\n    <tr>\n      <th>1</th>\n      <td>AL</td>\n      <td>ALB</td>\n    </tr>\n    <tr>\n      <th>2</th>\n      <td>DZ</td>\n      <td>DZA</td>\n    </tr>\n    <tr>\n      <th>3</th>\n      <td>AS</td>\n      <td>ASM</td>\n    </tr>\n    <tr>\n      <th>4</th>\n      <td>AD</td>\n      <td>AND</td>\n    </tr>\n    <tr>\n      <th>...</th>\n      <td>...</td>\n      <td>...</td>\n    </tr>\n    <tr>\n      <th>235</th>\n      <td>WF</td>\n      <td>WLF</td>\n    </tr>\n    <tr>\n      <th>236</th>\n      <td>EH</td>\n      <td>ESH</td>\n    </tr>\n    <tr>\n      <th>237</th>\n      <td>YE</td>\n      <td>YEM</td>\n    </tr>\n    <tr>\n      <th>238</th>\n      <td>ZM</td>\n      <td>ZMB</td>\n    </tr>\n    <tr>\n      <th>239</th>\n      <td>ZW</td>\n      <td>ZWE</td>\n    </tr>\n  </tbody>\n</table>\n<p>240 rows × 2 columns</p>\n</div>"
     },
     "metadata": {},
     "execution_count": 28
    }
   ],
   "source": [
    "# Splitting the column relating to ISO CODES\n",
    "iso_code_split = countries_list['ISO CODES'].str.split(\"/\",n=1, expand=True)\n",
    "iso_code_split"
   ]
  },
  {
   "cell_type": "code",
   "execution_count": 29,
   "metadata": {},
   "outputs": [
    {
     "output_type": "execute_result",
     "data": {
      "text/plain": [
       "               COUNTRY COUNTRY CODE ISO CODES  POPULATION  AREA KM2  \\\n",
       "0          Afghanistan           93  AF / AFG    29121286    647500   \n",
       "1              Albania          355  AL / ALB     2986952     28748   \n",
       "2              Algeria          213  DZ / DZA    34586184   2381740   \n",
       "3       American Samoa        1-684  AS / ASM       57881       199   \n",
       "4              Andorra          376  AD / AND       84000       468   \n",
       "..                 ...          ...       ...         ...       ...   \n",
       "235  Wallis and Futuna          681  WF / WLF       16025       274   \n",
       "236     Western Sahara          212  EH / ESH      273008    266000   \n",
       "237              Yemen          967  YE / YEM    23495361    527970   \n",
       "238             Zambia          260  ZM / ZMB    13460305    752614   \n",
       "239           Zimbabwe          263  ZW / ZWE    11651858    390580   \n",
       "\n",
       "          GDP $USD ISO CODE 2L  \n",
       "0    20.65 Billion         AF   \n",
       "1     12.8 Billion         AL   \n",
       "2    215.7 Billion         DZ   \n",
       "3    462.2 Million         AS   \n",
       "4      4.8 Billion         AD   \n",
       "..             ...         ...  \n",
       "235            NaN         WF   \n",
       "236            NaN         EH   \n",
       "237  43.89 Billion         YE   \n",
       "238  22.24 Billion         ZM   \n",
       "239  10.48 Billion         ZW   \n",
       "\n",
       "[240 rows x 7 columns]"
      ],
      "text/html": "<div>\n<style scoped>\n    .dataframe tbody tr th:only-of-type {\n        vertical-align: middle;\n    }\n\n    .dataframe tbody tr th {\n        vertical-align: top;\n    }\n\n    .dataframe thead th {\n        text-align: right;\n    }\n</style>\n<table border=\"1\" class=\"dataframe\">\n  <thead>\n    <tr style=\"text-align: right;\">\n      <th></th>\n      <th>COUNTRY</th>\n      <th>COUNTRY CODE</th>\n      <th>ISO CODES</th>\n      <th>POPULATION</th>\n      <th>AREA KM2</th>\n      <th>GDP $USD</th>\n      <th>ISO CODE 2L</th>\n    </tr>\n  </thead>\n  <tbody>\n    <tr>\n      <th>0</th>\n      <td>Afghanistan</td>\n      <td>93</td>\n      <td>AF / AFG</td>\n      <td>29121286</td>\n      <td>647500</td>\n      <td>20.65 Billion</td>\n      <td>AF</td>\n    </tr>\n    <tr>\n      <th>1</th>\n      <td>Albania</td>\n      <td>355</td>\n      <td>AL / ALB</td>\n      <td>2986952</td>\n      <td>28748</td>\n      <td>12.8 Billion</td>\n      <td>AL</td>\n    </tr>\n    <tr>\n      <th>2</th>\n      <td>Algeria</td>\n      <td>213</td>\n      <td>DZ / DZA</td>\n      <td>34586184</td>\n      <td>2381740</td>\n      <td>215.7 Billion</td>\n      <td>DZ</td>\n    </tr>\n    <tr>\n      <th>3</th>\n      <td>American Samoa</td>\n      <td>1-684</td>\n      <td>AS / ASM</td>\n      <td>57881</td>\n      <td>199</td>\n      <td>462.2 Million</td>\n      <td>AS</td>\n    </tr>\n    <tr>\n      <th>4</th>\n      <td>Andorra</td>\n      <td>376</td>\n      <td>AD / AND</td>\n      <td>84000</td>\n      <td>468</td>\n      <td>4.8 Billion</td>\n      <td>AD</td>\n    </tr>\n    <tr>\n      <th>...</th>\n      <td>...</td>\n      <td>...</td>\n      <td>...</td>\n      <td>...</td>\n      <td>...</td>\n      <td>...</td>\n      <td>...</td>\n    </tr>\n    <tr>\n      <th>235</th>\n      <td>Wallis and Futuna</td>\n      <td>681</td>\n      <td>WF / WLF</td>\n      <td>16025</td>\n      <td>274</td>\n      <td>NaN</td>\n      <td>WF</td>\n    </tr>\n    <tr>\n      <th>236</th>\n      <td>Western Sahara</td>\n      <td>212</td>\n      <td>EH / ESH</td>\n      <td>273008</td>\n      <td>266000</td>\n      <td>NaN</td>\n      <td>EH</td>\n    </tr>\n    <tr>\n      <th>237</th>\n      <td>Yemen</td>\n      <td>967</td>\n      <td>YE / YEM</td>\n      <td>23495361</td>\n      <td>527970</td>\n      <td>43.89 Billion</td>\n      <td>YE</td>\n    </tr>\n    <tr>\n      <th>238</th>\n      <td>Zambia</td>\n      <td>260</td>\n      <td>ZM / ZMB</td>\n      <td>13460305</td>\n      <td>752614</td>\n      <td>22.24 Billion</td>\n      <td>ZM</td>\n    </tr>\n    <tr>\n      <th>239</th>\n      <td>Zimbabwe</td>\n      <td>263</td>\n      <td>ZW / ZWE</td>\n      <td>11651858</td>\n      <td>390580</td>\n      <td>10.48 Billion</td>\n      <td>ZW</td>\n    </tr>\n  </tbody>\n</table>\n<p>240 rows × 7 columns</p>\n</div>"
     },
     "metadata": {},
     "execution_count": 29
    }
   ],
   "source": [
    "# Adding the split list back to the dataframe\n",
    "countries_list['ISO CODE 2L'] = iso_code_split[0]\n",
    "countries_list"
   ]
  },
  {
   "cell_type": "code",
   "execution_count": 30,
   "metadata": {},
   "outputs": [
    {
     "output_type": "execute_result",
     "data": {
      "text/plain": [
       "               COUNTRY COUNTRY CODE ISO CODES  POPULATION  AREA KM2  \\\n",
       "0          Afghanistan           93  AF / AFG    29121286    647500   \n",
       "1              Albania          355  AL / ALB     2986952     28748   \n",
       "2              Algeria          213  DZ / DZA    34586184   2381740   \n",
       "3       American Samoa        1-684  AS / ASM       57881       199   \n",
       "4              Andorra          376  AD / AND       84000       468   \n",
       "..                 ...          ...       ...         ...       ...   \n",
       "235  Wallis and Futuna          681  WF / WLF       16025       274   \n",
       "236     Western Sahara          212  EH / ESH      273008    266000   \n",
       "237              Yemen          967  YE / YEM    23495361    527970   \n",
       "238             Zambia          260  ZM / ZMB    13460305    752614   \n",
       "239           Zimbabwe          263  ZW / ZWE    11651858    390580   \n",
       "\n",
       "          GDP $USD ISO CODE 2L ISO CODE 3L  \n",
       "0    20.65 Billion         AF          AFG  \n",
       "1     12.8 Billion         AL          ALB  \n",
       "2    215.7 Billion         DZ          DZA  \n",
       "3    462.2 Million         AS          ASM  \n",
       "4      4.8 Billion         AD          AND  \n",
       "..             ...         ...         ...  \n",
       "235            NaN         WF          WLF  \n",
       "236            NaN         EH          ESH  \n",
       "237  43.89 Billion         YE          YEM  \n",
       "238  22.24 Billion         ZM          ZMB  \n",
       "239  10.48 Billion         ZW          ZWE  \n",
       "\n",
       "[240 rows x 8 columns]"
      ],
      "text/html": "<div>\n<style scoped>\n    .dataframe tbody tr th:only-of-type {\n        vertical-align: middle;\n    }\n\n    .dataframe tbody tr th {\n        vertical-align: top;\n    }\n\n    .dataframe thead th {\n        text-align: right;\n    }\n</style>\n<table border=\"1\" class=\"dataframe\">\n  <thead>\n    <tr style=\"text-align: right;\">\n      <th></th>\n      <th>COUNTRY</th>\n      <th>COUNTRY CODE</th>\n      <th>ISO CODES</th>\n      <th>POPULATION</th>\n      <th>AREA KM2</th>\n      <th>GDP $USD</th>\n      <th>ISO CODE 2L</th>\n      <th>ISO CODE 3L</th>\n    </tr>\n  </thead>\n  <tbody>\n    <tr>\n      <th>0</th>\n      <td>Afghanistan</td>\n      <td>93</td>\n      <td>AF / AFG</td>\n      <td>29121286</td>\n      <td>647500</td>\n      <td>20.65 Billion</td>\n      <td>AF</td>\n      <td>AFG</td>\n    </tr>\n    <tr>\n      <th>1</th>\n      <td>Albania</td>\n      <td>355</td>\n      <td>AL / ALB</td>\n      <td>2986952</td>\n      <td>28748</td>\n      <td>12.8 Billion</td>\n      <td>AL</td>\n      <td>ALB</td>\n    </tr>\n    <tr>\n      <th>2</th>\n      <td>Algeria</td>\n      <td>213</td>\n      <td>DZ / DZA</td>\n      <td>34586184</td>\n      <td>2381740</td>\n      <td>215.7 Billion</td>\n      <td>DZ</td>\n      <td>DZA</td>\n    </tr>\n    <tr>\n      <th>3</th>\n      <td>American Samoa</td>\n      <td>1-684</td>\n      <td>AS / ASM</td>\n      <td>57881</td>\n      <td>199</td>\n      <td>462.2 Million</td>\n      <td>AS</td>\n      <td>ASM</td>\n    </tr>\n    <tr>\n      <th>4</th>\n      <td>Andorra</td>\n      <td>376</td>\n      <td>AD / AND</td>\n      <td>84000</td>\n      <td>468</td>\n      <td>4.8 Billion</td>\n      <td>AD</td>\n      <td>AND</td>\n    </tr>\n    <tr>\n      <th>...</th>\n      <td>...</td>\n      <td>...</td>\n      <td>...</td>\n      <td>...</td>\n      <td>...</td>\n      <td>...</td>\n      <td>...</td>\n      <td>...</td>\n    </tr>\n    <tr>\n      <th>235</th>\n      <td>Wallis and Futuna</td>\n      <td>681</td>\n      <td>WF / WLF</td>\n      <td>16025</td>\n      <td>274</td>\n      <td>NaN</td>\n      <td>WF</td>\n      <td>WLF</td>\n    </tr>\n    <tr>\n      <th>236</th>\n      <td>Western Sahara</td>\n      <td>212</td>\n      <td>EH / ESH</td>\n      <td>273008</td>\n      <td>266000</td>\n      <td>NaN</td>\n      <td>EH</td>\n      <td>ESH</td>\n    </tr>\n    <tr>\n      <th>237</th>\n      <td>Yemen</td>\n      <td>967</td>\n      <td>YE / YEM</td>\n      <td>23495361</td>\n      <td>527970</td>\n      <td>43.89 Billion</td>\n      <td>YE</td>\n      <td>YEM</td>\n    </tr>\n    <tr>\n      <th>238</th>\n      <td>Zambia</td>\n      <td>260</td>\n      <td>ZM / ZMB</td>\n      <td>13460305</td>\n      <td>752614</td>\n      <td>22.24 Billion</td>\n      <td>ZM</td>\n      <td>ZMB</td>\n    </tr>\n    <tr>\n      <th>239</th>\n      <td>Zimbabwe</td>\n      <td>263</td>\n      <td>ZW / ZWE</td>\n      <td>11651858</td>\n      <td>390580</td>\n      <td>10.48 Billion</td>\n      <td>ZW</td>\n      <td>ZWE</td>\n    </tr>\n  </tbody>\n</table>\n<p>240 rows × 8 columns</p>\n</div>"
     },
     "metadata": {},
     "execution_count": 30
    }
   ],
   "source": [
    "# Adding the second three letter code list back to the original dataframe\n",
    "countries_list['ISO CODE 3L'] = iso_code_split[1]\n",
    "countries_list"
   ]
  },
  {
   "cell_type": "code",
   "execution_count": 31,
   "metadata": {},
   "outputs": [
    {
     "output_type": "execute_result",
     "data": {
      "text/plain": [
       "['Afghanistan', 'Albania', 'Algeria', 'American Samoa', 'Andorra']"
      ]
     },
     "metadata": {},
     "execution_count": 31
    }
   ],
   "source": [
    "# Creating a list of countries to iterate\n",
    "list_of_countries = countries_list['COUNTRY'].tolist()\n",
    "list_of_countries[:5]"
   ]
  },
  {
   "cell_type": "code",
   "execution_count": 32,
   "metadata": {},
   "outputs": [
    {
     "output_type": "execute_result",
     "data": {
      "text/plain": [
       "['AF ', 'AL ', 'DZ ', 'AS ', 'AD ']"
      ]
     },
     "metadata": {},
     "execution_count": 32
    }
   ],
   "source": [
    "# Creating a list of the ISO codes to iterate over\n",
    "_2l_ISO_CODES = countries_list['ISO CODE 2L'].tolist()\n",
    "_2l_ISO_CODES[:5]"
   ]
  },
  {
   "cell_type": "code",
   "execution_count": 33,
   "metadata": {},
   "outputs": [
    {
     "output_type": "execute_result",
     "data": {
      "text/plain": [
       "['AF', 'AL', 'DZ', 'AS', 'AD']"
      ]
     },
     "metadata": {},
     "execution_count": 33
    }
   ],
   "source": [
    "# Removing the spaces within the list\n",
    "_2l_ISO_CODES = [x.strip(' ') for x in _2l_ISO_CODES]\n",
    "_2l_ISO_CODES[:5]"
   ]
  },
  {
   "cell_type": "code",
   "execution_count": 34,
   "metadata": {},
   "outputs": [
    {
     "output_type": "execute_result",
     "data": {
      "text/plain": [
       "[' AFG', ' ALB', ' DZA', ' ASM', ' AND']"
      ]
     },
     "metadata": {},
     "execution_count": 34
    }
   ],
   "source": [
    "# Creating a list of the three letter ISO CODES to iterate over\n",
    "_3l_ISO_CODES = countries_list['ISO CODE 3L'].tolist()\n",
    "_3l_ISO_CODES[:5]"
   ]
  },
  {
   "cell_type": "code",
   "execution_count": 35,
   "metadata": {},
   "outputs": [
    {
     "output_type": "execute_result",
     "data": {
      "text/plain": [
       "['AFG', 'ALB', 'DZA', 'ASM', 'AND']"
      ]
     },
     "metadata": {},
     "execution_count": 35
    }
   ],
   "source": [
    "# Removing spaces within the list\n",
    "_3l_ISO_CODES = [x.strip(' ') for x in _3l_ISO_CODES]\n",
    "_3l_ISO_CODES[:5]"
   ]
  },
  {
   "cell_type": "code",
   "execution_count": 36,
   "metadata": {},
   "outputs": [],
   "source": [
    "# Creating a dictionary for the list of countries and their codes\n",
    "countries_dict = {\n",
    "    \"Country\":list_of_countries,\n",
    "    \"LOCATION\":_3l_ISO_CODES,\n",
    "    \"ISO CODE 2 letter\":_2l_ISO_CODES\n",
    "}"
   ]
  },
  {
   "cell_type": "code",
   "execution_count": 37,
   "metadata": {},
   "outputs": [
    {
     "output_type": "execute_result",
     "data": {
      "text/plain": [
       "               Country LOCATION ISO CODE 2 letter\n",
       "0          Afghanistan      AFG                AF\n",
       "1              Albania      ALB                AL\n",
       "2              Algeria      DZA                DZ\n",
       "3       American Samoa      ASM                AS\n",
       "4              Andorra      AND                AD\n",
       "..                 ...      ...               ...\n",
       "235  Wallis and Futuna      WLF                WF\n",
       "236     Western Sahara      ESH                EH\n",
       "237              Yemen      YEM                YE\n",
       "238             Zambia      ZMB                ZM\n",
       "239           Zimbabwe      ZWE                ZW\n",
       "\n",
       "[240 rows x 3 columns]"
      ],
      "text/html": "<div>\n<style scoped>\n    .dataframe tbody tr th:only-of-type {\n        vertical-align: middle;\n    }\n\n    .dataframe tbody tr th {\n        vertical-align: top;\n    }\n\n    .dataframe thead th {\n        text-align: right;\n    }\n</style>\n<table border=\"1\" class=\"dataframe\">\n  <thead>\n    <tr style=\"text-align: right;\">\n      <th></th>\n      <th>Country</th>\n      <th>LOCATION</th>\n      <th>ISO CODE 2 letter</th>\n    </tr>\n  </thead>\n  <tbody>\n    <tr>\n      <th>0</th>\n      <td>Afghanistan</td>\n      <td>AFG</td>\n      <td>AF</td>\n    </tr>\n    <tr>\n      <th>1</th>\n      <td>Albania</td>\n      <td>ALB</td>\n      <td>AL</td>\n    </tr>\n    <tr>\n      <th>2</th>\n      <td>Algeria</td>\n      <td>DZA</td>\n      <td>DZ</td>\n    </tr>\n    <tr>\n      <th>3</th>\n      <td>American Samoa</td>\n      <td>ASM</td>\n      <td>AS</td>\n    </tr>\n    <tr>\n      <th>4</th>\n      <td>Andorra</td>\n      <td>AND</td>\n      <td>AD</td>\n    </tr>\n    <tr>\n      <th>...</th>\n      <td>...</td>\n      <td>...</td>\n      <td>...</td>\n    </tr>\n    <tr>\n      <th>235</th>\n      <td>Wallis and Futuna</td>\n      <td>WLF</td>\n      <td>WF</td>\n    </tr>\n    <tr>\n      <th>236</th>\n      <td>Western Sahara</td>\n      <td>ESH</td>\n      <td>EH</td>\n    </tr>\n    <tr>\n      <th>237</th>\n      <td>Yemen</td>\n      <td>YEM</td>\n      <td>YE</td>\n    </tr>\n    <tr>\n      <th>238</th>\n      <td>Zambia</td>\n      <td>ZMB</td>\n      <td>ZM</td>\n    </tr>\n    <tr>\n      <th>239</th>\n      <td>Zimbabwe</td>\n      <td>ZWE</td>\n      <td>ZW</td>\n    </tr>\n  </tbody>\n</table>\n<p>240 rows × 3 columns</p>\n</div>"
     },
     "metadata": {},
     "execution_count": 37
    }
   ],
   "source": [
    "# Converting the Dictionary to a dataframe\n",
    "country_df = pd.DataFrame(countries_dict)\n",
    "country_df"
   ]
  },
  {
   "cell_type": "code",
   "execution_count": 38,
   "metadata": {},
   "outputs": [
    {
     "output_type": "execute_result",
     "data": {
      "text/plain": [
       "      LOCATION  TIME  Population, total  \\\n",
       "0          AFG  1960          8996973.0   \n",
       "1          AFG  1961          9169410.0   \n",
       "2          AFG  1962          9351441.0   \n",
       "3          AFG  1963          9543205.0   \n",
       "4          AFG  1964          9744781.0   \n",
       "...        ...   ...                ...   \n",
       "13171      ZWE  2016         14030390.0   \n",
       "13172      ZWE  2017         14236745.0   \n",
       "13173      ZWE  2018         14439018.0   \n",
       "13174      ZWE  2019         14645468.0   \n",
       "13175      ZWE  2020                0.0   \n",
       "\n",
       "       Automated teller machines (ATMs) (per 100,000 adults)  \\\n",
       "0                                               0.000000       \n",
       "1                                               0.000000       \n",
       "2                                               0.000000       \n",
       "3                                               0.000000       \n",
       "4                                               0.000000       \n",
       "...                                                  ...       \n",
       "13171                                           7.073321       \n",
       "13172                                           6.889214       \n",
       "13173                                           6.625208       \n",
       "13174                                           6.398139       \n",
       "13175                                           0.000000       \n",
       "\n",
       "       Borrowers from commercial banks (per 1,000 adults)  \\\n",
       "0                                               0.000000    \n",
       "1                                               0.000000    \n",
       "2                                               0.000000    \n",
       "3                                               0.000000    \n",
       "4                                               0.000000    \n",
       "...                                                  ...    \n",
       "13171                                          40.671346    \n",
       "13172                                          40.956438    \n",
       "13173                                         142.527944    \n",
       "13174                                          90.239497    \n",
       "13175                                           0.000000    \n",
       "\n",
       "       broad_money_growth_%  Listed domestic companies, total  \\\n",
       "0                  0.000000                                 0   \n",
       "1                 10.291859                                 0   \n",
       "2                 17.827298                                 0   \n",
       "3                 15.579196                                 0   \n",
       "4                 22.888116                                 0   \n",
       "...                     ...                               ...   \n",
       "13171             19.048048                                 0   \n",
       "13172             38.646489                                 0   \n",
       "13173             28.048464                                 0   \n",
       "13174            249.835278                                 0   \n",
       "13175              0.000000                                 0   \n",
       "\n",
       "       Foreign direct investment, net inflows (% of GDP)  \\\n",
       "0                                               0.000000   \n",
       "1                                               0.000000   \n",
       "2                                               0.000000   \n",
       "3                                               0.000000   \n",
       "4                                               0.000000   \n",
       "...                                                  ...   \n",
       "13171                                           1.669274   \n",
       "13172                                           1.121496   \n",
       "13173                                           3.062893   \n",
       "13174                                           1.305924   \n",
       "13175                                           0.000000   \n",
       "\n",
       "       Inflation, consumer prices (annual %)  \\\n",
       "0                                   0.000000   \n",
       "1                                   0.000000   \n",
       "2                                   0.000000   \n",
       "3                                   0.000000   \n",
       "4                                   0.000000   \n",
       "...                                      ...   \n",
       "13171                              -1.566413   \n",
       "13172                               0.909733   \n",
       "13173                               0.000000   \n",
       "13174                               0.000000   \n",
       "13175                               0.000000   \n",
       "\n",
       "       Stocks traded, total value (% of GDP)  \\\n",
       "0                                        0.0   \n",
       "1                                        0.0   \n",
       "2                                        0.0   \n",
       "3                                        0.0   \n",
       "4                                        0.0   \n",
       "...                                      ...   \n",
       "13171                                    0.0   \n",
       "13172                                    0.0   \n",
       "13173                                    0.0   \n",
       "13174                                    0.0   \n",
       "13175                                    0.0   \n",
       "\n",
       "       Total reserves (includes gold, current US$)      Country  \\\n",
       "0                                     5.069080e+07  Afghanistan   \n",
       "1                                     4.244450e+07  Afghanistan   \n",
       "2                                     4.059210e+07  Afghanistan   \n",
       "3                                     4.554780e+07  Afghanistan   \n",
       "4                                     4.461968e+07  Afghanistan   \n",
       "...                                            ...          ...   \n",
       "13171                                 4.071932e+08     Zimbabwe   \n",
       "13172                                 2.926212e+08     Zimbabwe   \n",
       "13173                                 8.695109e+07     Zimbabwe   \n",
       "13174                                 1.512405e+08     Zimbabwe   \n",
       "13175                                 0.000000e+00     Zimbabwe   \n",
       "\n",
       "      ISO CODE 2 letter  \n",
       "0                    AF  \n",
       "1                    AF  \n",
       "2                    AF  \n",
       "3                    AF  \n",
       "4                    AF  \n",
       "...                 ...  \n",
       "13171                ZW  \n",
       "13172                ZW  \n",
       "13173                ZW  \n",
       "13174                ZW  \n",
       "13175                ZW  \n",
       "\n",
       "[13176 rows x 13 columns]"
      ],
      "text/html": "<div>\n<style scoped>\n    .dataframe tbody tr th:only-of-type {\n        vertical-align: middle;\n    }\n\n    .dataframe tbody tr th {\n        vertical-align: top;\n    }\n\n    .dataframe thead th {\n        text-align: right;\n    }\n</style>\n<table border=\"1\" class=\"dataframe\">\n  <thead>\n    <tr style=\"text-align: right;\">\n      <th></th>\n      <th>LOCATION</th>\n      <th>TIME</th>\n      <th>Population, total</th>\n      <th>Automated teller machines (ATMs) (per 100,000 adults)</th>\n      <th>Borrowers from commercial banks (per 1,000 adults)</th>\n      <th>broad_money_growth_%</th>\n      <th>Listed domestic companies, total</th>\n      <th>Foreign direct investment, net inflows (% of GDP)</th>\n      <th>Inflation, consumer prices (annual %)</th>\n      <th>Stocks traded, total value (% of GDP)</th>\n      <th>Total reserves (includes gold, current US$)</th>\n      <th>Country</th>\n      <th>ISO CODE 2 letter</th>\n    </tr>\n  </thead>\n  <tbody>\n    <tr>\n      <th>0</th>\n      <td>AFG</td>\n      <td>1960</td>\n      <td>8996973.0</td>\n      <td>0.000000</td>\n      <td>0.000000</td>\n      <td>0.000000</td>\n      <td>0</td>\n      <td>0.000000</td>\n      <td>0.000000</td>\n      <td>0.0</td>\n      <td>5.069080e+07</td>\n      <td>Afghanistan</td>\n      <td>AF</td>\n    </tr>\n    <tr>\n      <th>1</th>\n      <td>AFG</td>\n      <td>1961</td>\n      <td>9169410.0</td>\n      <td>0.000000</td>\n      <td>0.000000</td>\n      <td>10.291859</td>\n      <td>0</td>\n      <td>0.000000</td>\n      <td>0.000000</td>\n      <td>0.0</td>\n      <td>4.244450e+07</td>\n      <td>Afghanistan</td>\n      <td>AF</td>\n    </tr>\n    <tr>\n      <th>2</th>\n      <td>AFG</td>\n      <td>1962</td>\n      <td>9351441.0</td>\n      <td>0.000000</td>\n      <td>0.000000</td>\n      <td>17.827298</td>\n      <td>0</td>\n      <td>0.000000</td>\n      <td>0.000000</td>\n      <td>0.0</td>\n      <td>4.059210e+07</td>\n      <td>Afghanistan</td>\n      <td>AF</td>\n    </tr>\n    <tr>\n      <th>3</th>\n      <td>AFG</td>\n      <td>1963</td>\n      <td>9543205.0</td>\n      <td>0.000000</td>\n      <td>0.000000</td>\n      <td>15.579196</td>\n      <td>0</td>\n      <td>0.000000</td>\n      <td>0.000000</td>\n      <td>0.0</td>\n      <td>4.554780e+07</td>\n      <td>Afghanistan</td>\n      <td>AF</td>\n    </tr>\n    <tr>\n      <th>4</th>\n      <td>AFG</td>\n      <td>1964</td>\n      <td>9744781.0</td>\n      <td>0.000000</td>\n      <td>0.000000</td>\n      <td>22.888116</td>\n      <td>0</td>\n      <td>0.000000</td>\n      <td>0.000000</td>\n      <td>0.0</td>\n      <td>4.461968e+07</td>\n      <td>Afghanistan</td>\n      <td>AF</td>\n    </tr>\n    <tr>\n      <th>...</th>\n      <td>...</td>\n      <td>...</td>\n      <td>...</td>\n      <td>...</td>\n      <td>...</td>\n      <td>...</td>\n      <td>...</td>\n      <td>...</td>\n      <td>...</td>\n      <td>...</td>\n      <td>...</td>\n      <td>...</td>\n      <td>...</td>\n    </tr>\n    <tr>\n      <th>13171</th>\n      <td>ZWE</td>\n      <td>2016</td>\n      <td>14030390.0</td>\n      <td>7.073321</td>\n      <td>40.671346</td>\n      <td>19.048048</td>\n      <td>0</td>\n      <td>1.669274</td>\n      <td>-1.566413</td>\n      <td>0.0</td>\n      <td>4.071932e+08</td>\n      <td>Zimbabwe</td>\n      <td>ZW</td>\n    </tr>\n    <tr>\n      <th>13172</th>\n      <td>ZWE</td>\n      <td>2017</td>\n      <td>14236745.0</td>\n      <td>6.889214</td>\n      <td>40.956438</td>\n      <td>38.646489</td>\n      <td>0</td>\n      <td>1.121496</td>\n      <td>0.909733</td>\n      <td>0.0</td>\n      <td>2.926212e+08</td>\n      <td>Zimbabwe</td>\n      <td>ZW</td>\n    </tr>\n    <tr>\n      <th>13173</th>\n      <td>ZWE</td>\n      <td>2018</td>\n      <td>14439018.0</td>\n      <td>6.625208</td>\n      <td>142.527944</td>\n      <td>28.048464</td>\n      <td>0</td>\n      <td>3.062893</td>\n      <td>0.000000</td>\n      <td>0.0</td>\n      <td>8.695109e+07</td>\n      <td>Zimbabwe</td>\n      <td>ZW</td>\n    </tr>\n    <tr>\n      <th>13174</th>\n      <td>ZWE</td>\n      <td>2019</td>\n      <td>14645468.0</td>\n      <td>6.398139</td>\n      <td>90.239497</td>\n      <td>249.835278</td>\n      <td>0</td>\n      <td>1.305924</td>\n      <td>0.000000</td>\n      <td>0.0</td>\n      <td>1.512405e+08</td>\n      <td>Zimbabwe</td>\n      <td>ZW</td>\n    </tr>\n    <tr>\n      <th>13175</th>\n      <td>ZWE</td>\n      <td>2020</td>\n      <td>0.0</td>\n      <td>0.000000</td>\n      <td>0.000000</td>\n      <td>0.000000</td>\n      <td>0</td>\n      <td>0.000000</td>\n      <td>0.000000</td>\n      <td>0.0</td>\n      <td>0.000000e+00</td>\n      <td>Zimbabwe</td>\n      <td>ZW</td>\n    </tr>\n  </tbody>\n</table>\n<p>13176 rows × 13 columns</p>\n</div>"
     },
     "metadata": {},
     "execution_count": 38
    }
   ],
   "source": [
    "finance_data_final = pd.merge(finance_data, country_df, on='LOCATION', how='inner')\n",
    "finance_data_final"
   ]
  },
  {
   "cell_type": "code",
   "execution_count": 39,
   "metadata": {},
   "outputs": [
    {
     "output_type": "execute_result",
     "data": {
      "text/plain": [
       "Index(['LOCATION', 'TIME', 'Population, total',\n",
       "       'Automated teller machines (ATMs) (per 100,000 adults)',\n",
       "       'Borrowers from commercial banks (per 1,000 adults)',\n",
       "       'broad_money_growth_%', 'Listed domestic companies, total',\n",
       "       'Foreign direct investment, net inflows (% of GDP)',\n",
       "       'Inflation, consumer prices (annual %)',\n",
       "       'Stocks traded, total value (% of GDP)',\n",
       "       'Total reserves (includes gold, current US$)', 'Country',\n",
       "       'ISO CODE 2 letter'],\n",
       "      dtype='object')"
      ]
     },
     "metadata": {},
     "execution_count": 39
    }
   ],
   "source": [
    "finance_data_final.columns"
   ]
  },
  {
   "cell_type": "code",
   "execution_count": 40,
   "metadata": {},
   "outputs": [],
   "source": [
    "finance_data_final1 = finance_data_final[['Country','LOCATION', 'TIME',\n",
    "       'Automated teller machines (ATMs) (per 100,000 adults)',\n",
    "       'Borrowers from commercial banks (per 1,000 adults)',\n",
    "       'broad_money_growth_%', 'Listed domestic companies, total',\n",
    "       'Foreign direct investment, net inflows (% of GDP)',\n",
    "       'Inflation, consumer prices (annual %)',\n",
    "       'Stocks traded, total value (% of GDP)',\n",
    "       'Total reserves (includes gold, current US$)']]"
   ]
  },
  {
   "cell_type": "code",
   "execution_count": 41,
   "metadata": {},
   "outputs": [
    {
     "output_type": "execute_result",
     "data": {
      "text/plain": [
       "           Country LOCATION  TIME  \\\n",
       "0      Afghanistan      AFG  1960   \n",
       "1      Afghanistan      AFG  1961   \n",
       "2      Afghanistan      AFG  1962   \n",
       "3      Afghanistan      AFG  1963   \n",
       "4      Afghanistan      AFG  1964   \n",
       "...            ...      ...   ...   \n",
       "13171     Zimbabwe      ZWE  2016   \n",
       "13172     Zimbabwe      ZWE  2017   \n",
       "13173     Zimbabwe      ZWE  2018   \n",
       "13174     Zimbabwe      ZWE  2019   \n",
       "13175     Zimbabwe      ZWE  2020   \n",
       "\n",
       "       Automated teller machines (ATMs) (per 100,000 adults)  \\\n",
       "0                                               0.000000       \n",
       "1                                               0.000000       \n",
       "2                                               0.000000       \n",
       "3                                               0.000000       \n",
       "4                                               0.000000       \n",
       "...                                                  ...       \n",
       "13171                                           7.073321       \n",
       "13172                                           6.889214       \n",
       "13173                                           6.625208       \n",
       "13174                                           6.398139       \n",
       "13175                                           0.000000       \n",
       "\n",
       "       Borrowers from commercial banks (per 1,000 adults)  \\\n",
       "0                                               0.000000    \n",
       "1                                               0.000000    \n",
       "2                                               0.000000    \n",
       "3                                               0.000000    \n",
       "4                                               0.000000    \n",
       "...                                                  ...    \n",
       "13171                                          40.671346    \n",
       "13172                                          40.956438    \n",
       "13173                                         142.527944    \n",
       "13174                                          90.239497    \n",
       "13175                                           0.000000    \n",
       "\n",
       "       broad_money_growth_%  Listed domestic companies, total  \\\n",
       "0                  0.000000                                 0   \n",
       "1                 10.291859                                 0   \n",
       "2                 17.827298                                 0   \n",
       "3                 15.579196                                 0   \n",
       "4                 22.888116                                 0   \n",
       "...                     ...                               ...   \n",
       "13171             19.048048                                 0   \n",
       "13172             38.646489                                 0   \n",
       "13173             28.048464                                 0   \n",
       "13174            249.835278                                 0   \n",
       "13175              0.000000                                 0   \n",
       "\n",
       "       Foreign direct investment, net inflows (% of GDP)  \\\n",
       "0                                               0.000000   \n",
       "1                                               0.000000   \n",
       "2                                               0.000000   \n",
       "3                                               0.000000   \n",
       "4                                               0.000000   \n",
       "...                                                  ...   \n",
       "13171                                           1.669274   \n",
       "13172                                           1.121496   \n",
       "13173                                           3.062893   \n",
       "13174                                           1.305924   \n",
       "13175                                           0.000000   \n",
       "\n",
       "       Inflation, consumer prices (annual %)  \\\n",
       "0                                   0.000000   \n",
       "1                                   0.000000   \n",
       "2                                   0.000000   \n",
       "3                                   0.000000   \n",
       "4                                   0.000000   \n",
       "...                                      ...   \n",
       "13171                              -1.566413   \n",
       "13172                               0.909733   \n",
       "13173                               0.000000   \n",
       "13174                               0.000000   \n",
       "13175                               0.000000   \n",
       "\n",
       "       Stocks traded, total value (% of GDP)  \\\n",
       "0                                        0.0   \n",
       "1                                        0.0   \n",
       "2                                        0.0   \n",
       "3                                        0.0   \n",
       "4                                        0.0   \n",
       "...                                      ...   \n",
       "13171                                    0.0   \n",
       "13172                                    0.0   \n",
       "13173                                    0.0   \n",
       "13174                                    0.0   \n",
       "13175                                    0.0   \n",
       "\n",
       "       Total reserves (includes gold, current US$)  \n",
       "0                                     5.069080e+07  \n",
       "1                                     4.244450e+07  \n",
       "2                                     4.059210e+07  \n",
       "3                                     4.554780e+07  \n",
       "4                                     4.461968e+07  \n",
       "...                                            ...  \n",
       "13171                                 4.071932e+08  \n",
       "13172                                 2.926212e+08  \n",
       "13173                                 8.695109e+07  \n",
       "13174                                 1.512405e+08  \n",
       "13175                                 0.000000e+00  \n",
       "\n",
       "[13176 rows x 11 columns]"
      ],
      "text/html": "<div>\n<style scoped>\n    .dataframe tbody tr th:only-of-type {\n        vertical-align: middle;\n    }\n\n    .dataframe tbody tr th {\n        vertical-align: top;\n    }\n\n    .dataframe thead th {\n        text-align: right;\n    }\n</style>\n<table border=\"1\" class=\"dataframe\">\n  <thead>\n    <tr style=\"text-align: right;\">\n      <th></th>\n      <th>Country</th>\n      <th>LOCATION</th>\n      <th>TIME</th>\n      <th>Automated teller machines (ATMs) (per 100,000 adults)</th>\n      <th>Borrowers from commercial banks (per 1,000 adults)</th>\n      <th>broad_money_growth_%</th>\n      <th>Listed domestic companies, total</th>\n      <th>Foreign direct investment, net inflows (% of GDP)</th>\n      <th>Inflation, consumer prices (annual %)</th>\n      <th>Stocks traded, total value (% of GDP)</th>\n      <th>Total reserves (includes gold, current US$)</th>\n    </tr>\n  </thead>\n  <tbody>\n    <tr>\n      <th>0</th>\n      <td>Afghanistan</td>\n      <td>AFG</td>\n      <td>1960</td>\n      <td>0.000000</td>\n      <td>0.000000</td>\n      <td>0.000000</td>\n      <td>0</td>\n      <td>0.000000</td>\n      <td>0.000000</td>\n      <td>0.0</td>\n      <td>5.069080e+07</td>\n    </tr>\n    <tr>\n      <th>1</th>\n      <td>Afghanistan</td>\n      <td>AFG</td>\n      <td>1961</td>\n      <td>0.000000</td>\n      <td>0.000000</td>\n      <td>10.291859</td>\n      <td>0</td>\n      <td>0.000000</td>\n      <td>0.000000</td>\n      <td>0.0</td>\n      <td>4.244450e+07</td>\n    </tr>\n    <tr>\n      <th>2</th>\n      <td>Afghanistan</td>\n      <td>AFG</td>\n      <td>1962</td>\n      <td>0.000000</td>\n      <td>0.000000</td>\n      <td>17.827298</td>\n      <td>0</td>\n      <td>0.000000</td>\n      <td>0.000000</td>\n      <td>0.0</td>\n      <td>4.059210e+07</td>\n    </tr>\n    <tr>\n      <th>3</th>\n      <td>Afghanistan</td>\n      <td>AFG</td>\n      <td>1963</td>\n      <td>0.000000</td>\n      <td>0.000000</td>\n      <td>15.579196</td>\n      <td>0</td>\n      <td>0.000000</td>\n      <td>0.000000</td>\n      <td>0.0</td>\n      <td>4.554780e+07</td>\n    </tr>\n    <tr>\n      <th>4</th>\n      <td>Afghanistan</td>\n      <td>AFG</td>\n      <td>1964</td>\n      <td>0.000000</td>\n      <td>0.000000</td>\n      <td>22.888116</td>\n      <td>0</td>\n      <td>0.000000</td>\n      <td>0.000000</td>\n      <td>0.0</td>\n      <td>4.461968e+07</td>\n    </tr>\n    <tr>\n      <th>...</th>\n      <td>...</td>\n      <td>...</td>\n      <td>...</td>\n      <td>...</td>\n      <td>...</td>\n      <td>...</td>\n      <td>...</td>\n      <td>...</td>\n      <td>...</td>\n      <td>...</td>\n      <td>...</td>\n    </tr>\n    <tr>\n      <th>13171</th>\n      <td>Zimbabwe</td>\n      <td>ZWE</td>\n      <td>2016</td>\n      <td>7.073321</td>\n      <td>40.671346</td>\n      <td>19.048048</td>\n      <td>0</td>\n      <td>1.669274</td>\n      <td>-1.566413</td>\n      <td>0.0</td>\n      <td>4.071932e+08</td>\n    </tr>\n    <tr>\n      <th>13172</th>\n      <td>Zimbabwe</td>\n      <td>ZWE</td>\n      <td>2017</td>\n      <td>6.889214</td>\n      <td>40.956438</td>\n      <td>38.646489</td>\n      <td>0</td>\n      <td>1.121496</td>\n      <td>0.909733</td>\n      <td>0.0</td>\n      <td>2.926212e+08</td>\n    </tr>\n    <tr>\n      <th>13173</th>\n      <td>Zimbabwe</td>\n      <td>ZWE</td>\n      <td>2018</td>\n      <td>6.625208</td>\n      <td>142.527944</td>\n      <td>28.048464</td>\n      <td>0</td>\n      <td>3.062893</td>\n      <td>0.000000</td>\n      <td>0.0</td>\n      <td>8.695109e+07</td>\n    </tr>\n    <tr>\n      <th>13174</th>\n      <td>Zimbabwe</td>\n      <td>ZWE</td>\n      <td>2019</td>\n      <td>6.398139</td>\n      <td>90.239497</td>\n      <td>249.835278</td>\n      <td>0</td>\n      <td>1.305924</td>\n      <td>0.000000</td>\n      <td>0.0</td>\n      <td>1.512405e+08</td>\n    </tr>\n    <tr>\n      <th>13175</th>\n      <td>Zimbabwe</td>\n      <td>ZWE</td>\n      <td>2020</td>\n      <td>0.000000</td>\n      <td>0.000000</td>\n      <td>0.000000</td>\n      <td>0</td>\n      <td>0.000000</td>\n      <td>0.000000</td>\n      <td>0.0</td>\n      <td>0.000000e+00</td>\n    </tr>\n  </tbody>\n</table>\n<p>13176 rows × 11 columns</p>\n</div>"
     },
     "metadata": {},
     "execution_count": 41
    }
   ],
   "source": [
    "finance_data_final1"
   ]
  },
  {
   "cell_type": "code",
   "execution_count": 42,
   "metadata": {},
   "outputs": [],
   "source": [
    "# Exporting Dataframe to CSV\n",
    "finance_data_final1.to_csv('cleaned_data/financeData.csv', index=False)"
   ]
  },
  {
   "source": [
    "# Health Data"
   ],
   "cell_type": "markdown",
   "metadata": {}
  },
  {
   "cell_type": "code",
   "execution_count": 43,
   "metadata": {},
   "outputs": [
    {
     "output_type": "execute_result",
     "data": {
      "text/plain": [
       "      LOCATION  TIME  Population, total\n",
       "0          AFG  1960       8.996973e+06\n",
       "1          AFG  1961       9.169410e+06\n",
       "2          AFG  1962       9.351441e+06\n",
       "3          AFG  1963       9.543205e+06\n",
       "4          AFG  1964       9.744781e+06\n",
       "...        ...   ...                ...\n",
       "16099      WLD  2016       7.424286e+09\n",
       "16100      WLD  2017       7.509074e+09\n",
       "16101      WLD  2018       7.591945e+09\n",
       "16102      WLD  2019       7.673534e+09\n",
       "16103      WLD  2020       0.000000e+00\n",
       "\n",
       "[16104 rows x 3 columns]"
      ],
      "text/html": "<div>\n<style scoped>\n    .dataframe tbody tr th:only-of-type {\n        vertical-align: middle;\n    }\n\n    .dataframe tbody tr th {\n        vertical-align: top;\n    }\n\n    .dataframe thead th {\n        text-align: right;\n    }\n</style>\n<table border=\"1\" class=\"dataframe\">\n  <thead>\n    <tr style=\"text-align: right;\">\n      <th></th>\n      <th>LOCATION</th>\n      <th>TIME</th>\n      <th>Population, total</th>\n    </tr>\n  </thead>\n  <tbody>\n    <tr>\n      <th>0</th>\n      <td>AFG</td>\n      <td>1960</td>\n      <td>8.996973e+06</td>\n    </tr>\n    <tr>\n      <th>1</th>\n      <td>AFG</td>\n      <td>1961</td>\n      <td>9.169410e+06</td>\n    </tr>\n    <tr>\n      <th>2</th>\n      <td>AFG</td>\n      <td>1962</td>\n      <td>9.351441e+06</td>\n    </tr>\n    <tr>\n      <th>3</th>\n      <td>AFG</td>\n      <td>1963</td>\n      <td>9.543205e+06</td>\n    </tr>\n    <tr>\n      <th>4</th>\n      <td>AFG</td>\n      <td>1964</td>\n      <td>9.744781e+06</td>\n    </tr>\n    <tr>\n      <th>...</th>\n      <td>...</td>\n      <td>...</td>\n      <td>...</td>\n    </tr>\n    <tr>\n      <th>16099</th>\n      <td>WLD</td>\n      <td>2016</td>\n      <td>7.424286e+09</td>\n    </tr>\n    <tr>\n      <th>16100</th>\n      <td>WLD</td>\n      <td>2017</td>\n      <td>7.509074e+09</td>\n    </tr>\n    <tr>\n      <th>16101</th>\n      <td>WLD</td>\n      <td>2018</td>\n      <td>7.591945e+09</td>\n    </tr>\n    <tr>\n      <th>16102</th>\n      <td>WLD</td>\n      <td>2019</td>\n      <td>7.673534e+09</td>\n    </tr>\n    <tr>\n      <th>16103</th>\n      <td>WLD</td>\n      <td>2020</td>\n      <td>0.000000e+00</td>\n    </tr>\n  </tbody>\n</table>\n<p>16104 rows × 3 columns</p>\n</div>"
     },
     "metadata": {},
     "execution_count": 43
    }
   ],
   "source": [
    "# Reading the country dataframe\n",
    "country_year"
   ]
  },
  {
   "cell_type": "code",
   "execution_count": 44,
   "metadata": {},
   "outputs": [
    {
     "output_type": "execute_result",
     "data": {
      "text/plain": [
       "           Entity Code  Year  \\\n",
       "0     Afghanistan  AFG  1990   \n",
       "1     Afghanistan  AFG  1991   \n",
       "2     Afghanistan  AFG  1992   \n",
       "3     Afghanistan  AFG  1993   \n",
       "4     Afghanistan  AFG  1994   \n",
       "...           ...  ...   ...   \n",
       "6463     Zimbabwe  ZWE  2013   \n",
       "6464     Zimbabwe  ZWE  2014   \n",
       "6465     Zimbabwe  ZWE  2015   \n",
       "6466     Zimbabwe  ZWE  2016   \n",
       "6467     Zimbabwe  ZWE  2017   \n",
       "\n",
       "      Prevalence - Neoplasms - Sex: Both - Age: Age-standardized (Percent)  \n",
       "0                                              0.476867                     \n",
       "1                                              0.476258                     \n",
       "2                                              0.475649                     \n",
       "3                                              0.475640                     \n",
       "4                                              0.480281                     \n",
       "...                                                 ...                     \n",
       "6463                                           0.569652                     \n",
       "6464                                           0.568133                     \n",
       "6465                                           0.566873                     \n",
       "6466                                           0.567007                     \n",
       "6467                                           0.566521                     \n",
       "\n",
       "[6468 rows x 4 columns]"
      ],
      "text/html": "<div>\n<style scoped>\n    .dataframe tbody tr th:only-of-type {\n        vertical-align: middle;\n    }\n\n    .dataframe tbody tr th {\n        vertical-align: top;\n    }\n\n    .dataframe thead th {\n        text-align: right;\n    }\n</style>\n<table border=\"1\" class=\"dataframe\">\n  <thead>\n    <tr style=\"text-align: right;\">\n      <th></th>\n      <th>Entity</th>\n      <th>Code</th>\n      <th>Year</th>\n      <th>Prevalence - Neoplasms - Sex: Both - Age: Age-standardized (Percent)</th>\n    </tr>\n  </thead>\n  <tbody>\n    <tr>\n      <th>0</th>\n      <td>Afghanistan</td>\n      <td>AFG</td>\n      <td>1990</td>\n      <td>0.476867</td>\n    </tr>\n    <tr>\n      <th>1</th>\n      <td>Afghanistan</td>\n      <td>AFG</td>\n      <td>1991</td>\n      <td>0.476258</td>\n    </tr>\n    <tr>\n      <th>2</th>\n      <td>Afghanistan</td>\n      <td>AFG</td>\n      <td>1992</td>\n      <td>0.475649</td>\n    </tr>\n    <tr>\n      <th>3</th>\n      <td>Afghanistan</td>\n      <td>AFG</td>\n      <td>1993</td>\n      <td>0.475640</td>\n    </tr>\n    <tr>\n      <th>4</th>\n      <td>Afghanistan</td>\n      <td>AFG</td>\n      <td>1994</td>\n      <td>0.480281</td>\n    </tr>\n    <tr>\n      <th>...</th>\n      <td>...</td>\n      <td>...</td>\n      <td>...</td>\n      <td>...</td>\n    </tr>\n    <tr>\n      <th>6463</th>\n      <td>Zimbabwe</td>\n      <td>ZWE</td>\n      <td>2013</td>\n      <td>0.569652</td>\n    </tr>\n    <tr>\n      <th>6464</th>\n      <td>Zimbabwe</td>\n      <td>ZWE</td>\n      <td>2014</td>\n      <td>0.568133</td>\n    </tr>\n    <tr>\n      <th>6465</th>\n      <td>Zimbabwe</td>\n      <td>ZWE</td>\n      <td>2015</td>\n      <td>0.566873</td>\n    </tr>\n    <tr>\n      <th>6466</th>\n      <td>Zimbabwe</td>\n      <td>ZWE</td>\n      <td>2016</td>\n      <td>0.567007</td>\n    </tr>\n    <tr>\n      <th>6467</th>\n      <td>Zimbabwe</td>\n      <td>ZWE</td>\n      <td>2017</td>\n      <td>0.566521</td>\n    </tr>\n  </tbody>\n</table>\n<p>6468 rows × 4 columns</p>\n</div>"
     },
     "metadata": {},
     "execution_count": 44
    }
   ],
   "source": [
    "# Reading cancer incidences csv\n",
    "cancer_incidence = pd.read_csv('raw_data/health_data_raw/share-of-population-with-cancer.csv')\n",
    "cancer_incidence"
   ]
  },
  {
   "cell_type": "code",
   "execution_count": 45,
   "metadata": {},
   "outputs": [
    {
     "output_type": "execute_result",
     "data": {
      "text/plain": [
       "     LOCATION  TIME  \\\n",
       "0         AFG  1990   \n",
       "1         AFG  1991   \n",
       "2         AFG  1992   \n",
       "3         AFG  1993   \n",
       "4         AFG  1994   \n",
       "...       ...   ...   \n",
       "6463      ZWE  2013   \n",
       "6464      ZWE  2014   \n",
       "6465      ZWE  2015   \n",
       "6466      ZWE  2016   \n",
       "6467      ZWE  2017   \n",
       "\n",
       "      Prevalence - Neoplasms - Sex: Both - Age: Age-standardized (Percent)  \n",
       "0                                              0.476867                     \n",
       "1                                              0.476258                     \n",
       "2                                              0.475649                     \n",
       "3                                              0.475640                     \n",
       "4                                              0.480281                     \n",
       "...                                                 ...                     \n",
       "6463                                           0.569652                     \n",
       "6464                                           0.568133                     \n",
       "6465                                           0.566873                     \n",
       "6466                                           0.567007                     \n",
       "6467                                           0.566521                     \n",
       "\n",
       "[6468 rows x 3 columns]"
      ],
      "text/html": "<div>\n<style scoped>\n    .dataframe tbody tr th:only-of-type {\n        vertical-align: middle;\n    }\n\n    .dataframe tbody tr th {\n        vertical-align: top;\n    }\n\n    .dataframe thead th {\n        text-align: right;\n    }\n</style>\n<table border=\"1\" class=\"dataframe\">\n  <thead>\n    <tr style=\"text-align: right;\">\n      <th></th>\n      <th>LOCATION</th>\n      <th>TIME</th>\n      <th>Prevalence - Neoplasms - Sex: Both - Age: Age-standardized (Percent)</th>\n    </tr>\n  </thead>\n  <tbody>\n    <tr>\n      <th>0</th>\n      <td>AFG</td>\n      <td>1990</td>\n      <td>0.476867</td>\n    </tr>\n    <tr>\n      <th>1</th>\n      <td>AFG</td>\n      <td>1991</td>\n      <td>0.476258</td>\n    </tr>\n    <tr>\n      <th>2</th>\n      <td>AFG</td>\n      <td>1992</td>\n      <td>0.475649</td>\n    </tr>\n    <tr>\n      <th>3</th>\n      <td>AFG</td>\n      <td>1993</td>\n      <td>0.475640</td>\n    </tr>\n    <tr>\n      <th>4</th>\n      <td>AFG</td>\n      <td>1994</td>\n      <td>0.480281</td>\n    </tr>\n    <tr>\n      <th>...</th>\n      <td>...</td>\n      <td>...</td>\n      <td>...</td>\n    </tr>\n    <tr>\n      <th>6463</th>\n      <td>ZWE</td>\n      <td>2013</td>\n      <td>0.569652</td>\n    </tr>\n    <tr>\n      <th>6464</th>\n      <td>ZWE</td>\n      <td>2014</td>\n      <td>0.568133</td>\n    </tr>\n    <tr>\n      <th>6465</th>\n      <td>ZWE</td>\n      <td>2015</td>\n      <td>0.566873</td>\n    </tr>\n    <tr>\n      <th>6466</th>\n      <td>ZWE</td>\n      <td>2016</td>\n      <td>0.567007</td>\n    </tr>\n    <tr>\n      <th>6467</th>\n      <td>ZWE</td>\n      <td>2017</td>\n      <td>0.566521</td>\n    </tr>\n  </tbody>\n</table>\n<p>6468 rows × 3 columns</p>\n</div>"
     },
     "metadata": {},
     "execution_count": 45
    }
   ],
   "source": [
    "cancer_incidence1 = cancer_incidence.drop(columns=['Entity']).rename(columns={'Code':'LOCATION','Year':'TIME'})\n",
    "cancer_incidence1"
   ]
  },
  {
   "cell_type": "code",
   "execution_count": 46,
   "metadata": {},
   "outputs": [
    {
     "output_type": "execute_result",
     "data": {
      "text/plain": [
       "      LOCATION  TIME  Population, total  \\\n",
       "0          AFG  1960       8.996973e+06   \n",
       "1          AFG  1961       9.169410e+06   \n",
       "2          AFG  1962       9.351441e+06   \n",
       "3          AFG  1963       9.543205e+06   \n",
       "4          AFG  1964       9.744781e+06   \n",
       "...        ...   ...                ...   \n",
       "16099      WLD  2016       7.424286e+09   \n",
       "16100      WLD  2017       7.509074e+09   \n",
       "16101      WLD  2018       7.591945e+09   \n",
       "16102      WLD  2019       7.673534e+09   \n",
       "16103      WLD  2020       0.000000e+00   \n",
       "\n",
       "       Prevalence - Neoplasms - Sex: Both - Age: Age-standardized (Percent)  \n",
       "0                                                    NaN                     \n",
       "1                                                    NaN                     \n",
       "2                                                    NaN                     \n",
       "3                                                    NaN                     \n",
       "4                                                    NaN                     \n",
       "...                                                  ...                     \n",
       "16099                                                NaN                     \n",
       "16100                                                NaN                     \n",
       "16101                                                NaN                     \n",
       "16102                                                NaN                     \n",
       "16103                                                NaN                     \n",
       "\n",
       "[16104 rows x 4 columns]"
      ],
      "text/html": "<div>\n<style scoped>\n    .dataframe tbody tr th:only-of-type {\n        vertical-align: middle;\n    }\n\n    .dataframe tbody tr th {\n        vertical-align: top;\n    }\n\n    .dataframe thead th {\n        text-align: right;\n    }\n</style>\n<table border=\"1\" class=\"dataframe\">\n  <thead>\n    <tr style=\"text-align: right;\">\n      <th></th>\n      <th>LOCATION</th>\n      <th>TIME</th>\n      <th>Population, total</th>\n      <th>Prevalence - Neoplasms - Sex: Both - Age: Age-standardized (Percent)</th>\n    </tr>\n  </thead>\n  <tbody>\n    <tr>\n      <th>0</th>\n      <td>AFG</td>\n      <td>1960</td>\n      <td>8.996973e+06</td>\n      <td>NaN</td>\n    </tr>\n    <tr>\n      <th>1</th>\n      <td>AFG</td>\n      <td>1961</td>\n      <td>9.169410e+06</td>\n      <td>NaN</td>\n    </tr>\n    <tr>\n      <th>2</th>\n      <td>AFG</td>\n      <td>1962</td>\n      <td>9.351441e+06</td>\n      <td>NaN</td>\n    </tr>\n    <tr>\n      <th>3</th>\n      <td>AFG</td>\n      <td>1963</td>\n      <td>9.543205e+06</td>\n      <td>NaN</td>\n    </tr>\n    <tr>\n      <th>4</th>\n      <td>AFG</td>\n      <td>1964</td>\n      <td>9.744781e+06</td>\n      <td>NaN</td>\n    </tr>\n    <tr>\n      <th>...</th>\n      <td>...</td>\n      <td>...</td>\n      <td>...</td>\n      <td>...</td>\n    </tr>\n    <tr>\n      <th>16099</th>\n      <td>WLD</td>\n      <td>2016</td>\n      <td>7.424286e+09</td>\n      <td>NaN</td>\n    </tr>\n    <tr>\n      <th>16100</th>\n      <td>WLD</td>\n      <td>2017</td>\n      <td>7.509074e+09</td>\n      <td>NaN</td>\n    </tr>\n    <tr>\n      <th>16101</th>\n      <td>WLD</td>\n      <td>2018</td>\n      <td>7.591945e+09</td>\n      <td>NaN</td>\n    </tr>\n    <tr>\n      <th>16102</th>\n      <td>WLD</td>\n      <td>2019</td>\n      <td>7.673534e+09</td>\n      <td>NaN</td>\n    </tr>\n    <tr>\n      <th>16103</th>\n      <td>WLD</td>\n      <td>2020</td>\n      <td>0.000000e+00</td>\n      <td>NaN</td>\n    </tr>\n  </tbody>\n</table>\n<p>16104 rows × 4 columns</p>\n</div>"
     },
     "metadata": {},
     "execution_count": 46
    }
   ],
   "source": [
    "health_merge = pd.merge(country_year, cancer_incidence1, on=['LOCATION','TIME'], how='left')\n",
    "health_merge"
   ]
  },
  {
   "cell_type": "code",
   "execution_count": 47,
   "metadata": {},
   "outputs": [
    {
     "output_type": "execute_result",
     "data": {
      "text/plain": [
       "      LOCATION  TIME  Population, total  \\\n",
       "0          AFG  1960       8.996973e+06   \n",
       "1          AFG  1961       9.169410e+06   \n",
       "2          AFG  1962       9.351441e+06   \n",
       "3          AFG  1963       9.543205e+06   \n",
       "4          AFG  1964       9.744781e+06   \n",
       "...        ...   ...                ...   \n",
       "16099      WLD  2016       7.424286e+09   \n",
       "16100      WLD  2017       7.509074e+09   \n",
       "16101      WLD  2018       7.591945e+09   \n",
       "16102      WLD  2019       7.673534e+09   \n",
       "16103      WLD  2020       0.000000e+00   \n",
       "\n",
       "       Prevalence - Neoplasms - Sex: Both - Age: Age-standardized (Percent)  \n",
       "0                                                    0.0                     \n",
       "1                                                    0.0                     \n",
       "2                                                    0.0                     \n",
       "3                                                    0.0                     \n",
       "4                                                    0.0                     \n",
       "...                                                  ...                     \n",
       "16099                                                0.0                     \n",
       "16100                                                0.0                     \n",
       "16101                                                0.0                     \n",
       "16102                                                0.0                     \n",
       "16103                                                0.0                     \n",
       "\n",
       "[16104 rows x 4 columns]"
      ],
      "text/html": "<div>\n<style scoped>\n    .dataframe tbody tr th:only-of-type {\n        vertical-align: middle;\n    }\n\n    .dataframe tbody tr th {\n        vertical-align: top;\n    }\n\n    .dataframe thead th {\n        text-align: right;\n    }\n</style>\n<table border=\"1\" class=\"dataframe\">\n  <thead>\n    <tr style=\"text-align: right;\">\n      <th></th>\n      <th>LOCATION</th>\n      <th>TIME</th>\n      <th>Population, total</th>\n      <th>Prevalence - Neoplasms - Sex: Both - Age: Age-standardized (Percent)</th>\n    </tr>\n  </thead>\n  <tbody>\n    <tr>\n      <th>0</th>\n      <td>AFG</td>\n      <td>1960</td>\n      <td>8.996973e+06</td>\n      <td>0.0</td>\n    </tr>\n    <tr>\n      <th>1</th>\n      <td>AFG</td>\n      <td>1961</td>\n      <td>9.169410e+06</td>\n      <td>0.0</td>\n    </tr>\n    <tr>\n      <th>2</th>\n      <td>AFG</td>\n      <td>1962</td>\n      <td>9.351441e+06</td>\n      <td>0.0</td>\n    </tr>\n    <tr>\n      <th>3</th>\n      <td>AFG</td>\n      <td>1963</td>\n      <td>9.543205e+06</td>\n      <td>0.0</td>\n    </tr>\n    <tr>\n      <th>4</th>\n      <td>AFG</td>\n      <td>1964</td>\n      <td>9.744781e+06</td>\n      <td>0.0</td>\n    </tr>\n    <tr>\n      <th>...</th>\n      <td>...</td>\n      <td>...</td>\n      <td>...</td>\n      <td>...</td>\n    </tr>\n    <tr>\n      <th>16099</th>\n      <td>WLD</td>\n      <td>2016</td>\n      <td>7.424286e+09</td>\n      <td>0.0</td>\n    </tr>\n    <tr>\n      <th>16100</th>\n      <td>WLD</td>\n      <td>2017</td>\n      <td>7.509074e+09</td>\n      <td>0.0</td>\n    </tr>\n    <tr>\n      <th>16101</th>\n      <td>WLD</td>\n      <td>2018</td>\n      <td>7.591945e+09</td>\n      <td>0.0</td>\n    </tr>\n    <tr>\n      <th>16102</th>\n      <td>WLD</td>\n      <td>2019</td>\n      <td>7.673534e+09</td>\n      <td>0.0</td>\n    </tr>\n    <tr>\n      <th>16103</th>\n      <td>WLD</td>\n      <td>2020</td>\n      <td>0.000000e+00</td>\n      <td>0.0</td>\n    </tr>\n  </tbody>\n</table>\n<p>16104 rows × 4 columns</p>\n</div>"
     },
     "metadata": {},
     "execution_count": 47
    }
   ],
   "source": [
    "health_merge1 = health_merge.fillna(0)\n",
    "health_merge1"
   ]
  },
  {
   "cell_type": "code",
   "execution_count": 48,
   "metadata": {},
   "outputs": [
    {
     "output_type": "execute_result",
     "data": {
      "text/plain": [
       "      LOCATION  TIME  Population, total  \\\n",
       "0          AFG  1960       8.996973e+06   \n",
       "1          AFG  1961       9.169410e+06   \n",
       "2          AFG  1962       9.351441e+06   \n",
       "3          AFG  1963       9.543205e+06   \n",
       "4          AFG  1964       9.744781e+06   \n",
       "...        ...   ...                ...   \n",
       "16099      WLD  2016       7.424286e+09   \n",
       "16100      WLD  2017       7.509074e+09   \n",
       "16101      WLD  2018       7.591945e+09   \n",
       "16102      WLD  2019       7.673534e+09   \n",
       "16103      WLD  2020       0.000000e+00   \n",
       "\n",
       "       Prevalence - Neoplasms - Sex: Both - Age: Age-standardized (Percent)  \\\n",
       "0                                                    0.0                      \n",
       "1                                                    0.0                      \n",
       "2                                                    0.0                      \n",
       "3                                                    0.0                      \n",
       "4                                                    0.0                      \n",
       "...                                                  ...                      \n",
       "16099                                                0.0                      \n",
       "16100                                                0.0                      \n",
       "16101                                                0.0                      \n",
       "16102                                                0.0                      \n",
       "16103                                                0.0                      \n",
       "\n",
       "       total_cancer_cases  \n",
       "0                     0.0  \n",
       "1                     0.0  \n",
       "2                     0.0  \n",
       "3                     0.0  \n",
       "4                     0.0  \n",
       "...                   ...  \n",
       "16099                 0.0  \n",
       "16100                 0.0  \n",
       "16101                 0.0  \n",
       "16102                 0.0  \n",
       "16103                 0.0  \n",
       "\n",
       "[16104 rows x 5 columns]"
      ],
      "text/html": "<div>\n<style scoped>\n    .dataframe tbody tr th:only-of-type {\n        vertical-align: middle;\n    }\n\n    .dataframe tbody tr th {\n        vertical-align: top;\n    }\n\n    .dataframe thead th {\n        text-align: right;\n    }\n</style>\n<table border=\"1\" class=\"dataframe\">\n  <thead>\n    <tr style=\"text-align: right;\">\n      <th></th>\n      <th>LOCATION</th>\n      <th>TIME</th>\n      <th>Population, total</th>\n      <th>Prevalence - Neoplasms - Sex: Both - Age: Age-standardized (Percent)</th>\n      <th>total_cancer_cases</th>\n    </tr>\n  </thead>\n  <tbody>\n    <tr>\n      <th>0</th>\n      <td>AFG</td>\n      <td>1960</td>\n      <td>8.996973e+06</td>\n      <td>0.0</td>\n      <td>0.0</td>\n    </tr>\n    <tr>\n      <th>1</th>\n      <td>AFG</td>\n      <td>1961</td>\n      <td>9.169410e+06</td>\n      <td>0.0</td>\n      <td>0.0</td>\n    </tr>\n    <tr>\n      <th>2</th>\n      <td>AFG</td>\n      <td>1962</td>\n      <td>9.351441e+06</td>\n      <td>0.0</td>\n      <td>0.0</td>\n    </tr>\n    <tr>\n      <th>3</th>\n      <td>AFG</td>\n      <td>1963</td>\n      <td>9.543205e+06</td>\n      <td>0.0</td>\n      <td>0.0</td>\n    </tr>\n    <tr>\n      <th>4</th>\n      <td>AFG</td>\n      <td>1964</td>\n      <td>9.744781e+06</td>\n      <td>0.0</td>\n      <td>0.0</td>\n    </tr>\n    <tr>\n      <th>...</th>\n      <td>...</td>\n      <td>...</td>\n      <td>...</td>\n      <td>...</td>\n      <td>...</td>\n    </tr>\n    <tr>\n      <th>16099</th>\n      <td>WLD</td>\n      <td>2016</td>\n      <td>7.424286e+09</td>\n      <td>0.0</td>\n      <td>0.0</td>\n    </tr>\n    <tr>\n      <th>16100</th>\n      <td>WLD</td>\n      <td>2017</td>\n      <td>7.509074e+09</td>\n      <td>0.0</td>\n      <td>0.0</td>\n    </tr>\n    <tr>\n      <th>16101</th>\n      <td>WLD</td>\n      <td>2018</td>\n      <td>7.591945e+09</td>\n      <td>0.0</td>\n      <td>0.0</td>\n    </tr>\n    <tr>\n      <th>16102</th>\n      <td>WLD</td>\n      <td>2019</td>\n      <td>7.673534e+09</td>\n      <td>0.0</td>\n      <td>0.0</td>\n    </tr>\n    <tr>\n      <th>16103</th>\n      <td>WLD</td>\n      <td>2020</td>\n      <td>0.000000e+00</td>\n      <td>0.0</td>\n      <td>0.0</td>\n    </tr>\n  </tbody>\n</table>\n<p>16104 rows × 5 columns</p>\n</div>"
     },
     "metadata": {},
     "execution_count": 48
    }
   ],
   "source": [
    "health_merge1['total_cancer_cases'] = (health_merge1['Prevalence - Neoplasms - Sex: Both - Age: Age-standardized (Percent)']/100)*(health_merge1['Population, total'])\n",
    "health_merge1"
   ]
  },
  {
   "cell_type": "code",
   "execution_count": 49,
   "metadata": {},
   "outputs": [],
   "source": [
    "health_merge2 = health_merge1.drop(columns=['Prevalence - Neoplasms - Sex: Both - Age: Age-standardized (Percent)']).copy()"
   ]
  },
  {
   "cell_type": "code",
   "execution_count": 50,
   "metadata": {},
   "outputs": [
    {
     "output_type": "execute_result",
     "data": {
      "text/plain": [
       "      LOCATION  TIME  Population, total  total_cancer_cases\n",
       "0          AFG  1960       8.996973e+06                 0.0\n",
       "1          AFG  1961       9.169410e+06                 0.0\n",
       "2          AFG  1962       9.351441e+06                 0.0\n",
       "3          AFG  1963       9.543205e+06                 0.0\n",
       "4          AFG  1964       9.744781e+06                 0.0\n",
       "...        ...   ...                ...                 ...\n",
       "16099      WLD  2016       7.424286e+09                 0.0\n",
       "16100      WLD  2017       7.509074e+09                 0.0\n",
       "16101      WLD  2018       7.591945e+09                 0.0\n",
       "16102      WLD  2019       7.673534e+09                 0.0\n",
       "16103      WLD  2020       0.000000e+00                 0.0\n",
       "\n",
       "[16104 rows x 4 columns]"
      ],
      "text/html": "<div>\n<style scoped>\n    .dataframe tbody tr th:only-of-type {\n        vertical-align: middle;\n    }\n\n    .dataframe tbody tr th {\n        vertical-align: top;\n    }\n\n    .dataframe thead th {\n        text-align: right;\n    }\n</style>\n<table border=\"1\" class=\"dataframe\">\n  <thead>\n    <tr style=\"text-align: right;\">\n      <th></th>\n      <th>LOCATION</th>\n      <th>TIME</th>\n      <th>Population, total</th>\n      <th>total_cancer_cases</th>\n    </tr>\n  </thead>\n  <tbody>\n    <tr>\n      <th>0</th>\n      <td>AFG</td>\n      <td>1960</td>\n      <td>8.996973e+06</td>\n      <td>0.0</td>\n    </tr>\n    <tr>\n      <th>1</th>\n      <td>AFG</td>\n      <td>1961</td>\n      <td>9.169410e+06</td>\n      <td>0.0</td>\n    </tr>\n    <tr>\n      <th>2</th>\n      <td>AFG</td>\n      <td>1962</td>\n      <td>9.351441e+06</td>\n      <td>0.0</td>\n    </tr>\n    <tr>\n      <th>3</th>\n      <td>AFG</td>\n      <td>1963</td>\n      <td>9.543205e+06</td>\n      <td>0.0</td>\n    </tr>\n    <tr>\n      <th>4</th>\n      <td>AFG</td>\n      <td>1964</td>\n      <td>9.744781e+06</td>\n      <td>0.0</td>\n    </tr>\n    <tr>\n      <th>...</th>\n      <td>...</td>\n      <td>...</td>\n      <td>...</td>\n      <td>...</td>\n    </tr>\n    <tr>\n      <th>16099</th>\n      <td>WLD</td>\n      <td>2016</td>\n      <td>7.424286e+09</td>\n      <td>0.0</td>\n    </tr>\n    <tr>\n      <th>16100</th>\n      <td>WLD</td>\n      <td>2017</td>\n      <td>7.509074e+09</td>\n      <td>0.0</td>\n    </tr>\n    <tr>\n      <th>16101</th>\n      <td>WLD</td>\n      <td>2018</td>\n      <td>7.591945e+09</td>\n      <td>0.0</td>\n    </tr>\n    <tr>\n      <th>16102</th>\n      <td>WLD</td>\n      <td>2019</td>\n      <td>7.673534e+09</td>\n      <td>0.0</td>\n    </tr>\n    <tr>\n      <th>16103</th>\n      <td>WLD</td>\n      <td>2020</td>\n      <td>0.000000e+00</td>\n      <td>0.0</td>\n    </tr>\n  </tbody>\n</table>\n<p>16104 rows × 4 columns</p>\n</div>"
     },
     "metadata": {},
     "execution_count": 50
    }
   ],
   "source": [
    "health_merge2"
   ]
  },
  {
   "cell_type": "code",
   "execution_count": 51,
   "metadata": {},
   "outputs": [
    {
     "output_type": "execute_result",
     "data": {
      "text/plain": [
       "     Code  Year  total_all_cancers\n",
       "0     AFG  1990        9361.156720\n",
       "1     AFG  1991        9462.417022\n",
       "2     AFG  1992        9843.319829\n",
       "3     AFG  1993       10321.108650\n",
       "4     AFG  1994       10639.991520\n",
       "...   ...   ...                ...\n",
       "6463  ZWE  2013        9304.297265\n",
       "6464  ZWE  2014        9371.946138\n",
       "6465  ZWE  2015        9499.036133\n",
       "6466  ZWE  2016        9698.880172\n",
       "6467  ZWE  2017        9871.972337\n",
       "\n",
       "[6468 rows x 3 columns]"
      ],
      "text/html": "<div>\n<style scoped>\n    .dataframe tbody tr th:only-of-type {\n        vertical-align: middle;\n    }\n\n    .dataframe tbody tr th {\n        vertical-align: top;\n    }\n\n    .dataframe thead th {\n        text-align: right;\n    }\n</style>\n<table border=\"1\" class=\"dataframe\">\n  <thead>\n    <tr style=\"text-align: right;\">\n      <th></th>\n      <th>Code</th>\n      <th>Year</th>\n      <th>total_all_cancers</th>\n    </tr>\n  </thead>\n  <tbody>\n    <tr>\n      <th>0</th>\n      <td>AFG</td>\n      <td>1990</td>\n      <td>9361.156720</td>\n    </tr>\n    <tr>\n      <th>1</th>\n      <td>AFG</td>\n      <td>1991</td>\n      <td>9462.417022</td>\n    </tr>\n    <tr>\n      <th>2</th>\n      <td>AFG</td>\n      <td>1992</td>\n      <td>9843.319829</td>\n    </tr>\n    <tr>\n      <th>3</th>\n      <td>AFG</td>\n      <td>1993</td>\n      <td>10321.108650</td>\n    </tr>\n    <tr>\n      <th>4</th>\n      <td>AFG</td>\n      <td>1994</td>\n      <td>10639.991520</td>\n    </tr>\n    <tr>\n      <th>...</th>\n      <td>...</td>\n      <td>...</td>\n      <td>...</td>\n    </tr>\n    <tr>\n      <th>6463</th>\n      <td>ZWE</td>\n      <td>2013</td>\n      <td>9304.297265</td>\n    </tr>\n    <tr>\n      <th>6464</th>\n      <td>ZWE</td>\n      <td>2014</td>\n      <td>9371.946138</td>\n    </tr>\n    <tr>\n      <th>6465</th>\n      <td>ZWE</td>\n      <td>2015</td>\n      <td>9499.036133</td>\n    </tr>\n    <tr>\n      <th>6466</th>\n      <td>ZWE</td>\n      <td>2016</td>\n      <td>9698.880172</td>\n    </tr>\n    <tr>\n      <th>6467</th>\n      <td>ZWE</td>\n      <td>2017</td>\n      <td>9871.972337</td>\n    </tr>\n  </tbody>\n</table>\n<p>6468 rows × 3 columns</p>\n</div>"
     },
     "metadata": {},
     "execution_count": 51
    }
   ],
   "source": [
    "# Reading death rates\n",
    "cancer_deaths = pd.read_csv('raw_data/health_data_raw/total-cancer-deaths-by-type.csv')\n",
    "cancer_deaths"
   ]
  },
  {
   "cell_type": "code",
   "execution_count": 52,
   "metadata": {},
   "outputs": [
    {
     "output_type": "execute_result",
     "data": {
      "text/plain": [
       "     LOCATION  TIME  total_all_cancers\n",
       "0         AFG  1990        9361.156720\n",
       "1         AFG  1991        9462.417022\n",
       "2         AFG  1992        9843.319829\n",
       "3         AFG  1993       10321.108650\n",
       "4         AFG  1994       10639.991520\n",
       "...       ...   ...                ...\n",
       "6463      ZWE  2013        9304.297265\n",
       "6464      ZWE  2014        9371.946138\n",
       "6465      ZWE  2015        9499.036133\n",
       "6466      ZWE  2016        9698.880172\n",
       "6467      ZWE  2017        9871.972337\n",
       "\n",
       "[6468 rows x 3 columns]"
      ],
      "text/html": "<div>\n<style scoped>\n    .dataframe tbody tr th:only-of-type {\n        vertical-align: middle;\n    }\n\n    .dataframe tbody tr th {\n        vertical-align: top;\n    }\n\n    .dataframe thead th {\n        text-align: right;\n    }\n</style>\n<table border=\"1\" class=\"dataframe\">\n  <thead>\n    <tr style=\"text-align: right;\">\n      <th></th>\n      <th>LOCATION</th>\n      <th>TIME</th>\n      <th>total_all_cancers</th>\n    </tr>\n  </thead>\n  <tbody>\n    <tr>\n      <th>0</th>\n      <td>AFG</td>\n      <td>1990</td>\n      <td>9361.156720</td>\n    </tr>\n    <tr>\n      <th>1</th>\n      <td>AFG</td>\n      <td>1991</td>\n      <td>9462.417022</td>\n    </tr>\n    <tr>\n      <th>2</th>\n      <td>AFG</td>\n      <td>1992</td>\n      <td>9843.319829</td>\n    </tr>\n    <tr>\n      <th>3</th>\n      <td>AFG</td>\n      <td>1993</td>\n      <td>10321.108650</td>\n    </tr>\n    <tr>\n      <th>4</th>\n      <td>AFG</td>\n      <td>1994</td>\n      <td>10639.991520</td>\n    </tr>\n    <tr>\n      <th>...</th>\n      <td>...</td>\n      <td>...</td>\n      <td>...</td>\n    </tr>\n    <tr>\n      <th>6463</th>\n      <td>ZWE</td>\n      <td>2013</td>\n      <td>9304.297265</td>\n    </tr>\n    <tr>\n      <th>6464</th>\n      <td>ZWE</td>\n      <td>2014</td>\n      <td>9371.946138</td>\n    </tr>\n    <tr>\n      <th>6465</th>\n      <td>ZWE</td>\n      <td>2015</td>\n      <td>9499.036133</td>\n    </tr>\n    <tr>\n      <th>6466</th>\n      <td>ZWE</td>\n      <td>2016</td>\n      <td>9698.880172</td>\n    </tr>\n    <tr>\n      <th>6467</th>\n      <td>ZWE</td>\n      <td>2017</td>\n      <td>9871.972337</td>\n    </tr>\n  </tbody>\n</table>\n<p>6468 rows × 3 columns</p>\n</div>"
     },
     "metadata": {},
     "execution_count": 52
    }
   ],
   "source": [
    "cancer_deaths1 = cancer_deaths.rename(columns={'Code':'LOCATION','Year':'TIME'})\n",
    "cancer_deaths1"
   ]
  },
  {
   "cell_type": "code",
   "execution_count": 53,
   "metadata": {},
   "outputs": [
    {
     "output_type": "execute_result",
     "data": {
      "text/plain": [
       "      LOCATION  TIME  Population, total  total_cancer_cases  total_all_cancers\n",
       "0          AFG  1960       8.996973e+06                 0.0                NaN\n",
       "1          AFG  1961       9.169410e+06                 0.0                NaN\n",
       "2          AFG  1962       9.351441e+06                 0.0                NaN\n",
       "3          AFG  1963       9.543205e+06                 0.0                NaN\n",
       "4          AFG  1964       9.744781e+06                 0.0                NaN\n",
       "...        ...   ...                ...                 ...                ...\n",
       "16099      WLD  2016       7.424286e+09                 0.0                NaN\n",
       "16100      WLD  2017       7.509074e+09                 0.0                NaN\n",
       "16101      WLD  2018       7.591945e+09                 0.0                NaN\n",
       "16102      WLD  2019       7.673534e+09                 0.0                NaN\n",
       "16103      WLD  2020       0.000000e+00                 0.0                NaN\n",
       "\n",
       "[16104 rows x 5 columns]"
      ],
      "text/html": "<div>\n<style scoped>\n    .dataframe tbody tr th:only-of-type {\n        vertical-align: middle;\n    }\n\n    .dataframe tbody tr th {\n        vertical-align: top;\n    }\n\n    .dataframe thead th {\n        text-align: right;\n    }\n</style>\n<table border=\"1\" class=\"dataframe\">\n  <thead>\n    <tr style=\"text-align: right;\">\n      <th></th>\n      <th>LOCATION</th>\n      <th>TIME</th>\n      <th>Population, total</th>\n      <th>total_cancer_cases</th>\n      <th>total_all_cancers</th>\n    </tr>\n  </thead>\n  <tbody>\n    <tr>\n      <th>0</th>\n      <td>AFG</td>\n      <td>1960</td>\n      <td>8.996973e+06</td>\n      <td>0.0</td>\n      <td>NaN</td>\n    </tr>\n    <tr>\n      <th>1</th>\n      <td>AFG</td>\n      <td>1961</td>\n      <td>9.169410e+06</td>\n      <td>0.0</td>\n      <td>NaN</td>\n    </tr>\n    <tr>\n      <th>2</th>\n      <td>AFG</td>\n      <td>1962</td>\n      <td>9.351441e+06</td>\n      <td>0.0</td>\n      <td>NaN</td>\n    </tr>\n    <tr>\n      <th>3</th>\n      <td>AFG</td>\n      <td>1963</td>\n      <td>9.543205e+06</td>\n      <td>0.0</td>\n      <td>NaN</td>\n    </tr>\n    <tr>\n      <th>4</th>\n      <td>AFG</td>\n      <td>1964</td>\n      <td>9.744781e+06</td>\n      <td>0.0</td>\n      <td>NaN</td>\n    </tr>\n    <tr>\n      <th>...</th>\n      <td>...</td>\n      <td>...</td>\n      <td>...</td>\n      <td>...</td>\n      <td>...</td>\n    </tr>\n    <tr>\n      <th>16099</th>\n      <td>WLD</td>\n      <td>2016</td>\n      <td>7.424286e+09</td>\n      <td>0.0</td>\n      <td>NaN</td>\n    </tr>\n    <tr>\n      <th>16100</th>\n      <td>WLD</td>\n      <td>2017</td>\n      <td>7.509074e+09</td>\n      <td>0.0</td>\n      <td>NaN</td>\n    </tr>\n    <tr>\n      <th>16101</th>\n      <td>WLD</td>\n      <td>2018</td>\n      <td>7.591945e+09</td>\n      <td>0.0</td>\n      <td>NaN</td>\n    </tr>\n    <tr>\n      <th>16102</th>\n      <td>WLD</td>\n      <td>2019</td>\n      <td>7.673534e+09</td>\n      <td>0.0</td>\n      <td>NaN</td>\n    </tr>\n    <tr>\n      <th>16103</th>\n      <td>WLD</td>\n      <td>2020</td>\n      <td>0.000000e+00</td>\n      <td>0.0</td>\n      <td>NaN</td>\n    </tr>\n  </tbody>\n</table>\n<p>16104 rows × 5 columns</p>\n</div>"
     },
     "metadata": {},
     "execution_count": 53
    }
   ],
   "source": [
    "health_merge3 = pd.merge(health_merge2, cancer_deaths1, on=['TIME','LOCATION'], how='left')\n",
    "health_merge3"
   ]
  },
  {
   "cell_type": "code",
   "execution_count": 54,
   "metadata": {},
   "outputs": [],
   "source": [
    "health_merge4 = health_merge3.fillna(0)"
   ]
  },
  {
   "cell_type": "code",
   "execution_count": 55,
   "metadata": {},
   "outputs": [
    {
     "output_type": "execute_result",
     "data": {
      "text/plain": [
       "      LOCATION  TIME  Population, total  total_cancer_cases  total_all_cancers\n",
       "0          AFG  1960       8.996973e+06                 0.0                0.0\n",
       "1          AFG  1961       9.169410e+06                 0.0                0.0\n",
       "2          AFG  1962       9.351441e+06                 0.0                0.0\n",
       "3          AFG  1963       9.543205e+06                 0.0                0.0\n",
       "4          AFG  1964       9.744781e+06                 0.0                0.0\n",
       "...        ...   ...                ...                 ...                ...\n",
       "16099      WLD  2016       7.424286e+09                 0.0                0.0\n",
       "16100      WLD  2017       7.509074e+09                 0.0                0.0\n",
       "16101      WLD  2018       7.591945e+09                 0.0                0.0\n",
       "16102      WLD  2019       7.673534e+09                 0.0                0.0\n",
       "16103      WLD  2020       0.000000e+00                 0.0                0.0\n",
       "\n",
       "[16104 rows x 5 columns]"
      ],
      "text/html": "<div>\n<style scoped>\n    .dataframe tbody tr th:only-of-type {\n        vertical-align: middle;\n    }\n\n    .dataframe tbody tr th {\n        vertical-align: top;\n    }\n\n    .dataframe thead th {\n        text-align: right;\n    }\n</style>\n<table border=\"1\" class=\"dataframe\">\n  <thead>\n    <tr style=\"text-align: right;\">\n      <th></th>\n      <th>LOCATION</th>\n      <th>TIME</th>\n      <th>Population, total</th>\n      <th>total_cancer_cases</th>\n      <th>total_all_cancers</th>\n    </tr>\n  </thead>\n  <tbody>\n    <tr>\n      <th>0</th>\n      <td>AFG</td>\n      <td>1960</td>\n      <td>8.996973e+06</td>\n      <td>0.0</td>\n      <td>0.0</td>\n    </tr>\n    <tr>\n      <th>1</th>\n      <td>AFG</td>\n      <td>1961</td>\n      <td>9.169410e+06</td>\n      <td>0.0</td>\n      <td>0.0</td>\n    </tr>\n    <tr>\n      <th>2</th>\n      <td>AFG</td>\n      <td>1962</td>\n      <td>9.351441e+06</td>\n      <td>0.0</td>\n      <td>0.0</td>\n    </tr>\n    <tr>\n      <th>3</th>\n      <td>AFG</td>\n      <td>1963</td>\n      <td>9.543205e+06</td>\n      <td>0.0</td>\n      <td>0.0</td>\n    </tr>\n    <tr>\n      <th>4</th>\n      <td>AFG</td>\n      <td>1964</td>\n      <td>9.744781e+06</td>\n      <td>0.0</td>\n      <td>0.0</td>\n    </tr>\n    <tr>\n      <th>...</th>\n      <td>...</td>\n      <td>...</td>\n      <td>...</td>\n      <td>...</td>\n      <td>...</td>\n    </tr>\n    <tr>\n      <th>16099</th>\n      <td>WLD</td>\n      <td>2016</td>\n      <td>7.424286e+09</td>\n      <td>0.0</td>\n      <td>0.0</td>\n    </tr>\n    <tr>\n      <th>16100</th>\n      <td>WLD</td>\n      <td>2017</td>\n      <td>7.509074e+09</td>\n      <td>0.0</td>\n      <td>0.0</td>\n    </tr>\n    <tr>\n      <th>16101</th>\n      <td>WLD</td>\n      <td>2018</td>\n      <td>7.591945e+09</td>\n      <td>0.0</td>\n      <td>0.0</td>\n    </tr>\n    <tr>\n      <th>16102</th>\n      <td>WLD</td>\n      <td>2019</td>\n      <td>7.673534e+09</td>\n      <td>0.0</td>\n      <td>0.0</td>\n    </tr>\n    <tr>\n      <th>16103</th>\n      <td>WLD</td>\n      <td>2020</td>\n      <td>0.000000e+00</td>\n      <td>0.0</td>\n      <td>0.0</td>\n    </tr>\n  </tbody>\n</table>\n<p>16104 rows × 5 columns</p>\n</div>"
     },
     "metadata": {},
     "execution_count": 55
    }
   ],
   "source": [
    "health_merge4"
   ]
  },
  {
   "cell_type": "code",
   "execution_count": 56,
   "metadata": {},
   "outputs": [
    {
     "output_type": "execute_result",
     "data": {
      "text/plain": [
       "     Code  Year  Prevalence of obesity (both sexes) - WHO (2019)\n",
       "0     AFG  1975                                              0.5\n",
       "1     AFG  1976                                              0.5\n",
       "2     AFG  1977                                              0.6\n",
       "3     AFG  1978                                              0.6\n",
       "4     AFG  1979                                              0.6\n",
       "...   ...   ...                                              ...\n",
       "8311  ZWE  2012                                             14.3\n",
       "8312  ZWE  2013                                             14.6\n",
       "8313  ZWE  2014                                             14.9\n",
       "8314  ZWE  2015                                             15.2\n",
       "8315  ZWE  2016                                             15.5\n",
       "\n",
       "[8316 rows x 3 columns]"
      ],
      "text/html": "<div>\n<style scoped>\n    .dataframe tbody tr th:only-of-type {\n        vertical-align: middle;\n    }\n\n    .dataframe tbody tr th {\n        vertical-align: top;\n    }\n\n    .dataframe thead th {\n        text-align: right;\n    }\n</style>\n<table border=\"1\" class=\"dataframe\">\n  <thead>\n    <tr style=\"text-align: right;\">\n      <th></th>\n      <th>Code</th>\n      <th>Year</th>\n      <th>Prevalence of obesity (both sexes) - WHO (2019)</th>\n    </tr>\n  </thead>\n  <tbody>\n    <tr>\n      <th>0</th>\n      <td>AFG</td>\n      <td>1975</td>\n      <td>0.5</td>\n    </tr>\n    <tr>\n      <th>1</th>\n      <td>AFG</td>\n      <td>1976</td>\n      <td>0.5</td>\n    </tr>\n    <tr>\n      <th>2</th>\n      <td>AFG</td>\n      <td>1977</td>\n      <td>0.6</td>\n    </tr>\n    <tr>\n      <th>3</th>\n      <td>AFG</td>\n      <td>1978</td>\n      <td>0.6</td>\n    </tr>\n    <tr>\n      <th>4</th>\n      <td>AFG</td>\n      <td>1979</td>\n      <td>0.6</td>\n    </tr>\n    <tr>\n      <th>...</th>\n      <td>...</td>\n      <td>...</td>\n      <td>...</td>\n    </tr>\n    <tr>\n      <th>8311</th>\n      <td>ZWE</td>\n      <td>2012</td>\n      <td>14.3</td>\n    </tr>\n    <tr>\n      <th>8312</th>\n      <td>ZWE</td>\n      <td>2013</td>\n      <td>14.6</td>\n    </tr>\n    <tr>\n      <th>8313</th>\n      <td>ZWE</td>\n      <td>2014</td>\n      <td>14.9</td>\n    </tr>\n    <tr>\n      <th>8314</th>\n      <td>ZWE</td>\n      <td>2015</td>\n      <td>15.2</td>\n    </tr>\n    <tr>\n      <th>8315</th>\n      <td>ZWE</td>\n      <td>2016</td>\n      <td>15.5</td>\n    </tr>\n  </tbody>\n</table>\n<p>8316 rows × 3 columns</p>\n</div>"
     },
     "metadata": {},
     "execution_count": 56
    }
   ],
   "source": [
    "# Obesity Rates\n",
    "obesity = pd.read_csv('raw_data/health_data_raw/share-of-adults-defined-as-obese.csv')\n",
    "obesity"
   ]
  },
  {
   "cell_type": "code",
   "execution_count": 57,
   "metadata": {},
   "outputs": [
    {
     "output_type": "execute_result",
     "data": {
      "text/plain": [
       "     LOCATION  TIME  Prevalence of obesity (both sexes) - WHO (2019)\n",
       "0         AFG  1975                                              0.5\n",
       "1         AFG  1976                                              0.5\n",
       "2         AFG  1977                                              0.6\n",
       "3         AFG  1978                                              0.6\n",
       "4         AFG  1979                                              0.6\n",
       "...       ...   ...                                              ...\n",
       "8311      ZWE  2012                                             14.3\n",
       "8312      ZWE  2013                                             14.6\n",
       "8313      ZWE  2014                                             14.9\n",
       "8314      ZWE  2015                                             15.2\n",
       "8315      ZWE  2016                                             15.5\n",
       "\n",
       "[8316 rows x 3 columns]"
      ],
      "text/html": "<div>\n<style scoped>\n    .dataframe tbody tr th:only-of-type {\n        vertical-align: middle;\n    }\n\n    .dataframe tbody tr th {\n        vertical-align: top;\n    }\n\n    .dataframe thead th {\n        text-align: right;\n    }\n</style>\n<table border=\"1\" class=\"dataframe\">\n  <thead>\n    <tr style=\"text-align: right;\">\n      <th></th>\n      <th>LOCATION</th>\n      <th>TIME</th>\n      <th>Prevalence of obesity (both sexes) - WHO (2019)</th>\n    </tr>\n  </thead>\n  <tbody>\n    <tr>\n      <th>0</th>\n      <td>AFG</td>\n      <td>1975</td>\n      <td>0.5</td>\n    </tr>\n    <tr>\n      <th>1</th>\n      <td>AFG</td>\n      <td>1976</td>\n      <td>0.5</td>\n    </tr>\n    <tr>\n      <th>2</th>\n      <td>AFG</td>\n      <td>1977</td>\n      <td>0.6</td>\n    </tr>\n    <tr>\n      <th>3</th>\n      <td>AFG</td>\n      <td>1978</td>\n      <td>0.6</td>\n    </tr>\n    <tr>\n      <th>4</th>\n      <td>AFG</td>\n      <td>1979</td>\n      <td>0.6</td>\n    </tr>\n    <tr>\n      <th>...</th>\n      <td>...</td>\n      <td>...</td>\n      <td>...</td>\n    </tr>\n    <tr>\n      <th>8311</th>\n      <td>ZWE</td>\n      <td>2012</td>\n      <td>14.3</td>\n    </tr>\n    <tr>\n      <th>8312</th>\n      <td>ZWE</td>\n      <td>2013</td>\n      <td>14.6</td>\n    </tr>\n    <tr>\n      <th>8313</th>\n      <td>ZWE</td>\n      <td>2014</td>\n      <td>14.9</td>\n    </tr>\n    <tr>\n      <th>8314</th>\n      <td>ZWE</td>\n      <td>2015</td>\n      <td>15.2</td>\n    </tr>\n    <tr>\n      <th>8315</th>\n      <td>ZWE</td>\n      <td>2016</td>\n      <td>15.5</td>\n    </tr>\n  </tbody>\n</table>\n<p>8316 rows × 3 columns</p>\n</div>"
     },
     "metadata": {},
     "execution_count": 57
    }
   ],
   "source": [
    "obesity1 = obesity.rename(columns={'Code':'LOCATION','Year':'TIME'})\n",
    "obesity1"
   ]
  },
  {
   "cell_type": "code",
   "execution_count": 58,
   "metadata": {},
   "outputs": [
    {
     "output_type": "execute_result",
     "data": {
      "text/plain": [
       "      LOCATION  TIME  Population, total  total_cancer_cases  \\\n",
       "0          AFG  1960       8.996973e+06                 0.0   \n",
       "1          AFG  1961       9.169410e+06                 0.0   \n",
       "2          AFG  1962       9.351441e+06                 0.0   \n",
       "3          AFG  1963       9.543205e+06                 0.0   \n",
       "4          AFG  1964       9.744781e+06                 0.0   \n",
       "...        ...   ...                ...                 ...   \n",
       "16099      WLD  2016       7.424286e+09                 0.0   \n",
       "16100      WLD  2017       7.509074e+09                 0.0   \n",
       "16101      WLD  2018       7.591945e+09                 0.0   \n",
       "16102      WLD  2019       7.673534e+09                 0.0   \n",
       "16103      WLD  2020       0.000000e+00                 0.0   \n",
       "\n",
       "       total_all_cancers  Prevalence of obesity (both sexes) - WHO (2019)  \n",
       "0                    0.0                                              NaN  \n",
       "1                    0.0                                              NaN  \n",
       "2                    0.0                                              NaN  \n",
       "3                    0.0                                              NaN  \n",
       "4                    0.0                                              NaN  \n",
       "...                  ...                                              ...  \n",
       "16099                0.0                                              NaN  \n",
       "16100                0.0                                              NaN  \n",
       "16101                0.0                                              NaN  \n",
       "16102                0.0                                              NaN  \n",
       "16103                0.0                                              NaN  \n",
       "\n",
       "[16104 rows x 6 columns]"
      ],
      "text/html": "<div>\n<style scoped>\n    .dataframe tbody tr th:only-of-type {\n        vertical-align: middle;\n    }\n\n    .dataframe tbody tr th {\n        vertical-align: top;\n    }\n\n    .dataframe thead th {\n        text-align: right;\n    }\n</style>\n<table border=\"1\" class=\"dataframe\">\n  <thead>\n    <tr style=\"text-align: right;\">\n      <th></th>\n      <th>LOCATION</th>\n      <th>TIME</th>\n      <th>Population, total</th>\n      <th>total_cancer_cases</th>\n      <th>total_all_cancers</th>\n      <th>Prevalence of obesity (both sexes) - WHO (2019)</th>\n    </tr>\n  </thead>\n  <tbody>\n    <tr>\n      <th>0</th>\n      <td>AFG</td>\n      <td>1960</td>\n      <td>8.996973e+06</td>\n      <td>0.0</td>\n      <td>0.0</td>\n      <td>NaN</td>\n    </tr>\n    <tr>\n      <th>1</th>\n      <td>AFG</td>\n      <td>1961</td>\n      <td>9.169410e+06</td>\n      <td>0.0</td>\n      <td>0.0</td>\n      <td>NaN</td>\n    </tr>\n    <tr>\n      <th>2</th>\n      <td>AFG</td>\n      <td>1962</td>\n      <td>9.351441e+06</td>\n      <td>0.0</td>\n      <td>0.0</td>\n      <td>NaN</td>\n    </tr>\n    <tr>\n      <th>3</th>\n      <td>AFG</td>\n      <td>1963</td>\n      <td>9.543205e+06</td>\n      <td>0.0</td>\n      <td>0.0</td>\n      <td>NaN</td>\n    </tr>\n    <tr>\n      <th>4</th>\n      <td>AFG</td>\n      <td>1964</td>\n      <td>9.744781e+06</td>\n      <td>0.0</td>\n      <td>0.0</td>\n      <td>NaN</td>\n    </tr>\n    <tr>\n      <th>...</th>\n      <td>...</td>\n      <td>...</td>\n      <td>...</td>\n      <td>...</td>\n      <td>...</td>\n      <td>...</td>\n    </tr>\n    <tr>\n      <th>16099</th>\n      <td>WLD</td>\n      <td>2016</td>\n      <td>7.424286e+09</td>\n      <td>0.0</td>\n      <td>0.0</td>\n      <td>NaN</td>\n    </tr>\n    <tr>\n      <th>16100</th>\n      <td>WLD</td>\n      <td>2017</td>\n      <td>7.509074e+09</td>\n      <td>0.0</td>\n      <td>0.0</td>\n      <td>NaN</td>\n    </tr>\n    <tr>\n      <th>16101</th>\n      <td>WLD</td>\n      <td>2018</td>\n      <td>7.591945e+09</td>\n      <td>0.0</td>\n      <td>0.0</td>\n      <td>NaN</td>\n    </tr>\n    <tr>\n      <th>16102</th>\n      <td>WLD</td>\n      <td>2019</td>\n      <td>7.673534e+09</td>\n      <td>0.0</td>\n      <td>0.0</td>\n      <td>NaN</td>\n    </tr>\n    <tr>\n      <th>16103</th>\n      <td>WLD</td>\n      <td>2020</td>\n      <td>0.000000e+00</td>\n      <td>0.0</td>\n      <td>0.0</td>\n      <td>NaN</td>\n    </tr>\n  </tbody>\n</table>\n<p>16104 rows × 6 columns</p>\n</div>"
     },
     "metadata": {},
     "execution_count": 58
    }
   ],
   "source": [
    "health_merge5 = pd.merge(health_merge4, obesity1, on=['TIME','LOCATION'], how='left')\n",
    "health_merge5"
   ]
  },
  {
   "cell_type": "code",
   "execution_count": 59,
   "metadata": {},
   "outputs": [],
   "source": [
    "health_merge6 = health_merge5.fillna(0)"
   ]
  },
  {
   "cell_type": "code",
   "execution_count": 60,
   "metadata": {},
   "outputs": [
    {
     "output_type": "execute_result",
     "data": {
      "text/plain": [
       "      LOCATION  TIME  Population, total  total_cancer_cases  \\\n",
       "0          AFG  1960       8.996973e+06                 0.0   \n",
       "1          AFG  1961       9.169410e+06                 0.0   \n",
       "2          AFG  1962       9.351441e+06                 0.0   \n",
       "3          AFG  1963       9.543205e+06                 0.0   \n",
       "4          AFG  1964       9.744781e+06                 0.0   \n",
       "...        ...   ...                ...                 ...   \n",
       "16099      WLD  2016       7.424286e+09                 0.0   \n",
       "16100      WLD  2017       7.509074e+09                 0.0   \n",
       "16101      WLD  2018       7.591945e+09                 0.0   \n",
       "16102      WLD  2019       7.673534e+09                 0.0   \n",
       "16103      WLD  2020       0.000000e+00                 0.0   \n",
       "\n",
       "       total_all_cancers  Prevalence of obesity (both sexes) - WHO (2019)  \\\n",
       "0                    0.0                                              0.0   \n",
       "1                    0.0                                              0.0   \n",
       "2                    0.0                                              0.0   \n",
       "3                    0.0                                              0.0   \n",
       "4                    0.0                                              0.0   \n",
       "...                  ...                                              ...   \n",
       "16099                0.0                                              0.0   \n",
       "16100                0.0                                              0.0   \n",
       "16101                0.0                                              0.0   \n",
       "16102                0.0                                              0.0   \n",
       "16103                0.0                                              0.0   \n",
       "\n",
       "       total_obesity_numbers  \n",
       "0                        0.0  \n",
       "1                        0.0  \n",
       "2                        0.0  \n",
       "3                        0.0  \n",
       "4                        0.0  \n",
       "...                      ...  \n",
       "16099                    0.0  \n",
       "16100                    0.0  \n",
       "16101                    0.0  \n",
       "16102                    0.0  \n",
       "16103                    0.0  \n",
       "\n",
       "[16104 rows x 7 columns]"
      ],
      "text/html": "<div>\n<style scoped>\n    .dataframe tbody tr th:only-of-type {\n        vertical-align: middle;\n    }\n\n    .dataframe tbody tr th {\n        vertical-align: top;\n    }\n\n    .dataframe thead th {\n        text-align: right;\n    }\n</style>\n<table border=\"1\" class=\"dataframe\">\n  <thead>\n    <tr style=\"text-align: right;\">\n      <th></th>\n      <th>LOCATION</th>\n      <th>TIME</th>\n      <th>Population, total</th>\n      <th>total_cancer_cases</th>\n      <th>total_all_cancers</th>\n      <th>Prevalence of obesity (both sexes) - WHO (2019)</th>\n      <th>total_obesity_numbers</th>\n    </tr>\n  </thead>\n  <tbody>\n    <tr>\n      <th>0</th>\n      <td>AFG</td>\n      <td>1960</td>\n      <td>8.996973e+06</td>\n      <td>0.0</td>\n      <td>0.0</td>\n      <td>0.0</td>\n      <td>0.0</td>\n    </tr>\n    <tr>\n      <th>1</th>\n      <td>AFG</td>\n      <td>1961</td>\n      <td>9.169410e+06</td>\n      <td>0.0</td>\n      <td>0.0</td>\n      <td>0.0</td>\n      <td>0.0</td>\n    </tr>\n    <tr>\n      <th>2</th>\n      <td>AFG</td>\n      <td>1962</td>\n      <td>9.351441e+06</td>\n      <td>0.0</td>\n      <td>0.0</td>\n      <td>0.0</td>\n      <td>0.0</td>\n    </tr>\n    <tr>\n      <th>3</th>\n      <td>AFG</td>\n      <td>1963</td>\n      <td>9.543205e+06</td>\n      <td>0.0</td>\n      <td>0.0</td>\n      <td>0.0</td>\n      <td>0.0</td>\n    </tr>\n    <tr>\n      <th>4</th>\n      <td>AFG</td>\n      <td>1964</td>\n      <td>9.744781e+06</td>\n      <td>0.0</td>\n      <td>0.0</td>\n      <td>0.0</td>\n      <td>0.0</td>\n    </tr>\n    <tr>\n      <th>...</th>\n      <td>...</td>\n      <td>...</td>\n      <td>...</td>\n      <td>...</td>\n      <td>...</td>\n      <td>...</td>\n      <td>...</td>\n    </tr>\n    <tr>\n      <th>16099</th>\n      <td>WLD</td>\n      <td>2016</td>\n      <td>7.424286e+09</td>\n      <td>0.0</td>\n      <td>0.0</td>\n      <td>0.0</td>\n      <td>0.0</td>\n    </tr>\n    <tr>\n      <th>16100</th>\n      <td>WLD</td>\n      <td>2017</td>\n      <td>7.509074e+09</td>\n      <td>0.0</td>\n      <td>0.0</td>\n      <td>0.0</td>\n      <td>0.0</td>\n    </tr>\n    <tr>\n      <th>16101</th>\n      <td>WLD</td>\n      <td>2018</td>\n      <td>7.591945e+09</td>\n      <td>0.0</td>\n      <td>0.0</td>\n      <td>0.0</td>\n      <td>0.0</td>\n    </tr>\n    <tr>\n      <th>16102</th>\n      <td>WLD</td>\n      <td>2019</td>\n      <td>7.673534e+09</td>\n      <td>0.0</td>\n      <td>0.0</td>\n      <td>0.0</td>\n      <td>0.0</td>\n    </tr>\n    <tr>\n      <th>16103</th>\n      <td>WLD</td>\n      <td>2020</td>\n      <td>0.000000e+00</td>\n      <td>0.0</td>\n      <td>0.0</td>\n      <td>0.0</td>\n      <td>0.0</td>\n    </tr>\n  </tbody>\n</table>\n<p>16104 rows × 7 columns</p>\n</div>"
     },
     "metadata": {},
     "execution_count": 60
    }
   ],
   "source": [
    "health_merge6['total_obesity_numbers'] = (health_merge6['Prevalence of obesity (both sexes) - WHO (2019)']/100)*(health_merge6['Population, total'])\n",
    "health_merge6"
   ]
  },
  {
   "cell_type": "code",
   "execution_count": 61,
   "metadata": {},
   "outputs": [
    {
     "output_type": "execute_result",
     "data": {
      "text/plain": [
       "      LOCATION  TIME  Population, total  total_cancer_cases  \\\n",
       "0          AFG  1960       8.996973e+06                 0.0   \n",
       "1          AFG  1961       9.169410e+06                 0.0   \n",
       "2          AFG  1962       9.351441e+06                 0.0   \n",
       "3          AFG  1963       9.543205e+06                 0.0   \n",
       "4          AFG  1964       9.744781e+06                 0.0   \n",
       "...        ...   ...                ...                 ...   \n",
       "16099      WLD  2016       7.424286e+09                 0.0   \n",
       "16100      WLD  2017       7.509074e+09                 0.0   \n",
       "16101      WLD  2018       7.591945e+09                 0.0   \n",
       "16102      WLD  2019       7.673534e+09                 0.0   \n",
       "16103      WLD  2020       0.000000e+00                 0.0   \n",
       "\n",
       "       total_all_cancers  total_obesity_numbers  \n",
       "0                    0.0                    0.0  \n",
       "1                    0.0                    0.0  \n",
       "2                    0.0                    0.0  \n",
       "3                    0.0                    0.0  \n",
       "4                    0.0                    0.0  \n",
       "...                  ...                    ...  \n",
       "16099                0.0                    0.0  \n",
       "16100                0.0                    0.0  \n",
       "16101                0.0                    0.0  \n",
       "16102                0.0                    0.0  \n",
       "16103                0.0                    0.0  \n",
       "\n",
       "[16104 rows x 6 columns]"
      ],
      "text/html": "<div>\n<style scoped>\n    .dataframe tbody tr th:only-of-type {\n        vertical-align: middle;\n    }\n\n    .dataframe tbody tr th {\n        vertical-align: top;\n    }\n\n    .dataframe thead th {\n        text-align: right;\n    }\n</style>\n<table border=\"1\" class=\"dataframe\">\n  <thead>\n    <tr style=\"text-align: right;\">\n      <th></th>\n      <th>LOCATION</th>\n      <th>TIME</th>\n      <th>Population, total</th>\n      <th>total_cancer_cases</th>\n      <th>total_all_cancers</th>\n      <th>total_obesity_numbers</th>\n    </tr>\n  </thead>\n  <tbody>\n    <tr>\n      <th>0</th>\n      <td>AFG</td>\n      <td>1960</td>\n      <td>8.996973e+06</td>\n      <td>0.0</td>\n      <td>0.0</td>\n      <td>0.0</td>\n    </tr>\n    <tr>\n      <th>1</th>\n      <td>AFG</td>\n      <td>1961</td>\n      <td>9.169410e+06</td>\n      <td>0.0</td>\n      <td>0.0</td>\n      <td>0.0</td>\n    </tr>\n    <tr>\n      <th>2</th>\n      <td>AFG</td>\n      <td>1962</td>\n      <td>9.351441e+06</td>\n      <td>0.0</td>\n      <td>0.0</td>\n      <td>0.0</td>\n    </tr>\n    <tr>\n      <th>3</th>\n      <td>AFG</td>\n      <td>1963</td>\n      <td>9.543205e+06</td>\n      <td>0.0</td>\n      <td>0.0</td>\n      <td>0.0</td>\n    </tr>\n    <tr>\n      <th>4</th>\n      <td>AFG</td>\n      <td>1964</td>\n      <td>9.744781e+06</td>\n      <td>0.0</td>\n      <td>0.0</td>\n      <td>0.0</td>\n    </tr>\n    <tr>\n      <th>...</th>\n      <td>...</td>\n      <td>...</td>\n      <td>...</td>\n      <td>...</td>\n      <td>...</td>\n      <td>...</td>\n    </tr>\n    <tr>\n      <th>16099</th>\n      <td>WLD</td>\n      <td>2016</td>\n      <td>7.424286e+09</td>\n      <td>0.0</td>\n      <td>0.0</td>\n      <td>0.0</td>\n    </tr>\n    <tr>\n      <th>16100</th>\n      <td>WLD</td>\n      <td>2017</td>\n      <td>7.509074e+09</td>\n      <td>0.0</td>\n      <td>0.0</td>\n      <td>0.0</td>\n    </tr>\n    <tr>\n      <th>16101</th>\n      <td>WLD</td>\n      <td>2018</td>\n      <td>7.591945e+09</td>\n      <td>0.0</td>\n      <td>0.0</td>\n      <td>0.0</td>\n    </tr>\n    <tr>\n      <th>16102</th>\n      <td>WLD</td>\n      <td>2019</td>\n      <td>7.673534e+09</td>\n      <td>0.0</td>\n      <td>0.0</td>\n      <td>0.0</td>\n    </tr>\n    <tr>\n      <th>16103</th>\n      <td>WLD</td>\n      <td>2020</td>\n      <td>0.000000e+00</td>\n      <td>0.0</td>\n      <td>0.0</td>\n      <td>0.0</td>\n    </tr>\n  </tbody>\n</table>\n<p>16104 rows × 6 columns</p>\n</div>"
     },
     "metadata": {},
     "execution_count": 61
    }
   ],
   "source": [
    "health_merge7 = health_merge6.drop(columns=['Prevalence of obesity (both sexes) - WHO (2019)'])\n",
    "health_merge7"
   ]
  },
  {
   "cell_type": "code",
   "execution_count": 62,
   "metadata": {},
   "outputs": [
    {
     "output_type": "execute_result",
     "data": {
      "text/plain": [
       "      LOCATION  TIME  Population, total  total_cancer_cases  \\\n",
       "0          AFG  1960       8.996973e+06                 0.0   \n",
       "1          AFG  1961       9.169410e+06                 0.0   \n",
       "2          AFG  1962       9.351441e+06                 0.0   \n",
       "3          AFG  1963       9.543205e+06                 0.0   \n",
       "4          AFG  1964       9.744781e+06                 0.0   \n",
       "...        ...   ...                ...                 ...   \n",
       "16099      WLD  2016       7.424286e+09                 0.0   \n",
       "16100      WLD  2017       7.509074e+09                 0.0   \n",
       "16101      WLD  2018       7.591945e+09                 0.0   \n",
       "16102      WLD  2019       7.673534e+09                 0.0   \n",
       "16103      WLD  2020       0.000000e+00                 0.0   \n",
       "\n",
       "       total_cancer_deaths  total_obesity_numbers  \n",
       "0                      0.0                    0.0  \n",
       "1                      0.0                    0.0  \n",
       "2                      0.0                    0.0  \n",
       "3                      0.0                    0.0  \n",
       "4                      0.0                    0.0  \n",
       "...                    ...                    ...  \n",
       "16099                  0.0                    0.0  \n",
       "16100                  0.0                    0.0  \n",
       "16101                  0.0                    0.0  \n",
       "16102                  0.0                    0.0  \n",
       "16103                  0.0                    0.0  \n",
       "\n",
       "[16104 rows x 6 columns]"
      ],
      "text/html": "<div>\n<style scoped>\n    .dataframe tbody tr th:only-of-type {\n        vertical-align: middle;\n    }\n\n    .dataframe tbody tr th {\n        vertical-align: top;\n    }\n\n    .dataframe thead th {\n        text-align: right;\n    }\n</style>\n<table border=\"1\" class=\"dataframe\">\n  <thead>\n    <tr style=\"text-align: right;\">\n      <th></th>\n      <th>LOCATION</th>\n      <th>TIME</th>\n      <th>Population, total</th>\n      <th>total_cancer_cases</th>\n      <th>total_cancer_deaths</th>\n      <th>total_obesity_numbers</th>\n    </tr>\n  </thead>\n  <tbody>\n    <tr>\n      <th>0</th>\n      <td>AFG</td>\n      <td>1960</td>\n      <td>8.996973e+06</td>\n      <td>0.0</td>\n      <td>0.0</td>\n      <td>0.0</td>\n    </tr>\n    <tr>\n      <th>1</th>\n      <td>AFG</td>\n      <td>1961</td>\n      <td>9.169410e+06</td>\n      <td>0.0</td>\n      <td>0.0</td>\n      <td>0.0</td>\n    </tr>\n    <tr>\n      <th>2</th>\n      <td>AFG</td>\n      <td>1962</td>\n      <td>9.351441e+06</td>\n      <td>0.0</td>\n      <td>0.0</td>\n      <td>0.0</td>\n    </tr>\n    <tr>\n      <th>3</th>\n      <td>AFG</td>\n      <td>1963</td>\n      <td>9.543205e+06</td>\n      <td>0.0</td>\n      <td>0.0</td>\n      <td>0.0</td>\n    </tr>\n    <tr>\n      <th>4</th>\n      <td>AFG</td>\n      <td>1964</td>\n      <td>9.744781e+06</td>\n      <td>0.0</td>\n      <td>0.0</td>\n      <td>0.0</td>\n    </tr>\n    <tr>\n      <th>...</th>\n      <td>...</td>\n      <td>...</td>\n      <td>...</td>\n      <td>...</td>\n      <td>...</td>\n      <td>...</td>\n    </tr>\n    <tr>\n      <th>16099</th>\n      <td>WLD</td>\n      <td>2016</td>\n      <td>7.424286e+09</td>\n      <td>0.0</td>\n      <td>0.0</td>\n      <td>0.0</td>\n    </tr>\n    <tr>\n      <th>16100</th>\n      <td>WLD</td>\n      <td>2017</td>\n      <td>7.509074e+09</td>\n      <td>0.0</td>\n      <td>0.0</td>\n      <td>0.0</td>\n    </tr>\n    <tr>\n      <th>16101</th>\n      <td>WLD</td>\n      <td>2018</td>\n      <td>7.591945e+09</td>\n      <td>0.0</td>\n      <td>0.0</td>\n      <td>0.0</td>\n    </tr>\n    <tr>\n      <th>16102</th>\n      <td>WLD</td>\n      <td>2019</td>\n      <td>7.673534e+09</td>\n      <td>0.0</td>\n      <td>0.0</td>\n      <td>0.0</td>\n    </tr>\n    <tr>\n      <th>16103</th>\n      <td>WLD</td>\n      <td>2020</td>\n      <td>0.000000e+00</td>\n      <td>0.0</td>\n      <td>0.0</td>\n      <td>0.0</td>\n    </tr>\n  </tbody>\n</table>\n<p>16104 rows × 6 columns</p>\n</div>"
     },
     "metadata": {},
     "execution_count": 62
    }
   ],
   "source": [
    "health_merge8 = health_merge7.rename(columns={'total_all_cancers':'total_cancer_deaths'})\n",
    "health_merge8"
   ]
  },
  {
   "cell_type": "code",
   "execution_count": 63,
   "metadata": {},
   "outputs": [
    {
     "output_type": "execute_result",
     "data": {
      "text/plain": [
       "      LOCATION  TIME  Birth rate, crude (per 1,000 people)\n",
       "0          AFG  1960                             51.279000\n",
       "1          AFG  1961                             51.373000\n",
       "2          AFG  1962                             51.457000\n",
       "3          AFG  1963                             51.530000\n",
       "4          AFG  1964                             51.589000\n",
       "...        ...   ...                                   ...\n",
       "16099      WLD  2016                             18.962718\n",
       "16100      WLD  2017                             18.633493\n",
       "16101      WLD  2018                             18.174850\n",
       "16102      WLD  2019                              0.000000\n",
       "16103      WLD  2020                              0.000000\n",
       "\n",
       "[16104 rows x 3 columns]"
      ],
      "text/html": "<div>\n<style scoped>\n    .dataframe tbody tr th:only-of-type {\n        vertical-align: middle;\n    }\n\n    .dataframe tbody tr th {\n        vertical-align: top;\n    }\n\n    .dataframe thead th {\n        text-align: right;\n    }\n</style>\n<table border=\"1\" class=\"dataframe\">\n  <thead>\n    <tr style=\"text-align: right;\">\n      <th></th>\n      <th>LOCATION</th>\n      <th>TIME</th>\n      <th>Birth rate, crude (per 1,000 people)</th>\n    </tr>\n  </thead>\n  <tbody>\n    <tr>\n      <th>0</th>\n      <td>AFG</td>\n      <td>1960</td>\n      <td>51.279000</td>\n    </tr>\n    <tr>\n      <th>1</th>\n      <td>AFG</td>\n      <td>1961</td>\n      <td>51.373000</td>\n    </tr>\n    <tr>\n      <th>2</th>\n      <td>AFG</td>\n      <td>1962</td>\n      <td>51.457000</td>\n    </tr>\n    <tr>\n      <th>3</th>\n      <td>AFG</td>\n      <td>1963</td>\n      <td>51.530000</td>\n    </tr>\n    <tr>\n      <th>4</th>\n      <td>AFG</td>\n      <td>1964</td>\n      <td>51.589000</td>\n    </tr>\n    <tr>\n      <th>...</th>\n      <td>...</td>\n      <td>...</td>\n      <td>...</td>\n    </tr>\n    <tr>\n      <th>16099</th>\n      <td>WLD</td>\n      <td>2016</td>\n      <td>18.962718</td>\n    </tr>\n    <tr>\n      <th>16100</th>\n      <td>WLD</td>\n      <td>2017</td>\n      <td>18.633493</td>\n    </tr>\n    <tr>\n      <th>16101</th>\n      <td>WLD</td>\n      <td>2018</td>\n      <td>18.174850</td>\n    </tr>\n    <tr>\n      <th>16102</th>\n      <td>WLD</td>\n      <td>2019</td>\n      <td>0.000000</td>\n    </tr>\n    <tr>\n      <th>16103</th>\n      <td>WLD</td>\n      <td>2020</td>\n      <td>0.000000</td>\n    </tr>\n  </tbody>\n</table>\n<p>16104 rows × 3 columns</p>\n</div>"
     },
     "metadata": {},
     "execution_count": 63
    }
   ],
   "source": [
    "# Birthrate\n",
    "birthrate = pd.read_csv('raw_data/health_data_raw/birthrate.csv')\n",
    "birthrate"
   ]
  },
  {
   "cell_type": "code",
   "execution_count": 64,
   "metadata": {},
   "outputs": [
    {
     "output_type": "execute_result",
     "data": {
      "text/plain": [
       "      LOCATION  TIME  Population, total  total_cancer_cases  \\\n",
       "0          AFG  1960       8.996973e+06                 0.0   \n",
       "1          AFG  1961       9.169410e+06                 0.0   \n",
       "2          AFG  1962       9.351441e+06                 0.0   \n",
       "3          AFG  1963       9.543205e+06                 0.0   \n",
       "4          AFG  1964       9.744781e+06                 0.0   \n",
       "...        ...   ...                ...                 ...   \n",
       "16099      WLD  2016       7.424286e+09                 0.0   \n",
       "16100      WLD  2017       7.509074e+09                 0.0   \n",
       "16101      WLD  2018       7.591945e+09                 0.0   \n",
       "16102      WLD  2019       7.673534e+09                 0.0   \n",
       "16103      WLD  2020       0.000000e+00                 0.0   \n",
       "\n",
       "       total_cancer_deaths  total_obesity_numbers  \\\n",
       "0                      0.0                    0.0   \n",
       "1                      0.0                    0.0   \n",
       "2                      0.0                    0.0   \n",
       "3                      0.0                    0.0   \n",
       "4                      0.0                    0.0   \n",
       "...                    ...                    ...   \n",
       "16099                  0.0                    0.0   \n",
       "16100                  0.0                    0.0   \n",
       "16101                  0.0                    0.0   \n",
       "16102                  0.0                    0.0   \n",
       "16103                  0.0                    0.0   \n",
       "\n",
       "       Birth rate, crude (per 1,000 people)  \n",
       "0                                 51.279000  \n",
       "1                                 51.373000  \n",
       "2                                 51.457000  \n",
       "3                                 51.530000  \n",
       "4                                 51.589000  \n",
       "...                                     ...  \n",
       "16099                             18.962718  \n",
       "16100                             18.633493  \n",
       "16101                             18.174850  \n",
       "16102                              0.000000  \n",
       "16103                              0.000000  \n",
       "\n",
       "[16104 rows x 7 columns]"
      ],
      "text/html": "<div>\n<style scoped>\n    .dataframe tbody tr th:only-of-type {\n        vertical-align: middle;\n    }\n\n    .dataframe tbody tr th {\n        vertical-align: top;\n    }\n\n    .dataframe thead th {\n        text-align: right;\n    }\n</style>\n<table border=\"1\" class=\"dataframe\">\n  <thead>\n    <tr style=\"text-align: right;\">\n      <th></th>\n      <th>LOCATION</th>\n      <th>TIME</th>\n      <th>Population, total</th>\n      <th>total_cancer_cases</th>\n      <th>total_cancer_deaths</th>\n      <th>total_obesity_numbers</th>\n      <th>Birth rate, crude (per 1,000 people)</th>\n    </tr>\n  </thead>\n  <tbody>\n    <tr>\n      <th>0</th>\n      <td>AFG</td>\n      <td>1960</td>\n      <td>8.996973e+06</td>\n      <td>0.0</td>\n      <td>0.0</td>\n      <td>0.0</td>\n      <td>51.279000</td>\n    </tr>\n    <tr>\n      <th>1</th>\n      <td>AFG</td>\n      <td>1961</td>\n      <td>9.169410e+06</td>\n      <td>0.0</td>\n      <td>0.0</td>\n      <td>0.0</td>\n      <td>51.373000</td>\n    </tr>\n    <tr>\n      <th>2</th>\n      <td>AFG</td>\n      <td>1962</td>\n      <td>9.351441e+06</td>\n      <td>0.0</td>\n      <td>0.0</td>\n      <td>0.0</td>\n      <td>51.457000</td>\n    </tr>\n    <tr>\n      <th>3</th>\n      <td>AFG</td>\n      <td>1963</td>\n      <td>9.543205e+06</td>\n      <td>0.0</td>\n      <td>0.0</td>\n      <td>0.0</td>\n      <td>51.530000</td>\n    </tr>\n    <tr>\n      <th>4</th>\n      <td>AFG</td>\n      <td>1964</td>\n      <td>9.744781e+06</td>\n      <td>0.0</td>\n      <td>0.0</td>\n      <td>0.0</td>\n      <td>51.589000</td>\n    </tr>\n    <tr>\n      <th>...</th>\n      <td>...</td>\n      <td>...</td>\n      <td>...</td>\n      <td>...</td>\n      <td>...</td>\n      <td>...</td>\n      <td>...</td>\n    </tr>\n    <tr>\n      <th>16099</th>\n      <td>WLD</td>\n      <td>2016</td>\n      <td>7.424286e+09</td>\n      <td>0.0</td>\n      <td>0.0</td>\n      <td>0.0</td>\n      <td>18.962718</td>\n    </tr>\n    <tr>\n      <th>16100</th>\n      <td>WLD</td>\n      <td>2017</td>\n      <td>7.509074e+09</td>\n      <td>0.0</td>\n      <td>0.0</td>\n      <td>0.0</td>\n      <td>18.633493</td>\n    </tr>\n    <tr>\n      <th>16101</th>\n      <td>WLD</td>\n      <td>2018</td>\n      <td>7.591945e+09</td>\n      <td>0.0</td>\n      <td>0.0</td>\n      <td>0.0</td>\n      <td>18.174850</td>\n    </tr>\n    <tr>\n      <th>16102</th>\n      <td>WLD</td>\n      <td>2019</td>\n      <td>7.673534e+09</td>\n      <td>0.0</td>\n      <td>0.0</td>\n      <td>0.0</td>\n      <td>0.000000</td>\n    </tr>\n    <tr>\n      <th>16103</th>\n      <td>WLD</td>\n      <td>2020</td>\n      <td>0.000000e+00</td>\n      <td>0.0</td>\n      <td>0.0</td>\n      <td>0.0</td>\n      <td>0.000000</td>\n    </tr>\n  </tbody>\n</table>\n<p>16104 rows × 7 columns</p>\n</div>"
     },
     "metadata": {},
     "execution_count": 64
    }
   ],
   "source": [
    "health_merge9 = pd.merge(health_merge8, birthrate, on=['LOCATION','TIME'], how='left')\n",
    "health_merge9"
   ]
  },
  {
   "cell_type": "code",
   "execution_count": 65,
   "metadata": {},
   "outputs": [
    {
     "output_type": "execute_result",
     "data": {
      "text/plain": [
       "      LOCATION  TIME  Population, total  total_cancer_cases  \\\n",
       "0          AFG  1960       8.996973e+06                 0.0   \n",
       "1          AFG  1961       9.169410e+06                 0.0   \n",
       "2          AFG  1962       9.351441e+06                 0.0   \n",
       "3          AFG  1963       9.543205e+06                 0.0   \n",
       "4          AFG  1964       9.744781e+06                 0.0   \n",
       "...        ...   ...                ...                 ...   \n",
       "16099      WLD  2016       7.424286e+09                 0.0   \n",
       "16100      WLD  2017       7.509074e+09                 0.0   \n",
       "16101      WLD  2018       7.591945e+09                 0.0   \n",
       "16102      WLD  2019       7.673534e+09                 0.0   \n",
       "16103      WLD  2020       0.000000e+00                 0.0   \n",
       "\n",
       "       total_cancer_deaths  total_obesity_numbers  \\\n",
       "0                      0.0                    0.0   \n",
       "1                      0.0                    0.0   \n",
       "2                      0.0                    0.0   \n",
       "3                      0.0                    0.0   \n",
       "4                      0.0                    0.0   \n",
       "...                    ...                    ...   \n",
       "16099                  0.0                    0.0   \n",
       "16100                  0.0                    0.0   \n",
       "16101                  0.0                    0.0   \n",
       "16102                  0.0                    0.0   \n",
       "16103                  0.0                    0.0   \n",
       "\n",
       "       Birth rate, crude (per 1,000 people)    birth_rate  \n",
       "0                                 51.279000  4.613558e+05  \n",
       "1                                 51.373000  4.710601e+05  \n",
       "2                                 51.457000  4.811971e+05  \n",
       "3                                 51.530000  4.917614e+05  \n",
       "4                                 51.589000  5.027235e+05  \n",
       "...                                     ...           ...  \n",
       "16099                             18.962718  1.407846e+08  \n",
       "16100                             18.633493  1.399203e+08  \n",
       "16101                             18.174850  1.379825e+08  \n",
       "16102                              0.000000  0.000000e+00  \n",
       "16103                              0.000000  0.000000e+00  \n",
       "\n",
       "[16104 rows x 8 columns]"
      ],
      "text/html": "<div>\n<style scoped>\n    .dataframe tbody tr th:only-of-type {\n        vertical-align: middle;\n    }\n\n    .dataframe tbody tr th {\n        vertical-align: top;\n    }\n\n    .dataframe thead th {\n        text-align: right;\n    }\n</style>\n<table border=\"1\" class=\"dataframe\">\n  <thead>\n    <tr style=\"text-align: right;\">\n      <th></th>\n      <th>LOCATION</th>\n      <th>TIME</th>\n      <th>Population, total</th>\n      <th>total_cancer_cases</th>\n      <th>total_cancer_deaths</th>\n      <th>total_obesity_numbers</th>\n      <th>Birth rate, crude (per 1,000 people)</th>\n      <th>birth_rate</th>\n    </tr>\n  </thead>\n  <tbody>\n    <tr>\n      <th>0</th>\n      <td>AFG</td>\n      <td>1960</td>\n      <td>8.996973e+06</td>\n      <td>0.0</td>\n      <td>0.0</td>\n      <td>0.0</td>\n      <td>51.279000</td>\n      <td>4.613558e+05</td>\n    </tr>\n    <tr>\n      <th>1</th>\n      <td>AFG</td>\n      <td>1961</td>\n      <td>9.169410e+06</td>\n      <td>0.0</td>\n      <td>0.0</td>\n      <td>0.0</td>\n      <td>51.373000</td>\n      <td>4.710601e+05</td>\n    </tr>\n    <tr>\n      <th>2</th>\n      <td>AFG</td>\n      <td>1962</td>\n      <td>9.351441e+06</td>\n      <td>0.0</td>\n      <td>0.0</td>\n      <td>0.0</td>\n      <td>51.457000</td>\n      <td>4.811971e+05</td>\n    </tr>\n    <tr>\n      <th>3</th>\n      <td>AFG</td>\n      <td>1963</td>\n      <td>9.543205e+06</td>\n      <td>0.0</td>\n      <td>0.0</td>\n      <td>0.0</td>\n      <td>51.530000</td>\n      <td>4.917614e+05</td>\n    </tr>\n    <tr>\n      <th>4</th>\n      <td>AFG</td>\n      <td>1964</td>\n      <td>9.744781e+06</td>\n      <td>0.0</td>\n      <td>0.0</td>\n      <td>0.0</td>\n      <td>51.589000</td>\n      <td>5.027235e+05</td>\n    </tr>\n    <tr>\n      <th>...</th>\n      <td>...</td>\n      <td>...</td>\n      <td>...</td>\n      <td>...</td>\n      <td>...</td>\n      <td>...</td>\n      <td>...</td>\n      <td>...</td>\n    </tr>\n    <tr>\n      <th>16099</th>\n      <td>WLD</td>\n      <td>2016</td>\n      <td>7.424286e+09</td>\n      <td>0.0</td>\n      <td>0.0</td>\n      <td>0.0</td>\n      <td>18.962718</td>\n      <td>1.407846e+08</td>\n    </tr>\n    <tr>\n      <th>16100</th>\n      <td>WLD</td>\n      <td>2017</td>\n      <td>7.509074e+09</td>\n      <td>0.0</td>\n      <td>0.0</td>\n      <td>0.0</td>\n      <td>18.633493</td>\n      <td>1.399203e+08</td>\n    </tr>\n    <tr>\n      <th>16101</th>\n      <td>WLD</td>\n      <td>2018</td>\n      <td>7.591945e+09</td>\n      <td>0.0</td>\n      <td>0.0</td>\n      <td>0.0</td>\n      <td>18.174850</td>\n      <td>1.379825e+08</td>\n    </tr>\n    <tr>\n      <th>16102</th>\n      <td>WLD</td>\n      <td>2019</td>\n      <td>7.673534e+09</td>\n      <td>0.0</td>\n      <td>0.0</td>\n      <td>0.0</td>\n      <td>0.000000</td>\n      <td>0.000000e+00</td>\n    </tr>\n    <tr>\n      <th>16103</th>\n      <td>WLD</td>\n      <td>2020</td>\n      <td>0.000000e+00</td>\n      <td>0.0</td>\n      <td>0.0</td>\n      <td>0.0</td>\n      <td>0.000000</td>\n      <td>0.000000e+00</td>\n    </tr>\n  </tbody>\n</table>\n<p>16104 rows × 8 columns</p>\n</div>"
     },
     "metadata": {},
     "execution_count": 65
    }
   ],
   "source": [
    "health_merge9['birth_rate'] = (health_merge9['Population, total']/1000)*(health_merge9['Birth rate, crude (per 1,000 people)'])\n",
    "health_merge9"
   ]
  },
  {
   "cell_type": "code",
   "execution_count": 66,
   "metadata": {},
   "outputs": [
    {
     "output_type": "execute_result",
     "data": {
      "text/plain": [
       "      LOCATION  TIME  Population, total  total_cancer_cases  \\\n",
       "0          AFG  1960       8.996973e+06                 0.0   \n",
       "1          AFG  1961       9.169410e+06                 0.0   \n",
       "2          AFG  1962       9.351441e+06                 0.0   \n",
       "3          AFG  1963       9.543205e+06                 0.0   \n",
       "4          AFG  1964       9.744781e+06                 0.0   \n",
       "...        ...   ...                ...                 ...   \n",
       "16099      WLD  2016       7.424286e+09                 0.0   \n",
       "16100      WLD  2017       7.509074e+09                 0.0   \n",
       "16101      WLD  2018       7.591945e+09                 0.0   \n",
       "16102      WLD  2019       7.673534e+09                 0.0   \n",
       "16103      WLD  2020       0.000000e+00                 0.0   \n",
       "\n",
       "       total_cancer_deaths  total_obesity_numbers    birth_rate  \n",
       "0                      0.0                    0.0  4.613558e+05  \n",
       "1                      0.0                    0.0  4.710601e+05  \n",
       "2                      0.0                    0.0  4.811971e+05  \n",
       "3                      0.0                    0.0  4.917614e+05  \n",
       "4                      0.0                    0.0  5.027235e+05  \n",
       "...                    ...                    ...           ...  \n",
       "16099                  0.0                    0.0  1.407846e+08  \n",
       "16100                  0.0                    0.0  1.399203e+08  \n",
       "16101                  0.0                    0.0  1.379825e+08  \n",
       "16102                  0.0                    0.0  0.000000e+00  \n",
       "16103                  0.0                    0.0  0.000000e+00  \n",
       "\n",
       "[16104 rows x 7 columns]"
      ],
      "text/html": "<div>\n<style scoped>\n    .dataframe tbody tr th:only-of-type {\n        vertical-align: middle;\n    }\n\n    .dataframe tbody tr th {\n        vertical-align: top;\n    }\n\n    .dataframe thead th {\n        text-align: right;\n    }\n</style>\n<table border=\"1\" class=\"dataframe\">\n  <thead>\n    <tr style=\"text-align: right;\">\n      <th></th>\n      <th>LOCATION</th>\n      <th>TIME</th>\n      <th>Population, total</th>\n      <th>total_cancer_cases</th>\n      <th>total_cancer_deaths</th>\n      <th>total_obesity_numbers</th>\n      <th>birth_rate</th>\n    </tr>\n  </thead>\n  <tbody>\n    <tr>\n      <th>0</th>\n      <td>AFG</td>\n      <td>1960</td>\n      <td>8.996973e+06</td>\n      <td>0.0</td>\n      <td>0.0</td>\n      <td>0.0</td>\n      <td>4.613558e+05</td>\n    </tr>\n    <tr>\n      <th>1</th>\n      <td>AFG</td>\n      <td>1961</td>\n      <td>9.169410e+06</td>\n      <td>0.0</td>\n      <td>0.0</td>\n      <td>0.0</td>\n      <td>4.710601e+05</td>\n    </tr>\n    <tr>\n      <th>2</th>\n      <td>AFG</td>\n      <td>1962</td>\n      <td>9.351441e+06</td>\n      <td>0.0</td>\n      <td>0.0</td>\n      <td>0.0</td>\n      <td>4.811971e+05</td>\n    </tr>\n    <tr>\n      <th>3</th>\n      <td>AFG</td>\n      <td>1963</td>\n      <td>9.543205e+06</td>\n      <td>0.0</td>\n      <td>0.0</td>\n      <td>0.0</td>\n      <td>4.917614e+05</td>\n    </tr>\n    <tr>\n      <th>4</th>\n      <td>AFG</td>\n      <td>1964</td>\n      <td>9.744781e+06</td>\n      <td>0.0</td>\n      <td>0.0</td>\n      <td>0.0</td>\n      <td>5.027235e+05</td>\n    </tr>\n    <tr>\n      <th>...</th>\n      <td>...</td>\n      <td>...</td>\n      <td>...</td>\n      <td>...</td>\n      <td>...</td>\n      <td>...</td>\n      <td>...</td>\n    </tr>\n    <tr>\n      <th>16099</th>\n      <td>WLD</td>\n      <td>2016</td>\n      <td>7.424286e+09</td>\n      <td>0.0</td>\n      <td>0.0</td>\n      <td>0.0</td>\n      <td>1.407846e+08</td>\n    </tr>\n    <tr>\n      <th>16100</th>\n      <td>WLD</td>\n      <td>2017</td>\n      <td>7.509074e+09</td>\n      <td>0.0</td>\n      <td>0.0</td>\n      <td>0.0</td>\n      <td>1.399203e+08</td>\n    </tr>\n    <tr>\n      <th>16101</th>\n      <td>WLD</td>\n      <td>2018</td>\n      <td>7.591945e+09</td>\n      <td>0.0</td>\n      <td>0.0</td>\n      <td>0.0</td>\n      <td>1.379825e+08</td>\n    </tr>\n    <tr>\n      <th>16102</th>\n      <td>WLD</td>\n      <td>2019</td>\n      <td>7.673534e+09</td>\n      <td>0.0</td>\n      <td>0.0</td>\n      <td>0.0</td>\n      <td>0.000000e+00</td>\n    </tr>\n    <tr>\n      <th>16103</th>\n      <td>WLD</td>\n      <td>2020</td>\n      <td>0.000000e+00</td>\n      <td>0.0</td>\n      <td>0.0</td>\n      <td>0.0</td>\n      <td>0.000000e+00</td>\n    </tr>\n  </tbody>\n</table>\n<p>16104 rows × 7 columns</p>\n</div>"
     },
     "metadata": {},
     "execution_count": 66
    }
   ],
   "source": [
    "health_merge10 = health_merge9.drop(columns=['Birth rate, crude (per 1,000 people)'])\n",
    "health_merge10"
   ]
  },
  {
   "cell_type": "code",
   "execution_count": 67,
   "metadata": {},
   "outputs": [
    {
     "output_type": "execute_result",
     "data": {
      "text/plain": [
       "      LOCATION  TIME  Death rate, crude (per 1,000 people)\n",
       "0          AFG  1960                             32.219000\n",
       "1          AFG  1961                             31.649000\n",
       "2          AFG  1962                             31.093000\n",
       "3          AFG  1963                             30.551000\n",
       "4          AFG  1964                             30.022000\n",
       "...        ...   ...                                   ...\n",
       "16099      WLD  2016                              7.544484\n",
       "16100      WLD  2017                              7.541172\n",
       "16101      WLD  2018                              7.528823\n",
       "16102      WLD  2019                              0.000000\n",
       "16103      WLD  2020                              0.000000\n",
       "\n",
       "[16104 rows x 3 columns]"
      ],
      "text/html": "<div>\n<style scoped>\n    .dataframe tbody tr th:only-of-type {\n        vertical-align: middle;\n    }\n\n    .dataframe tbody tr th {\n        vertical-align: top;\n    }\n\n    .dataframe thead th {\n        text-align: right;\n    }\n</style>\n<table border=\"1\" class=\"dataframe\">\n  <thead>\n    <tr style=\"text-align: right;\">\n      <th></th>\n      <th>LOCATION</th>\n      <th>TIME</th>\n      <th>Death rate, crude (per 1,000 people)</th>\n    </tr>\n  </thead>\n  <tbody>\n    <tr>\n      <th>0</th>\n      <td>AFG</td>\n      <td>1960</td>\n      <td>32.219000</td>\n    </tr>\n    <tr>\n      <th>1</th>\n      <td>AFG</td>\n      <td>1961</td>\n      <td>31.649000</td>\n    </tr>\n    <tr>\n      <th>2</th>\n      <td>AFG</td>\n      <td>1962</td>\n      <td>31.093000</td>\n    </tr>\n    <tr>\n      <th>3</th>\n      <td>AFG</td>\n      <td>1963</td>\n      <td>30.551000</td>\n    </tr>\n    <tr>\n      <th>4</th>\n      <td>AFG</td>\n      <td>1964</td>\n      <td>30.022000</td>\n    </tr>\n    <tr>\n      <th>...</th>\n      <td>...</td>\n      <td>...</td>\n      <td>...</td>\n    </tr>\n    <tr>\n      <th>16099</th>\n      <td>WLD</td>\n      <td>2016</td>\n      <td>7.544484</td>\n    </tr>\n    <tr>\n      <th>16100</th>\n      <td>WLD</td>\n      <td>2017</td>\n      <td>7.541172</td>\n    </tr>\n    <tr>\n      <th>16101</th>\n      <td>WLD</td>\n      <td>2018</td>\n      <td>7.528823</td>\n    </tr>\n    <tr>\n      <th>16102</th>\n      <td>WLD</td>\n      <td>2019</td>\n      <td>0.000000</td>\n    </tr>\n    <tr>\n      <th>16103</th>\n      <td>WLD</td>\n      <td>2020</td>\n      <td>0.000000</td>\n    </tr>\n  </tbody>\n</table>\n<p>16104 rows × 3 columns</p>\n</div>"
     },
     "metadata": {},
     "execution_count": 67
    }
   ],
   "source": [
    "# Death rates \n",
    "deahtrates = pd.read_csv('raw_data/health_data_raw/deathrate.csv')\n",
    "deahtrates"
   ]
  },
  {
   "cell_type": "code",
   "execution_count": 68,
   "metadata": {},
   "outputs": [
    {
     "output_type": "execute_result",
     "data": {
      "text/plain": [
       "      LOCATION  TIME  Population, total  total_cancer_cases  \\\n",
       "0          AFG  1960       8.996973e+06                 0.0   \n",
       "1          AFG  1961       9.169410e+06                 0.0   \n",
       "2          AFG  1962       9.351441e+06                 0.0   \n",
       "3          AFG  1963       9.543205e+06                 0.0   \n",
       "4          AFG  1964       9.744781e+06                 0.0   \n",
       "...        ...   ...                ...                 ...   \n",
       "16099      WLD  2016       7.424286e+09                 0.0   \n",
       "16100      WLD  2017       7.509074e+09                 0.0   \n",
       "16101      WLD  2018       7.591945e+09                 0.0   \n",
       "16102      WLD  2019       7.673534e+09                 0.0   \n",
       "16103      WLD  2020       0.000000e+00                 0.0   \n",
       "\n",
       "       total_cancer_deaths  total_obesity_numbers    birth_rate  \\\n",
       "0                      0.0                    0.0  4.613558e+05   \n",
       "1                      0.0                    0.0  4.710601e+05   \n",
       "2                      0.0                    0.0  4.811971e+05   \n",
       "3                      0.0                    0.0  4.917614e+05   \n",
       "4                      0.0                    0.0  5.027235e+05   \n",
       "...                    ...                    ...           ...   \n",
       "16099                  0.0                    0.0  1.407846e+08   \n",
       "16100                  0.0                    0.0  1.399203e+08   \n",
       "16101                  0.0                    0.0  1.379825e+08   \n",
       "16102                  0.0                    0.0  0.000000e+00   \n",
       "16103                  0.0                    0.0  0.000000e+00   \n",
       "\n",
       "       Death rate, crude (per 1,000 people)  \n",
       "0                                 32.219000  \n",
       "1                                 31.649000  \n",
       "2                                 31.093000  \n",
       "3                                 30.551000  \n",
       "4                                 30.022000  \n",
       "...                                     ...  \n",
       "16099                              7.544484  \n",
       "16100                              7.541172  \n",
       "16101                              7.528823  \n",
       "16102                              0.000000  \n",
       "16103                              0.000000  \n",
       "\n",
       "[16104 rows x 8 columns]"
      ],
      "text/html": "<div>\n<style scoped>\n    .dataframe tbody tr th:only-of-type {\n        vertical-align: middle;\n    }\n\n    .dataframe tbody tr th {\n        vertical-align: top;\n    }\n\n    .dataframe thead th {\n        text-align: right;\n    }\n</style>\n<table border=\"1\" class=\"dataframe\">\n  <thead>\n    <tr style=\"text-align: right;\">\n      <th></th>\n      <th>LOCATION</th>\n      <th>TIME</th>\n      <th>Population, total</th>\n      <th>total_cancer_cases</th>\n      <th>total_cancer_deaths</th>\n      <th>total_obesity_numbers</th>\n      <th>birth_rate</th>\n      <th>Death rate, crude (per 1,000 people)</th>\n    </tr>\n  </thead>\n  <tbody>\n    <tr>\n      <th>0</th>\n      <td>AFG</td>\n      <td>1960</td>\n      <td>8.996973e+06</td>\n      <td>0.0</td>\n      <td>0.0</td>\n      <td>0.0</td>\n      <td>4.613558e+05</td>\n      <td>32.219000</td>\n    </tr>\n    <tr>\n      <th>1</th>\n      <td>AFG</td>\n      <td>1961</td>\n      <td>9.169410e+06</td>\n      <td>0.0</td>\n      <td>0.0</td>\n      <td>0.0</td>\n      <td>4.710601e+05</td>\n      <td>31.649000</td>\n    </tr>\n    <tr>\n      <th>2</th>\n      <td>AFG</td>\n      <td>1962</td>\n      <td>9.351441e+06</td>\n      <td>0.0</td>\n      <td>0.0</td>\n      <td>0.0</td>\n      <td>4.811971e+05</td>\n      <td>31.093000</td>\n    </tr>\n    <tr>\n      <th>3</th>\n      <td>AFG</td>\n      <td>1963</td>\n      <td>9.543205e+06</td>\n      <td>0.0</td>\n      <td>0.0</td>\n      <td>0.0</td>\n      <td>4.917614e+05</td>\n      <td>30.551000</td>\n    </tr>\n    <tr>\n      <th>4</th>\n      <td>AFG</td>\n      <td>1964</td>\n      <td>9.744781e+06</td>\n      <td>0.0</td>\n      <td>0.0</td>\n      <td>0.0</td>\n      <td>5.027235e+05</td>\n      <td>30.022000</td>\n    </tr>\n    <tr>\n      <th>...</th>\n      <td>...</td>\n      <td>...</td>\n      <td>...</td>\n      <td>...</td>\n      <td>...</td>\n      <td>...</td>\n      <td>...</td>\n      <td>...</td>\n    </tr>\n    <tr>\n      <th>16099</th>\n      <td>WLD</td>\n      <td>2016</td>\n      <td>7.424286e+09</td>\n      <td>0.0</td>\n      <td>0.0</td>\n      <td>0.0</td>\n      <td>1.407846e+08</td>\n      <td>7.544484</td>\n    </tr>\n    <tr>\n      <th>16100</th>\n      <td>WLD</td>\n      <td>2017</td>\n      <td>7.509074e+09</td>\n      <td>0.0</td>\n      <td>0.0</td>\n      <td>0.0</td>\n      <td>1.399203e+08</td>\n      <td>7.541172</td>\n    </tr>\n    <tr>\n      <th>16101</th>\n      <td>WLD</td>\n      <td>2018</td>\n      <td>7.591945e+09</td>\n      <td>0.0</td>\n      <td>0.0</td>\n      <td>0.0</td>\n      <td>1.379825e+08</td>\n      <td>7.528823</td>\n    </tr>\n    <tr>\n      <th>16102</th>\n      <td>WLD</td>\n      <td>2019</td>\n      <td>7.673534e+09</td>\n      <td>0.0</td>\n      <td>0.0</td>\n      <td>0.0</td>\n      <td>0.000000e+00</td>\n      <td>0.000000</td>\n    </tr>\n    <tr>\n      <th>16103</th>\n      <td>WLD</td>\n      <td>2020</td>\n      <td>0.000000e+00</td>\n      <td>0.0</td>\n      <td>0.0</td>\n      <td>0.0</td>\n      <td>0.000000e+00</td>\n      <td>0.000000</td>\n    </tr>\n  </tbody>\n</table>\n<p>16104 rows × 8 columns</p>\n</div>"
     },
     "metadata": {},
     "execution_count": 68
    }
   ],
   "source": [
    "health_merge11 = pd.merge(health_merge10, deahtrates, on=['LOCATION','TIME'], how='left')\n",
    "health_merge11"
   ]
  },
  {
   "cell_type": "code",
   "execution_count": 69,
   "metadata": {},
   "outputs": [
    {
     "output_type": "execute_result",
     "data": {
      "text/plain": [
       "      LOCATION  TIME  Population, total  total_cancer_cases  \\\n",
       "0          AFG  1960       8.996973e+06                 0.0   \n",
       "1          AFG  1961       9.169410e+06                 0.0   \n",
       "2          AFG  1962       9.351441e+06                 0.0   \n",
       "3          AFG  1963       9.543205e+06                 0.0   \n",
       "4          AFG  1964       9.744781e+06                 0.0   \n",
       "...        ...   ...                ...                 ...   \n",
       "16099      WLD  2016       7.424286e+09                 0.0   \n",
       "16100      WLD  2017       7.509074e+09                 0.0   \n",
       "16101      WLD  2018       7.591945e+09                 0.0   \n",
       "16102      WLD  2019       7.673534e+09                 0.0   \n",
       "16103      WLD  2020       0.000000e+00                 0.0   \n",
       "\n",
       "       total_cancer_deaths  total_obesity_numbers    birth_rate  \\\n",
       "0                      0.0                    0.0  4.613558e+05   \n",
       "1                      0.0                    0.0  4.710601e+05   \n",
       "2                      0.0                    0.0  4.811971e+05   \n",
       "3                      0.0                    0.0  4.917614e+05   \n",
       "4                      0.0                    0.0  5.027235e+05   \n",
       "...                    ...                    ...           ...   \n",
       "16099                  0.0                    0.0  1.407846e+08   \n",
       "16100                  0.0                    0.0  1.399203e+08   \n",
       "16101                  0.0                    0.0  1.379825e+08   \n",
       "16102                  0.0                    0.0  0.000000e+00   \n",
       "16103                  0.0                    0.0  0.000000e+00   \n",
       "\n",
       "       Death rate, crude (per 1,000 people)    death_rate  \n",
       "0                                 32.219000  2.898735e+05  \n",
       "1                                 31.649000  2.902027e+05  \n",
       "2                                 31.093000  2.907644e+05  \n",
       "3                                 30.551000  2.915545e+05  \n",
       "4                                 30.022000  2.925578e+05  \n",
       "...                                     ...           ...  \n",
       "16099                              7.544484  5.601241e+07  \n",
       "16100                              7.541172  5.662722e+07  \n",
       "16101                              7.528823  5.715841e+07  \n",
       "16102                              0.000000  0.000000e+00  \n",
       "16103                              0.000000  0.000000e+00  \n",
       "\n",
       "[16104 rows x 9 columns]"
      ],
      "text/html": "<div>\n<style scoped>\n    .dataframe tbody tr th:only-of-type {\n        vertical-align: middle;\n    }\n\n    .dataframe tbody tr th {\n        vertical-align: top;\n    }\n\n    .dataframe thead th {\n        text-align: right;\n    }\n</style>\n<table border=\"1\" class=\"dataframe\">\n  <thead>\n    <tr style=\"text-align: right;\">\n      <th></th>\n      <th>LOCATION</th>\n      <th>TIME</th>\n      <th>Population, total</th>\n      <th>total_cancer_cases</th>\n      <th>total_cancer_deaths</th>\n      <th>total_obesity_numbers</th>\n      <th>birth_rate</th>\n      <th>Death rate, crude (per 1,000 people)</th>\n      <th>death_rate</th>\n    </tr>\n  </thead>\n  <tbody>\n    <tr>\n      <th>0</th>\n      <td>AFG</td>\n      <td>1960</td>\n      <td>8.996973e+06</td>\n      <td>0.0</td>\n      <td>0.0</td>\n      <td>0.0</td>\n      <td>4.613558e+05</td>\n      <td>32.219000</td>\n      <td>2.898735e+05</td>\n    </tr>\n    <tr>\n      <th>1</th>\n      <td>AFG</td>\n      <td>1961</td>\n      <td>9.169410e+06</td>\n      <td>0.0</td>\n      <td>0.0</td>\n      <td>0.0</td>\n      <td>4.710601e+05</td>\n      <td>31.649000</td>\n      <td>2.902027e+05</td>\n    </tr>\n    <tr>\n      <th>2</th>\n      <td>AFG</td>\n      <td>1962</td>\n      <td>9.351441e+06</td>\n      <td>0.0</td>\n      <td>0.0</td>\n      <td>0.0</td>\n      <td>4.811971e+05</td>\n      <td>31.093000</td>\n      <td>2.907644e+05</td>\n    </tr>\n    <tr>\n      <th>3</th>\n      <td>AFG</td>\n      <td>1963</td>\n      <td>9.543205e+06</td>\n      <td>0.0</td>\n      <td>0.0</td>\n      <td>0.0</td>\n      <td>4.917614e+05</td>\n      <td>30.551000</td>\n      <td>2.915545e+05</td>\n    </tr>\n    <tr>\n      <th>4</th>\n      <td>AFG</td>\n      <td>1964</td>\n      <td>9.744781e+06</td>\n      <td>0.0</td>\n      <td>0.0</td>\n      <td>0.0</td>\n      <td>5.027235e+05</td>\n      <td>30.022000</td>\n      <td>2.925578e+05</td>\n    </tr>\n    <tr>\n      <th>...</th>\n      <td>...</td>\n      <td>...</td>\n      <td>...</td>\n      <td>...</td>\n      <td>...</td>\n      <td>...</td>\n      <td>...</td>\n      <td>...</td>\n      <td>...</td>\n    </tr>\n    <tr>\n      <th>16099</th>\n      <td>WLD</td>\n      <td>2016</td>\n      <td>7.424286e+09</td>\n      <td>0.0</td>\n      <td>0.0</td>\n      <td>0.0</td>\n      <td>1.407846e+08</td>\n      <td>7.544484</td>\n      <td>5.601241e+07</td>\n    </tr>\n    <tr>\n      <th>16100</th>\n      <td>WLD</td>\n      <td>2017</td>\n      <td>7.509074e+09</td>\n      <td>0.0</td>\n      <td>0.0</td>\n      <td>0.0</td>\n      <td>1.399203e+08</td>\n      <td>7.541172</td>\n      <td>5.662722e+07</td>\n    </tr>\n    <tr>\n      <th>16101</th>\n      <td>WLD</td>\n      <td>2018</td>\n      <td>7.591945e+09</td>\n      <td>0.0</td>\n      <td>0.0</td>\n      <td>0.0</td>\n      <td>1.379825e+08</td>\n      <td>7.528823</td>\n      <td>5.715841e+07</td>\n    </tr>\n    <tr>\n      <th>16102</th>\n      <td>WLD</td>\n      <td>2019</td>\n      <td>7.673534e+09</td>\n      <td>0.0</td>\n      <td>0.0</td>\n      <td>0.0</td>\n      <td>0.000000e+00</td>\n      <td>0.000000</td>\n      <td>0.000000e+00</td>\n    </tr>\n    <tr>\n      <th>16103</th>\n      <td>WLD</td>\n      <td>2020</td>\n      <td>0.000000e+00</td>\n      <td>0.0</td>\n      <td>0.0</td>\n      <td>0.0</td>\n      <td>0.000000e+00</td>\n      <td>0.000000</td>\n      <td>0.000000e+00</td>\n    </tr>\n  </tbody>\n</table>\n<p>16104 rows × 9 columns</p>\n</div>"
     },
     "metadata": {},
     "execution_count": 69
    }
   ],
   "source": [
    "health_merge11['death_rate'] = (health_merge11['Population, total']/1000) * (health_merge11['Death rate, crude (per 1,000 people)'])\n",
    "health_merge11"
   ]
  },
  {
   "cell_type": "code",
   "execution_count": 70,
   "metadata": {},
   "outputs": [
    {
     "output_type": "execute_result",
     "data": {
      "text/plain": [
       "      LOCATION  TIME  Population, total  total_cancer_cases  \\\n",
       "0          AFG  1960       8.996973e+06                 0.0   \n",
       "1          AFG  1961       9.169410e+06                 0.0   \n",
       "2          AFG  1962       9.351441e+06                 0.0   \n",
       "3          AFG  1963       9.543205e+06                 0.0   \n",
       "4          AFG  1964       9.744781e+06                 0.0   \n",
       "...        ...   ...                ...                 ...   \n",
       "16099      WLD  2016       7.424286e+09                 0.0   \n",
       "16100      WLD  2017       7.509074e+09                 0.0   \n",
       "16101      WLD  2018       7.591945e+09                 0.0   \n",
       "16102      WLD  2019       7.673534e+09                 0.0   \n",
       "16103      WLD  2020       0.000000e+00                 0.0   \n",
       "\n",
       "       total_cancer_deaths  total_obesity_numbers    birth_rate    death_rate  \n",
       "0                      0.0                    0.0  4.613558e+05  2.898735e+05  \n",
       "1                      0.0                    0.0  4.710601e+05  2.902027e+05  \n",
       "2                      0.0                    0.0  4.811971e+05  2.907644e+05  \n",
       "3                      0.0                    0.0  4.917614e+05  2.915545e+05  \n",
       "4                      0.0                    0.0  5.027235e+05  2.925578e+05  \n",
       "...                    ...                    ...           ...           ...  \n",
       "16099                  0.0                    0.0  1.407846e+08  5.601241e+07  \n",
       "16100                  0.0                    0.0  1.399203e+08  5.662722e+07  \n",
       "16101                  0.0                    0.0  1.379825e+08  5.715841e+07  \n",
       "16102                  0.0                    0.0  0.000000e+00  0.000000e+00  \n",
       "16103                  0.0                    0.0  0.000000e+00  0.000000e+00  \n",
       "\n",
       "[16104 rows x 8 columns]"
      ],
      "text/html": "<div>\n<style scoped>\n    .dataframe tbody tr th:only-of-type {\n        vertical-align: middle;\n    }\n\n    .dataframe tbody tr th {\n        vertical-align: top;\n    }\n\n    .dataframe thead th {\n        text-align: right;\n    }\n</style>\n<table border=\"1\" class=\"dataframe\">\n  <thead>\n    <tr style=\"text-align: right;\">\n      <th></th>\n      <th>LOCATION</th>\n      <th>TIME</th>\n      <th>Population, total</th>\n      <th>total_cancer_cases</th>\n      <th>total_cancer_deaths</th>\n      <th>total_obesity_numbers</th>\n      <th>birth_rate</th>\n      <th>death_rate</th>\n    </tr>\n  </thead>\n  <tbody>\n    <tr>\n      <th>0</th>\n      <td>AFG</td>\n      <td>1960</td>\n      <td>8.996973e+06</td>\n      <td>0.0</td>\n      <td>0.0</td>\n      <td>0.0</td>\n      <td>4.613558e+05</td>\n      <td>2.898735e+05</td>\n    </tr>\n    <tr>\n      <th>1</th>\n      <td>AFG</td>\n      <td>1961</td>\n      <td>9.169410e+06</td>\n      <td>0.0</td>\n      <td>0.0</td>\n      <td>0.0</td>\n      <td>4.710601e+05</td>\n      <td>2.902027e+05</td>\n    </tr>\n    <tr>\n      <th>2</th>\n      <td>AFG</td>\n      <td>1962</td>\n      <td>9.351441e+06</td>\n      <td>0.0</td>\n      <td>0.0</td>\n      <td>0.0</td>\n      <td>4.811971e+05</td>\n      <td>2.907644e+05</td>\n    </tr>\n    <tr>\n      <th>3</th>\n      <td>AFG</td>\n      <td>1963</td>\n      <td>9.543205e+06</td>\n      <td>0.0</td>\n      <td>0.0</td>\n      <td>0.0</td>\n      <td>4.917614e+05</td>\n      <td>2.915545e+05</td>\n    </tr>\n    <tr>\n      <th>4</th>\n      <td>AFG</td>\n      <td>1964</td>\n      <td>9.744781e+06</td>\n      <td>0.0</td>\n      <td>0.0</td>\n      <td>0.0</td>\n      <td>5.027235e+05</td>\n      <td>2.925578e+05</td>\n    </tr>\n    <tr>\n      <th>...</th>\n      <td>...</td>\n      <td>...</td>\n      <td>...</td>\n      <td>...</td>\n      <td>...</td>\n      <td>...</td>\n      <td>...</td>\n      <td>...</td>\n    </tr>\n    <tr>\n      <th>16099</th>\n      <td>WLD</td>\n      <td>2016</td>\n      <td>7.424286e+09</td>\n      <td>0.0</td>\n      <td>0.0</td>\n      <td>0.0</td>\n      <td>1.407846e+08</td>\n      <td>5.601241e+07</td>\n    </tr>\n    <tr>\n      <th>16100</th>\n      <td>WLD</td>\n      <td>2017</td>\n      <td>7.509074e+09</td>\n      <td>0.0</td>\n      <td>0.0</td>\n      <td>0.0</td>\n      <td>1.399203e+08</td>\n      <td>5.662722e+07</td>\n    </tr>\n    <tr>\n      <th>16101</th>\n      <td>WLD</td>\n      <td>2018</td>\n      <td>7.591945e+09</td>\n      <td>0.0</td>\n      <td>0.0</td>\n      <td>0.0</td>\n      <td>1.379825e+08</td>\n      <td>5.715841e+07</td>\n    </tr>\n    <tr>\n      <th>16102</th>\n      <td>WLD</td>\n      <td>2019</td>\n      <td>7.673534e+09</td>\n      <td>0.0</td>\n      <td>0.0</td>\n      <td>0.0</td>\n      <td>0.000000e+00</td>\n      <td>0.000000e+00</td>\n    </tr>\n    <tr>\n      <th>16103</th>\n      <td>WLD</td>\n      <td>2020</td>\n      <td>0.000000e+00</td>\n      <td>0.0</td>\n      <td>0.0</td>\n      <td>0.0</td>\n      <td>0.000000e+00</td>\n      <td>0.000000e+00</td>\n    </tr>\n  </tbody>\n</table>\n<p>16104 rows × 8 columns</p>\n</div>"
     },
     "metadata": {},
     "execution_count": 70
    }
   ],
   "source": [
    "health_merge12 = health_merge11.drop(columns=['Death rate, crude (per 1,000 people)'])\n",
    "health_merge12"
   ]
  },
  {
   "cell_type": "code",
   "execution_count": 71,
   "metadata": {},
   "outputs": [
    {
     "output_type": "execute_result",
     "data": {
      "text/plain": [
       "      LOCATION  TIME  Life expectancy at birth, total (years)\n",
       "0          AFG  1960                                32.446000\n",
       "1          AFG  1961                                32.962000\n",
       "2          AFG  1962                                33.471000\n",
       "3          AFG  1963                                33.971000\n",
       "4          AFG  1964                                34.463000\n",
       "...        ...   ...                                      ...\n",
       "16099      WLD  2016                                72.180761\n",
       "16100      WLD  2017                                72.385581\n",
       "16101      WLD  2018                                72.563282\n",
       "16102      WLD  2019                                 0.000000\n",
       "16103      WLD  2020                                 0.000000\n",
       "\n",
       "[16104 rows x 3 columns]"
      ],
      "text/html": "<div>\n<style scoped>\n    .dataframe tbody tr th:only-of-type {\n        vertical-align: middle;\n    }\n\n    .dataframe tbody tr th {\n        vertical-align: top;\n    }\n\n    .dataframe thead th {\n        text-align: right;\n    }\n</style>\n<table border=\"1\" class=\"dataframe\">\n  <thead>\n    <tr style=\"text-align: right;\">\n      <th></th>\n      <th>LOCATION</th>\n      <th>TIME</th>\n      <th>Life expectancy at birth, total (years)</th>\n    </tr>\n  </thead>\n  <tbody>\n    <tr>\n      <th>0</th>\n      <td>AFG</td>\n      <td>1960</td>\n      <td>32.446000</td>\n    </tr>\n    <tr>\n      <th>1</th>\n      <td>AFG</td>\n      <td>1961</td>\n      <td>32.962000</td>\n    </tr>\n    <tr>\n      <th>2</th>\n      <td>AFG</td>\n      <td>1962</td>\n      <td>33.471000</td>\n    </tr>\n    <tr>\n      <th>3</th>\n      <td>AFG</td>\n      <td>1963</td>\n      <td>33.971000</td>\n    </tr>\n    <tr>\n      <th>4</th>\n      <td>AFG</td>\n      <td>1964</td>\n      <td>34.463000</td>\n    </tr>\n    <tr>\n      <th>...</th>\n      <td>...</td>\n      <td>...</td>\n      <td>...</td>\n    </tr>\n    <tr>\n      <th>16099</th>\n      <td>WLD</td>\n      <td>2016</td>\n      <td>72.180761</td>\n    </tr>\n    <tr>\n      <th>16100</th>\n      <td>WLD</td>\n      <td>2017</td>\n      <td>72.385581</td>\n    </tr>\n    <tr>\n      <th>16101</th>\n      <td>WLD</td>\n      <td>2018</td>\n      <td>72.563282</td>\n    </tr>\n    <tr>\n      <th>16102</th>\n      <td>WLD</td>\n      <td>2019</td>\n      <td>0.000000</td>\n    </tr>\n    <tr>\n      <th>16103</th>\n      <td>WLD</td>\n      <td>2020</td>\n      <td>0.000000</td>\n    </tr>\n  </tbody>\n</table>\n<p>16104 rows × 3 columns</p>\n</div>"
     },
     "metadata": {},
     "execution_count": 71
    }
   ],
   "source": [
    "life_expectency = pd.read_csv('raw_data/health_data_raw/lifeexpectency.csv')\n",
    "life_expectency"
   ]
  },
  {
   "cell_type": "code",
   "execution_count": 72,
   "metadata": {},
   "outputs": [
    {
     "output_type": "execute_result",
     "data": {
      "text/plain": [
       "      LOCATION  TIME  Population, total  total_cancer_cases  \\\n",
       "0          AFG  1960       8.996973e+06                 0.0   \n",
       "1          AFG  1961       9.169410e+06                 0.0   \n",
       "2          AFG  1962       9.351441e+06                 0.0   \n",
       "3          AFG  1963       9.543205e+06                 0.0   \n",
       "4          AFG  1964       9.744781e+06                 0.0   \n",
       "...        ...   ...                ...                 ...   \n",
       "16099      WLD  2016       7.424286e+09                 0.0   \n",
       "16100      WLD  2017       7.509074e+09                 0.0   \n",
       "16101      WLD  2018       7.591945e+09                 0.0   \n",
       "16102      WLD  2019       7.673534e+09                 0.0   \n",
       "16103      WLD  2020       0.000000e+00                 0.0   \n",
       "\n",
       "       total_cancer_deaths  total_obesity_numbers    birth_rate    death_rate  \\\n",
       "0                      0.0                    0.0  4.613558e+05  2.898735e+05   \n",
       "1                      0.0                    0.0  4.710601e+05  2.902027e+05   \n",
       "2                      0.0                    0.0  4.811971e+05  2.907644e+05   \n",
       "3                      0.0                    0.0  4.917614e+05  2.915545e+05   \n",
       "4                      0.0                    0.0  5.027235e+05  2.925578e+05   \n",
       "...                    ...                    ...           ...           ...   \n",
       "16099                  0.0                    0.0  1.407846e+08  5.601241e+07   \n",
       "16100                  0.0                    0.0  1.399203e+08  5.662722e+07   \n",
       "16101                  0.0                    0.0  1.379825e+08  5.715841e+07   \n",
       "16102                  0.0                    0.0  0.000000e+00  0.000000e+00   \n",
       "16103                  0.0                    0.0  0.000000e+00  0.000000e+00   \n",
       "\n",
       "       Life expectancy at birth, total (years)  \n",
       "0                                    32.446000  \n",
       "1                                    32.962000  \n",
       "2                                    33.471000  \n",
       "3                                    33.971000  \n",
       "4                                    34.463000  \n",
       "...                                        ...  \n",
       "16099                                72.180761  \n",
       "16100                                72.385581  \n",
       "16101                                72.563282  \n",
       "16102                                 0.000000  \n",
       "16103                                 0.000000  \n",
       "\n",
       "[16104 rows x 9 columns]"
      ],
      "text/html": "<div>\n<style scoped>\n    .dataframe tbody tr th:only-of-type {\n        vertical-align: middle;\n    }\n\n    .dataframe tbody tr th {\n        vertical-align: top;\n    }\n\n    .dataframe thead th {\n        text-align: right;\n    }\n</style>\n<table border=\"1\" class=\"dataframe\">\n  <thead>\n    <tr style=\"text-align: right;\">\n      <th></th>\n      <th>LOCATION</th>\n      <th>TIME</th>\n      <th>Population, total</th>\n      <th>total_cancer_cases</th>\n      <th>total_cancer_deaths</th>\n      <th>total_obesity_numbers</th>\n      <th>birth_rate</th>\n      <th>death_rate</th>\n      <th>Life expectancy at birth, total (years)</th>\n    </tr>\n  </thead>\n  <tbody>\n    <tr>\n      <th>0</th>\n      <td>AFG</td>\n      <td>1960</td>\n      <td>8.996973e+06</td>\n      <td>0.0</td>\n      <td>0.0</td>\n      <td>0.0</td>\n      <td>4.613558e+05</td>\n      <td>2.898735e+05</td>\n      <td>32.446000</td>\n    </tr>\n    <tr>\n      <th>1</th>\n      <td>AFG</td>\n      <td>1961</td>\n      <td>9.169410e+06</td>\n      <td>0.0</td>\n      <td>0.0</td>\n      <td>0.0</td>\n      <td>4.710601e+05</td>\n      <td>2.902027e+05</td>\n      <td>32.962000</td>\n    </tr>\n    <tr>\n      <th>2</th>\n      <td>AFG</td>\n      <td>1962</td>\n      <td>9.351441e+06</td>\n      <td>0.0</td>\n      <td>0.0</td>\n      <td>0.0</td>\n      <td>4.811971e+05</td>\n      <td>2.907644e+05</td>\n      <td>33.471000</td>\n    </tr>\n    <tr>\n      <th>3</th>\n      <td>AFG</td>\n      <td>1963</td>\n      <td>9.543205e+06</td>\n      <td>0.0</td>\n      <td>0.0</td>\n      <td>0.0</td>\n      <td>4.917614e+05</td>\n      <td>2.915545e+05</td>\n      <td>33.971000</td>\n    </tr>\n    <tr>\n      <th>4</th>\n      <td>AFG</td>\n      <td>1964</td>\n      <td>9.744781e+06</td>\n      <td>0.0</td>\n      <td>0.0</td>\n      <td>0.0</td>\n      <td>5.027235e+05</td>\n      <td>2.925578e+05</td>\n      <td>34.463000</td>\n    </tr>\n    <tr>\n      <th>...</th>\n      <td>...</td>\n      <td>...</td>\n      <td>...</td>\n      <td>...</td>\n      <td>...</td>\n      <td>...</td>\n      <td>...</td>\n      <td>...</td>\n      <td>...</td>\n    </tr>\n    <tr>\n      <th>16099</th>\n      <td>WLD</td>\n      <td>2016</td>\n      <td>7.424286e+09</td>\n      <td>0.0</td>\n      <td>0.0</td>\n      <td>0.0</td>\n      <td>1.407846e+08</td>\n      <td>5.601241e+07</td>\n      <td>72.180761</td>\n    </tr>\n    <tr>\n      <th>16100</th>\n      <td>WLD</td>\n      <td>2017</td>\n      <td>7.509074e+09</td>\n      <td>0.0</td>\n      <td>0.0</td>\n      <td>0.0</td>\n      <td>1.399203e+08</td>\n      <td>5.662722e+07</td>\n      <td>72.385581</td>\n    </tr>\n    <tr>\n      <th>16101</th>\n      <td>WLD</td>\n      <td>2018</td>\n      <td>7.591945e+09</td>\n      <td>0.0</td>\n      <td>0.0</td>\n      <td>0.0</td>\n      <td>1.379825e+08</td>\n      <td>5.715841e+07</td>\n      <td>72.563282</td>\n    </tr>\n    <tr>\n      <th>16102</th>\n      <td>WLD</td>\n      <td>2019</td>\n      <td>7.673534e+09</td>\n      <td>0.0</td>\n      <td>0.0</td>\n      <td>0.0</td>\n      <td>0.000000e+00</td>\n      <td>0.000000e+00</td>\n      <td>0.000000</td>\n    </tr>\n    <tr>\n      <th>16103</th>\n      <td>WLD</td>\n      <td>2020</td>\n      <td>0.000000e+00</td>\n      <td>0.0</td>\n      <td>0.0</td>\n      <td>0.0</td>\n      <td>0.000000e+00</td>\n      <td>0.000000e+00</td>\n      <td>0.000000</td>\n    </tr>\n  </tbody>\n</table>\n<p>16104 rows × 9 columns</p>\n</div>"
     },
     "metadata": {},
     "execution_count": 72
    }
   ],
   "source": [
    "health_merge13 = pd.merge(health_merge12, life_expectency, on=['TIME','LOCATION'], how='left')\n",
    "health_merge13"
   ]
  },
  {
   "cell_type": "code",
   "execution_count": 73,
   "metadata": {},
   "outputs": [
    {
     "output_type": "execute_result",
     "data": {
      "text/plain": [
       "      LOCATION  TIME  Population, total  \\\n",
       "0          AFG  1960       8.996973e+06   \n",
       "1          AFG  1961       9.169410e+06   \n",
       "2          AFG  1962       9.351441e+06   \n",
       "3          AFG  1963       9.543205e+06   \n",
       "4          AFG  1964       9.744781e+06   \n",
       "...        ...   ...                ...   \n",
       "16099      WLD  2016       7.424286e+09   \n",
       "16100      WLD  2017       7.509074e+09   \n",
       "16101      WLD  2018       7.591945e+09   \n",
       "16102      WLD  2019       7.673534e+09   \n",
       "16103      WLD  2020       0.000000e+00   \n",
       "\n",
       "       Immunization, DPT (% of children ages 12-23 months)  \n",
       "0                                               0.000000    \n",
       "1                                               0.000000    \n",
       "2                                               0.000000    \n",
       "3                                               0.000000    \n",
       "4                                               0.000000    \n",
       "...                                                  ...    \n",
       "16099                                          85.827988    \n",
       "16100                                          85.781897    \n",
       "16101                                          85.603028    \n",
       "16102                                          85.677425    \n",
       "16103                                           0.000000    \n",
       "\n",
       "[16104 rows x 4 columns]"
      ],
      "text/html": "<div>\n<style scoped>\n    .dataframe tbody tr th:only-of-type {\n        vertical-align: middle;\n    }\n\n    .dataframe tbody tr th {\n        vertical-align: top;\n    }\n\n    .dataframe thead th {\n        text-align: right;\n    }\n</style>\n<table border=\"1\" class=\"dataframe\">\n  <thead>\n    <tr style=\"text-align: right;\">\n      <th></th>\n      <th>LOCATION</th>\n      <th>TIME</th>\n      <th>Population, total</th>\n      <th>Immunization, DPT (% of children ages 12-23 months)</th>\n    </tr>\n  </thead>\n  <tbody>\n    <tr>\n      <th>0</th>\n      <td>AFG</td>\n      <td>1960</td>\n      <td>8.996973e+06</td>\n      <td>0.000000</td>\n    </tr>\n    <tr>\n      <th>1</th>\n      <td>AFG</td>\n      <td>1961</td>\n      <td>9.169410e+06</td>\n      <td>0.000000</td>\n    </tr>\n    <tr>\n      <th>2</th>\n      <td>AFG</td>\n      <td>1962</td>\n      <td>9.351441e+06</td>\n      <td>0.000000</td>\n    </tr>\n    <tr>\n      <th>3</th>\n      <td>AFG</td>\n      <td>1963</td>\n      <td>9.543205e+06</td>\n      <td>0.000000</td>\n    </tr>\n    <tr>\n      <th>4</th>\n      <td>AFG</td>\n      <td>1964</td>\n      <td>9.744781e+06</td>\n      <td>0.000000</td>\n    </tr>\n    <tr>\n      <th>...</th>\n      <td>...</td>\n      <td>...</td>\n      <td>...</td>\n      <td>...</td>\n    </tr>\n    <tr>\n      <th>16099</th>\n      <td>WLD</td>\n      <td>2016</td>\n      <td>7.424286e+09</td>\n      <td>85.827988</td>\n    </tr>\n    <tr>\n      <th>16100</th>\n      <td>WLD</td>\n      <td>2017</td>\n      <td>7.509074e+09</td>\n      <td>85.781897</td>\n    </tr>\n    <tr>\n      <th>16101</th>\n      <td>WLD</td>\n      <td>2018</td>\n      <td>7.591945e+09</td>\n      <td>85.603028</td>\n    </tr>\n    <tr>\n      <th>16102</th>\n      <td>WLD</td>\n      <td>2019</td>\n      <td>7.673534e+09</td>\n      <td>85.677425</td>\n    </tr>\n    <tr>\n      <th>16103</th>\n      <td>WLD</td>\n      <td>2020</td>\n      <td>0.000000e+00</td>\n      <td>0.000000</td>\n    </tr>\n  </tbody>\n</table>\n<p>16104 rows × 4 columns</p>\n</div>"
     },
     "metadata": {},
     "execution_count": 73
    }
   ],
   "source": [
    "# Immunisation\n",
    "immunisation_DTP = pd.read_csv('raw_data/health_data_raw/immunisation_DTP.csv')\n",
    "immunisation_DTP"
   ]
  },
  {
   "cell_type": "code",
   "execution_count": 74,
   "metadata": {},
   "outputs": [
    {
     "output_type": "execute_result",
     "data": {
      "text/plain": [
       "      LOCATION  TIME  Population, total  total_cancer_cases  \\\n",
       "0          AFG  1960       8.996973e+06                 0.0   \n",
       "1          AFG  1961       9.169410e+06                 0.0   \n",
       "2          AFG  1962       9.351441e+06                 0.0   \n",
       "3          AFG  1963       9.543205e+06                 0.0   \n",
       "4          AFG  1964       9.744781e+06                 0.0   \n",
       "...        ...   ...                ...                 ...   \n",
       "16099      WLD  2016       7.424286e+09                 0.0   \n",
       "16100      WLD  2017       7.509074e+09                 0.0   \n",
       "16101      WLD  2018       7.591945e+09                 0.0   \n",
       "16102      WLD  2019       7.673534e+09                 0.0   \n",
       "16103      WLD  2020       0.000000e+00                 0.0   \n",
       "\n",
       "       total_cancer_deaths  total_obesity_numbers    birth_rate    death_rate  \\\n",
       "0                      0.0                    0.0  4.613558e+05  2.898735e+05   \n",
       "1                      0.0                    0.0  4.710601e+05  2.902027e+05   \n",
       "2                      0.0                    0.0  4.811971e+05  2.907644e+05   \n",
       "3                      0.0                    0.0  4.917614e+05  2.915545e+05   \n",
       "4                      0.0                    0.0  5.027235e+05  2.925578e+05   \n",
       "...                    ...                    ...           ...           ...   \n",
       "16099                  0.0                    0.0  1.407846e+08  5.601241e+07   \n",
       "16100                  0.0                    0.0  1.399203e+08  5.662722e+07   \n",
       "16101                  0.0                    0.0  1.379825e+08  5.715841e+07   \n",
       "16102                  0.0                    0.0  0.000000e+00  0.000000e+00   \n",
       "16103                  0.0                    0.0  0.000000e+00  0.000000e+00   \n",
       "\n",
       "       Life expectancy at birth, total (years)  \\\n",
       "0                                    32.446000   \n",
       "1                                    32.962000   \n",
       "2                                    33.471000   \n",
       "3                                    33.971000   \n",
       "4                                    34.463000   \n",
       "...                                        ...   \n",
       "16099                                72.180761   \n",
       "16100                                72.385581   \n",
       "16101                                72.563282   \n",
       "16102                                 0.000000   \n",
       "16103                                 0.000000   \n",
       "\n",
       "       Immunization, DPT (% of children ages 12-23 months)  \n",
       "0                                               0.000000    \n",
       "1                                               0.000000    \n",
       "2                                               0.000000    \n",
       "3                                               0.000000    \n",
       "4                                               0.000000    \n",
       "...                                                  ...    \n",
       "16099                                          85.827988    \n",
       "16100                                          85.781897    \n",
       "16101                                          85.603028    \n",
       "16102                                          85.677425    \n",
       "16103                                           0.000000    \n",
       "\n",
       "[16104 rows x 10 columns]"
      ],
      "text/html": "<div>\n<style scoped>\n    .dataframe tbody tr th:only-of-type {\n        vertical-align: middle;\n    }\n\n    .dataframe tbody tr th {\n        vertical-align: top;\n    }\n\n    .dataframe thead th {\n        text-align: right;\n    }\n</style>\n<table border=\"1\" class=\"dataframe\">\n  <thead>\n    <tr style=\"text-align: right;\">\n      <th></th>\n      <th>LOCATION</th>\n      <th>TIME</th>\n      <th>Population, total</th>\n      <th>total_cancer_cases</th>\n      <th>total_cancer_deaths</th>\n      <th>total_obesity_numbers</th>\n      <th>birth_rate</th>\n      <th>death_rate</th>\n      <th>Life expectancy at birth, total (years)</th>\n      <th>Immunization, DPT (% of children ages 12-23 months)</th>\n    </tr>\n  </thead>\n  <tbody>\n    <tr>\n      <th>0</th>\n      <td>AFG</td>\n      <td>1960</td>\n      <td>8.996973e+06</td>\n      <td>0.0</td>\n      <td>0.0</td>\n      <td>0.0</td>\n      <td>4.613558e+05</td>\n      <td>2.898735e+05</td>\n      <td>32.446000</td>\n      <td>0.000000</td>\n    </tr>\n    <tr>\n      <th>1</th>\n      <td>AFG</td>\n      <td>1961</td>\n      <td>9.169410e+06</td>\n      <td>0.0</td>\n      <td>0.0</td>\n      <td>0.0</td>\n      <td>4.710601e+05</td>\n      <td>2.902027e+05</td>\n      <td>32.962000</td>\n      <td>0.000000</td>\n    </tr>\n    <tr>\n      <th>2</th>\n      <td>AFG</td>\n      <td>1962</td>\n      <td>9.351441e+06</td>\n      <td>0.0</td>\n      <td>0.0</td>\n      <td>0.0</td>\n      <td>4.811971e+05</td>\n      <td>2.907644e+05</td>\n      <td>33.471000</td>\n      <td>0.000000</td>\n    </tr>\n    <tr>\n      <th>3</th>\n      <td>AFG</td>\n      <td>1963</td>\n      <td>9.543205e+06</td>\n      <td>0.0</td>\n      <td>0.0</td>\n      <td>0.0</td>\n      <td>4.917614e+05</td>\n      <td>2.915545e+05</td>\n      <td>33.971000</td>\n      <td>0.000000</td>\n    </tr>\n    <tr>\n      <th>4</th>\n      <td>AFG</td>\n      <td>1964</td>\n      <td>9.744781e+06</td>\n      <td>0.0</td>\n      <td>0.0</td>\n      <td>0.0</td>\n      <td>5.027235e+05</td>\n      <td>2.925578e+05</td>\n      <td>34.463000</td>\n      <td>0.000000</td>\n    </tr>\n    <tr>\n      <th>...</th>\n      <td>...</td>\n      <td>...</td>\n      <td>...</td>\n      <td>...</td>\n      <td>...</td>\n      <td>...</td>\n      <td>...</td>\n      <td>...</td>\n      <td>...</td>\n      <td>...</td>\n    </tr>\n    <tr>\n      <th>16099</th>\n      <td>WLD</td>\n      <td>2016</td>\n      <td>7.424286e+09</td>\n      <td>0.0</td>\n      <td>0.0</td>\n      <td>0.0</td>\n      <td>1.407846e+08</td>\n      <td>5.601241e+07</td>\n      <td>72.180761</td>\n      <td>85.827988</td>\n    </tr>\n    <tr>\n      <th>16100</th>\n      <td>WLD</td>\n      <td>2017</td>\n      <td>7.509074e+09</td>\n      <td>0.0</td>\n      <td>0.0</td>\n      <td>0.0</td>\n      <td>1.399203e+08</td>\n      <td>5.662722e+07</td>\n      <td>72.385581</td>\n      <td>85.781897</td>\n    </tr>\n    <tr>\n      <th>16101</th>\n      <td>WLD</td>\n      <td>2018</td>\n      <td>7.591945e+09</td>\n      <td>0.0</td>\n      <td>0.0</td>\n      <td>0.0</td>\n      <td>1.379825e+08</td>\n      <td>5.715841e+07</td>\n      <td>72.563282</td>\n      <td>85.603028</td>\n    </tr>\n    <tr>\n      <th>16102</th>\n      <td>WLD</td>\n      <td>2019</td>\n      <td>7.673534e+09</td>\n      <td>0.0</td>\n      <td>0.0</td>\n      <td>0.0</td>\n      <td>0.000000e+00</td>\n      <td>0.000000e+00</td>\n      <td>0.000000</td>\n      <td>85.677425</td>\n    </tr>\n    <tr>\n      <th>16103</th>\n      <td>WLD</td>\n      <td>2020</td>\n      <td>0.000000e+00</td>\n      <td>0.0</td>\n      <td>0.0</td>\n      <td>0.0</td>\n      <td>0.000000e+00</td>\n      <td>0.000000e+00</td>\n      <td>0.000000</td>\n      <td>0.000000</td>\n    </tr>\n  </tbody>\n</table>\n<p>16104 rows × 10 columns</p>\n</div>"
     },
     "metadata": {},
     "execution_count": 74
    }
   ],
   "source": [
    "health_merge14 = pd.merge(health_merge13,immunisation_DTP,on=['TIME','LOCATION'],how='left')\n",
    "health_merge15 = health_merge14.drop(columns=['Population, total_y'])\n",
    "health_merge16 = health_merge15.rename(columns={'Population, total_x':'Population, total'})\n",
    "health_merge16"
   ]
  },
  {
   "cell_type": "code",
   "execution_count": 75,
   "metadata": {},
   "outputs": [
    {
     "output_type": "execute_result",
     "data": {
      "text/plain": [
       "      LOCATION  TIME  Immunization, measles (% of children ages 12-23 months)\n",
       "0          AFG  1960                                           0.000000      \n",
       "1          AFG  1961                                           0.000000      \n",
       "2          AFG  1962                                           0.000000      \n",
       "3          AFG  1963                                           0.000000      \n",
       "4          AFG  1964                                           0.000000      \n",
       "...        ...   ...                                                ...      \n",
       "16099      WLD  2016                                          85.189899      \n",
       "16100      WLD  2017                                          85.243187      \n",
       "16101      WLD  2018                                          85.634452      \n",
       "16102      WLD  2019                                          85.682657      \n",
       "16103      WLD  2020                                           0.000000      \n",
       "\n",
       "[16104 rows x 3 columns]"
      ],
      "text/html": "<div>\n<style scoped>\n    .dataframe tbody tr th:only-of-type {\n        vertical-align: middle;\n    }\n\n    .dataframe tbody tr th {\n        vertical-align: top;\n    }\n\n    .dataframe thead th {\n        text-align: right;\n    }\n</style>\n<table border=\"1\" class=\"dataframe\">\n  <thead>\n    <tr style=\"text-align: right;\">\n      <th></th>\n      <th>LOCATION</th>\n      <th>TIME</th>\n      <th>Immunization, measles (% of children ages 12-23 months)</th>\n    </tr>\n  </thead>\n  <tbody>\n    <tr>\n      <th>0</th>\n      <td>AFG</td>\n      <td>1960</td>\n      <td>0.000000</td>\n    </tr>\n    <tr>\n      <th>1</th>\n      <td>AFG</td>\n      <td>1961</td>\n      <td>0.000000</td>\n    </tr>\n    <tr>\n      <th>2</th>\n      <td>AFG</td>\n      <td>1962</td>\n      <td>0.000000</td>\n    </tr>\n    <tr>\n      <th>3</th>\n      <td>AFG</td>\n      <td>1963</td>\n      <td>0.000000</td>\n    </tr>\n    <tr>\n      <th>4</th>\n      <td>AFG</td>\n      <td>1964</td>\n      <td>0.000000</td>\n    </tr>\n    <tr>\n      <th>...</th>\n      <td>...</td>\n      <td>...</td>\n      <td>...</td>\n    </tr>\n    <tr>\n      <th>16099</th>\n      <td>WLD</td>\n      <td>2016</td>\n      <td>85.189899</td>\n    </tr>\n    <tr>\n      <th>16100</th>\n      <td>WLD</td>\n      <td>2017</td>\n      <td>85.243187</td>\n    </tr>\n    <tr>\n      <th>16101</th>\n      <td>WLD</td>\n      <td>2018</td>\n      <td>85.634452</td>\n    </tr>\n    <tr>\n      <th>16102</th>\n      <td>WLD</td>\n      <td>2019</td>\n      <td>85.682657</td>\n    </tr>\n    <tr>\n      <th>16103</th>\n      <td>WLD</td>\n      <td>2020</td>\n      <td>0.000000</td>\n    </tr>\n  </tbody>\n</table>\n<p>16104 rows × 3 columns</p>\n</div>"
     },
     "metadata": {},
     "execution_count": 75
    }
   ],
   "source": [
    "# Immunisation Measles\n",
    "immunisation_Measles = pd.read_csv('raw_data/health_data_raw/immunisation_Measles.csv')\n",
    "immunisation_Measles"
   ]
  },
  {
   "cell_type": "code",
   "execution_count": 76,
   "metadata": {},
   "outputs": [
    {
     "output_type": "execute_result",
     "data": {
      "text/plain": [
       "      LOCATION  TIME  Population, total  total_cancer_cases  \\\n",
       "0          AFG  1960       8.996973e+06                 0.0   \n",
       "1          AFG  1961       9.169410e+06                 0.0   \n",
       "2          AFG  1962       9.351441e+06                 0.0   \n",
       "3          AFG  1963       9.543205e+06                 0.0   \n",
       "4          AFG  1964       9.744781e+06                 0.0   \n",
       "...        ...   ...                ...                 ...   \n",
       "16099      WLD  2016       7.424286e+09                 0.0   \n",
       "16100      WLD  2017       7.509074e+09                 0.0   \n",
       "16101      WLD  2018       7.591945e+09                 0.0   \n",
       "16102      WLD  2019       7.673534e+09                 0.0   \n",
       "16103      WLD  2020       0.000000e+00                 0.0   \n",
       "\n",
       "       total_cancer_deaths  total_obesity_numbers    birth_rate    death_rate  \\\n",
       "0                      0.0                    0.0  4.613558e+05  2.898735e+05   \n",
       "1                      0.0                    0.0  4.710601e+05  2.902027e+05   \n",
       "2                      0.0                    0.0  4.811971e+05  2.907644e+05   \n",
       "3                      0.0                    0.0  4.917614e+05  2.915545e+05   \n",
       "4                      0.0                    0.0  5.027235e+05  2.925578e+05   \n",
       "...                    ...                    ...           ...           ...   \n",
       "16099                  0.0                    0.0  1.407846e+08  5.601241e+07   \n",
       "16100                  0.0                    0.0  1.399203e+08  5.662722e+07   \n",
       "16101                  0.0                    0.0  1.379825e+08  5.715841e+07   \n",
       "16102                  0.0                    0.0  0.000000e+00  0.000000e+00   \n",
       "16103                  0.0                    0.0  0.000000e+00  0.000000e+00   \n",
       "\n",
       "       Life expectancy at birth, total (years)  \\\n",
       "0                                    32.446000   \n",
       "1                                    32.962000   \n",
       "2                                    33.471000   \n",
       "3                                    33.971000   \n",
       "4                                    34.463000   \n",
       "...                                        ...   \n",
       "16099                                72.180761   \n",
       "16100                                72.385581   \n",
       "16101                                72.563282   \n",
       "16102                                 0.000000   \n",
       "16103                                 0.000000   \n",
       "\n",
       "       Immunization, DPT (% of children ages 12-23 months)  \\\n",
       "0                                               0.000000     \n",
       "1                                               0.000000     \n",
       "2                                               0.000000     \n",
       "3                                               0.000000     \n",
       "4                                               0.000000     \n",
       "...                                                  ...     \n",
       "16099                                          85.827988     \n",
       "16100                                          85.781897     \n",
       "16101                                          85.603028     \n",
       "16102                                          85.677425     \n",
       "16103                                           0.000000     \n",
       "\n",
       "       Immunization, measles (% of children ages 12-23 months)  \n",
       "0                                               0.000000        \n",
       "1                                               0.000000        \n",
       "2                                               0.000000        \n",
       "3                                               0.000000        \n",
       "4                                               0.000000        \n",
       "...                                                  ...        \n",
       "16099                                          85.189899        \n",
       "16100                                          85.243187        \n",
       "16101                                          85.634452        \n",
       "16102                                          85.682657        \n",
       "16103                                           0.000000        \n",
       "\n",
       "[16104 rows x 11 columns]"
      ],
      "text/html": "<div>\n<style scoped>\n    .dataframe tbody tr th:only-of-type {\n        vertical-align: middle;\n    }\n\n    .dataframe tbody tr th {\n        vertical-align: top;\n    }\n\n    .dataframe thead th {\n        text-align: right;\n    }\n</style>\n<table border=\"1\" class=\"dataframe\">\n  <thead>\n    <tr style=\"text-align: right;\">\n      <th></th>\n      <th>LOCATION</th>\n      <th>TIME</th>\n      <th>Population, total</th>\n      <th>total_cancer_cases</th>\n      <th>total_cancer_deaths</th>\n      <th>total_obesity_numbers</th>\n      <th>birth_rate</th>\n      <th>death_rate</th>\n      <th>Life expectancy at birth, total (years)</th>\n      <th>Immunization, DPT (% of children ages 12-23 months)</th>\n      <th>Immunization, measles (% of children ages 12-23 months)</th>\n    </tr>\n  </thead>\n  <tbody>\n    <tr>\n      <th>0</th>\n      <td>AFG</td>\n      <td>1960</td>\n      <td>8.996973e+06</td>\n      <td>0.0</td>\n      <td>0.0</td>\n      <td>0.0</td>\n      <td>4.613558e+05</td>\n      <td>2.898735e+05</td>\n      <td>32.446000</td>\n      <td>0.000000</td>\n      <td>0.000000</td>\n    </tr>\n    <tr>\n      <th>1</th>\n      <td>AFG</td>\n      <td>1961</td>\n      <td>9.169410e+06</td>\n      <td>0.0</td>\n      <td>0.0</td>\n      <td>0.0</td>\n      <td>4.710601e+05</td>\n      <td>2.902027e+05</td>\n      <td>32.962000</td>\n      <td>0.000000</td>\n      <td>0.000000</td>\n    </tr>\n    <tr>\n      <th>2</th>\n      <td>AFG</td>\n      <td>1962</td>\n      <td>9.351441e+06</td>\n      <td>0.0</td>\n      <td>0.0</td>\n      <td>0.0</td>\n      <td>4.811971e+05</td>\n      <td>2.907644e+05</td>\n      <td>33.471000</td>\n      <td>0.000000</td>\n      <td>0.000000</td>\n    </tr>\n    <tr>\n      <th>3</th>\n      <td>AFG</td>\n      <td>1963</td>\n      <td>9.543205e+06</td>\n      <td>0.0</td>\n      <td>0.0</td>\n      <td>0.0</td>\n      <td>4.917614e+05</td>\n      <td>2.915545e+05</td>\n      <td>33.971000</td>\n      <td>0.000000</td>\n      <td>0.000000</td>\n    </tr>\n    <tr>\n      <th>4</th>\n      <td>AFG</td>\n      <td>1964</td>\n      <td>9.744781e+06</td>\n      <td>0.0</td>\n      <td>0.0</td>\n      <td>0.0</td>\n      <td>5.027235e+05</td>\n      <td>2.925578e+05</td>\n      <td>34.463000</td>\n      <td>0.000000</td>\n      <td>0.000000</td>\n    </tr>\n    <tr>\n      <th>...</th>\n      <td>...</td>\n      <td>...</td>\n      <td>...</td>\n      <td>...</td>\n      <td>...</td>\n      <td>...</td>\n      <td>...</td>\n      <td>...</td>\n      <td>...</td>\n      <td>...</td>\n      <td>...</td>\n    </tr>\n    <tr>\n      <th>16099</th>\n      <td>WLD</td>\n      <td>2016</td>\n      <td>7.424286e+09</td>\n      <td>0.0</td>\n      <td>0.0</td>\n      <td>0.0</td>\n      <td>1.407846e+08</td>\n      <td>5.601241e+07</td>\n      <td>72.180761</td>\n      <td>85.827988</td>\n      <td>85.189899</td>\n    </tr>\n    <tr>\n      <th>16100</th>\n      <td>WLD</td>\n      <td>2017</td>\n      <td>7.509074e+09</td>\n      <td>0.0</td>\n      <td>0.0</td>\n      <td>0.0</td>\n      <td>1.399203e+08</td>\n      <td>5.662722e+07</td>\n      <td>72.385581</td>\n      <td>85.781897</td>\n      <td>85.243187</td>\n    </tr>\n    <tr>\n      <th>16101</th>\n      <td>WLD</td>\n      <td>2018</td>\n      <td>7.591945e+09</td>\n      <td>0.0</td>\n      <td>0.0</td>\n      <td>0.0</td>\n      <td>1.379825e+08</td>\n      <td>5.715841e+07</td>\n      <td>72.563282</td>\n      <td>85.603028</td>\n      <td>85.634452</td>\n    </tr>\n    <tr>\n      <th>16102</th>\n      <td>WLD</td>\n      <td>2019</td>\n      <td>7.673534e+09</td>\n      <td>0.0</td>\n      <td>0.0</td>\n      <td>0.0</td>\n      <td>0.000000e+00</td>\n      <td>0.000000e+00</td>\n      <td>0.000000</td>\n      <td>85.677425</td>\n      <td>85.682657</td>\n    </tr>\n    <tr>\n      <th>16103</th>\n      <td>WLD</td>\n      <td>2020</td>\n      <td>0.000000e+00</td>\n      <td>0.0</td>\n      <td>0.0</td>\n      <td>0.0</td>\n      <td>0.000000e+00</td>\n      <td>0.000000e+00</td>\n      <td>0.000000</td>\n      <td>0.000000</td>\n      <td>0.000000</td>\n    </tr>\n  </tbody>\n</table>\n<p>16104 rows × 11 columns</p>\n</div>"
     },
     "metadata": {},
     "execution_count": 76
    }
   ],
   "source": [
    "health_merge17 = pd.merge(health_merge16, immunisation_Measles, on=['LOCATION','TIME'],how='left')\n",
    "health_merge17"
   ]
  },
  {
   "cell_type": "code",
   "execution_count": 77,
   "metadata": {},
   "outputs": [
    {
     "output_type": "execute_result",
     "data": {
      "text/plain": [
       "           Country LOCATION ISO CODE 2 letter  TIME  Population, total  \\\n",
       "0      Afghanistan      AFG                AF  1960          8996973.0   \n",
       "1      Afghanistan      AFG                AF  1961          9169410.0   \n",
       "2      Afghanistan      AFG                AF  1962          9351441.0   \n",
       "3      Afghanistan      AFG                AF  1963          9543205.0   \n",
       "4      Afghanistan      AFG                AF  1964          9744781.0   \n",
       "...            ...      ...               ...   ...                ...   \n",
       "13171     Zimbabwe      ZWE                ZW  2016         14030390.0   \n",
       "13172     Zimbabwe      ZWE                ZW  2017         14236745.0   \n",
       "13173     Zimbabwe      ZWE                ZW  2018         14439018.0   \n",
       "13174     Zimbabwe      ZWE                ZW  2019         14645468.0   \n",
       "13175     Zimbabwe      ZWE                ZW  2020                0.0   \n",
       "\n",
       "       total_cancer_cases  total_cancer_deaths  total_obesity_numbers  \\\n",
       "0                0.000000             0.000000                   0.00   \n",
       "1                0.000000             0.000000                   0.00   \n",
       "2                0.000000             0.000000                   0.00   \n",
       "3                0.000000             0.000000                   0.00   \n",
       "4                0.000000             0.000000                   0.00   \n",
       "...                   ...                  ...                    ...   \n",
       "13171        79553.232681          9698.880172             2174710.45   \n",
       "13172        80654.107052          9871.972337                   0.00   \n",
       "13173            0.000000             0.000000                   0.00   \n",
       "13174            0.000000             0.000000                   0.00   \n",
       "13175            0.000000             0.000000                   0.00   \n",
       "\n",
       "          birth_rate     death_rate  Life expectancy at birth, total (years)  \\\n",
       "0      461355.778467  289873.473087                                   32.446   \n",
       "1      471060.099930  290202.657090                                   32.962   \n",
       "2      481197.099537  290764.355013                                   33.471   \n",
       "3      491761.353650  291554.455955                                   33.971   \n",
       "4      502723.507009  292557.815182                                   34.463   \n",
       "...              ...            ...                                      ...   \n",
       "13171  461094.736960  116255.811540                                   60.294   \n",
       "13172  451760.392340  114520.376780                                   60.812   \n",
       "13173  442931.316168  113822.778894                                   61.195   \n",
       "13174       0.000000       0.000000                                    0.000   \n",
       "13175       0.000000       0.000000                                    0.000   \n",
       "\n",
       "       Immunization, DPT (% of children ages 12-23 months)  \\\n",
       "0                                                    0.0     \n",
       "1                                                    0.0     \n",
       "2                                                    0.0     \n",
       "3                                                    0.0     \n",
       "4                                                    0.0     \n",
       "...                                                  ...     \n",
       "13171                                               90.0     \n",
       "13172                                               89.0     \n",
       "13173                                               89.0     \n",
       "13174                                               90.0     \n",
       "13175                                                0.0     \n",
       "\n",
       "       Immunization, measles (% of children ages 12-23 months)  \n",
       "0                                                    0.0        \n",
       "1                                                    0.0        \n",
       "2                                                    0.0        \n",
       "3                                                    0.0        \n",
       "4                                                    0.0        \n",
       "...                                                  ...        \n",
       "13171                                               95.0        \n",
       "13172                                               90.0        \n",
       "13173                                               88.0        \n",
       "13174                                               85.0        \n",
       "13175                                                0.0        \n",
       "\n",
       "[13176 rows x 13 columns]"
      ],
      "text/html": "<div>\n<style scoped>\n    .dataframe tbody tr th:only-of-type {\n        vertical-align: middle;\n    }\n\n    .dataframe tbody tr th {\n        vertical-align: top;\n    }\n\n    .dataframe thead th {\n        text-align: right;\n    }\n</style>\n<table border=\"1\" class=\"dataframe\">\n  <thead>\n    <tr style=\"text-align: right;\">\n      <th></th>\n      <th>Country</th>\n      <th>LOCATION</th>\n      <th>ISO CODE 2 letter</th>\n      <th>TIME</th>\n      <th>Population, total</th>\n      <th>total_cancer_cases</th>\n      <th>total_cancer_deaths</th>\n      <th>total_obesity_numbers</th>\n      <th>birth_rate</th>\n      <th>death_rate</th>\n      <th>Life expectancy at birth, total (years)</th>\n      <th>Immunization, DPT (% of children ages 12-23 months)</th>\n      <th>Immunization, measles (% of children ages 12-23 months)</th>\n    </tr>\n  </thead>\n  <tbody>\n    <tr>\n      <th>0</th>\n      <td>Afghanistan</td>\n      <td>AFG</td>\n      <td>AF</td>\n      <td>1960</td>\n      <td>8996973.0</td>\n      <td>0.000000</td>\n      <td>0.000000</td>\n      <td>0.00</td>\n      <td>461355.778467</td>\n      <td>289873.473087</td>\n      <td>32.446</td>\n      <td>0.0</td>\n      <td>0.0</td>\n    </tr>\n    <tr>\n      <th>1</th>\n      <td>Afghanistan</td>\n      <td>AFG</td>\n      <td>AF</td>\n      <td>1961</td>\n      <td>9169410.0</td>\n      <td>0.000000</td>\n      <td>0.000000</td>\n      <td>0.00</td>\n      <td>471060.099930</td>\n      <td>290202.657090</td>\n      <td>32.962</td>\n      <td>0.0</td>\n      <td>0.0</td>\n    </tr>\n    <tr>\n      <th>2</th>\n      <td>Afghanistan</td>\n      <td>AFG</td>\n      <td>AF</td>\n      <td>1962</td>\n      <td>9351441.0</td>\n      <td>0.000000</td>\n      <td>0.000000</td>\n      <td>0.00</td>\n      <td>481197.099537</td>\n      <td>290764.355013</td>\n      <td>33.471</td>\n      <td>0.0</td>\n      <td>0.0</td>\n    </tr>\n    <tr>\n      <th>3</th>\n      <td>Afghanistan</td>\n      <td>AFG</td>\n      <td>AF</td>\n      <td>1963</td>\n      <td>9543205.0</td>\n      <td>0.000000</td>\n      <td>0.000000</td>\n      <td>0.00</td>\n      <td>491761.353650</td>\n      <td>291554.455955</td>\n      <td>33.971</td>\n      <td>0.0</td>\n      <td>0.0</td>\n    </tr>\n    <tr>\n      <th>4</th>\n      <td>Afghanistan</td>\n      <td>AFG</td>\n      <td>AF</td>\n      <td>1964</td>\n      <td>9744781.0</td>\n      <td>0.000000</td>\n      <td>0.000000</td>\n      <td>0.00</td>\n      <td>502723.507009</td>\n      <td>292557.815182</td>\n      <td>34.463</td>\n      <td>0.0</td>\n      <td>0.0</td>\n    </tr>\n    <tr>\n      <th>...</th>\n      <td>...</td>\n      <td>...</td>\n      <td>...</td>\n      <td>...</td>\n      <td>...</td>\n      <td>...</td>\n      <td>...</td>\n      <td>...</td>\n      <td>...</td>\n      <td>...</td>\n      <td>...</td>\n      <td>...</td>\n      <td>...</td>\n    </tr>\n    <tr>\n      <th>13171</th>\n      <td>Zimbabwe</td>\n      <td>ZWE</td>\n      <td>ZW</td>\n      <td>2016</td>\n      <td>14030390.0</td>\n      <td>79553.232681</td>\n      <td>9698.880172</td>\n      <td>2174710.45</td>\n      <td>461094.736960</td>\n      <td>116255.811540</td>\n      <td>60.294</td>\n      <td>90.0</td>\n      <td>95.0</td>\n    </tr>\n    <tr>\n      <th>13172</th>\n      <td>Zimbabwe</td>\n      <td>ZWE</td>\n      <td>ZW</td>\n      <td>2017</td>\n      <td>14236745.0</td>\n      <td>80654.107052</td>\n      <td>9871.972337</td>\n      <td>0.00</td>\n      <td>451760.392340</td>\n      <td>114520.376780</td>\n      <td>60.812</td>\n      <td>89.0</td>\n      <td>90.0</td>\n    </tr>\n    <tr>\n      <th>13173</th>\n      <td>Zimbabwe</td>\n      <td>ZWE</td>\n      <td>ZW</td>\n      <td>2018</td>\n      <td>14439018.0</td>\n      <td>0.000000</td>\n      <td>0.000000</td>\n      <td>0.00</td>\n      <td>442931.316168</td>\n      <td>113822.778894</td>\n      <td>61.195</td>\n      <td>89.0</td>\n      <td>88.0</td>\n    </tr>\n    <tr>\n      <th>13174</th>\n      <td>Zimbabwe</td>\n      <td>ZWE</td>\n      <td>ZW</td>\n      <td>2019</td>\n      <td>14645468.0</td>\n      <td>0.000000</td>\n      <td>0.000000</td>\n      <td>0.00</td>\n      <td>0.000000</td>\n      <td>0.000000</td>\n      <td>0.000</td>\n      <td>90.0</td>\n      <td>85.0</td>\n    </tr>\n    <tr>\n      <th>13175</th>\n      <td>Zimbabwe</td>\n      <td>ZWE</td>\n      <td>ZW</td>\n      <td>2020</td>\n      <td>0.0</td>\n      <td>0.000000</td>\n      <td>0.000000</td>\n      <td>0.00</td>\n      <td>0.000000</td>\n      <td>0.000000</td>\n      <td>0.000</td>\n      <td>0.0</td>\n      <td>0.0</td>\n    </tr>\n  </tbody>\n</table>\n<p>13176 rows × 13 columns</p>\n</div>"
     },
     "metadata": {},
     "execution_count": 77
    }
   ],
   "source": [
    "# Merging health data with list of countries dataframe\n",
    "health_merge18 = pd.merge(country_df,health_merge17, on=['LOCATION'],how='inner')\n",
    "health_merge18"
   ]
  },
  {
   "cell_type": "code",
   "execution_count": 78,
   "metadata": {},
   "outputs": [],
   "source": [
    "# Exporting the Health Dataset to CSV\n",
    "health_merge18.to_csv('cleaned_data/healthData.csv',index=False)"
   ]
  },
  {
   "source": [
    "# Agriculture"
   ],
   "cell_type": "markdown",
   "metadata": {}
  },
  {
   "cell_type": "code",
   "execution_count": 79,
   "metadata": {},
   "outputs": [
    {
     "output_type": "execute_result",
     "data": {
      "text/plain": [
       "      LOCATION  TIME  Land area (hectare)  Agricultural land (% of land area)  \\\n",
       "0          AFG  1960         0.000000e+00                            0.000000   \n",
       "1          AFG  1961         6.528600e+07                           57.745918   \n",
       "2          AFG  1962         6.528600e+07                           57.837821   \n",
       "3          AFG  1963         6.528600e+07                           57.914407   \n",
       "4          AFG  1964         6.528600e+07                           58.010906   \n",
       "...        ...   ...                  ...                                 ...   \n",
       "16099      WLD  2016         1.273546e+10                           37.430740   \n",
       "16100      WLD  2017         1.273546e+10                            0.000000   \n",
       "16101      WLD  2018         1.273432e+10                            0.000000   \n",
       "16102      WLD  2019         0.000000e+00                            0.000000   \n",
       "16103      WLD  2020         0.000000e+00                            0.000000   \n",
       "\n",
       "       Forest area (% of land area)  Cereal yield (kg per hectare)  \\\n",
       "0                          6.857399                       0.000000   \n",
       "1                          6.171659                    1115.100000   \n",
       "2                          6.233999                    1079.000000   \n",
       "3                          6.296968                     985.800000   \n",
       "4                          6.360574                    1082.800000   \n",
       "...                             ...                            ...   \n",
       "16099                     30.716421                    3967.029197   \n",
       "16100                      0.000000                    4074.175586   \n",
       "16101                      0.000000                       0.000000   \n",
       "16102                      0.000000                       0.000000   \n",
       "16103                      0.000000                       0.000000   \n",
       "\n",
       "       Cash Crop yield(kg per hectare)  \\\n",
       "0                             0.000000   \n",
       "1                           223.020000   \n",
       "2                           215.800000   \n",
       "3                           197.160000   \n",
       "4                           216.560000   \n",
       "...                                ...   \n",
       "16099                       793.405839   \n",
       "16100                       814.835117   \n",
       "16101                         0.000000   \n",
       "16102                         0.000000   \n",
       "16103                         0.000000   \n",
       "\n",
       "       Employment in agriculture (% of total employment) (modeled ILO estimate)  \\\n",
       "0                                              77.550771                          \n",
       "1                                              78.334112                          \n",
       "2                                              87.037902                          \n",
       "3                                              78.334112                          \n",
       "4                                              79.125366                          \n",
       "...                                                  ...                          \n",
       "16099                                          28.401490                          \n",
       "16100                                          27.812793                          \n",
       "16101                                          27.265629                          \n",
       "16102                                          26.855347                          \n",
       "16103                                          26.497922                          \n",
       "\n",
       "       Livestock production index (2004-2006 = 100)  \n",
       "0                                         42.936300  \n",
       "1                                         43.370000  \n",
       "2                                         43.990000  \n",
       "3                                         47.030000  \n",
       "4                                         48.560000  \n",
       "...                                             ...  \n",
       "16099                                    118.883783  \n",
       "16100                                    118.883664  \n",
       "16101                                    118.883545  \n",
       "16102                                    118.883426  \n",
       "16103                                    118.883308  \n",
       "\n",
       "[16104 rows x 9 columns]"
      ],
      "text/html": "<div>\n<style scoped>\n    .dataframe tbody tr th:only-of-type {\n        vertical-align: middle;\n    }\n\n    .dataframe tbody tr th {\n        vertical-align: top;\n    }\n\n    .dataframe thead th {\n        text-align: right;\n    }\n</style>\n<table border=\"1\" class=\"dataframe\">\n  <thead>\n    <tr style=\"text-align: right;\">\n      <th></th>\n      <th>LOCATION</th>\n      <th>TIME</th>\n      <th>Land area (hectare)</th>\n      <th>Agricultural land (% of land area)</th>\n      <th>Forest area (% of land area)</th>\n      <th>Cereal yield (kg per hectare)</th>\n      <th>Cash Crop yield(kg per hectare)</th>\n      <th>Employment in agriculture (% of total employment) (modeled ILO estimate)</th>\n      <th>Livestock production index (2004-2006 = 100)</th>\n    </tr>\n  </thead>\n  <tbody>\n    <tr>\n      <th>0</th>\n      <td>AFG</td>\n      <td>1960</td>\n      <td>0.000000e+00</td>\n      <td>0.000000</td>\n      <td>6.857399</td>\n      <td>0.000000</td>\n      <td>0.000000</td>\n      <td>77.550771</td>\n      <td>42.936300</td>\n    </tr>\n    <tr>\n      <th>1</th>\n      <td>AFG</td>\n      <td>1961</td>\n      <td>6.528600e+07</td>\n      <td>57.745918</td>\n      <td>6.171659</td>\n      <td>1115.100000</td>\n      <td>223.020000</td>\n      <td>78.334112</td>\n      <td>43.370000</td>\n    </tr>\n    <tr>\n      <th>2</th>\n      <td>AFG</td>\n      <td>1962</td>\n      <td>6.528600e+07</td>\n      <td>57.837821</td>\n      <td>6.233999</td>\n      <td>1079.000000</td>\n      <td>215.800000</td>\n      <td>87.037902</td>\n      <td>43.990000</td>\n    </tr>\n    <tr>\n      <th>3</th>\n      <td>AFG</td>\n      <td>1963</td>\n      <td>6.528600e+07</td>\n      <td>57.914407</td>\n      <td>6.296968</td>\n      <td>985.800000</td>\n      <td>197.160000</td>\n      <td>78.334112</td>\n      <td>47.030000</td>\n    </tr>\n    <tr>\n      <th>4</th>\n      <td>AFG</td>\n      <td>1964</td>\n      <td>6.528600e+07</td>\n      <td>58.010906</td>\n      <td>6.360574</td>\n      <td>1082.800000</td>\n      <td>216.560000</td>\n      <td>79.125366</td>\n      <td>48.560000</td>\n    </tr>\n    <tr>\n      <th>...</th>\n      <td>...</td>\n      <td>...</td>\n      <td>...</td>\n      <td>...</td>\n      <td>...</td>\n      <td>...</td>\n      <td>...</td>\n      <td>...</td>\n      <td>...</td>\n    </tr>\n    <tr>\n      <th>16099</th>\n      <td>WLD</td>\n      <td>2016</td>\n      <td>1.273546e+10</td>\n      <td>37.430740</td>\n      <td>30.716421</td>\n      <td>3967.029197</td>\n      <td>793.405839</td>\n      <td>28.401490</td>\n      <td>118.883783</td>\n    </tr>\n    <tr>\n      <th>16100</th>\n      <td>WLD</td>\n      <td>2017</td>\n      <td>1.273546e+10</td>\n      <td>0.000000</td>\n      <td>0.000000</td>\n      <td>4074.175586</td>\n      <td>814.835117</td>\n      <td>27.812793</td>\n      <td>118.883664</td>\n    </tr>\n    <tr>\n      <th>16101</th>\n      <td>WLD</td>\n      <td>2018</td>\n      <td>1.273432e+10</td>\n      <td>0.000000</td>\n      <td>0.000000</td>\n      <td>0.000000</td>\n      <td>0.000000</td>\n      <td>27.265629</td>\n      <td>118.883545</td>\n    </tr>\n    <tr>\n      <th>16102</th>\n      <td>WLD</td>\n      <td>2019</td>\n      <td>0.000000e+00</td>\n      <td>0.000000</td>\n      <td>0.000000</td>\n      <td>0.000000</td>\n      <td>0.000000</td>\n      <td>26.855347</td>\n      <td>118.883426</td>\n    </tr>\n    <tr>\n      <th>16103</th>\n      <td>WLD</td>\n      <td>2020</td>\n      <td>0.000000e+00</td>\n      <td>0.000000</td>\n      <td>0.000000</td>\n      <td>0.000000</td>\n      <td>0.000000</td>\n      <td>26.497922</td>\n      <td>118.883308</td>\n    </tr>\n  </tbody>\n</table>\n<p>16104 rows × 9 columns</p>\n</div>"
     },
     "metadata": {},
     "execution_count": 79
    }
   ],
   "source": [
    "# Opening the Agricultural Dataset\n",
    "agriculture = pd.read_csv('raw_data/agriculture_data_raw/arableland.csv')\n",
    "agriculture"
   ]
  },
  {
   "cell_type": "code",
   "execution_count": 80,
   "metadata": {},
   "outputs": [
    {
     "output_type": "execute_result",
     "data": {
      "text/plain": [
       "           Country LOCATION ISO CODE 2 letter  TIME  Land area (hectare)  \\\n",
       "0      Afghanistan      AFG                AF  1960                  0.0   \n",
       "1      Afghanistan      AFG                AF  1961           65286000.0   \n",
       "2      Afghanistan      AFG                AF  1962           65286000.0   \n",
       "3      Afghanistan      AFG                AF  1963           65286000.0   \n",
       "4      Afghanistan      AFG                AF  1964           65286000.0   \n",
       "...            ...      ...               ...   ...                  ...   \n",
       "13171     Zimbabwe      ZWE                ZW  2016           38685000.0   \n",
       "13172     Zimbabwe      ZWE                ZW  2017           38685000.0   \n",
       "13173     Zimbabwe      ZWE                ZW  2018           38685000.0   \n",
       "13174     Zimbabwe      ZWE                ZW  2019                  0.0   \n",
       "13175     Zimbabwe      ZWE                ZW  2020                  0.0   \n",
       "\n",
       "       Agricultural land (% of land area)  Forest area (% of land area)  \\\n",
       "0                                0.000000                      6.857399   \n",
       "1                               57.745918                      6.171659   \n",
       "2                               57.837821                      6.233999   \n",
       "3                               57.914407                      6.296968   \n",
       "4                               58.010906                      6.360574   \n",
       "...                                   ...                           ...   \n",
       "13171                           41.876696                     35.542457   \n",
       "13172                            0.000000                      0.000000   \n",
       "13173                            0.000000                      0.000000   \n",
       "13174                            0.000000                      0.000000   \n",
       "13175                            0.000000                      0.000000   \n",
       "\n",
       "       Cereal yield (kg per hectare)  Cash Crop yield(kg per hectare)  \\\n",
       "0                                0.0                             0.00   \n",
       "1                             1115.1                           223.02   \n",
       "2                             1079.0                           215.80   \n",
       "3                              985.8                           197.16   \n",
       "4                             1082.8                           216.56   \n",
       "...                              ...                              ...   \n",
       "13171                          581.8                           116.36   \n",
       "13172                          616.0                           123.20   \n",
       "13173                            0.0                             0.00   \n",
       "13174                            0.0                             0.00   \n",
       "13175                            0.0                             0.00   \n",
       "\n",
       "       Employment in agriculture (% of total employment) (modeled ILO estimate)  \\\n",
       "0                                              77.550771                          \n",
       "1                                              78.334112                          \n",
       "2                                              87.037902                          \n",
       "3                                              78.334112                          \n",
       "4                                              79.125366                          \n",
       "...                                                  ...                          \n",
       "13171                                          67.066002                          \n",
       "13172                                          66.764999                          \n",
       "13173                                          66.306999                          \n",
       "13174                                          66.543999                          \n",
       "13175                                          66.269997                          \n",
       "\n",
       "       Livestock production index (2004-2006 = 100)  \n",
       "0                                         42.936300  \n",
       "1                                         43.370000  \n",
       "2                                         43.990000  \n",
       "3                                         47.030000  \n",
       "4                                         48.560000  \n",
       "...                                             ...  \n",
       "13171                                    106.250000  \n",
       "13172                                    106.249894  \n",
       "13173                                    106.249787  \n",
       "13174                                    106.249681  \n",
       "13175                                    106.249575  \n",
       "\n",
       "[13176 rows x 11 columns]"
      ],
      "text/html": "<div>\n<style scoped>\n    .dataframe tbody tr th:only-of-type {\n        vertical-align: middle;\n    }\n\n    .dataframe tbody tr th {\n        vertical-align: top;\n    }\n\n    .dataframe thead th {\n        text-align: right;\n    }\n</style>\n<table border=\"1\" class=\"dataframe\">\n  <thead>\n    <tr style=\"text-align: right;\">\n      <th></th>\n      <th>Country</th>\n      <th>LOCATION</th>\n      <th>ISO CODE 2 letter</th>\n      <th>TIME</th>\n      <th>Land area (hectare)</th>\n      <th>Agricultural land (% of land area)</th>\n      <th>Forest area (% of land area)</th>\n      <th>Cereal yield (kg per hectare)</th>\n      <th>Cash Crop yield(kg per hectare)</th>\n      <th>Employment in agriculture (% of total employment) (modeled ILO estimate)</th>\n      <th>Livestock production index (2004-2006 = 100)</th>\n    </tr>\n  </thead>\n  <tbody>\n    <tr>\n      <th>0</th>\n      <td>Afghanistan</td>\n      <td>AFG</td>\n      <td>AF</td>\n      <td>1960</td>\n      <td>0.0</td>\n      <td>0.000000</td>\n      <td>6.857399</td>\n      <td>0.0</td>\n      <td>0.00</td>\n      <td>77.550771</td>\n      <td>42.936300</td>\n    </tr>\n    <tr>\n      <th>1</th>\n      <td>Afghanistan</td>\n      <td>AFG</td>\n      <td>AF</td>\n      <td>1961</td>\n      <td>65286000.0</td>\n      <td>57.745918</td>\n      <td>6.171659</td>\n      <td>1115.1</td>\n      <td>223.02</td>\n      <td>78.334112</td>\n      <td>43.370000</td>\n    </tr>\n    <tr>\n      <th>2</th>\n      <td>Afghanistan</td>\n      <td>AFG</td>\n      <td>AF</td>\n      <td>1962</td>\n      <td>65286000.0</td>\n      <td>57.837821</td>\n      <td>6.233999</td>\n      <td>1079.0</td>\n      <td>215.80</td>\n      <td>87.037902</td>\n      <td>43.990000</td>\n    </tr>\n    <tr>\n      <th>3</th>\n      <td>Afghanistan</td>\n      <td>AFG</td>\n      <td>AF</td>\n      <td>1963</td>\n      <td>65286000.0</td>\n      <td>57.914407</td>\n      <td>6.296968</td>\n      <td>985.8</td>\n      <td>197.16</td>\n      <td>78.334112</td>\n      <td>47.030000</td>\n    </tr>\n    <tr>\n      <th>4</th>\n      <td>Afghanistan</td>\n      <td>AFG</td>\n      <td>AF</td>\n      <td>1964</td>\n      <td>65286000.0</td>\n      <td>58.010906</td>\n      <td>6.360574</td>\n      <td>1082.8</td>\n      <td>216.56</td>\n      <td>79.125366</td>\n      <td>48.560000</td>\n    </tr>\n    <tr>\n      <th>...</th>\n      <td>...</td>\n      <td>...</td>\n      <td>...</td>\n      <td>...</td>\n      <td>...</td>\n      <td>...</td>\n      <td>...</td>\n      <td>...</td>\n      <td>...</td>\n      <td>...</td>\n      <td>...</td>\n    </tr>\n    <tr>\n      <th>13171</th>\n      <td>Zimbabwe</td>\n      <td>ZWE</td>\n      <td>ZW</td>\n      <td>2016</td>\n      <td>38685000.0</td>\n      <td>41.876696</td>\n      <td>35.542457</td>\n      <td>581.8</td>\n      <td>116.36</td>\n      <td>67.066002</td>\n      <td>106.250000</td>\n    </tr>\n    <tr>\n      <th>13172</th>\n      <td>Zimbabwe</td>\n      <td>ZWE</td>\n      <td>ZW</td>\n      <td>2017</td>\n      <td>38685000.0</td>\n      <td>0.000000</td>\n      <td>0.000000</td>\n      <td>616.0</td>\n      <td>123.20</td>\n      <td>66.764999</td>\n      <td>106.249894</td>\n    </tr>\n    <tr>\n      <th>13173</th>\n      <td>Zimbabwe</td>\n      <td>ZWE</td>\n      <td>ZW</td>\n      <td>2018</td>\n      <td>38685000.0</td>\n      <td>0.000000</td>\n      <td>0.000000</td>\n      <td>0.0</td>\n      <td>0.00</td>\n      <td>66.306999</td>\n      <td>106.249787</td>\n    </tr>\n    <tr>\n      <th>13174</th>\n      <td>Zimbabwe</td>\n      <td>ZWE</td>\n      <td>ZW</td>\n      <td>2019</td>\n      <td>0.0</td>\n      <td>0.000000</td>\n      <td>0.000000</td>\n      <td>0.0</td>\n      <td>0.00</td>\n      <td>66.543999</td>\n      <td>106.249681</td>\n    </tr>\n    <tr>\n      <th>13175</th>\n      <td>Zimbabwe</td>\n      <td>ZWE</td>\n      <td>ZW</td>\n      <td>2020</td>\n      <td>0.0</td>\n      <td>0.000000</td>\n      <td>0.000000</td>\n      <td>0.0</td>\n      <td>0.00</td>\n      <td>66.269997</td>\n      <td>106.249575</td>\n    </tr>\n  </tbody>\n</table>\n<p>13176 rows × 11 columns</p>\n</div>"
     },
     "metadata": {},
     "execution_count": 80
    }
   ],
   "source": [
    "# Merging agriculture dataset with country list dataframe\n",
    "agriculture_data_final = pd.merge(country_df, agriculture, on=['LOCATION'],how='inner')\n",
    "agriculture_data_final.to_csv('cleaned_data/agricultureData.csv', index=False)\n",
    "agriculture_data_final"
   ]
  },
  {
   "source": [
    "# Environment Data"
   ],
   "cell_type": "markdown",
   "metadata": {}
  },
  {
   "cell_type": "code",
   "execution_count": 81,
   "metadata": {},
   "outputs": [
    {
     "output_type": "execute_result",
     "data": {
      "text/plain": [
       "      LOCATION  TIME  \\\n",
       "0          AFG  1960   \n",
       "1          AFG  1961   \n",
       "2          AFG  1962   \n",
       "3          AFG  1963   \n",
       "4          AFG  1964   \n",
       "...        ...   ...   \n",
       "16099      WLD  2016   \n",
       "16100      WLD  2017   \n",
       "16101      WLD  2018   \n",
       "16102      WLD  2019   \n",
       "16103      WLD  2020   \n",
       "\n",
       "       PM2.5 air pollution, mean annual exposure (micrograms per cubic meter)  \\\n",
       "0                                              64.951772                        \n",
       "1                                              64.958268                        \n",
       "2                                              64.964764                        \n",
       "3                                              64.971261                        \n",
       "4                                              64.977759                        \n",
       "...                                                  ...                        \n",
       "16099                                          45.155516                        \n",
       "16100                                          45.528389                        \n",
       "16101                                          45.482860                        \n",
       "16102                                          45.437378                        \n",
       "16103                                          45.391940                        \n",
       "\n",
       "      Access to electricity (% of population)  \\\n",
       "0                                 22.25299274   \n",
       "1                                 22.27526801   \n",
       "2                                 22.29756558   \n",
       "3                                 22.31988546   \n",
       "4                                 22.34222769   \n",
       "...                                       ...   \n",
       "16099                             87.95486844   \n",
       "16100                              88.8495377   \n",
       "16101                             89.58855123   \n",
       "16102                             89.58944712   \n",
       "16103                             89.59034303   \n",
       "\n",
       "      Renewable electricity output (% of total electricity output)  \\\n",
       "0                                            2.871174195             \n",
       "1                                             3.19019355             \n",
       "2                                              3.5446595             \n",
       "3                                            3.938510556             \n",
       "4                                             4.37612284             \n",
       "...                                                  ...             \n",
       "16099                                        22.62591152             \n",
       "16100                                        22.39965241             \n",
       "16101                                        22.17565588             \n",
       "16102                                        21.95389932             \n",
       "16103                                        21.73436033             \n",
       "\n",
       "       Urban population (% of total population)  \\\n",
       "0                                      8.401000   \n",
       "1                                      8.684000   \n",
       "2                                      8.976000   \n",
       "3                                      9.276000   \n",
       "4                                      9.586000   \n",
       "...                                         ...   \n",
       "16099                                 54.370281   \n",
       "16100                                 54.823078   \n",
       "16101                                 55.270468   \n",
       "16102                                 55.714285   \n",
       "16103                                  0.000000   \n",
       "\n",
       "       Electric power consumption (kWh per capita)  \n",
       "0                                       138.332032  \n",
       "1                                       138.470503  \n",
       "2                                       138.609112  \n",
       "3                                       138.747860  \n",
       "4                                       138.886746  \n",
       "...                                            ...  \n",
       "16099                                  3139.062621  \n",
       "16100                                  3142.204826  \n",
       "16101                                  3145.350176  \n",
       "16102                                  3148.498675  \n",
       "16103                                  3151.650325  \n",
       "\n",
       "[16104 rows x 7 columns]"
      ],
      "text/html": "<div>\n<style scoped>\n    .dataframe tbody tr th:only-of-type {\n        vertical-align: middle;\n    }\n\n    .dataframe tbody tr th {\n        vertical-align: top;\n    }\n\n    .dataframe thead th {\n        text-align: right;\n    }\n</style>\n<table border=\"1\" class=\"dataframe\">\n  <thead>\n    <tr style=\"text-align: right;\">\n      <th></th>\n      <th>LOCATION</th>\n      <th>TIME</th>\n      <th>PM2.5 air pollution, mean annual exposure (micrograms per cubic meter)</th>\n      <th>Access to electricity (% of population)</th>\n      <th>Renewable electricity output (% of total electricity output)</th>\n      <th>Urban population (% of total population)</th>\n      <th>Electric power consumption (kWh per capita)</th>\n    </tr>\n  </thead>\n  <tbody>\n    <tr>\n      <th>0</th>\n      <td>AFG</td>\n      <td>1960</td>\n      <td>64.951772</td>\n      <td>22.25299274</td>\n      <td>2.871174195</td>\n      <td>8.401000</td>\n      <td>138.332032</td>\n    </tr>\n    <tr>\n      <th>1</th>\n      <td>AFG</td>\n      <td>1961</td>\n      <td>64.958268</td>\n      <td>22.27526801</td>\n      <td>3.19019355</td>\n      <td>8.684000</td>\n      <td>138.470503</td>\n    </tr>\n    <tr>\n      <th>2</th>\n      <td>AFG</td>\n      <td>1962</td>\n      <td>64.964764</td>\n      <td>22.29756558</td>\n      <td>3.5446595</td>\n      <td>8.976000</td>\n      <td>138.609112</td>\n    </tr>\n    <tr>\n      <th>3</th>\n      <td>AFG</td>\n      <td>1963</td>\n      <td>64.971261</td>\n      <td>22.31988546</td>\n      <td>3.938510556</td>\n      <td>9.276000</td>\n      <td>138.747860</td>\n    </tr>\n    <tr>\n      <th>4</th>\n      <td>AFG</td>\n      <td>1964</td>\n      <td>64.977759</td>\n      <td>22.34222769</td>\n      <td>4.37612284</td>\n      <td>9.586000</td>\n      <td>138.886746</td>\n    </tr>\n    <tr>\n      <th>...</th>\n      <td>...</td>\n      <td>...</td>\n      <td>...</td>\n      <td>...</td>\n      <td>...</td>\n      <td>...</td>\n      <td>...</td>\n    </tr>\n    <tr>\n      <th>16099</th>\n      <td>WLD</td>\n      <td>2016</td>\n      <td>45.155516</td>\n      <td>87.95486844</td>\n      <td>22.62591152</td>\n      <td>54.370281</td>\n      <td>3139.062621</td>\n    </tr>\n    <tr>\n      <th>16100</th>\n      <td>WLD</td>\n      <td>2017</td>\n      <td>45.528389</td>\n      <td>88.8495377</td>\n      <td>22.39965241</td>\n      <td>54.823078</td>\n      <td>3142.204826</td>\n    </tr>\n    <tr>\n      <th>16101</th>\n      <td>WLD</td>\n      <td>2018</td>\n      <td>45.482860</td>\n      <td>89.58855123</td>\n      <td>22.17565588</td>\n      <td>55.270468</td>\n      <td>3145.350176</td>\n    </tr>\n    <tr>\n      <th>16102</th>\n      <td>WLD</td>\n      <td>2019</td>\n      <td>45.437378</td>\n      <td>89.58944712</td>\n      <td>21.95389932</td>\n      <td>55.714285</td>\n      <td>3148.498675</td>\n    </tr>\n    <tr>\n      <th>16103</th>\n      <td>WLD</td>\n      <td>2020</td>\n      <td>45.391940</td>\n      <td>89.59034303</td>\n      <td>21.73436033</td>\n      <td>0.000000</td>\n      <td>3151.650325</td>\n    </tr>\n  </tbody>\n</table>\n<p>16104 rows × 7 columns</p>\n</div>"
     },
     "metadata": {},
     "execution_count": 81
    }
   ],
   "source": [
    "# Loading the dataframe\n",
    "environment = pd.read_csv('raw_data/environment_data_raw/environment_data.csv')\n",
    "environment"
   ]
  },
  {
   "cell_type": "code",
   "execution_count": 82,
   "metadata": {},
   "outputs": [
    {
     "output_type": "execute_result",
     "data": {
      "text/plain": [
       "           Country LOCATION ISO CODE 2 letter  TIME  \\\n",
       "0      Afghanistan      AFG                AF  1960   \n",
       "1      Afghanistan      AFG                AF  1961   \n",
       "2      Afghanistan      AFG                AF  1962   \n",
       "3      Afghanistan      AFG                AF  1963   \n",
       "4      Afghanistan      AFG                AF  1964   \n",
       "...            ...      ...               ...   ...   \n",
       "13171     Zimbabwe      ZWE                ZW  2016   \n",
       "13172     Zimbabwe      ZWE                ZW  2017   \n",
       "13173     Zimbabwe      ZWE                ZW  2018   \n",
       "13174     Zimbabwe      ZWE                ZW  2019   \n",
       "13175     Zimbabwe      ZWE                ZW  2020   \n",
       "\n",
       "       PM2.5 air pollution, mean annual exposure (micrograms per cubic meter)  \\\n",
       "0                                              64.951772                        \n",
       "1                                              64.958268                        \n",
       "2                                              64.964764                        \n",
       "3                                              64.971261                        \n",
       "4                                              64.977759                        \n",
       "...                                                  ...                        \n",
       "13171                                          21.726947                        \n",
       "13172                                          22.251671                        \n",
       "13173                                          22.229419                        \n",
       "13174                                          22.207190                        \n",
       "13175                                          22.184983                        \n",
       "\n",
       "      Access to electricity (% of population)  \\\n",
       "0                                 22.25299274   \n",
       "1                                 22.27526801   \n",
       "2                                 22.29756558   \n",
       "3                                 22.31988546   \n",
       "4                                 22.34222769   \n",
       "...                                       ...   \n",
       "13171                             39.92399216   \n",
       "13172                             40.48204803   \n",
       "13173                             41.04158401   \n",
       "13174                             41.04199443   \n",
       "13175                             41.04240486   \n",
       "\n",
       "      Renewable electricity output (% of total electricity output)  \\\n",
       "0                                            2.871174195             \n",
       "1                                             3.19019355             \n",
       "2                                              3.5446595             \n",
       "3                                            3.938510556             \n",
       "4                                             4.37612284             \n",
       "...                                                  ...             \n",
       "13171                                        52.19703368             \n",
       "13172                                        51.67506334             \n",
       "13173                                        51.15831271             \n",
       "13174                                        50.64672958             \n",
       "13175                                        50.14026229             \n",
       "\n",
       "       Urban population (% of total population)  \\\n",
       "0                                         8.401   \n",
       "1                                         8.684   \n",
       "2                                         8.976   \n",
       "3                                         9.276   \n",
       "4                                         9.586   \n",
       "...                                         ...   \n",
       "13171                                    32.296   \n",
       "13172                                    32.237   \n",
       "13173                                    32.209   \n",
       "13174                                    32.210   \n",
       "13175                                     0.000   \n",
       "\n",
       "       Electric power consumption (kWh per capita)  \n",
       "0                                       138.332032  \n",
       "1                                       138.470503  \n",
       "2                                       138.609112  \n",
       "3                                       138.747860  \n",
       "4                                       138.886746  \n",
       "...                                            ...  \n",
       "13171                                   610.346034  \n",
       "13172                                   610.956991  \n",
       "13173                                   611.568559  \n",
       "13174                                   612.180740  \n",
       "13175                                   612.793534  \n",
       "\n",
       "[13176 rows x 9 columns]"
      ],
      "text/html": "<div>\n<style scoped>\n    .dataframe tbody tr th:only-of-type {\n        vertical-align: middle;\n    }\n\n    .dataframe tbody tr th {\n        vertical-align: top;\n    }\n\n    .dataframe thead th {\n        text-align: right;\n    }\n</style>\n<table border=\"1\" class=\"dataframe\">\n  <thead>\n    <tr style=\"text-align: right;\">\n      <th></th>\n      <th>Country</th>\n      <th>LOCATION</th>\n      <th>ISO CODE 2 letter</th>\n      <th>TIME</th>\n      <th>PM2.5 air pollution, mean annual exposure (micrograms per cubic meter)</th>\n      <th>Access to electricity (% of population)</th>\n      <th>Renewable electricity output (% of total electricity output)</th>\n      <th>Urban population (% of total population)</th>\n      <th>Electric power consumption (kWh per capita)</th>\n    </tr>\n  </thead>\n  <tbody>\n    <tr>\n      <th>0</th>\n      <td>Afghanistan</td>\n      <td>AFG</td>\n      <td>AF</td>\n      <td>1960</td>\n      <td>64.951772</td>\n      <td>22.25299274</td>\n      <td>2.871174195</td>\n      <td>8.401</td>\n      <td>138.332032</td>\n    </tr>\n    <tr>\n      <th>1</th>\n      <td>Afghanistan</td>\n      <td>AFG</td>\n      <td>AF</td>\n      <td>1961</td>\n      <td>64.958268</td>\n      <td>22.27526801</td>\n      <td>3.19019355</td>\n      <td>8.684</td>\n      <td>138.470503</td>\n    </tr>\n    <tr>\n      <th>2</th>\n      <td>Afghanistan</td>\n      <td>AFG</td>\n      <td>AF</td>\n      <td>1962</td>\n      <td>64.964764</td>\n      <td>22.29756558</td>\n      <td>3.5446595</td>\n      <td>8.976</td>\n      <td>138.609112</td>\n    </tr>\n    <tr>\n      <th>3</th>\n      <td>Afghanistan</td>\n      <td>AFG</td>\n      <td>AF</td>\n      <td>1963</td>\n      <td>64.971261</td>\n      <td>22.31988546</td>\n      <td>3.938510556</td>\n      <td>9.276</td>\n      <td>138.747860</td>\n    </tr>\n    <tr>\n      <th>4</th>\n      <td>Afghanistan</td>\n      <td>AFG</td>\n      <td>AF</td>\n      <td>1964</td>\n      <td>64.977759</td>\n      <td>22.34222769</td>\n      <td>4.37612284</td>\n      <td>9.586</td>\n      <td>138.886746</td>\n    </tr>\n    <tr>\n      <th>...</th>\n      <td>...</td>\n      <td>...</td>\n      <td>...</td>\n      <td>...</td>\n      <td>...</td>\n      <td>...</td>\n      <td>...</td>\n      <td>...</td>\n      <td>...</td>\n    </tr>\n    <tr>\n      <th>13171</th>\n      <td>Zimbabwe</td>\n      <td>ZWE</td>\n      <td>ZW</td>\n      <td>2016</td>\n      <td>21.726947</td>\n      <td>39.92399216</td>\n      <td>52.19703368</td>\n      <td>32.296</td>\n      <td>610.346034</td>\n    </tr>\n    <tr>\n      <th>13172</th>\n      <td>Zimbabwe</td>\n      <td>ZWE</td>\n      <td>ZW</td>\n      <td>2017</td>\n      <td>22.251671</td>\n      <td>40.48204803</td>\n      <td>51.67506334</td>\n      <td>32.237</td>\n      <td>610.956991</td>\n    </tr>\n    <tr>\n      <th>13173</th>\n      <td>Zimbabwe</td>\n      <td>ZWE</td>\n      <td>ZW</td>\n      <td>2018</td>\n      <td>22.229419</td>\n      <td>41.04158401</td>\n      <td>51.15831271</td>\n      <td>32.209</td>\n      <td>611.568559</td>\n    </tr>\n    <tr>\n      <th>13174</th>\n      <td>Zimbabwe</td>\n      <td>ZWE</td>\n      <td>ZW</td>\n      <td>2019</td>\n      <td>22.207190</td>\n      <td>41.04199443</td>\n      <td>50.64672958</td>\n      <td>32.210</td>\n      <td>612.180740</td>\n    </tr>\n    <tr>\n      <th>13175</th>\n      <td>Zimbabwe</td>\n      <td>ZWE</td>\n      <td>ZW</td>\n      <td>2020</td>\n      <td>22.184983</td>\n      <td>41.04240486</td>\n      <td>50.14026229</td>\n      <td>0.000</td>\n      <td>612.793534</td>\n    </tr>\n  </tbody>\n</table>\n<p>13176 rows × 9 columns</p>\n</div>"
     },
     "metadata": {},
     "execution_count": 82
    }
   ],
   "source": [
    "# Merging data with the country dataframe\n",
    "environment_data_final = pd.merge(country_df, environment, on=['LOCATION'],how='inner')\n",
    "environment_data_final.to_csv('cleaned_data/environmentData.csv', index=False)\n",
    "environment_data_final"
   ]
  },
  {
   "source": [
    "# Science and Technology"
   ],
   "cell_type": "markdown",
   "metadata": {}
  },
  {
   "cell_type": "code",
   "execution_count": 83,
   "metadata": {},
   "outputs": [
    {
     "output_type": "execute_result",
     "data": {
      "text/plain": [
       "      LOCATION  TIME  Population, total  \\\n",
       "0          AFG  1960       8.996973e+06   \n",
       "1          AFG  1961       9.169410e+06   \n",
       "2          AFG  1962       9.351441e+06   \n",
       "3          AFG  1963       9.543205e+06   \n",
       "4          AFG  1964       9.744781e+06   \n",
       "...        ...   ...                ...   \n",
       "16099      WLD  2016       7.424286e+09   \n",
       "16100      WLD  2017       7.509074e+09   \n",
       "16101      WLD  2018       7.591945e+09   \n",
       "16102      WLD  2019       7.673534e+09   \n",
       "16103      WLD  2020       0.000000e+00   \n",
       "\n",
       "       High-technology exports (current US$)  Patent applications, residents  \\\n",
       "0                               0.000000e+00                               0   \n",
       "1                               0.000000e+00                               0   \n",
       "2                               0.000000e+00                               0   \n",
       "3                               0.000000e+00                               0   \n",
       "4                               0.000000e+00                               0   \n",
       "...                                      ...                             ...   \n",
       "16099                           2.258700e+12                         2128683   \n",
       "16100                           2.685150e+12                         2162897   \n",
       "16101                           2.927110e+12                         2294847   \n",
       "16102                           0.000000e+00                               0   \n",
       "16103                           0.000000e+00                               0   \n",
       "\n",
       "       Scientific and technical journal articles  \\\n",
       "0                                          0.000   \n",
       "1                                          0.000   \n",
       "2                                          0.000   \n",
       "3                                          0.000   \n",
       "4                                          0.000   \n",
       "...                                          ...   \n",
       "16099                                2376419.914   \n",
       "16100                                2464455.025   \n",
       "16101                                2554373.362   \n",
       "16102                                      0.000   \n",
       "16103                                      0.000   \n",
       "\n",
       "       Technical cooperation grants (BoP, current US$)  \n",
       "0                                              1510000  \n",
       "1                                              1620000  \n",
       "2                                              1870000  \n",
       "3                                              1990000  \n",
       "4                                              2150000  \n",
       "...                                                ...  \n",
       "16099                                                0  \n",
       "16100                                                0  \n",
       "16101                                                0  \n",
       "16102                                                0  \n",
       "16103                                                0  \n",
       "\n",
       "[16104 rows x 7 columns]"
      ],
      "text/html": "<div>\n<style scoped>\n    .dataframe tbody tr th:only-of-type {\n        vertical-align: middle;\n    }\n\n    .dataframe tbody tr th {\n        vertical-align: top;\n    }\n\n    .dataframe thead th {\n        text-align: right;\n    }\n</style>\n<table border=\"1\" class=\"dataframe\">\n  <thead>\n    <tr style=\"text-align: right;\">\n      <th></th>\n      <th>LOCATION</th>\n      <th>TIME</th>\n      <th>Population, total</th>\n      <th>High-technology exports (current US$)</th>\n      <th>Patent applications, residents</th>\n      <th>Scientific and technical journal articles</th>\n      <th>Technical cooperation grants (BoP, current US$)</th>\n    </tr>\n  </thead>\n  <tbody>\n    <tr>\n      <th>0</th>\n      <td>AFG</td>\n      <td>1960</td>\n      <td>8.996973e+06</td>\n      <td>0.000000e+00</td>\n      <td>0</td>\n      <td>0.000</td>\n      <td>1510000</td>\n    </tr>\n    <tr>\n      <th>1</th>\n      <td>AFG</td>\n      <td>1961</td>\n      <td>9.169410e+06</td>\n      <td>0.000000e+00</td>\n      <td>0</td>\n      <td>0.000</td>\n      <td>1620000</td>\n    </tr>\n    <tr>\n      <th>2</th>\n      <td>AFG</td>\n      <td>1962</td>\n      <td>9.351441e+06</td>\n      <td>0.000000e+00</td>\n      <td>0</td>\n      <td>0.000</td>\n      <td>1870000</td>\n    </tr>\n    <tr>\n      <th>3</th>\n      <td>AFG</td>\n      <td>1963</td>\n      <td>9.543205e+06</td>\n      <td>0.000000e+00</td>\n      <td>0</td>\n      <td>0.000</td>\n      <td>1990000</td>\n    </tr>\n    <tr>\n      <th>4</th>\n      <td>AFG</td>\n      <td>1964</td>\n      <td>9.744781e+06</td>\n      <td>0.000000e+00</td>\n      <td>0</td>\n      <td>0.000</td>\n      <td>2150000</td>\n    </tr>\n    <tr>\n      <th>...</th>\n      <td>...</td>\n      <td>...</td>\n      <td>...</td>\n      <td>...</td>\n      <td>...</td>\n      <td>...</td>\n      <td>...</td>\n    </tr>\n    <tr>\n      <th>16099</th>\n      <td>WLD</td>\n      <td>2016</td>\n      <td>7.424286e+09</td>\n      <td>2.258700e+12</td>\n      <td>2128683</td>\n      <td>2376419.914</td>\n      <td>0</td>\n    </tr>\n    <tr>\n      <th>16100</th>\n      <td>WLD</td>\n      <td>2017</td>\n      <td>7.509074e+09</td>\n      <td>2.685150e+12</td>\n      <td>2162897</td>\n      <td>2464455.025</td>\n      <td>0</td>\n    </tr>\n    <tr>\n      <th>16101</th>\n      <td>WLD</td>\n      <td>2018</td>\n      <td>7.591945e+09</td>\n      <td>2.927110e+12</td>\n      <td>2294847</td>\n      <td>2554373.362</td>\n      <td>0</td>\n    </tr>\n    <tr>\n      <th>16102</th>\n      <td>WLD</td>\n      <td>2019</td>\n      <td>7.673534e+09</td>\n      <td>0.000000e+00</td>\n      <td>0</td>\n      <td>0.000</td>\n      <td>0</td>\n    </tr>\n    <tr>\n      <th>16103</th>\n      <td>WLD</td>\n      <td>2020</td>\n      <td>0.000000e+00</td>\n      <td>0.000000e+00</td>\n      <td>0</td>\n      <td>0.000</td>\n      <td>0</td>\n    </tr>\n  </tbody>\n</table>\n<p>16104 rows × 7 columns</p>\n</div>"
     },
     "metadata": {},
     "execution_count": 83
    }
   ],
   "source": [
    "# Dataframe\n",
    "science_tech = pd.read_csv('raw_data/science_tech_data_raw/sci_tech.csv')\n",
    "science_tech"
   ]
  },
  {
   "cell_type": "code",
   "execution_count": 84,
   "metadata": {},
   "outputs": [
    {
     "output_type": "execute_result",
     "data": {
      "text/plain": [
       "      LOCATION  TIME  High-technology exports (current US$)  \\\n",
       "0          AFG  1960                           0.000000e+00   \n",
       "1          AFG  1961                           0.000000e+00   \n",
       "2          AFG  1962                           0.000000e+00   \n",
       "3          AFG  1963                           0.000000e+00   \n",
       "4          AFG  1964                           0.000000e+00   \n",
       "...        ...   ...                                    ...   \n",
       "16099      WLD  2016                           2.258700e+12   \n",
       "16100      WLD  2017                           2.685150e+12   \n",
       "16101      WLD  2018                           2.927110e+12   \n",
       "16102      WLD  2019                           0.000000e+00   \n",
       "16103      WLD  2020                           0.000000e+00   \n",
       "\n",
       "       Patent applications, residents  \\\n",
       "0                                   0   \n",
       "1                                   0   \n",
       "2                                   0   \n",
       "3                                   0   \n",
       "4                                   0   \n",
       "...                               ...   \n",
       "16099                         2128683   \n",
       "16100                         2162897   \n",
       "16101                         2294847   \n",
       "16102                               0   \n",
       "16103                               0   \n",
       "\n",
       "       Scientific and technical journal articles  \\\n",
       "0                                          0.000   \n",
       "1                                          0.000   \n",
       "2                                          0.000   \n",
       "3                                          0.000   \n",
       "4                                          0.000   \n",
       "...                                          ...   \n",
       "16099                                2376419.914   \n",
       "16100                                2464455.025   \n",
       "16101                                2554373.362   \n",
       "16102                                      0.000   \n",
       "16103                                      0.000   \n",
       "\n",
       "       Technical cooperation grants (BoP, current US$)  \n",
       "0                                              1510000  \n",
       "1                                              1620000  \n",
       "2                                              1870000  \n",
       "3                                              1990000  \n",
       "4                                              2150000  \n",
       "...                                                ...  \n",
       "16099                                                0  \n",
       "16100                                                0  \n",
       "16101                                                0  \n",
       "16102                                                0  \n",
       "16103                                                0  \n",
       "\n",
       "[16104 rows x 6 columns]"
      ],
      "text/html": "<div>\n<style scoped>\n    .dataframe tbody tr th:only-of-type {\n        vertical-align: middle;\n    }\n\n    .dataframe tbody tr th {\n        vertical-align: top;\n    }\n\n    .dataframe thead th {\n        text-align: right;\n    }\n</style>\n<table border=\"1\" class=\"dataframe\">\n  <thead>\n    <tr style=\"text-align: right;\">\n      <th></th>\n      <th>LOCATION</th>\n      <th>TIME</th>\n      <th>High-technology exports (current US$)</th>\n      <th>Patent applications, residents</th>\n      <th>Scientific and technical journal articles</th>\n      <th>Technical cooperation grants (BoP, current US$)</th>\n    </tr>\n  </thead>\n  <tbody>\n    <tr>\n      <th>0</th>\n      <td>AFG</td>\n      <td>1960</td>\n      <td>0.000000e+00</td>\n      <td>0</td>\n      <td>0.000</td>\n      <td>1510000</td>\n    </tr>\n    <tr>\n      <th>1</th>\n      <td>AFG</td>\n      <td>1961</td>\n      <td>0.000000e+00</td>\n      <td>0</td>\n      <td>0.000</td>\n      <td>1620000</td>\n    </tr>\n    <tr>\n      <th>2</th>\n      <td>AFG</td>\n      <td>1962</td>\n      <td>0.000000e+00</td>\n      <td>0</td>\n      <td>0.000</td>\n      <td>1870000</td>\n    </tr>\n    <tr>\n      <th>3</th>\n      <td>AFG</td>\n      <td>1963</td>\n      <td>0.000000e+00</td>\n      <td>0</td>\n      <td>0.000</td>\n      <td>1990000</td>\n    </tr>\n    <tr>\n      <th>4</th>\n      <td>AFG</td>\n      <td>1964</td>\n      <td>0.000000e+00</td>\n      <td>0</td>\n      <td>0.000</td>\n      <td>2150000</td>\n    </tr>\n    <tr>\n      <th>...</th>\n      <td>...</td>\n      <td>...</td>\n      <td>...</td>\n      <td>...</td>\n      <td>...</td>\n      <td>...</td>\n    </tr>\n    <tr>\n      <th>16099</th>\n      <td>WLD</td>\n      <td>2016</td>\n      <td>2.258700e+12</td>\n      <td>2128683</td>\n      <td>2376419.914</td>\n      <td>0</td>\n    </tr>\n    <tr>\n      <th>16100</th>\n      <td>WLD</td>\n      <td>2017</td>\n      <td>2.685150e+12</td>\n      <td>2162897</td>\n      <td>2464455.025</td>\n      <td>0</td>\n    </tr>\n    <tr>\n      <th>16101</th>\n      <td>WLD</td>\n      <td>2018</td>\n      <td>2.927110e+12</td>\n      <td>2294847</td>\n      <td>2554373.362</td>\n      <td>0</td>\n    </tr>\n    <tr>\n      <th>16102</th>\n      <td>WLD</td>\n      <td>2019</td>\n      <td>0.000000e+00</td>\n      <td>0</td>\n      <td>0.000</td>\n      <td>0</td>\n    </tr>\n    <tr>\n      <th>16103</th>\n      <td>WLD</td>\n      <td>2020</td>\n      <td>0.000000e+00</td>\n      <td>0</td>\n      <td>0.000</td>\n      <td>0</td>\n    </tr>\n  </tbody>\n</table>\n<p>16104 rows × 6 columns</p>\n</div>"
     },
     "metadata": {},
     "execution_count": 84
    }
   ],
   "source": [
    "# Removing populations column\n",
    "science_tech1 = science_tech.drop(columns=['Population, total']).copy()\n",
    "science_tech1"
   ]
  },
  {
   "cell_type": "code",
   "execution_count": 85,
   "metadata": {},
   "outputs": [
    {
     "output_type": "execute_result",
     "data": {
      "text/plain": [
       "           Country LOCATION ISO CODE 2 letter  TIME  \\\n",
       "0      Afghanistan      AFG                AF  1960   \n",
       "1      Afghanistan      AFG                AF  1961   \n",
       "2      Afghanistan      AFG                AF  1962   \n",
       "3      Afghanistan      AFG                AF  1963   \n",
       "4      Afghanistan      AFG                AF  1964   \n",
       "...            ...      ...               ...   ...   \n",
       "13171     Zimbabwe      ZWE                ZW  2016   \n",
       "13172     Zimbabwe      ZWE                ZW  2017   \n",
       "13173     Zimbabwe      ZWE                ZW  2018   \n",
       "13174     Zimbabwe      ZWE                ZW  2019   \n",
       "13175     Zimbabwe      ZWE                ZW  2020   \n",
       "\n",
       "       High-technology exports (current US$)  Patent applications, residents  \\\n",
       "0                                        0.0                               0   \n",
       "1                                        0.0                               0   \n",
       "2                                        0.0                               0   \n",
       "3                                        0.0                               0   \n",
       "4                                        0.0                               0   \n",
       "...                                      ...                             ...   \n",
       "13171                             13735165.0                               8   \n",
       "13172                             11206210.0                               0   \n",
       "13173                              9719357.0                               0   \n",
       "13174                             27810712.0                               0   \n",
       "13175                                    0.0                               0   \n",
       "\n",
       "       Scientific and technical journal articles  \\\n",
       "0                                           0.00   \n",
       "1                                           0.00   \n",
       "2                                           0.00   \n",
       "3                                           0.00   \n",
       "4                                           0.00   \n",
       "...                                          ...   \n",
       "13171                                     313.80   \n",
       "13172                                     340.45   \n",
       "13173                                     359.33   \n",
       "13174                                       0.00   \n",
       "13175                                       0.00   \n",
       "\n",
       "       Technical cooperation grants (BoP, current US$)  \n",
       "0                                              1510000  \n",
       "1                                              1620000  \n",
       "2                                              1870000  \n",
       "3                                              1990000  \n",
       "4                                              2150000  \n",
       "...                                                ...  \n",
       "13171                                         59800000  \n",
       "13172                                         52490000  \n",
       "13173                                         54420000  \n",
       "13174                                                0  \n",
       "13175                                                0  \n",
       "\n",
       "[13176 rows x 8 columns]"
      ],
      "text/html": "<div>\n<style scoped>\n    .dataframe tbody tr th:only-of-type {\n        vertical-align: middle;\n    }\n\n    .dataframe tbody tr th {\n        vertical-align: top;\n    }\n\n    .dataframe thead th {\n        text-align: right;\n    }\n</style>\n<table border=\"1\" class=\"dataframe\">\n  <thead>\n    <tr style=\"text-align: right;\">\n      <th></th>\n      <th>Country</th>\n      <th>LOCATION</th>\n      <th>ISO CODE 2 letter</th>\n      <th>TIME</th>\n      <th>High-technology exports (current US$)</th>\n      <th>Patent applications, residents</th>\n      <th>Scientific and technical journal articles</th>\n      <th>Technical cooperation grants (BoP, current US$)</th>\n    </tr>\n  </thead>\n  <tbody>\n    <tr>\n      <th>0</th>\n      <td>Afghanistan</td>\n      <td>AFG</td>\n      <td>AF</td>\n      <td>1960</td>\n      <td>0.0</td>\n      <td>0</td>\n      <td>0.00</td>\n      <td>1510000</td>\n    </tr>\n    <tr>\n      <th>1</th>\n      <td>Afghanistan</td>\n      <td>AFG</td>\n      <td>AF</td>\n      <td>1961</td>\n      <td>0.0</td>\n      <td>0</td>\n      <td>0.00</td>\n      <td>1620000</td>\n    </tr>\n    <tr>\n      <th>2</th>\n      <td>Afghanistan</td>\n      <td>AFG</td>\n      <td>AF</td>\n      <td>1962</td>\n      <td>0.0</td>\n      <td>0</td>\n      <td>0.00</td>\n      <td>1870000</td>\n    </tr>\n    <tr>\n      <th>3</th>\n      <td>Afghanistan</td>\n      <td>AFG</td>\n      <td>AF</td>\n      <td>1963</td>\n      <td>0.0</td>\n      <td>0</td>\n      <td>0.00</td>\n      <td>1990000</td>\n    </tr>\n    <tr>\n      <th>4</th>\n      <td>Afghanistan</td>\n      <td>AFG</td>\n      <td>AF</td>\n      <td>1964</td>\n      <td>0.0</td>\n      <td>0</td>\n      <td>0.00</td>\n      <td>2150000</td>\n    </tr>\n    <tr>\n      <th>...</th>\n      <td>...</td>\n      <td>...</td>\n      <td>...</td>\n      <td>...</td>\n      <td>...</td>\n      <td>...</td>\n      <td>...</td>\n      <td>...</td>\n    </tr>\n    <tr>\n      <th>13171</th>\n      <td>Zimbabwe</td>\n      <td>ZWE</td>\n      <td>ZW</td>\n      <td>2016</td>\n      <td>13735165.0</td>\n      <td>8</td>\n      <td>313.80</td>\n      <td>59800000</td>\n    </tr>\n    <tr>\n      <th>13172</th>\n      <td>Zimbabwe</td>\n      <td>ZWE</td>\n      <td>ZW</td>\n      <td>2017</td>\n      <td>11206210.0</td>\n      <td>0</td>\n      <td>340.45</td>\n      <td>52490000</td>\n    </tr>\n    <tr>\n      <th>13173</th>\n      <td>Zimbabwe</td>\n      <td>ZWE</td>\n      <td>ZW</td>\n      <td>2018</td>\n      <td>9719357.0</td>\n      <td>0</td>\n      <td>359.33</td>\n      <td>54420000</td>\n    </tr>\n    <tr>\n      <th>13174</th>\n      <td>Zimbabwe</td>\n      <td>ZWE</td>\n      <td>ZW</td>\n      <td>2019</td>\n      <td>27810712.0</td>\n      <td>0</td>\n      <td>0.00</td>\n      <td>0</td>\n    </tr>\n    <tr>\n      <th>13175</th>\n      <td>Zimbabwe</td>\n      <td>ZWE</td>\n      <td>ZW</td>\n      <td>2020</td>\n      <td>0.0</td>\n      <td>0</td>\n      <td>0.00</td>\n      <td>0</td>\n    </tr>\n  </tbody>\n</table>\n<p>13176 rows × 8 columns</p>\n</div>"
     },
     "metadata": {},
     "execution_count": 85
    }
   ],
   "source": [
    "# Merging with countries\n",
    "science_tech_final = pd.merge(country_df, science_tech1, on=['LOCATION'],how='inner')\n",
    "science_tech_final.to_csv('cleaned_data/scitechData.csv', index=False)\n",
    "science_tech_final"
   ]
  }
 ]
}