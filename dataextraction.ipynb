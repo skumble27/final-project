{
 "metadata": {
  "language_info": {
   "codemirror_mode": {
    "name": "ipython",
    "version": 3
   },
   "file_extension": ".py",
   "mimetype": "text/x-python",
   "name": "python",
   "nbconvert_exporter": "python",
   "pygments_lexer": "ipython3",
   "version": "3.6.12-final"
  },
  "orig_nbformat": 2,
  "kernelspec": {
   "name": "python3",
   "display_name": "Python 3.6.12 64-bit ('apiproject': conda)",
   "metadata": {
    "interpreter": {
     "hash": "65141e336b334a21ac1724ea85117fff93a000c15b507ad8f7a437392607e163"
    }
   }
  }
 },
 "nbformat": 4,
 "nbformat_minor": 2,
 "cells": [
  {
   "source": [
    "# Citations\n",
    "##### OECD (2021), \"Data warehouse\", OECD.Stat (database), https://doi.org/10.1787/data-00900-en (accessed on 17 January 2021)."
   ],
   "cell_type": "markdown",
   "metadata": {}
  },
  {
   "source": [
    "# Obtaining a list of countries and the codes"
   ],
   "cell_type": "markdown",
   "metadata": {}
  },
  {
   "cell_type": "code",
   "execution_count": 1,
   "metadata": {},
   "outputs": [],
   "source": [
    "# Importing the relevant dependencies\n",
    "import pandas as pd"
   ]
  },
  {
   "cell_type": "code",
   "execution_count": 2,
   "metadata": {},
   "outputs": [],
   "source": [
    "# Obtaining a list of all the countries and their associated three letter codes\n",
    "countries = pd.read_html('https://countrycode.org/')"
   ]
  },
  {
   "cell_type": "code",
   "execution_count": 3,
   "metadata": {},
   "outputs": [
    {
     "output_type": "execute_result",
     "data": {
      "text/plain": [
       "[               COUNTRY COUNTRY CODE ISO CODES  POPULATION  AREA KM2  \\\n",
       " 0          Afghanistan           93  AF / AFG    29121286    647500   \n",
       " 1              Albania          355  AL / ALB     2986952     28748   \n",
       " 2              Algeria          213  DZ / DZA    34586184   2381740   \n",
       " 3       American Samoa        1-684  AS / ASM       57881       199   \n",
       " 4              Andorra          376  AD / AND       84000       468   \n",
       " ..                 ...          ...       ...         ...       ...   \n",
       " 235  Wallis and Futuna          681  WF / WLF       16025       274   \n",
       " 236     Western Sahara          212  EH / ESH      273008    266000   \n",
       " 237              Yemen          967  YE / YEM    23495361    527970   \n",
       " 238             Zambia          260  ZM / ZMB    13460305    752614   \n",
       " 239           Zimbabwe          263  ZW / ZWE    11651858    390580   \n",
       " \n",
       "           GDP $USD  \n",
       " 0    20.65 Billion  \n",
       " 1     12.8 Billion  \n",
       " 2    215.7 Billion  \n",
       " 3    462.2 Million  \n",
       " 4      4.8 Billion  \n",
       " ..             ...  \n",
       " 235            NaN  \n",
       " 236            NaN  \n",
       " 237  43.89 Billion  \n",
       " 238  22.24 Billion  \n",
       " 239  10.48 Billion  \n",
       " \n",
       " [240 rows x 6 columns],\n",
       "                COUNTRY COUNTRY CODE ISO CODES\n",
       " 0          Afghanistan           93  AF / AFG\n",
       " 1              Albania          355  AL / ALB\n",
       " 2              Algeria          213  DZ / DZA\n",
       " 3       American Samoa        1-684  AS / ASM\n",
       " 4              Andorra          376  AD / AND\n",
       " ..                 ...          ...       ...\n",
       " 235  Wallis and Futuna          681  WF / WLF\n",
       " 236     Western Sahara          212  EH / ESH\n",
       " 237              Yemen          967  YE / YEM\n",
       " 238             Zambia          260  ZM / ZMB\n",
       " 239           Zimbabwe          263  ZW / ZWE\n",
       " \n",
       " [240 rows x 3 columns]]"
      ]
     },
     "metadata": {},
     "execution_count": 3
    }
   ],
   "source": [
    "# Viewing the Dataframe\n",
    "countries"
   ]
  },
  {
   "cell_type": "code",
   "execution_count": 4,
   "metadata": {},
   "outputs": [
    {
     "output_type": "execute_result",
     "data": {
      "text/plain": [
       "list"
      ]
     },
     "metadata": {},
     "execution_count": 4
    }
   ],
   "source": [
    "# Determing the type for the country variable\n",
    "type(countries)"
   ]
  },
  {
   "cell_type": "code",
   "execution_count": 5,
   "metadata": {},
   "outputs": [
    {
     "output_type": "execute_result",
     "data": {
      "text/plain": [
       "               COUNTRY COUNTRY CODE ISO CODES  POPULATION  AREA KM2  \\\n",
       "0          Afghanistan           93  AF / AFG    29121286    647500   \n",
       "1              Albania          355  AL / ALB     2986952     28748   \n",
       "2              Algeria          213  DZ / DZA    34586184   2381740   \n",
       "3       American Samoa        1-684  AS / ASM       57881       199   \n",
       "4              Andorra          376  AD / AND       84000       468   \n",
       "..                 ...          ...       ...         ...       ...   \n",
       "235  Wallis and Futuna          681  WF / WLF       16025       274   \n",
       "236     Western Sahara          212  EH / ESH      273008    266000   \n",
       "237              Yemen          967  YE / YEM    23495361    527970   \n",
       "238             Zambia          260  ZM / ZMB    13460305    752614   \n",
       "239           Zimbabwe          263  ZW / ZWE    11651858    390580   \n",
       "\n",
       "          GDP $USD  \n",
       "0    20.65 Billion  \n",
       "1     12.8 Billion  \n",
       "2    215.7 Billion  \n",
       "3    462.2 Million  \n",
       "4      4.8 Billion  \n",
       "..             ...  \n",
       "235            NaN  \n",
       "236            NaN  \n",
       "237  43.89 Billion  \n",
       "238  22.24 Billion  \n",
       "239  10.48 Billion  \n",
       "\n",
       "[240 rows x 6 columns]"
      ],
      "text/html": "<div>\n<style scoped>\n    .dataframe tbody tr th:only-of-type {\n        vertical-align: middle;\n    }\n\n    .dataframe tbody tr th {\n        vertical-align: top;\n    }\n\n    .dataframe thead th {\n        text-align: right;\n    }\n</style>\n<table border=\"1\" class=\"dataframe\">\n  <thead>\n    <tr style=\"text-align: right;\">\n      <th></th>\n      <th>COUNTRY</th>\n      <th>COUNTRY CODE</th>\n      <th>ISO CODES</th>\n      <th>POPULATION</th>\n      <th>AREA KM2</th>\n      <th>GDP $USD</th>\n    </tr>\n  </thead>\n  <tbody>\n    <tr>\n      <th>0</th>\n      <td>Afghanistan</td>\n      <td>93</td>\n      <td>AF / AFG</td>\n      <td>29121286</td>\n      <td>647500</td>\n      <td>20.65 Billion</td>\n    </tr>\n    <tr>\n      <th>1</th>\n      <td>Albania</td>\n      <td>355</td>\n      <td>AL / ALB</td>\n      <td>2986952</td>\n      <td>28748</td>\n      <td>12.8 Billion</td>\n    </tr>\n    <tr>\n      <th>2</th>\n      <td>Algeria</td>\n      <td>213</td>\n      <td>DZ / DZA</td>\n      <td>34586184</td>\n      <td>2381740</td>\n      <td>215.7 Billion</td>\n    </tr>\n    <tr>\n      <th>3</th>\n      <td>American Samoa</td>\n      <td>1-684</td>\n      <td>AS / ASM</td>\n      <td>57881</td>\n      <td>199</td>\n      <td>462.2 Million</td>\n    </tr>\n    <tr>\n      <th>4</th>\n      <td>Andorra</td>\n      <td>376</td>\n      <td>AD / AND</td>\n      <td>84000</td>\n      <td>468</td>\n      <td>4.8 Billion</td>\n    </tr>\n    <tr>\n      <th>...</th>\n      <td>...</td>\n      <td>...</td>\n      <td>...</td>\n      <td>...</td>\n      <td>...</td>\n      <td>...</td>\n    </tr>\n    <tr>\n      <th>235</th>\n      <td>Wallis and Futuna</td>\n      <td>681</td>\n      <td>WF / WLF</td>\n      <td>16025</td>\n      <td>274</td>\n      <td>NaN</td>\n    </tr>\n    <tr>\n      <th>236</th>\n      <td>Western Sahara</td>\n      <td>212</td>\n      <td>EH / ESH</td>\n      <td>273008</td>\n      <td>266000</td>\n      <td>NaN</td>\n    </tr>\n    <tr>\n      <th>237</th>\n      <td>Yemen</td>\n      <td>967</td>\n      <td>YE / YEM</td>\n      <td>23495361</td>\n      <td>527970</td>\n      <td>43.89 Billion</td>\n    </tr>\n    <tr>\n      <th>238</th>\n      <td>Zambia</td>\n      <td>260</td>\n      <td>ZM / ZMB</td>\n      <td>13460305</td>\n      <td>752614</td>\n      <td>22.24 Billion</td>\n    </tr>\n    <tr>\n      <th>239</th>\n      <td>Zimbabwe</td>\n      <td>263</td>\n      <td>ZW / ZWE</td>\n      <td>11651858</td>\n      <td>390580</td>\n      <td>10.48 Billion</td>\n    </tr>\n  </tbody>\n</table>\n<p>240 rows × 6 columns</p>\n</div>"
     },
     "metadata": {},
     "execution_count": 5
    }
   ],
   "source": [
    "# Obtain the first key of the list\n",
    "countries_list = countries[0]\n",
    "countries_list"
   ]
  },
  {
   "cell_type": "code",
   "execution_count": 6,
   "metadata": {},
   "outputs": [
    {
     "output_type": "execute_result",
     "data": {
      "text/plain": [
       "       0     1\n",
       "0    AF    AFG\n",
       "1    AL    ALB\n",
       "2    DZ    DZA\n",
       "3    AS    ASM\n",
       "4    AD    AND\n",
       "..   ...   ...\n",
       "235  WF    WLF\n",
       "236  EH    ESH\n",
       "237  YE    YEM\n",
       "238  ZM    ZMB\n",
       "239  ZW    ZWE\n",
       "\n",
       "[240 rows x 2 columns]"
      ],
      "text/html": "<div>\n<style scoped>\n    .dataframe tbody tr th:only-of-type {\n        vertical-align: middle;\n    }\n\n    .dataframe tbody tr th {\n        vertical-align: top;\n    }\n\n    .dataframe thead th {\n        text-align: right;\n    }\n</style>\n<table border=\"1\" class=\"dataframe\">\n  <thead>\n    <tr style=\"text-align: right;\">\n      <th></th>\n      <th>0</th>\n      <th>1</th>\n    </tr>\n  </thead>\n  <tbody>\n    <tr>\n      <th>0</th>\n      <td>AF</td>\n      <td>AFG</td>\n    </tr>\n    <tr>\n      <th>1</th>\n      <td>AL</td>\n      <td>ALB</td>\n    </tr>\n    <tr>\n      <th>2</th>\n      <td>DZ</td>\n      <td>DZA</td>\n    </tr>\n    <tr>\n      <th>3</th>\n      <td>AS</td>\n      <td>ASM</td>\n    </tr>\n    <tr>\n      <th>4</th>\n      <td>AD</td>\n      <td>AND</td>\n    </tr>\n    <tr>\n      <th>...</th>\n      <td>...</td>\n      <td>...</td>\n    </tr>\n    <tr>\n      <th>235</th>\n      <td>WF</td>\n      <td>WLF</td>\n    </tr>\n    <tr>\n      <th>236</th>\n      <td>EH</td>\n      <td>ESH</td>\n    </tr>\n    <tr>\n      <th>237</th>\n      <td>YE</td>\n      <td>YEM</td>\n    </tr>\n    <tr>\n      <th>238</th>\n      <td>ZM</td>\n      <td>ZMB</td>\n    </tr>\n    <tr>\n      <th>239</th>\n      <td>ZW</td>\n      <td>ZWE</td>\n    </tr>\n  </tbody>\n</table>\n<p>240 rows × 2 columns</p>\n</div>"
     },
     "metadata": {},
     "execution_count": 6
    }
   ],
   "source": [
    "# Splitting the column relating to ISO CODES\n",
    "iso_code_split = countries_list['ISO CODES'].str.split(\"/\",n=1, expand=True)\n",
    "iso_code_split"
   ]
  },
  {
   "cell_type": "code",
   "execution_count": 7,
   "metadata": {},
   "outputs": [
    {
     "output_type": "execute_result",
     "data": {
      "text/plain": [
       "               COUNTRY COUNTRY CODE ISO CODES  POPULATION  AREA KM2  \\\n",
       "0          Afghanistan           93  AF / AFG    29121286    647500   \n",
       "1              Albania          355  AL / ALB     2986952     28748   \n",
       "2              Algeria          213  DZ / DZA    34586184   2381740   \n",
       "3       American Samoa        1-684  AS / ASM       57881       199   \n",
       "4              Andorra          376  AD / AND       84000       468   \n",
       "..                 ...          ...       ...         ...       ...   \n",
       "235  Wallis and Futuna          681  WF / WLF       16025       274   \n",
       "236     Western Sahara          212  EH / ESH      273008    266000   \n",
       "237              Yemen          967  YE / YEM    23495361    527970   \n",
       "238             Zambia          260  ZM / ZMB    13460305    752614   \n",
       "239           Zimbabwe          263  ZW / ZWE    11651858    390580   \n",
       "\n",
       "          GDP $USD ISO CODE 2L  \n",
       "0    20.65 Billion         AF   \n",
       "1     12.8 Billion         AL   \n",
       "2    215.7 Billion         DZ   \n",
       "3    462.2 Million         AS   \n",
       "4      4.8 Billion         AD   \n",
       "..             ...         ...  \n",
       "235            NaN         WF   \n",
       "236            NaN         EH   \n",
       "237  43.89 Billion         YE   \n",
       "238  22.24 Billion         ZM   \n",
       "239  10.48 Billion         ZW   \n",
       "\n",
       "[240 rows x 7 columns]"
      ],
      "text/html": "<div>\n<style scoped>\n    .dataframe tbody tr th:only-of-type {\n        vertical-align: middle;\n    }\n\n    .dataframe tbody tr th {\n        vertical-align: top;\n    }\n\n    .dataframe thead th {\n        text-align: right;\n    }\n</style>\n<table border=\"1\" class=\"dataframe\">\n  <thead>\n    <tr style=\"text-align: right;\">\n      <th></th>\n      <th>COUNTRY</th>\n      <th>COUNTRY CODE</th>\n      <th>ISO CODES</th>\n      <th>POPULATION</th>\n      <th>AREA KM2</th>\n      <th>GDP $USD</th>\n      <th>ISO CODE 2L</th>\n    </tr>\n  </thead>\n  <tbody>\n    <tr>\n      <th>0</th>\n      <td>Afghanistan</td>\n      <td>93</td>\n      <td>AF / AFG</td>\n      <td>29121286</td>\n      <td>647500</td>\n      <td>20.65 Billion</td>\n      <td>AF</td>\n    </tr>\n    <tr>\n      <th>1</th>\n      <td>Albania</td>\n      <td>355</td>\n      <td>AL / ALB</td>\n      <td>2986952</td>\n      <td>28748</td>\n      <td>12.8 Billion</td>\n      <td>AL</td>\n    </tr>\n    <tr>\n      <th>2</th>\n      <td>Algeria</td>\n      <td>213</td>\n      <td>DZ / DZA</td>\n      <td>34586184</td>\n      <td>2381740</td>\n      <td>215.7 Billion</td>\n      <td>DZ</td>\n    </tr>\n    <tr>\n      <th>3</th>\n      <td>American Samoa</td>\n      <td>1-684</td>\n      <td>AS / ASM</td>\n      <td>57881</td>\n      <td>199</td>\n      <td>462.2 Million</td>\n      <td>AS</td>\n    </tr>\n    <tr>\n      <th>4</th>\n      <td>Andorra</td>\n      <td>376</td>\n      <td>AD / AND</td>\n      <td>84000</td>\n      <td>468</td>\n      <td>4.8 Billion</td>\n      <td>AD</td>\n    </tr>\n    <tr>\n      <th>...</th>\n      <td>...</td>\n      <td>...</td>\n      <td>...</td>\n      <td>...</td>\n      <td>...</td>\n      <td>...</td>\n      <td>...</td>\n    </tr>\n    <tr>\n      <th>235</th>\n      <td>Wallis and Futuna</td>\n      <td>681</td>\n      <td>WF / WLF</td>\n      <td>16025</td>\n      <td>274</td>\n      <td>NaN</td>\n      <td>WF</td>\n    </tr>\n    <tr>\n      <th>236</th>\n      <td>Western Sahara</td>\n      <td>212</td>\n      <td>EH / ESH</td>\n      <td>273008</td>\n      <td>266000</td>\n      <td>NaN</td>\n      <td>EH</td>\n    </tr>\n    <tr>\n      <th>237</th>\n      <td>Yemen</td>\n      <td>967</td>\n      <td>YE / YEM</td>\n      <td>23495361</td>\n      <td>527970</td>\n      <td>43.89 Billion</td>\n      <td>YE</td>\n    </tr>\n    <tr>\n      <th>238</th>\n      <td>Zambia</td>\n      <td>260</td>\n      <td>ZM / ZMB</td>\n      <td>13460305</td>\n      <td>752614</td>\n      <td>22.24 Billion</td>\n      <td>ZM</td>\n    </tr>\n    <tr>\n      <th>239</th>\n      <td>Zimbabwe</td>\n      <td>263</td>\n      <td>ZW / ZWE</td>\n      <td>11651858</td>\n      <td>390580</td>\n      <td>10.48 Billion</td>\n      <td>ZW</td>\n    </tr>\n  </tbody>\n</table>\n<p>240 rows × 7 columns</p>\n</div>"
     },
     "metadata": {},
     "execution_count": 7
    }
   ],
   "source": [
    "# Adding the split list back to the dataframe\n",
    "countries_list['ISO CODE 2L'] = iso_code_split[0]\n",
    "countries_list"
   ]
  },
  {
   "cell_type": "code",
   "execution_count": 8,
   "metadata": {},
   "outputs": [
    {
     "output_type": "execute_result",
     "data": {
      "text/plain": [
       "               COUNTRY COUNTRY CODE ISO CODES  POPULATION  AREA KM2  \\\n",
       "0          Afghanistan           93  AF / AFG    29121286    647500   \n",
       "1              Albania          355  AL / ALB     2986952     28748   \n",
       "2              Algeria          213  DZ / DZA    34586184   2381740   \n",
       "3       American Samoa        1-684  AS / ASM       57881       199   \n",
       "4              Andorra          376  AD / AND       84000       468   \n",
       "..                 ...          ...       ...         ...       ...   \n",
       "235  Wallis and Futuna          681  WF / WLF       16025       274   \n",
       "236     Western Sahara          212  EH / ESH      273008    266000   \n",
       "237              Yemen          967  YE / YEM    23495361    527970   \n",
       "238             Zambia          260  ZM / ZMB    13460305    752614   \n",
       "239           Zimbabwe          263  ZW / ZWE    11651858    390580   \n",
       "\n",
       "          GDP $USD ISO CODE 2L ISO CODE 3L  \n",
       "0    20.65 Billion         AF          AFG  \n",
       "1     12.8 Billion         AL          ALB  \n",
       "2    215.7 Billion         DZ          DZA  \n",
       "3    462.2 Million         AS          ASM  \n",
       "4      4.8 Billion         AD          AND  \n",
       "..             ...         ...         ...  \n",
       "235            NaN         WF          WLF  \n",
       "236            NaN         EH          ESH  \n",
       "237  43.89 Billion         YE          YEM  \n",
       "238  22.24 Billion         ZM          ZMB  \n",
       "239  10.48 Billion         ZW          ZWE  \n",
       "\n",
       "[240 rows x 8 columns]"
      ],
      "text/html": "<div>\n<style scoped>\n    .dataframe tbody tr th:only-of-type {\n        vertical-align: middle;\n    }\n\n    .dataframe tbody tr th {\n        vertical-align: top;\n    }\n\n    .dataframe thead th {\n        text-align: right;\n    }\n</style>\n<table border=\"1\" class=\"dataframe\">\n  <thead>\n    <tr style=\"text-align: right;\">\n      <th></th>\n      <th>COUNTRY</th>\n      <th>COUNTRY CODE</th>\n      <th>ISO CODES</th>\n      <th>POPULATION</th>\n      <th>AREA KM2</th>\n      <th>GDP $USD</th>\n      <th>ISO CODE 2L</th>\n      <th>ISO CODE 3L</th>\n    </tr>\n  </thead>\n  <tbody>\n    <tr>\n      <th>0</th>\n      <td>Afghanistan</td>\n      <td>93</td>\n      <td>AF / AFG</td>\n      <td>29121286</td>\n      <td>647500</td>\n      <td>20.65 Billion</td>\n      <td>AF</td>\n      <td>AFG</td>\n    </tr>\n    <tr>\n      <th>1</th>\n      <td>Albania</td>\n      <td>355</td>\n      <td>AL / ALB</td>\n      <td>2986952</td>\n      <td>28748</td>\n      <td>12.8 Billion</td>\n      <td>AL</td>\n      <td>ALB</td>\n    </tr>\n    <tr>\n      <th>2</th>\n      <td>Algeria</td>\n      <td>213</td>\n      <td>DZ / DZA</td>\n      <td>34586184</td>\n      <td>2381740</td>\n      <td>215.7 Billion</td>\n      <td>DZ</td>\n      <td>DZA</td>\n    </tr>\n    <tr>\n      <th>3</th>\n      <td>American Samoa</td>\n      <td>1-684</td>\n      <td>AS / ASM</td>\n      <td>57881</td>\n      <td>199</td>\n      <td>462.2 Million</td>\n      <td>AS</td>\n      <td>ASM</td>\n    </tr>\n    <tr>\n      <th>4</th>\n      <td>Andorra</td>\n      <td>376</td>\n      <td>AD / AND</td>\n      <td>84000</td>\n      <td>468</td>\n      <td>4.8 Billion</td>\n      <td>AD</td>\n      <td>AND</td>\n    </tr>\n    <tr>\n      <th>...</th>\n      <td>...</td>\n      <td>...</td>\n      <td>...</td>\n      <td>...</td>\n      <td>...</td>\n      <td>...</td>\n      <td>...</td>\n      <td>...</td>\n    </tr>\n    <tr>\n      <th>235</th>\n      <td>Wallis and Futuna</td>\n      <td>681</td>\n      <td>WF / WLF</td>\n      <td>16025</td>\n      <td>274</td>\n      <td>NaN</td>\n      <td>WF</td>\n      <td>WLF</td>\n    </tr>\n    <tr>\n      <th>236</th>\n      <td>Western Sahara</td>\n      <td>212</td>\n      <td>EH / ESH</td>\n      <td>273008</td>\n      <td>266000</td>\n      <td>NaN</td>\n      <td>EH</td>\n      <td>ESH</td>\n    </tr>\n    <tr>\n      <th>237</th>\n      <td>Yemen</td>\n      <td>967</td>\n      <td>YE / YEM</td>\n      <td>23495361</td>\n      <td>527970</td>\n      <td>43.89 Billion</td>\n      <td>YE</td>\n      <td>YEM</td>\n    </tr>\n    <tr>\n      <th>238</th>\n      <td>Zambia</td>\n      <td>260</td>\n      <td>ZM / ZMB</td>\n      <td>13460305</td>\n      <td>752614</td>\n      <td>22.24 Billion</td>\n      <td>ZM</td>\n      <td>ZMB</td>\n    </tr>\n    <tr>\n      <th>239</th>\n      <td>Zimbabwe</td>\n      <td>263</td>\n      <td>ZW / ZWE</td>\n      <td>11651858</td>\n      <td>390580</td>\n      <td>10.48 Billion</td>\n      <td>ZW</td>\n      <td>ZWE</td>\n    </tr>\n  </tbody>\n</table>\n<p>240 rows × 8 columns</p>\n</div>"
     },
     "metadata": {},
     "execution_count": 8
    }
   ],
   "source": [
    "# Adding the second three letter code list back to the original dataframe\n",
    "countries_list['ISO CODE 3L'] = iso_code_split[1]\n",
    "countries_list"
   ]
  },
  {
   "cell_type": "code",
   "execution_count": 9,
   "metadata": {},
   "outputs": [
    {
     "output_type": "execute_result",
     "data": {
      "text/plain": [
       "['Afghanistan', 'Albania', 'Algeria', 'American Samoa', 'Andorra']"
      ]
     },
     "metadata": {},
     "execution_count": 9
    }
   ],
   "source": [
    "# Creating a list of countries to iterate\n",
    "list_of_countries = countries_list['COUNTRY'].tolist()\n",
    "list_of_countries[:5]"
   ]
  },
  {
   "cell_type": "code",
   "execution_count": 10,
   "metadata": {},
   "outputs": [
    {
     "output_type": "execute_result",
     "data": {
      "text/plain": [
       "['AF ', 'AL ', 'DZ ', 'AS ', 'AD ']"
      ]
     },
     "metadata": {},
     "execution_count": 10
    }
   ],
   "source": [
    "# Creating a list of the ISO codes to iterate over\n",
    "_2l_ISO_CODES = countries_list['ISO CODE 2L'].tolist()\n",
    "_2l_ISO_CODES[:5]"
   ]
  },
  {
   "cell_type": "code",
   "execution_count": 11,
   "metadata": {},
   "outputs": [
    {
     "output_type": "execute_result",
     "data": {
      "text/plain": [
       "['AF', 'AL', 'DZ', 'AS', 'AD']"
      ]
     },
     "metadata": {},
     "execution_count": 11
    }
   ],
   "source": [
    "# Removing the spaces within the list\n",
    "_2l_ISO_CODES = [x.strip(' ') for x in _2l_ISO_CODES]\n",
    "_2l_ISO_CODES[:5]"
   ]
  },
  {
   "cell_type": "code",
   "execution_count": 12,
   "metadata": {},
   "outputs": [
    {
     "output_type": "execute_result",
     "data": {
      "text/plain": [
       "[' AFG', ' ALB', ' DZA', ' ASM', ' AND']"
      ]
     },
     "metadata": {},
     "execution_count": 12
    }
   ],
   "source": [
    "# Creating a list of the three letter ISO CODES to iterate over\n",
    "_3l_ISO_CODES = countries_list['ISO CODE 3L'].tolist()\n",
    "_3l_ISO_CODES[:5]"
   ]
  },
  {
   "cell_type": "code",
   "execution_count": 13,
   "metadata": {},
   "outputs": [
    {
     "output_type": "execute_result",
     "data": {
      "text/plain": [
       "['AFG', 'ALB', 'DZA', 'ASM', 'AND']"
      ]
     },
     "metadata": {},
     "execution_count": 13
    }
   ],
   "source": [
    "# Removing spaces within the list\n",
    "_3l_ISO_CODES = [x.strip(' ') for x in _3l_ISO_CODES]\n",
    "_3l_ISO_CODES[:5]"
   ]
  },
  {
   "cell_type": "code",
   "execution_count": 14,
   "metadata": {},
   "outputs": [],
   "source": [
    "# Creating a dictionary for the list of countries and their codes\n",
    "countries_dict = {\n",
    "    \"Country\":list_of_countries,\n",
    "    \"LOCATION\":_3l_ISO_CODES,\n",
    "    \"ISO CODE 2 letter\":_2l_ISO_CODES\n",
    "}"
   ]
  },
  {
   "cell_type": "code",
   "execution_count": 15,
   "metadata": {},
   "outputs": [
    {
     "output_type": "execute_result",
     "data": {
      "text/plain": [
       "               Country LOCATION ISO CODE 2 letter\n",
       "0          Afghanistan      AFG                AF\n",
       "1              Albania      ALB                AL\n",
       "2              Algeria      DZA                DZ\n",
       "3       American Samoa      ASM                AS\n",
       "4              Andorra      AND                AD\n",
       "..                 ...      ...               ...\n",
       "235  Wallis and Futuna      WLF                WF\n",
       "236     Western Sahara      ESH                EH\n",
       "237              Yemen      YEM                YE\n",
       "238             Zambia      ZMB                ZM\n",
       "239           Zimbabwe      ZWE                ZW\n",
       "\n",
       "[240 rows x 3 columns]"
      ],
      "text/html": "<div>\n<style scoped>\n    .dataframe tbody tr th:only-of-type {\n        vertical-align: middle;\n    }\n\n    .dataframe tbody tr th {\n        vertical-align: top;\n    }\n\n    .dataframe thead th {\n        text-align: right;\n    }\n</style>\n<table border=\"1\" class=\"dataframe\">\n  <thead>\n    <tr style=\"text-align: right;\">\n      <th></th>\n      <th>Country</th>\n      <th>LOCATION</th>\n      <th>ISO CODE 2 letter</th>\n    </tr>\n  </thead>\n  <tbody>\n    <tr>\n      <th>0</th>\n      <td>Afghanistan</td>\n      <td>AFG</td>\n      <td>AF</td>\n    </tr>\n    <tr>\n      <th>1</th>\n      <td>Albania</td>\n      <td>ALB</td>\n      <td>AL</td>\n    </tr>\n    <tr>\n      <th>2</th>\n      <td>Algeria</td>\n      <td>DZA</td>\n      <td>DZ</td>\n    </tr>\n    <tr>\n      <th>3</th>\n      <td>American Samoa</td>\n      <td>ASM</td>\n      <td>AS</td>\n    </tr>\n    <tr>\n      <th>4</th>\n      <td>Andorra</td>\n      <td>AND</td>\n      <td>AD</td>\n    </tr>\n    <tr>\n      <th>...</th>\n      <td>...</td>\n      <td>...</td>\n      <td>...</td>\n    </tr>\n    <tr>\n      <th>235</th>\n      <td>Wallis and Futuna</td>\n      <td>WLF</td>\n      <td>WF</td>\n    </tr>\n    <tr>\n      <th>236</th>\n      <td>Western Sahara</td>\n      <td>ESH</td>\n      <td>EH</td>\n    </tr>\n    <tr>\n      <th>237</th>\n      <td>Yemen</td>\n      <td>YEM</td>\n      <td>YE</td>\n    </tr>\n    <tr>\n      <th>238</th>\n      <td>Zambia</td>\n      <td>ZMB</td>\n      <td>ZM</td>\n    </tr>\n    <tr>\n      <th>239</th>\n      <td>Zimbabwe</td>\n      <td>ZWE</td>\n      <td>ZW</td>\n    </tr>\n  </tbody>\n</table>\n<p>240 rows × 3 columns</p>\n</div>"
     },
     "metadata": {},
     "execution_count": 15
    }
   ],
   "source": [
    "# Converting the Dictionary to a dataframe\n",
    "country_df = pd.DataFrame(countries_dict)\n",
    "country_df"
   ]
  },
  {
   "source": [
    "# Financial Sector"
   ],
   "cell_type": "markdown",
   "metadata": {}
  },
  {
   "cell_type": "code",
   "execution_count": 16,
   "metadata": {},
   "outputs": [
    {
     "output_type": "execute_result",
     "data": {
      "text/plain": [
       "      LOCATION  TIME  Automated teller machines (ATMs) (per 100,000 adults)\n",
       "0          AFG  1960                                           0.000000    \n",
       "1          AFG  1961                                           0.000000    \n",
       "2          AFG  1962                                           0.000000    \n",
       "3          AFG  1963                                           0.000000    \n",
       "4          AFG  1964                                           0.000000    \n",
       "...        ...   ...                                                ...    \n",
       "16099      WLD  2016                                          38.330143    \n",
       "16100      WLD  2017                                          38.034455    \n",
       "16101      WLD  2018                                          40.949620    \n",
       "16102      WLD  2019                                          49.615022    \n",
       "16103      WLD  2020                                           0.000000    \n",
       "\n",
       "[16104 rows x 3 columns]"
      ],
      "text/html": "<div>\n<style scoped>\n    .dataframe tbody tr th:only-of-type {\n        vertical-align: middle;\n    }\n\n    .dataframe tbody tr th {\n        vertical-align: top;\n    }\n\n    .dataframe thead th {\n        text-align: right;\n    }\n</style>\n<table border=\"1\" class=\"dataframe\">\n  <thead>\n    <tr style=\"text-align: right;\">\n      <th></th>\n      <th>LOCATION</th>\n      <th>TIME</th>\n      <th>Automated teller machines (ATMs) (per 100,000 adults)</th>\n    </tr>\n  </thead>\n  <tbody>\n    <tr>\n      <th>0</th>\n      <td>AFG</td>\n      <td>1960</td>\n      <td>0.000000</td>\n    </tr>\n    <tr>\n      <th>1</th>\n      <td>AFG</td>\n      <td>1961</td>\n      <td>0.000000</td>\n    </tr>\n    <tr>\n      <th>2</th>\n      <td>AFG</td>\n      <td>1962</td>\n      <td>0.000000</td>\n    </tr>\n    <tr>\n      <th>3</th>\n      <td>AFG</td>\n      <td>1963</td>\n      <td>0.000000</td>\n    </tr>\n    <tr>\n      <th>4</th>\n      <td>AFG</td>\n      <td>1964</td>\n      <td>0.000000</td>\n    </tr>\n    <tr>\n      <th>...</th>\n      <td>...</td>\n      <td>...</td>\n      <td>...</td>\n    </tr>\n    <tr>\n      <th>16099</th>\n      <td>WLD</td>\n      <td>2016</td>\n      <td>38.330143</td>\n    </tr>\n    <tr>\n      <th>16100</th>\n      <td>WLD</td>\n      <td>2017</td>\n      <td>38.034455</td>\n    </tr>\n    <tr>\n      <th>16101</th>\n      <td>WLD</td>\n      <td>2018</td>\n      <td>40.949620</td>\n    </tr>\n    <tr>\n      <th>16102</th>\n      <td>WLD</td>\n      <td>2019</td>\n      <td>49.615022</td>\n    </tr>\n    <tr>\n      <th>16103</th>\n      <td>WLD</td>\n      <td>2020</td>\n      <td>0.000000</td>\n    </tr>\n  </tbody>\n</table>\n<p>16104 rows × 3 columns</p>\n</div>"
     },
     "metadata": {},
     "execution_count": 16
    }
   ],
   "source": [
    "# Importing the CSV Files to tidy up the data\n",
    "teller_machines = pd.read_csv('raw_data/automated_teller_machines.csv')\n",
    "teller_machines"
   ]
  },
  {
   "cell_type": "code",
   "execution_count": 17,
   "metadata": {},
   "outputs": [
    {
     "output_type": "execute_result",
     "data": {
      "text/plain": [
       "      LOCATION  TIME  ATM_per_100000\n",
       "0          AFG  1960        0.000000\n",
       "1          AFG  1961        0.000000\n",
       "2          AFG  1962        0.000000\n",
       "3          AFG  1963        0.000000\n",
       "4          AFG  1964        0.000000\n",
       "...        ...   ...             ...\n",
       "16099      WLD  2016       38.330143\n",
       "16100      WLD  2017       38.034455\n",
       "16101      WLD  2018       40.949620\n",
       "16102      WLD  2019       49.615022\n",
       "16103      WLD  2020        0.000000\n",
       "\n",
       "[16104 rows x 3 columns]"
      ],
      "text/html": "<div>\n<style scoped>\n    .dataframe tbody tr th:only-of-type {\n        vertical-align: middle;\n    }\n\n    .dataframe tbody tr th {\n        vertical-align: top;\n    }\n\n    .dataframe thead th {\n        text-align: right;\n    }\n</style>\n<table border=\"1\" class=\"dataframe\">\n  <thead>\n    <tr style=\"text-align: right;\">\n      <th></th>\n      <th>LOCATION</th>\n      <th>TIME</th>\n      <th>ATM_per_100000</th>\n    </tr>\n  </thead>\n  <tbody>\n    <tr>\n      <th>0</th>\n      <td>AFG</td>\n      <td>1960</td>\n      <td>0.000000</td>\n    </tr>\n    <tr>\n      <th>1</th>\n      <td>AFG</td>\n      <td>1961</td>\n      <td>0.000000</td>\n    </tr>\n    <tr>\n      <th>2</th>\n      <td>AFG</td>\n      <td>1962</td>\n      <td>0.000000</td>\n    </tr>\n    <tr>\n      <th>3</th>\n      <td>AFG</td>\n      <td>1963</td>\n      <td>0.000000</td>\n    </tr>\n    <tr>\n      <th>4</th>\n      <td>AFG</td>\n      <td>1964</td>\n      <td>0.000000</td>\n    </tr>\n    <tr>\n      <th>...</th>\n      <td>...</td>\n      <td>...</td>\n      <td>...</td>\n    </tr>\n    <tr>\n      <th>16099</th>\n      <td>WLD</td>\n      <td>2016</td>\n      <td>38.330143</td>\n    </tr>\n    <tr>\n      <th>16100</th>\n      <td>WLD</td>\n      <td>2017</td>\n      <td>38.034455</td>\n    </tr>\n    <tr>\n      <th>16101</th>\n      <td>WLD</td>\n      <td>2018</td>\n      <td>40.949620</td>\n    </tr>\n    <tr>\n      <th>16102</th>\n      <td>WLD</td>\n      <td>2019</td>\n      <td>49.615022</td>\n    </tr>\n    <tr>\n      <th>16103</th>\n      <td>WLD</td>\n      <td>2020</td>\n      <td>0.000000</td>\n    </tr>\n  </tbody>\n</table>\n<p>16104 rows × 3 columns</p>\n</div>"
     },
     "metadata": {},
     "execution_count": 17
    }
   ],
   "source": [
    "# Renaming the columns\n",
    "teller_machines1 = teller_machines.rename(columns={'Automated teller machines (ATMs) (per 100,000 adults)':'ATM_per_100000'}).copy()\n",
    "teller_machines1"
   ]
  },
  {
   "cell_type": "code",
   "execution_count": 19,
   "metadata": {},
   "outputs": [
    {
     "output_type": "execute_result",
     "data": {
      "text/plain": [
       "      LOCATION  TIME  Borrowers from commercial banks (per 1,000 adults)\n",
       "0          AFG  1960                                           0.000000 \n",
       "1          AFG  1961                                           0.000000 \n",
       "2          AFG  1962                                           0.000000 \n",
       "3          AFG  1963                                           0.000000 \n",
       "4          AFG  1964                                           0.000000 \n",
       "...        ...   ...                                                ... \n",
       "16099      WLD  2016                                         164.010187 \n",
       "16100      WLD  2017                                         164.077303 \n",
       "16101      WLD  2018                                           0.000000 \n",
       "16102      WLD  2019                                           0.000000 \n",
       "16103      WLD  2020                                           0.000000 \n",
       "\n",
       "[16104 rows x 3 columns]"
      ],
      "text/html": "<div>\n<style scoped>\n    .dataframe tbody tr th:only-of-type {\n        vertical-align: middle;\n    }\n\n    .dataframe tbody tr th {\n        vertical-align: top;\n    }\n\n    .dataframe thead th {\n        text-align: right;\n    }\n</style>\n<table border=\"1\" class=\"dataframe\">\n  <thead>\n    <tr style=\"text-align: right;\">\n      <th></th>\n      <th>LOCATION</th>\n      <th>TIME</th>\n      <th>Borrowers from commercial banks (per 1,000 adults)</th>\n    </tr>\n  </thead>\n  <tbody>\n    <tr>\n      <th>0</th>\n      <td>AFG</td>\n      <td>1960</td>\n      <td>0.000000</td>\n    </tr>\n    <tr>\n      <th>1</th>\n      <td>AFG</td>\n      <td>1961</td>\n      <td>0.000000</td>\n    </tr>\n    <tr>\n      <th>2</th>\n      <td>AFG</td>\n      <td>1962</td>\n      <td>0.000000</td>\n    </tr>\n    <tr>\n      <th>3</th>\n      <td>AFG</td>\n      <td>1963</td>\n      <td>0.000000</td>\n    </tr>\n    <tr>\n      <th>4</th>\n      <td>AFG</td>\n      <td>1964</td>\n      <td>0.000000</td>\n    </tr>\n    <tr>\n      <th>...</th>\n      <td>...</td>\n      <td>...</td>\n      <td>...</td>\n    </tr>\n    <tr>\n      <th>16099</th>\n      <td>WLD</td>\n      <td>2016</td>\n      <td>164.010187</td>\n    </tr>\n    <tr>\n      <th>16100</th>\n      <td>WLD</td>\n      <td>2017</td>\n      <td>164.077303</td>\n    </tr>\n    <tr>\n      <th>16101</th>\n      <td>WLD</td>\n      <td>2018</td>\n      <td>0.000000</td>\n    </tr>\n    <tr>\n      <th>16102</th>\n      <td>WLD</td>\n      <td>2019</td>\n      <td>0.000000</td>\n    </tr>\n    <tr>\n      <th>16103</th>\n      <td>WLD</td>\n      <td>2020</td>\n      <td>0.000000</td>\n    </tr>\n  </tbody>\n</table>\n<p>16104 rows × 3 columns</p>\n</div>"
     },
     "metadata": {},
     "execution_count": 19
    }
   ],
   "source": [
    "# Bank Loans\n",
    "bank_loans = pd.read_csv('raw_data/borrowersfrombanks.csv')\n",
    "bank_loans"
   ]
  },
  {
   "cell_type": "code",
   "execution_count": 21,
   "metadata": {},
   "outputs": [
    {
     "output_type": "execute_result",
     "data": {
      "text/plain": [
       "      LOCATION  TIME  ATM_per_100000  \\\n",
       "0          AFG  1960        0.000000   \n",
       "1          AFG  1961        0.000000   \n",
       "2          AFG  1962        0.000000   \n",
       "3          AFG  1963        0.000000   \n",
       "4          AFG  1964        0.000000   \n",
       "...        ...   ...             ...   \n",
       "16099      WLD  2016       38.330143   \n",
       "16100      WLD  2017       38.034455   \n",
       "16101      WLD  2018       40.949620   \n",
       "16102      WLD  2019       49.615022   \n",
       "16103      WLD  2020        0.000000   \n",
       "\n",
       "       Borrowers from commercial banks (per 1,000 adults)  \n",
       "0                                               0.000000   \n",
       "1                                               0.000000   \n",
       "2                                               0.000000   \n",
       "3                                               0.000000   \n",
       "4                                               0.000000   \n",
       "...                                                  ...   \n",
       "16099                                         164.010187   \n",
       "16100                                         164.077303   \n",
       "16101                                           0.000000   \n",
       "16102                                           0.000000   \n",
       "16103                                           0.000000   \n",
       "\n",
       "[16104 rows x 4 columns]"
      ],
      "text/html": "<div>\n<style scoped>\n    .dataframe tbody tr th:only-of-type {\n        vertical-align: middle;\n    }\n\n    .dataframe tbody tr th {\n        vertical-align: top;\n    }\n\n    .dataframe thead th {\n        text-align: right;\n    }\n</style>\n<table border=\"1\" class=\"dataframe\">\n  <thead>\n    <tr style=\"text-align: right;\">\n      <th></th>\n      <th>LOCATION</th>\n      <th>TIME</th>\n      <th>ATM_per_100000</th>\n      <th>Borrowers from commercial banks (per 1,000 adults)</th>\n    </tr>\n  </thead>\n  <tbody>\n    <tr>\n      <th>0</th>\n      <td>AFG</td>\n      <td>1960</td>\n      <td>0.000000</td>\n      <td>0.000000</td>\n    </tr>\n    <tr>\n      <th>1</th>\n      <td>AFG</td>\n      <td>1961</td>\n      <td>0.000000</td>\n      <td>0.000000</td>\n    </tr>\n    <tr>\n      <th>2</th>\n      <td>AFG</td>\n      <td>1962</td>\n      <td>0.000000</td>\n      <td>0.000000</td>\n    </tr>\n    <tr>\n      <th>3</th>\n      <td>AFG</td>\n      <td>1963</td>\n      <td>0.000000</td>\n      <td>0.000000</td>\n    </tr>\n    <tr>\n      <th>4</th>\n      <td>AFG</td>\n      <td>1964</td>\n      <td>0.000000</td>\n      <td>0.000000</td>\n    </tr>\n    <tr>\n      <th>...</th>\n      <td>...</td>\n      <td>...</td>\n      <td>...</td>\n      <td>...</td>\n    </tr>\n    <tr>\n      <th>16099</th>\n      <td>WLD</td>\n      <td>2016</td>\n      <td>38.330143</td>\n      <td>164.010187</td>\n    </tr>\n    <tr>\n      <th>16100</th>\n      <td>WLD</td>\n      <td>2017</td>\n      <td>38.034455</td>\n      <td>164.077303</td>\n    </tr>\n    <tr>\n      <th>16101</th>\n      <td>WLD</td>\n      <td>2018</td>\n      <td>40.949620</td>\n      <td>0.000000</td>\n    </tr>\n    <tr>\n      <th>16102</th>\n      <td>WLD</td>\n      <td>2019</td>\n      <td>49.615022</td>\n      <td>0.000000</td>\n    </tr>\n    <tr>\n      <th>16103</th>\n      <td>WLD</td>\n      <td>2020</td>\n      <td>0.000000</td>\n      <td>0.000000</td>\n    </tr>\n  </tbody>\n</table>\n<p>16104 rows × 4 columns</p>\n</div>"
     },
     "metadata": {},
     "execution_count": 21
    }
   ],
   "source": [
    "# Merging the two dataframes together\n",
    "merge1 = pd.merge(teller_machines1, bank_loans, on=['LOCATION','TIME'], how='inner')\n",
    "merge1"
   ]
  },
  {
   "cell_type": "code",
   "execution_count": null,
   "metadata": {},
   "outputs": [],
   "source": []
  }
 ]
}