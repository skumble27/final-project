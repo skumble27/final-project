{
 "metadata": {
  "language_info": {
   "codemirror_mode": {
    "name": "ipython",
    "version": 3
   },
   "file_extension": ".py",
   "mimetype": "text/x-python",
   "name": "python",
   "nbconvert_exporter": "python",
   "pygments_lexer": "ipython3",
   "version": "3.6.12-final"
  },
  "orig_nbformat": 2,
  "kernelspec": {
   "name": "python3",
   "display_name": "Python 3.6.12 64-bit ('apiproject': conda)",
   "metadata": {
    "interpreter": {
     "hash": "65141e336b334a21ac1724ea85117fff93a000c15b507ad8f7a437392607e163"
    }
   }
  }
 },
 "nbformat": 4,
 "nbformat_minor": 2,
 "cells": [
  {
   "cell_type": "code",
   "execution_count": 1,
   "metadata": {},
   "outputs": [],
   "source": [
    "from config import api_key\n",
    "import quandl\n",
    "import pandas as pd"
   ]
  },
  {
   "cell_type": "code",
   "execution_count": 2,
   "metadata": {},
   "outputs": [],
   "source": [
    "# Obtaining a list of all the countries and their associated three letter codes\n",
    "countries = pd.read_html('https://countrycode.org/')"
   ]
  },
  {
   "cell_type": "code",
   "execution_count": 3,
   "metadata": {},
   "outputs": [
    {
     "output_type": "execute_result",
     "data": {
      "text/plain": [
       "[               COUNTRY COUNTRY CODE ISO CODES  POPULATION  AREA KM2  \\\n",
       " 0          Afghanistan           93  AF / AFG    29121286    647500   \n",
       " 1              Albania          355  AL / ALB     2986952     28748   \n",
       " 2              Algeria          213  DZ / DZA    34586184   2381740   \n",
       " 3       American Samoa        1-684  AS / ASM       57881       199   \n",
       " 4              Andorra          376  AD / AND       84000       468   \n",
       " ..                 ...          ...       ...         ...       ...   \n",
       " 235  Wallis and Futuna          681  WF / WLF       16025       274   \n",
       " 236     Western Sahara          212  EH / ESH      273008    266000   \n",
       " 237              Yemen          967  YE / YEM    23495361    527970   \n",
       " 238             Zambia          260  ZM / ZMB    13460305    752614   \n",
       " 239           Zimbabwe          263  ZW / ZWE    11651858    390580   \n",
       " \n",
       "           GDP $USD  \n",
       " 0    20.65 Billion  \n",
       " 1     12.8 Billion  \n",
       " 2    215.7 Billion  \n",
       " 3    462.2 Million  \n",
       " 4      4.8 Billion  \n",
       " ..             ...  \n",
       " 235            NaN  \n",
       " 236            NaN  \n",
       " 237  43.89 Billion  \n",
       " 238  22.24 Billion  \n",
       " 239  10.48 Billion  \n",
       " \n",
       " [240 rows x 6 columns],\n",
       "                COUNTRY COUNTRY CODE ISO CODES\n",
       " 0          Afghanistan           93  AF / AFG\n",
       " 1              Albania          355  AL / ALB\n",
       " 2              Algeria          213  DZ / DZA\n",
       " 3       American Samoa        1-684  AS / ASM\n",
       " 4              Andorra          376  AD / AND\n",
       " ..                 ...          ...       ...\n",
       " 235  Wallis and Futuna          681  WF / WLF\n",
       " 236     Western Sahara          212  EH / ESH\n",
       " 237              Yemen          967  YE / YEM\n",
       " 238             Zambia          260  ZM / ZMB\n",
       " 239           Zimbabwe          263  ZW / ZWE\n",
       " \n",
       " [240 rows x 3 columns]]"
      ]
     },
     "metadata": {},
     "execution_count": 3
    }
   ],
   "source": [
    "# Viewing the Dataframe\n",
    "countries"
   ]
  },
  {
   "cell_type": "code",
   "execution_count": 4,
   "metadata": {},
   "outputs": [
    {
     "output_type": "execute_result",
     "data": {
      "text/plain": [
       "list"
      ]
     },
     "metadata": {},
     "execution_count": 4
    }
   ],
   "source": [
    "# Determing the type for the country variable\n",
    "type(countries)"
   ]
  },
  {
   "cell_type": "code",
   "execution_count": 5,
   "metadata": {},
   "outputs": [
    {
     "output_type": "execute_result",
     "data": {
      "text/plain": [
       "               COUNTRY COUNTRY CODE ISO CODES  POPULATION  AREA KM2  \\\n",
       "0          Afghanistan           93  AF / AFG    29121286    647500   \n",
       "1              Albania          355  AL / ALB     2986952     28748   \n",
       "2              Algeria          213  DZ / DZA    34586184   2381740   \n",
       "3       American Samoa        1-684  AS / ASM       57881       199   \n",
       "4              Andorra          376  AD / AND       84000       468   \n",
       "..                 ...          ...       ...         ...       ...   \n",
       "235  Wallis and Futuna          681  WF / WLF       16025       274   \n",
       "236     Western Sahara          212  EH / ESH      273008    266000   \n",
       "237              Yemen          967  YE / YEM    23495361    527970   \n",
       "238             Zambia          260  ZM / ZMB    13460305    752614   \n",
       "239           Zimbabwe          263  ZW / ZWE    11651858    390580   \n",
       "\n",
       "          GDP $USD  \n",
       "0    20.65 Billion  \n",
       "1     12.8 Billion  \n",
       "2    215.7 Billion  \n",
       "3    462.2 Million  \n",
       "4      4.8 Billion  \n",
       "..             ...  \n",
       "235            NaN  \n",
       "236            NaN  \n",
       "237  43.89 Billion  \n",
       "238  22.24 Billion  \n",
       "239  10.48 Billion  \n",
       "\n",
       "[240 rows x 6 columns]"
      ],
      "text/html": "<div>\n<style scoped>\n    .dataframe tbody tr th:only-of-type {\n        vertical-align: middle;\n    }\n\n    .dataframe tbody tr th {\n        vertical-align: top;\n    }\n\n    .dataframe thead th {\n        text-align: right;\n    }\n</style>\n<table border=\"1\" class=\"dataframe\">\n  <thead>\n    <tr style=\"text-align: right;\">\n      <th></th>\n      <th>COUNTRY</th>\n      <th>COUNTRY CODE</th>\n      <th>ISO CODES</th>\n      <th>POPULATION</th>\n      <th>AREA KM2</th>\n      <th>GDP $USD</th>\n    </tr>\n  </thead>\n  <tbody>\n    <tr>\n      <th>0</th>\n      <td>Afghanistan</td>\n      <td>93</td>\n      <td>AF / AFG</td>\n      <td>29121286</td>\n      <td>647500</td>\n      <td>20.65 Billion</td>\n    </tr>\n    <tr>\n      <th>1</th>\n      <td>Albania</td>\n      <td>355</td>\n      <td>AL / ALB</td>\n      <td>2986952</td>\n      <td>28748</td>\n      <td>12.8 Billion</td>\n    </tr>\n    <tr>\n      <th>2</th>\n      <td>Algeria</td>\n      <td>213</td>\n      <td>DZ / DZA</td>\n      <td>34586184</td>\n      <td>2381740</td>\n      <td>215.7 Billion</td>\n    </tr>\n    <tr>\n      <th>3</th>\n      <td>American Samoa</td>\n      <td>1-684</td>\n      <td>AS / ASM</td>\n      <td>57881</td>\n      <td>199</td>\n      <td>462.2 Million</td>\n    </tr>\n    <tr>\n      <th>4</th>\n      <td>Andorra</td>\n      <td>376</td>\n      <td>AD / AND</td>\n      <td>84000</td>\n      <td>468</td>\n      <td>4.8 Billion</td>\n    </tr>\n    <tr>\n      <th>...</th>\n      <td>...</td>\n      <td>...</td>\n      <td>...</td>\n      <td>...</td>\n      <td>...</td>\n      <td>...</td>\n    </tr>\n    <tr>\n      <th>235</th>\n      <td>Wallis and Futuna</td>\n      <td>681</td>\n      <td>WF / WLF</td>\n      <td>16025</td>\n      <td>274</td>\n      <td>NaN</td>\n    </tr>\n    <tr>\n      <th>236</th>\n      <td>Western Sahara</td>\n      <td>212</td>\n      <td>EH / ESH</td>\n      <td>273008</td>\n      <td>266000</td>\n      <td>NaN</td>\n    </tr>\n    <tr>\n      <th>237</th>\n      <td>Yemen</td>\n      <td>967</td>\n      <td>YE / YEM</td>\n      <td>23495361</td>\n      <td>527970</td>\n      <td>43.89 Billion</td>\n    </tr>\n    <tr>\n      <th>238</th>\n      <td>Zambia</td>\n      <td>260</td>\n      <td>ZM / ZMB</td>\n      <td>13460305</td>\n      <td>752614</td>\n      <td>22.24 Billion</td>\n    </tr>\n    <tr>\n      <th>239</th>\n      <td>Zimbabwe</td>\n      <td>263</td>\n      <td>ZW / ZWE</td>\n      <td>11651858</td>\n      <td>390580</td>\n      <td>10.48 Billion</td>\n    </tr>\n  </tbody>\n</table>\n<p>240 rows × 6 columns</p>\n</div>"
     },
     "metadata": {},
     "execution_count": 5
    }
   ],
   "source": [
    "# Obtain the first key of the list\n",
    "countries_list = countries[0]\n",
    "countries_list"
   ]
  },
  {
   "cell_type": "code",
   "execution_count": 6,
   "metadata": {},
   "outputs": [
    {
     "output_type": "execute_result",
     "data": {
      "text/plain": [
       "       0     1\n",
       "0    AF    AFG\n",
       "1    AL    ALB\n",
       "2    DZ    DZA\n",
       "3    AS    ASM\n",
       "4    AD    AND\n",
       "..   ...   ...\n",
       "235  WF    WLF\n",
       "236  EH    ESH\n",
       "237  YE    YEM\n",
       "238  ZM    ZMB\n",
       "239  ZW    ZWE\n",
       "\n",
       "[240 rows x 2 columns]"
      ],
      "text/html": "<div>\n<style scoped>\n    .dataframe tbody tr th:only-of-type {\n        vertical-align: middle;\n    }\n\n    .dataframe tbody tr th {\n        vertical-align: top;\n    }\n\n    .dataframe thead th {\n        text-align: right;\n    }\n</style>\n<table border=\"1\" class=\"dataframe\">\n  <thead>\n    <tr style=\"text-align: right;\">\n      <th></th>\n      <th>0</th>\n      <th>1</th>\n    </tr>\n  </thead>\n  <tbody>\n    <tr>\n      <th>0</th>\n      <td>AF</td>\n      <td>AFG</td>\n    </tr>\n    <tr>\n      <th>1</th>\n      <td>AL</td>\n      <td>ALB</td>\n    </tr>\n    <tr>\n      <th>2</th>\n      <td>DZ</td>\n      <td>DZA</td>\n    </tr>\n    <tr>\n      <th>3</th>\n      <td>AS</td>\n      <td>ASM</td>\n    </tr>\n    <tr>\n      <th>4</th>\n      <td>AD</td>\n      <td>AND</td>\n    </tr>\n    <tr>\n      <th>...</th>\n      <td>...</td>\n      <td>...</td>\n    </tr>\n    <tr>\n      <th>235</th>\n      <td>WF</td>\n      <td>WLF</td>\n    </tr>\n    <tr>\n      <th>236</th>\n      <td>EH</td>\n      <td>ESH</td>\n    </tr>\n    <tr>\n      <th>237</th>\n      <td>YE</td>\n      <td>YEM</td>\n    </tr>\n    <tr>\n      <th>238</th>\n      <td>ZM</td>\n      <td>ZMB</td>\n    </tr>\n    <tr>\n      <th>239</th>\n      <td>ZW</td>\n      <td>ZWE</td>\n    </tr>\n  </tbody>\n</table>\n<p>240 rows × 2 columns</p>\n</div>"
     },
     "metadata": {},
     "execution_count": 6
    }
   ],
   "source": [
    "# Splitting the column relating to ISO CODES\n",
    "iso_code_split = countries_list['ISO CODES'].str.split(\"/\",n=1, expand=True)\n",
    "iso_code_split"
   ]
  },
  {
   "cell_type": "code",
   "execution_count": 7,
   "metadata": {},
   "outputs": [
    {
     "output_type": "execute_result",
     "data": {
      "text/plain": [
       "               COUNTRY COUNTRY CODE ISO CODES  POPULATION  AREA KM2  \\\n",
       "0          Afghanistan           93  AF / AFG    29121286    647500   \n",
       "1              Albania          355  AL / ALB     2986952     28748   \n",
       "2              Algeria          213  DZ / DZA    34586184   2381740   \n",
       "3       American Samoa        1-684  AS / ASM       57881       199   \n",
       "4              Andorra          376  AD / AND       84000       468   \n",
       "..                 ...          ...       ...         ...       ...   \n",
       "235  Wallis and Futuna          681  WF / WLF       16025       274   \n",
       "236     Western Sahara          212  EH / ESH      273008    266000   \n",
       "237              Yemen          967  YE / YEM    23495361    527970   \n",
       "238             Zambia          260  ZM / ZMB    13460305    752614   \n",
       "239           Zimbabwe          263  ZW / ZWE    11651858    390580   \n",
       "\n",
       "          GDP $USD ISO CODE 2L  \n",
       "0    20.65 Billion         AF   \n",
       "1     12.8 Billion         AL   \n",
       "2    215.7 Billion         DZ   \n",
       "3    462.2 Million         AS   \n",
       "4      4.8 Billion         AD   \n",
       "..             ...         ...  \n",
       "235            NaN         WF   \n",
       "236            NaN         EH   \n",
       "237  43.89 Billion         YE   \n",
       "238  22.24 Billion         ZM   \n",
       "239  10.48 Billion         ZW   \n",
       "\n",
       "[240 rows x 7 columns]"
      ],
      "text/html": "<div>\n<style scoped>\n    .dataframe tbody tr th:only-of-type {\n        vertical-align: middle;\n    }\n\n    .dataframe tbody tr th {\n        vertical-align: top;\n    }\n\n    .dataframe thead th {\n        text-align: right;\n    }\n</style>\n<table border=\"1\" class=\"dataframe\">\n  <thead>\n    <tr style=\"text-align: right;\">\n      <th></th>\n      <th>COUNTRY</th>\n      <th>COUNTRY CODE</th>\n      <th>ISO CODES</th>\n      <th>POPULATION</th>\n      <th>AREA KM2</th>\n      <th>GDP $USD</th>\n      <th>ISO CODE 2L</th>\n    </tr>\n  </thead>\n  <tbody>\n    <tr>\n      <th>0</th>\n      <td>Afghanistan</td>\n      <td>93</td>\n      <td>AF / AFG</td>\n      <td>29121286</td>\n      <td>647500</td>\n      <td>20.65 Billion</td>\n      <td>AF</td>\n    </tr>\n    <tr>\n      <th>1</th>\n      <td>Albania</td>\n      <td>355</td>\n      <td>AL / ALB</td>\n      <td>2986952</td>\n      <td>28748</td>\n      <td>12.8 Billion</td>\n      <td>AL</td>\n    </tr>\n    <tr>\n      <th>2</th>\n      <td>Algeria</td>\n      <td>213</td>\n      <td>DZ / DZA</td>\n      <td>34586184</td>\n      <td>2381740</td>\n      <td>215.7 Billion</td>\n      <td>DZ</td>\n    </tr>\n    <tr>\n      <th>3</th>\n      <td>American Samoa</td>\n      <td>1-684</td>\n      <td>AS / ASM</td>\n      <td>57881</td>\n      <td>199</td>\n      <td>462.2 Million</td>\n      <td>AS</td>\n    </tr>\n    <tr>\n      <th>4</th>\n      <td>Andorra</td>\n      <td>376</td>\n      <td>AD / AND</td>\n      <td>84000</td>\n      <td>468</td>\n      <td>4.8 Billion</td>\n      <td>AD</td>\n    </tr>\n    <tr>\n      <th>...</th>\n      <td>...</td>\n      <td>...</td>\n      <td>...</td>\n      <td>...</td>\n      <td>...</td>\n      <td>...</td>\n      <td>...</td>\n    </tr>\n    <tr>\n      <th>235</th>\n      <td>Wallis and Futuna</td>\n      <td>681</td>\n      <td>WF / WLF</td>\n      <td>16025</td>\n      <td>274</td>\n      <td>NaN</td>\n      <td>WF</td>\n    </tr>\n    <tr>\n      <th>236</th>\n      <td>Western Sahara</td>\n      <td>212</td>\n      <td>EH / ESH</td>\n      <td>273008</td>\n      <td>266000</td>\n      <td>NaN</td>\n      <td>EH</td>\n    </tr>\n    <tr>\n      <th>237</th>\n      <td>Yemen</td>\n      <td>967</td>\n      <td>YE / YEM</td>\n      <td>23495361</td>\n      <td>527970</td>\n      <td>43.89 Billion</td>\n      <td>YE</td>\n    </tr>\n    <tr>\n      <th>238</th>\n      <td>Zambia</td>\n      <td>260</td>\n      <td>ZM / ZMB</td>\n      <td>13460305</td>\n      <td>752614</td>\n      <td>22.24 Billion</td>\n      <td>ZM</td>\n    </tr>\n    <tr>\n      <th>239</th>\n      <td>Zimbabwe</td>\n      <td>263</td>\n      <td>ZW / ZWE</td>\n      <td>11651858</td>\n      <td>390580</td>\n      <td>10.48 Billion</td>\n      <td>ZW</td>\n    </tr>\n  </tbody>\n</table>\n<p>240 rows × 7 columns</p>\n</div>"
     },
     "metadata": {},
     "execution_count": 7
    }
   ],
   "source": [
    "# Adding the split list back to the dataframe\n",
    "countries_list['ISO CODE 2L'] = iso_code_split[0]\n",
    "countries_list"
   ]
  },
  {
   "cell_type": "code",
   "execution_count": 8,
   "metadata": {},
   "outputs": [
    {
     "output_type": "execute_result",
     "data": {
      "text/plain": [
       "               COUNTRY COUNTRY CODE ISO CODES  POPULATION  AREA KM2  \\\n",
       "0          Afghanistan           93  AF / AFG    29121286    647500   \n",
       "1              Albania          355  AL / ALB     2986952     28748   \n",
       "2              Algeria          213  DZ / DZA    34586184   2381740   \n",
       "3       American Samoa        1-684  AS / ASM       57881       199   \n",
       "4              Andorra          376  AD / AND       84000       468   \n",
       "..                 ...          ...       ...         ...       ...   \n",
       "235  Wallis and Futuna          681  WF / WLF       16025       274   \n",
       "236     Western Sahara          212  EH / ESH      273008    266000   \n",
       "237              Yemen          967  YE / YEM    23495361    527970   \n",
       "238             Zambia          260  ZM / ZMB    13460305    752614   \n",
       "239           Zimbabwe          263  ZW / ZWE    11651858    390580   \n",
       "\n",
       "          GDP $USD ISO CODE 2L ISO CODE 3L  \n",
       "0    20.65 Billion         AF          AFG  \n",
       "1     12.8 Billion         AL          ALB  \n",
       "2    215.7 Billion         DZ          DZA  \n",
       "3    462.2 Million         AS          ASM  \n",
       "4      4.8 Billion         AD          AND  \n",
       "..             ...         ...         ...  \n",
       "235            NaN         WF          WLF  \n",
       "236            NaN         EH          ESH  \n",
       "237  43.89 Billion         YE          YEM  \n",
       "238  22.24 Billion         ZM          ZMB  \n",
       "239  10.48 Billion         ZW          ZWE  \n",
       "\n",
       "[240 rows x 8 columns]"
      ],
      "text/html": "<div>\n<style scoped>\n    .dataframe tbody tr th:only-of-type {\n        vertical-align: middle;\n    }\n\n    .dataframe tbody tr th {\n        vertical-align: top;\n    }\n\n    .dataframe thead th {\n        text-align: right;\n    }\n</style>\n<table border=\"1\" class=\"dataframe\">\n  <thead>\n    <tr style=\"text-align: right;\">\n      <th></th>\n      <th>COUNTRY</th>\n      <th>COUNTRY CODE</th>\n      <th>ISO CODES</th>\n      <th>POPULATION</th>\n      <th>AREA KM2</th>\n      <th>GDP $USD</th>\n      <th>ISO CODE 2L</th>\n      <th>ISO CODE 3L</th>\n    </tr>\n  </thead>\n  <tbody>\n    <tr>\n      <th>0</th>\n      <td>Afghanistan</td>\n      <td>93</td>\n      <td>AF / AFG</td>\n      <td>29121286</td>\n      <td>647500</td>\n      <td>20.65 Billion</td>\n      <td>AF</td>\n      <td>AFG</td>\n    </tr>\n    <tr>\n      <th>1</th>\n      <td>Albania</td>\n      <td>355</td>\n      <td>AL / ALB</td>\n      <td>2986952</td>\n      <td>28748</td>\n      <td>12.8 Billion</td>\n      <td>AL</td>\n      <td>ALB</td>\n    </tr>\n    <tr>\n      <th>2</th>\n      <td>Algeria</td>\n      <td>213</td>\n      <td>DZ / DZA</td>\n      <td>34586184</td>\n      <td>2381740</td>\n      <td>215.7 Billion</td>\n      <td>DZ</td>\n      <td>DZA</td>\n    </tr>\n    <tr>\n      <th>3</th>\n      <td>American Samoa</td>\n      <td>1-684</td>\n      <td>AS / ASM</td>\n      <td>57881</td>\n      <td>199</td>\n      <td>462.2 Million</td>\n      <td>AS</td>\n      <td>ASM</td>\n    </tr>\n    <tr>\n      <th>4</th>\n      <td>Andorra</td>\n      <td>376</td>\n      <td>AD / AND</td>\n      <td>84000</td>\n      <td>468</td>\n      <td>4.8 Billion</td>\n      <td>AD</td>\n      <td>AND</td>\n    </tr>\n    <tr>\n      <th>...</th>\n      <td>...</td>\n      <td>...</td>\n      <td>...</td>\n      <td>...</td>\n      <td>...</td>\n      <td>...</td>\n      <td>...</td>\n      <td>...</td>\n    </tr>\n    <tr>\n      <th>235</th>\n      <td>Wallis and Futuna</td>\n      <td>681</td>\n      <td>WF / WLF</td>\n      <td>16025</td>\n      <td>274</td>\n      <td>NaN</td>\n      <td>WF</td>\n      <td>WLF</td>\n    </tr>\n    <tr>\n      <th>236</th>\n      <td>Western Sahara</td>\n      <td>212</td>\n      <td>EH / ESH</td>\n      <td>273008</td>\n      <td>266000</td>\n      <td>NaN</td>\n      <td>EH</td>\n      <td>ESH</td>\n    </tr>\n    <tr>\n      <th>237</th>\n      <td>Yemen</td>\n      <td>967</td>\n      <td>YE / YEM</td>\n      <td>23495361</td>\n      <td>527970</td>\n      <td>43.89 Billion</td>\n      <td>YE</td>\n      <td>YEM</td>\n    </tr>\n    <tr>\n      <th>238</th>\n      <td>Zambia</td>\n      <td>260</td>\n      <td>ZM / ZMB</td>\n      <td>13460305</td>\n      <td>752614</td>\n      <td>22.24 Billion</td>\n      <td>ZM</td>\n      <td>ZMB</td>\n    </tr>\n    <tr>\n      <th>239</th>\n      <td>Zimbabwe</td>\n      <td>263</td>\n      <td>ZW / ZWE</td>\n      <td>11651858</td>\n      <td>390580</td>\n      <td>10.48 Billion</td>\n      <td>ZW</td>\n      <td>ZWE</td>\n    </tr>\n  </tbody>\n</table>\n<p>240 rows × 8 columns</p>\n</div>"
     },
     "metadata": {},
     "execution_count": 8
    }
   ],
   "source": [
    "# Adding the second three letter code list back to the original dataframe\n",
    "countries_list['ISO CODE 3L'] = iso_code_split[1]\n",
    "countries_list"
   ]
  },
  {
   "cell_type": "code",
   "execution_count": 9,
   "metadata": {},
   "outputs": [
    {
     "output_type": "execute_result",
     "data": {
      "text/plain": [
       "['Afghanistan', 'Albania', 'Algeria', 'American Samoa', 'Andorra']"
      ]
     },
     "metadata": {},
     "execution_count": 9
    }
   ],
   "source": [
    "# Creating a list of countries to iterate\n",
    "list_of_countries = countries_list['COUNTRY'].tolist()\n",
    "list_of_countries[:5]"
   ]
  },
  {
   "cell_type": "code",
   "execution_count": 10,
   "metadata": {},
   "outputs": [
    {
     "output_type": "execute_result",
     "data": {
      "text/plain": [
       "['AF ', 'AL ', 'DZ ', 'AS ', 'AD ']"
      ]
     },
     "metadata": {},
     "execution_count": 10
    }
   ],
   "source": [
    "# Creating a list of the ISO codes to iterate over\n",
    "_2l_ISO_CODES = countries_list['ISO CODE 2L'].tolist()\n",
    "_2l_ISO_CODES[:5]"
   ]
  },
  {
   "cell_type": "code",
   "execution_count": 11,
   "metadata": {},
   "outputs": [
    {
     "output_type": "execute_result",
     "data": {
      "text/plain": [
       "['AF', 'AL', 'DZ', 'AS', 'AD']"
      ]
     },
     "metadata": {},
     "execution_count": 11
    }
   ],
   "source": [
    "# Removing the spaces within the list\n",
    "_2l_ISO_CODES = [x.strip(' ') for x in _2l_ISO_CODES]\n",
    "_2l_ISO_CODES[:5]"
   ]
  },
  {
   "cell_type": "code",
   "execution_count": 12,
   "metadata": {},
   "outputs": [
    {
     "output_type": "execute_result",
     "data": {
      "text/plain": [
       "[' AFG', ' ALB', ' DZA', ' ASM', ' AND']"
      ]
     },
     "metadata": {},
     "execution_count": 12
    }
   ],
   "source": [
    "# Creating a list of the three letter ISO CODES to iterate over\n",
    "_3l_ISO_CODES = countries_list['ISO CODE 3L'].tolist()\n",
    "_3l_ISO_CODES[:5]"
   ]
  },
  {
   "cell_type": "code",
   "execution_count": 13,
   "metadata": {},
   "outputs": [
    {
     "output_type": "execute_result",
     "data": {
      "text/plain": [
       "['AFG', 'ALB', 'DZA', 'ASM', 'AND']"
      ]
     },
     "metadata": {},
     "execution_count": 13
    }
   ],
   "source": [
    "# Removing spaces within the list\n",
    "_3l_ISO_CODES = [x.strip(' ') for x in _3l_ISO_CODES]\n",
    "_3l_ISO_CODES[:5]"
   ]
  },
  {
   "source": [
    "# Extraction, Transformation and Loading from QUANDL Database"
   ],
   "cell_type": "markdown",
   "metadata": {}
  },
  {
   "cell_type": "code",
   "execution_count": 14,
   "metadata": {},
   "outputs": [],
   "source": [
    "# Accessing the Database with the API Key\n",
    "quandl.ApiConfig.api_key = api_key"
   ]
  },
  {
   "cell_type": "code",
   "execution_count": 15,
   "metadata": {},
   "outputs": [
    {
     "output_type": "execute_result",
     "data": {
      "text/plain": [
       "           series_id country_code          country_name  year   value\n",
       "None                                                                 \n",
       "0     VC.PKP.TOTL.UN          XKX                Kosovo  2017    17.0\n",
       "1     VC.PKP.TOTL.UN          XKX                Kosovo  2016    14.0\n",
       "2     VC.PKP.TOTL.UN          XKX                Kosovo  2015    16.0\n",
       "3     VC.PKP.TOTL.UN          XKX                Kosovo  2014    16.0\n",
       "4     VC.PKP.TOTL.UN          XKX                Kosovo  2013    14.0\n",
       "5     VC.PKP.TOTL.UN          XKX                Kosovo  2012    16.0\n",
       "6     VC.PKP.TOTL.UN          XKX                Kosovo  2011    16.0\n",
       "7     VC.PKP.TOTL.UN          XKX                Kosovo  2010    16.0\n",
       "8     VC.PKP.TOTL.UN          XKX                Kosovo  2009    17.0\n",
       "9     VC.PKP.TOTL.UN          TLS           Timor-Leste  2011  1216.0\n",
       "10    VC.PKP.TOTL.UN          TLS           Timor-Leste  2010  1517.0\n",
       "11    VC.PKP.TOTL.UN          TLS           Timor-Leste  2009  1552.0\n",
       "12    VC.PKP.TOTL.UN          SYR  Syrian Arab Republic  2017   985.0\n",
       "13    VC.PKP.TOTL.UN          SYR  Syrian Arab Republic  2016   829.0\n",
       "14    VC.PKP.TOTL.UN          SYR  Syrian Arab Republic  2015   793.0\n",
       "15    VC.PKP.TOTL.UN          SYR  Syrian Arab Republic  2014   930.0"
      ],
      "text/html": "<div>\n<style scoped>\n    .dataframe tbody tr th:only-of-type {\n        vertical-align: middle;\n    }\n\n    .dataframe tbody tr th {\n        vertical-align: top;\n    }\n\n    .dataframe thead th {\n        text-align: right;\n    }\n</style>\n<table border=\"1\" class=\"dataframe\">\n  <thead>\n    <tr style=\"text-align: right;\">\n      <th></th>\n      <th>series_id</th>\n      <th>country_code</th>\n      <th>country_name</th>\n      <th>year</th>\n      <th>value</th>\n    </tr>\n    <tr>\n      <th>None</th>\n      <th></th>\n      <th></th>\n      <th></th>\n      <th></th>\n      <th></th>\n    </tr>\n  </thead>\n  <tbody>\n    <tr>\n      <th>0</th>\n      <td>VC.PKP.TOTL.UN</td>\n      <td>XKX</td>\n      <td>Kosovo</td>\n      <td>2017</td>\n      <td>17.0</td>\n    </tr>\n    <tr>\n      <th>1</th>\n      <td>VC.PKP.TOTL.UN</td>\n      <td>XKX</td>\n      <td>Kosovo</td>\n      <td>2016</td>\n      <td>14.0</td>\n    </tr>\n    <tr>\n      <th>2</th>\n      <td>VC.PKP.TOTL.UN</td>\n      <td>XKX</td>\n      <td>Kosovo</td>\n      <td>2015</td>\n      <td>16.0</td>\n    </tr>\n    <tr>\n      <th>3</th>\n      <td>VC.PKP.TOTL.UN</td>\n      <td>XKX</td>\n      <td>Kosovo</td>\n      <td>2014</td>\n      <td>16.0</td>\n    </tr>\n    <tr>\n      <th>4</th>\n      <td>VC.PKP.TOTL.UN</td>\n      <td>XKX</td>\n      <td>Kosovo</td>\n      <td>2013</td>\n      <td>14.0</td>\n    </tr>\n    <tr>\n      <th>5</th>\n      <td>VC.PKP.TOTL.UN</td>\n      <td>XKX</td>\n      <td>Kosovo</td>\n      <td>2012</td>\n      <td>16.0</td>\n    </tr>\n    <tr>\n      <th>6</th>\n      <td>VC.PKP.TOTL.UN</td>\n      <td>XKX</td>\n      <td>Kosovo</td>\n      <td>2011</td>\n      <td>16.0</td>\n    </tr>\n    <tr>\n      <th>7</th>\n      <td>VC.PKP.TOTL.UN</td>\n      <td>XKX</td>\n      <td>Kosovo</td>\n      <td>2010</td>\n      <td>16.0</td>\n    </tr>\n    <tr>\n      <th>8</th>\n      <td>VC.PKP.TOTL.UN</td>\n      <td>XKX</td>\n      <td>Kosovo</td>\n      <td>2009</td>\n      <td>17.0</td>\n    </tr>\n    <tr>\n      <th>9</th>\n      <td>VC.PKP.TOTL.UN</td>\n      <td>TLS</td>\n      <td>Timor-Leste</td>\n      <td>2011</td>\n      <td>1216.0</td>\n    </tr>\n    <tr>\n      <th>10</th>\n      <td>VC.PKP.TOTL.UN</td>\n      <td>TLS</td>\n      <td>Timor-Leste</td>\n      <td>2010</td>\n      <td>1517.0</td>\n    </tr>\n    <tr>\n      <th>11</th>\n      <td>VC.PKP.TOTL.UN</td>\n      <td>TLS</td>\n      <td>Timor-Leste</td>\n      <td>2009</td>\n      <td>1552.0</td>\n    </tr>\n    <tr>\n      <th>12</th>\n      <td>VC.PKP.TOTL.UN</td>\n      <td>SYR</td>\n      <td>Syrian Arab Republic</td>\n      <td>2017</td>\n      <td>985.0</td>\n    </tr>\n    <tr>\n      <th>13</th>\n      <td>VC.PKP.TOTL.UN</td>\n      <td>SYR</td>\n      <td>Syrian Arab Republic</td>\n      <td>2016</td>\n      <td>829.0</td>\n    </tr>\n    <tr>\n      <th>14</th>\n      <td>VC.PKP.TOTL.UN</td>\n      <td>SYR</td>\n      <td>Syrian Arab Republic</td>\n      <td>2015</td>\n      <td>793.0</td>\n    </tr>\n    <tr>\n      <th>15</th>\n      <td>VC.PKP.TOTL.UN</td>\n      <td>SYR</td>\n      <td>Syrian Arab Republic</td>\n      <td>2014</td>\n      <td>930.0</td>\n    </tr>\n  </tbody>\n</table>\n</div>"
     },
     "metadata": {},
     "execution_count": 15
    }
   ],
   "source": [
    "# Iterating over the list to obtain data \n",
    "quandl.get_table('WB/DATA', series_id='VC.PKP.TOTL.UN', country_code='XKX,TLS,SYR')"
   ]
  },
  {
   "cell_type": "code",
   "execution_count": 22,
   "metadata": {
    "tags": []
   },
   "outputs": [],
   "source": [
    "# Extracting the Realestate Data for all the countries\n",
    "real_estate_df = quandl.get_table('WB/DATA', series_id='VC.PKP.TOTL.UN', country_code=_3l_ISO_CODES)"
   ]
  },
  {
   "cell_type": "code",
   "execution_count": 23,
   "metadata": {},
   "outputs": [
    {
     "output_type": "execute_result",
     "data": {
      "text/plain": [
       "pandas.core.frame.DataFrame"
      ]
     },
     "metadata": {},
     "execution_count": 23
    }
   ],
   "source": [
    "type(real_estate_df)"
   ]
  },
  {
   "cell_type": "code",
   "execution_count": 24,
   "metadata": {},
   "outputs": [
    {
     "output_type": "execute_result",
     "data": {
      "text/plain": [
       "           series_id country_code country_name  year  value\n",
       "None                                                       \n",
       "0     VC.PKP.TOTL.UN          XKX       Kosovo  2017   17.0\n",
       "1     VC.PKP.TOTL.UN          XKX       Kosovo  2016   14.0\n",
       "2     VC.PKP.TOTL.UN          XKX       Kosovo  2015   16.0\n",
       "3     VC.PKP.TOTL.UN          XKX       Kosovo  2014   16.0\n",
       "4     VC.PKP.TOTL.UN          XKX       Kosovo  2013   14.0\n",
       "...              ...          ...          ...   ...    ...\n",
       "121   VC.PKP.TOTL.UN          AFG  Afghanistan  2013   25.0\n",
       "122   VC.PKP.TOTL.UN          AFG  Afghanistan  2012   23.0\n",
       "123   VC.PKP.TOTL.UN          AFG  Afghanistan  2011   15.0\n",
       "124   VC.PKP.TOTL.UN          AFG  Afghanistan  2010   16.0\n",
       "125   VC.PKP.TOTL.UN          AFG  Afghanistan  2009   20.0\n",
       "\n",
       "[126 rows x 5 columns]"
      ],
      "text/html": "<div>\n<style scoped>\n    .dataframe tbody tr th:only-of-type {\n        vertical-align: middle;\n    }\n\n    .dataframe tbody tr th {\n        vertical-align: top;\n    }\n\n    .dataframe thead th {\n        text-align: right;\n    }\n</style>\n<table border=\"1\" class=\"dataframe\">\n  <thead>\n    <tr style=\"text-align: right;\">\n      <th></th>\n      <th>series_id</th>\n      <th>country_code</th>\n      <th>country_name</th>\n      <th>year</th>\n      <th>value</th>\n    </tr>\n    <tr>\n      <th>None</th>\n      <th></th>\n      <th></th>\n      <th></th>\n      <th></th>\n      <th></th>\n    </tr>\n  </thead>\n  <tbody>\n    <tr>\n      <th>0</th>\n      <td>VC.PKP.TOTL.UN</td>\n      <td>XKX</td>\n      <td>Kosovo</td>\n      <td>2017</td>\n      <td>17.0</td>\n    </tr>\n    <tr>\n      <th>1</th>\n      <td>VC.PKP.TOTL.UN</td>\n      <td>XKX</td>\n      <td>Kosovo</td>\n      <td>2016</td>\n      <td>14.0</td>\n    </tr>\n    <tr>\n      <th>2</th>\n      <td>VC.PKP.TOTL.UN</td>\n      <td>XKX</td>\n      <td>Kosovo</td>\n      <td>2015</td>\n      <td>16.0</td>\n    </tr>\n    <tr>\n      <th>3</th>\n      <td>VC.PKP.TOTL.UN</td>\n      <td>XKX</td>\n      <td>Kosovo</td>\n      <td>2014</td>\n      <td>16.0</td>\n    </tr>\n    <tr>\n      <th>4</th>\n      <td>VC.PKP.TOTL.UN</td>\n      <td>XKX</td>\n      <td>Kosovo</td>\n      <td>2013</td>\n      <td>14.0</td>\n    </tr>\n    <tr>\n      <th>...</th>\n      <td>...</td>\n      <td>...</td>\n      <td>...</td>\n      <td>...</td>\n      <td>...</td>\n    </tr>\n    <tr>\n      <th>121</th>\n      <td>VC.PKP.TOTL.UN</td>\n      <td>AFG</td>\n      <td>Afghanistan</td>\n      <td>2013</td>\n      <td>25.0</td>\n    </tr>\n    <tr>\n      <th>122</th>\n      <td>VC.PKP.TOTL.UN</td>\n      <td>AFG</td>\n      <td>Afghanistan</td>\n      <td>2012</td>\n      <td>23.0</td>\n    </tr>\n    <tr>\n      <th>123</th>\n      <td>VC.PKP.TOTL.UN</td>\n      <td>AFG</td>\n      <td>Afghanistan</td>\n      <td>2011</td>\n      <td>15.0</td>\n    </tr>\n    <tr>\n      <th>124</th>\n      <td>VC.PKP.TOTL.UN</td>\n      <td>AFG</td>\n      <td>Afghanistan</td>\n      <td>2010</td>\n      <td>16.0</td>\n    </tr>\n    <tr>\n      <th>125</th>\n      <td>VC.PKP.TOTL.UN</td>\n      <td>AFG</td>\n      <td>Afghanistan</td>\n      <td>2009</td>\n      <td>20.0</td>\n    </tr>\n  </tbody>\n</table>\n<p>126 rows × 5 columns</p>\n</div>"
     },
     "metadata": {},
     "execution_count": 24
    }
   ],
   "source": [
    "# Viewing the Real Estate Data Frame\n",
    "real_estate_df"
   ]
  },
  {
   "cell_type": "code",
   "execution_count": 25,
   "metadata": {},
   "outputs": [],
   "source": [
    "# Exporting the dataframe\n",
    "real_estate_df.to_csv('cleaned_data/real_estate_value.csv')"
   ]
  },
  {
   "cell_type": "code",
   "execution_count": 26,
   "metadata": {},
   "outputs": [
    {
     "output_type": "execute_result",
     "data": {
      "text/plain": [
       "Empty DataFrame\n",
       "Columns: [series_id, country_code, country_name, year, value]\n",
       "Index: []"
      ],
      "text/html": "<div>\n<style scoped>\n    .dataframe tbody tr th:only-of-type {\n        vertical-align: middle;\n    }\n\n    .dataframe tbody tr th {\n        vertical-align: top;\n    }\n\n    .dataframe thead th {\n        text-align: right;\n    }\n</style>\n<table border=\"1\" class=\"dataframe\">\n  <thead>\n    <tr style=\"text-align: right;\">\n      <th></th>\n      <th>series_id</th>\n      <th>country_code</th>\n      <th>country_name</th>\n      <th>year</th>\n      <th>value</th>\n    </tr>\n    <tr>\n      <th>None</th>\n      <th></th>\n      <th></th>\n      <th></th>\n      <th></th>\n      <th></th>\n    </tr>\n  </thead>\n  <tbody>\n  </tbody>\n</table>\n</div>"
     },
     "metadata": {},
     "execution_count": 26
    }
   ],
   "source": [
    "quandl.get_table('WB/DATA', series_id='VC.PKP.TOTL.UN', country_code='usa')"
   ]
  },
  {
   "cell_type": "code",
   "execution_count": null,
   "metadata": {},
   "outputs": [],
   "source": []
  }
 ]
}