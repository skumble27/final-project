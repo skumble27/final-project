{
 "metadata": {
  "language_info": {
   "codemirror_mode": {
    "name": "ipython",
    "version": 3
   },
   "file_extension": ".py",
   "mimetype": "text/x-python",
   "name": "python",
   "nbconvert_exporter": "python",
   "pygments_lexer": "ipython3",
   "version": "3.6.12-final"
  },
  "orig_nbformat": 2,
  "kernelspec": {
   "name": "python3",
   "display_name": "Python 3.6.12 64-bit ('apiproject': conda)",
   "metadata": {
    "interpreter": {
     "hash": "65141e336b334a21ac1724ea85117fff93a000c15b507ad8f7a437392607e163"
    }
   }
  }
 },
 "nbformat": 4,
 "nbformat_minor": 2,
 "cells": [
  {
   "source": [
    "# Citations\n",
    "##### OECD (2021), \"Data warehouse\", OECD.Stat (database), https://doi.org/10.1787/data-00900-en (accessed on 17 January 2021)."
   ],
   "cell_type": "markdown",
   "metadata": {}
  },
  {
   "cell_type": "code",
   "execution_count": 1,
   "metadata": {},
   "outputs": [],
   "source": [
    "# Importing the relevant dependencies\n",
    "import pandas as pd"
   ]
  },
  {
   "cell_type": "code",
   "execution_count": 2,
   "metadata": {},
   "outputs": [],
   "source": [
    "# Obtaining a list of all the countries and their associated three letter codes\n",
    "countries = pd.read_html('https://countrycode.org/')"
   ]
  },
  {
   "cell_type": "code",
   "execution_count": 3,
   "metadata": {},
   "outputs": [
    {
     "output_type": "execute_result",
     "data": {
      "text/plain": [
       "[               COUNTRY COUNTRY CODE ISO CODES  POPULATION  AREA KM2  \\\n",
       " 0          Afghanistan           93  AF / AFG    29121286    647500   \n",
       " 1              Albania          355  AL / ALB     2986952     28748   \n",
       " 2              Algeria          213  DZ / DZA    34586184   2381740   \n",
       " 3       American Samoa        1-684  AS / ASM       57881       199   \n",
       " 4              Andorra          376  AD / AND       84000       468   \n",
       " ..                 ...          ...       ...         ...       ...   \n",
       " 235  Wallis and Futuna          681  WF / WLF       16025       274   \n",
       " 236     Western Sahara          212  EH / ESH      273008    266000   \n",
       " 237              Yemen          967  YE / YEM    23495361    527970   \n",
       " 238             Zambia          260  ZM / ZMB    13460305    752614   \n",
       " 239           Zimbabwe          263  ZW / ZWE    11651858    390580   \n",
       " \n",
       "           GDP $USD  \n",
       " 0    20.65 Billion  \n",
       " 1     12.8 Billion  \n",
       " 2    215.7 Billion  \n",
       " 3    462.2 Million  \n",
       " 4      4.8 Billion  \n",
       " ..             ...  \n",
       " 235            NaN  \n",
       " 236            NaN  \n",
       " 237  43.89 Billion  \n",
       " 238  22.24 Billion  \n",
       " 239  10.48 Billion  \n",
       " \n",
       " [240 rows x 6 columns],\n",
       "                COUNTRY COUNTRY CODE ISO CODES\n",
       " 0          Afghanistan           93  AF / AFG\n",
       " 1              Albania          355  AL / ALB\n",
       " 2              Algeria          213  DZ / DZA\n",
       " 3       American Samoa        1-684  AS / ASM\n",
       " 4              Andorra          376  AD / AND\n",
       " ..                 ...          ...       ...\n",
       " 235  Wallis and Futuna          681  WF / WLF\n",
       " 236     Western Sahara          212  EH / ESH\n",
       " 237              Yemen          967  YE / YEM\n",
       " 238             Zambia          260  ZM / ZMB\n",
       " 239           Zimbabwe          263  ZW / ZWE\n",
       " \n",
       " [240 rows x 3 columns]]"
      ]
     },
     "metadata": {},
     "execution_count": 3
    }
   ],
   "source": [
    "# Viewing the Dataframe\n",
    "countries"
   ]
  },
  {
   "cell_type": "code",
   "execution_count": 4,
   "metadata": {},
   "outputs": [
    {
     "output_type": "execute_result",
     "data": {
      "text/plain": [
       "list"
      ]
     },
     "metadata": {},
     "execution_count": 4
    }
   ],
   "source": [
    "# Determing the type for the country variable\n",
    "type(countries)"
   ]
  },
  {
   "cell_type": "code",
   "execution_count": 5,
   "metadata": {},
   "outputs": [
    {
     "output_type": "execute_result",
     "data": {
      "text/plain": [
       "               COUNTRY COUNTRY CODE ISO CODES  POPULATION  AREA KM2  \\\n",
       "0          Afghanistan           93  AF / AFG    29121286    647500   \n",
       "1              Albania          355  AL / ALB     2986952     28748   \n",
       "2              Algeria          213  DZ / DZA    34586184   2381740   \n",
       "3       American Samoa        1-684  AS / ASM       57881       199   \n",
       "4              Andorra          376  AD / AND       84000       468   \n",
       "..                 ...          ...       ...         ...       ...   \n",
       "235  Wallis and Futuna          681  WF / WLF       16025       274   \n",
       "236     Western Sahara          212  EH / ESH      273008    266000   \n",
       "237              Yemen          967  YE / YEM    23495361    527970   \n",
       "238             Zambia          260  ZM / ZMB    13460305    752614   \n",
       "239           Zimbabwe          263  ZW / ZWE    11651858    390580   \n",
       "\n",
       "          GDP $USD  \n",
       "0    20.65 Billion  \n",
       "1     12.8 Billion  \n",
       "2    215.7 Billion  \n",
       "3    462.2 Million  \n",
       "4      4.8 Billion  \n",
       "..             ...  \n",
       "235            NaN  \n",
       "236            NaN  \n",
       "237  43.89 Billion  \n",
       "238  22.24 Billion  \n",
       "239  10.48 Billion  \n",
       "\n",
       "[240 rows x 6 columns]"
      ],
      "text/html": "<div>\n<style scoped>\n    .dataframe tbody tr th:only-of-type {\n        vertical-align: middle;\n    }\n\n    .dataframe tbody tr th {\n        vertical-align: top;\n    }\n\n    .dataframe thead th {\n        text-align: right;\n    }\n</style>\n<table border=\"1\" class=\"dataframe\">\n  <thead>\n    <tr style=\"text-align: right;\">\n      <th></th>\n      <th>COUNTRY</th>\n      <th>COUNTRY CODE</th>\n      <th>ISO CODES</th>\n      <th>POPULATION</th>\n      <th>AREA KM2</th>\n      <th>GDP $USD</th>\n    </tr>\n  </thead>\n  <tbody>\n    <tr>\n      <th>0</th>\n      <td>Afghanistan</td>\n      <td>93</td>\n      <td>AF / AFG</td>\n      <td>29121286</td>\n      <td>647500</td>\n      <td>20.65 Billion</td>\n    </tr>\n    <tr>\n      <th>1</th>\n      <td>Albania</td>\n      <td>355</td>\n      <td>AL / ALB</td>\n      <td>2986952</td>\n      <td>28748</td>\n      <td>12.8 Billion</td>\n    </tr>\n    <tr>\n      <th>2</th>\n      <td>Algeria</td>\n      <td>213</td>\n      <td>DZ / DZA</td>\n      <td>34586184</td>\n      <td>2381740</td>\n      <td>215.7 Billion</td>\n    </tr>\n    <tr>\n      <th>3</th>\n      <td>American Samoa</td>\n      <td>1-684</td>\n      <td>AS / ASM</td>\n      <td>57881</td>\n      <td>199</td>\n      <td>462.2 Million</td>\n    </tr>\n    <tr>\n      <th>4</th>\n      <td>Andorra</td>\n      <td>376</td>\n      <td>AD / AND</td>\n      <td>84000</td>\n      <td>468</td>\n      <td>4.8 Billion</td>\n    </tr>\n    <tr>\n      <th>...</th>\n      <td>...</td>\n      <td>...</td>\n      <td>...</td>\n      <td>...</td>\n      <td>...</td>\n      <td>...</td>\n    </tr>\n    <tr>\n      <th>235</th>\n      <td>Wallis and Futuna</td>\n      <td>681</td>\n      <td>WF / WLF</td>\n      <td>16025</td>\n      <td>274</td>\n      <td>NaN</td>\n    </tr>\n    <tr>\n      <th>236</th>\n      <td>Western Sahara</td>\n      <td>212</td>\n      <td>EH / ESH</td>\n      <td>273008</td>\n      <td>266000</td>\n      <td>NaN</td>\n    </tr>\n    <tr>\n      <th>237</th>\n      <td>Yemen</td>\n      <td>967</td>\n      <td>YE / YEM</td>\n      <td>23495361</td>\n      <td>527970</td>\n      <td>43.89 Billion</td>\n    </tr>\n    <tr>\n      <th>238</th>\n      <td>Zambia</td>\n      <td>260</td>\n      <td>ZM / ZMB</td>\n      <td>13460305</td>\n      <td>752614</td>\n      <td>22.24 Billion</td>\n    </tr>\n    <tr>\n      <th>239</th>\n      <td>Zimbabwe</td>\n      <td>263</td>\n      <td>ZW / ZWE</td>\n      <td>11651858</td>\n      <td>390580</td>\n      <td>10.48 Billion</td>\n    </tr>\n  </tbody>\n</table>\n<p>240 rows × 6 columns</p>\n</div>"
     },
     "metadata": {},
     "execution_count": 5
    }
   ],
   "source": [
    "# Obtain the first key of the list\n",
    "countries_list = countries[0]\n",
    "countries_list"
   ]
  },
  {
   "cell_type": "code",
   "execution_count": 6,
   "metadata": {},
   "outputs": [
    {
     "output_type": "execute_result",
     "data": {
      "text/plain": [
       "       0     1\n",
       "0    AF    AFG\n",
       "1    AL    ALB\n",
       "2    DZ    DZA\n",
       "3    AS    ASM\n",
       "4    AD    AND\n",
       "..   ...   ...\n",
       "235  WF    WLF\n",
       "236  EH    ESH\n",
       "237  YE    YEM\n",
       "238  ZM    ZMB\n",
       "239  ZW    ZWE\n",
       "\n",
       "[240 rows x 2 columns]"
      ],
      "text/html": "<div>\n<style scoped>\n    .dataframe tbody tr th:only-of-type {\n        vertical-align: middle;\n    }\n\n    .dataframe tbody tr th {\n        vertical-align: top;\n    }\n\n    .dataframe thead th {\n        text-align: right;\n    }\n</style>\n<table border=\"1\" class=\"dataframe\">\n  <thead>\n    <tr style=\"text-align: right;\">\n      <th></th>\n      <th>0</th>\n      <th>1</th>\n    </tr>\n  </thead>\n  <tbody>\n    <tr>\n      <th>0</th>\n      <td>AF</td>\n      <td>AFG</td>\n    </tr>\n    <tr>\n      <th>1</th>\n      <td>AL</td>\n      <td>ALB</td>\n    </tr>\n    <tr>\n      <th>2</th>\n      <td>DZ</td>\n      <td>DZA</td>\n    </tr>\n    <tr>\n      <th>3</th>\n      <td>AS</td>\n      <td>ASM</td>\n    </tr>\n    <tr>\n      <th>4</th>\n      <td>AD</td>\n      <td>AND</td>\n    </tr>\n    <tr>\n      <th>...</th>\n      <td>...</td>\n      <td>...</td>\n    </tr>\n    <tr>\n      <th>235</th>\n      <td>WF</td>\n      <td>WLF</td>\n    </tr>\n    <tr>\n      <th>236</th>\n      <td>EH</td>\n      <td>ESH</td>\n    </tr>\n    <tr>\n      <th>237</th>\n      <td>YE</td>\n      <td>YEM</td>\n    </tr>\n    <tr>\n      <th>238</th>\n      <td>ZM</td>\n      <td>ZMB</td>\n    </tr>\n    <tr>\n      <th>239</th>\n      <td>ZW</td>\n      <td>ZWE</td>\n    </tr>\n  </tbody>\n</table>\n<p>240 rows × 2 columns</p>\n</div>"
     },
     "metadata": {},
     "execution_count": 6
    }
   ],
   "source": [
    "# Splitting the column relating to ISO CODES\n",
    "iso_code_split = countries_list['ISO CODES'].str.split(\"/\",n=1, expand=True)\n",
    "iso_code_split"
   ]
  },
  {
   "cell_type": "code",
   "execution_count": 7,
   "metadata": {},
   "outputs": [
    {
     "output_type": "execute_result",
     "data": {
      "text/plain": [
       "               COUNTRY COUNTRY CODE ISO CODES  POPULATION  AREA KM2  \\\n",
       "0          Afghanistan           93  AF / AFG    29121286    647500   \n",
       "1              Albania          355  AL / ALB     2986952     28748   \n",
       "2              Algeria          213  DZ / DZA    34586184   2381740   \n",
       "3       American Samoa        1-684  AS / ASM       57881       199   \n",
       "4              Andorra          376  AD / AND       84000       468   \n",
       "..                 ...          ...       ...         ...       ...   \n",
       "235  Wallis and Futuna          681  WF / WLF       16025       274   \n",
       "236     Western Sahara          212  EH / ESH      273008    266000   \n",
       "237              Yemen          967  YE / YEM    23495361    527970   \n",
       "238             Zambia          260  ZM / ZMB    13460305    752614   \n",
       "239           Zimbabwe          263  ZW / ZWE    11651858    390580   \n",
       "\n",
       "          GDP $USD ISO CODE 2L  \n",
       "0    20.65 Billion         AF   \n",
       "1     12.8 Billion         AL   \n",
       "2    215.7 Billion         DZ   \n",
       "3    462.2 Million         AS   \n",
       "4      4.8 Billion         AD   \n",
       "..             ...         ...  \n",
       "235            NaN         WF   \n",
       "236            NaN         EH   \n",
       "237  43.89 Billion         YE   \n",
       "238  22.24 Billion         ZM   \n",
       "239  10.48 Billion         ZW   \n",
       "\n",
       "[240 rows x 7 columns]"
      ],
      "text/html": "<div>\n<style scoped>\n    .dataframe tbody tr th:only-of-type {\n        vertical-align: middle;\n    }\n\n    .dataframe tbody tr th {\n        vertical-align: top;\n    }\n\n    .dataframe thead th {\n        text-align: right;\n    }\n</style>\n<table border=\"1\" class=\"dataframe\">\n  <thead>\n    <tr style=\"text-align: right;\">\n      <th></th>\n      <th>COUNTRY</th>\n      <th>COUNTRY CODE</th>\n      <th>ISO CODES</th>\n      <th>POPULATION</th>\n      <th>AREA KM2</th>\n      <th>GDP $USD</th>\n      <th>ISO CODE 2L</th>\n    </tr>\n  </thead>\n  <tbody>\n    <tr>\n      <th>0</th>\n      <td>Afghanistan</td>\n      <td>93</td>\n      <td>AF / AFG</td>\n      <td>29121286</td>\n      <td>647500</td>\n      <td>20.65 Billion</td>\n      <td>AF</td>\n    </tr>\n    <tr>\n      <th>1</th>\n      <td>Albania</td>\n      <td>355</td>\n      <td>AL / ALB</td>\n      <td>2986952</td>\n      <td>28748</td>\n      <td>12.8 Billion</td>\n      <td>AL</td>\n    </tr>\n    <tr>\n      <th>2</th>\n      <td>Algeria</td>\n      <td>213</td>\n      <td>DZ / DZA</td>\n      <td>34586184</td>\n      <td>2381740</td>\n      <td>215.7 Billion</td>\n      <td>DZ</td>\n    </tr>\n    <tr>\n      <th>3</th>\n      <td>American Samoa</td>\n      <td>1-684</td>\n      <td>AS / ASM</td>\n      <td>57881</td>\n      <td>199</td>\n      <td>462.2 Million</td>\n      <td>AS</td>\n    </tr>\n    <tr>\n      <th>4</th>\n      <td>Andorra</td>\n      <td>376</td>\n      <td>AD / AND</td>\n      <td>84000</td>\n      <td>468</td>\n      <td>4.8 Billion</td>\n      <td>AD</td>\n    </tr>\n    <tr>\n      <th>...</th>\n      <td>...</td>\n      <td>...</td>\n      <td>...</td>\n      <td>...</td>\n      <td>...</td>\n      <td>...</td>\n      <td>...</td>\n    </tr>\n    <tr>\n      <th>235</th>\n      <td>Wallis and Futuna</td>\n      <td>681</td>\n      <td>WF / WLF</td>\n      <td>16025</td>\n      <td>274</td>\n      <td>NaN</td>\n      <td>WF</td>\n    </tr>\n    <tr>\n      <th>236</th>\n      <td>Western Sahara</td>\n      <td>212</td>\n      <td>EH / ESH</td>\n      <td>273008</td>\n      <td>266000</td>\n      <td>NaN</td>\n      <td>EH</td>\n    </tr>\n    <tr>\n      <th>237</th>\n      <td>Yemen</td>\n      <td>967</td>\n      <td>YE / YEM</td>\n      <td>23495361</td>\n      <td>527970</td>\n      <td>43.89 Billion</td>\n      <td>YE</td>\n    </tr>\n    <tr>\n      <th>238</th>\n      <td>Zambia</td>\n      <td>260</td>\n      <td>ZM / ZMB</td>\n      <td>13460305</td>\n      <td>752614</td>\n      <td>22.24 Billion</td>\n      <td>ZM</td>\n    </tr>\n    <tr>\n      <th>239</th>\n      <td>Zimbabwe</td>\n      <td>263</td>\n      <td>ZW / ZWE</td>\n      <td>11651858</td>\n      <td>390580</td>\n      <td>10.48 Billion</td>\n      <td>ZW</td>\n    </tr>\n  </tbody>\n</table>\n<p>240 rows × 7 columns</p>\n</div>"
     },
     "metadata": {},
     "execution_count": 7
    }
   ],
   "source": [
    "# Adding the split list back to the dataframe\n",
    "countries_list['ISO CODE 2L'] = iso_code_split[0]\n",
    "countries_list"
   ]
  },
  {
   "cell_type": "code",
   "execution_count": 8,
   "metadata": {},
   "outputs": [
    {
     "output_type": "execute_result",
     "data": {
      "text/plain": [
       "               COUNTRY COUNTRY CODE ISO CODES  POPULATION  AREA KM2  \\\n",
       "0          Afghanistan           93  AF / AFG    29121286    647500   \n",
       "1              Albania          355  AL / ALB     2986952     28748   \n",
       "2              Algeria          213  DZ / DZA    34586184   2381740   \n",
       "3       American Samoa        1-684  AS / ASM       57881       199   \n",
       "4              Andorra          376  AD / AND       84000       468   \n",
       "..                 ...          ...       ...         ...       ...   \n",
       "235  Wallis and Futuna          681  WF / WLF       16025       274   \n",
       "236     Western Sahara          212  EH / ESH      273008    266000   \n",
       "237              Yemen          967  YE / YEM    23495361    527970   \n",
       "238             Zambia          260  ZM / ZMB    13460305    752614   \n",
       "239           Zimbabwe          263  ZW / ZWE    11651858    390580   \n",
       "\n",
       "          GDP $USD ISO CODE 2L ISO CODE 3L  \n",
       "0    20.65 Billion         AF          AFG  \n",
       "1     12.8 Billion         AL          ALB  \n",
       "2    215.7 Billion         DZ          DZA  \n",
       "3    462.2 Million         AS          ASM  \n",
       "4      4.8 Billion         AD          AND  \n",
       "..             ...         ...         ...  \n",
       "235            NaN         WF          WLF  \n",
       "236            NaN         EH          ESH  \n",
       "237  43.89 Billion         YE          YEM  \n",
       "238  22.24 Billion         ZM          ZMB  \n",
       "239  10.48 Billion         ZW          ZWE  \n",
       "\n",
       "[240 rows x 8 columns]"
      ],
      "text/html": "<div>\n<style scoped>\n    .dataframe tbody tr th:only-of-type {\n        vertical-align: middle;\n    }\n\n    .dataframe tbody tr th {\n        vertical-align: top;\n    }\n\n    .dataframe thead th {\n        text-align: right;\n    }\n</style>\n<table border=\"1\" class=\"dataframe\">\n  <thead>\n    <tr style=\"text-align: right;\">\n      <th></th>\n      <th>COUNTRY</th>\n      <th>COUNTRY CODE</th>\n      <th>ISO CODES</th>\n      <th>POPULATION</th>\n      <th>AREA KM2</th>\n      <th>GDP $USD</th>\n      <th>ISO CODE 2L</th>\n      <th>ISO CODE 3L</th>\n    </tr>\n  </thead>\n  <tbody>\n    <tr>\n      <th>0</th>\n      <td>Afghanistan</td>\n      <td>93</td>\n      <td>AF / AFG</td>\n      <td>29121286</td>\n      <td>647500</td>\n      <td>20.65 Billion</td>\n      <td>AF</td>\n      <td>AFG</td>\n    </tr>\n    <tr>\n      <th>1</th>\n      <td>Albania</td>\n      <td>355</td>\n      <td>AL / ALB</td>\n      <td>2986952</td>\n      <td>28748</td>\n      <td>12.8 Billion</td>\n      <td>AL</td>\n      <td>ALB</td>\n    </tr>\n    <tr>\n      <th>2</th>\n      <td>Algeria</td>\n      <td>213</td>\n      <td>DZ / DZA</td>\n      <td>34586184</td>\n      <td>2381740</td>\n      <td>215.7 Billion</td>\n      <td>DZ</td>\n      <td>DZA</td>\n    </tr>\n    <tr>\n      <th>3</th>\n      <td>American Samoa</td>\n      <td>1-684</td>\n      <td>AS / ASM</td>\n      <td>57881</td>\n      <td>199</td>\n      <td>462.2 Million</td>\n      <td>AS</td>\n      <td>ASM</td>\n    </tr>\n    <tr>\n      <th>4</th>\n      <td>Andorra</td>\n      <td>376</td>\n      <td>AD / AND</td>\n      <td>84000</td>\n      <td>468</td>\n      <td>4.8 Billion</td>\n      <td>AD</td>\n      <td>AND</td>\n    </tr>\n    <tr>\n      <th>...</th>\n      <td>...</td>\n      <td>...</td>\n      <td>...</td>\n      <td>...</td>\n      <td>...</td>\n      <td>...</td>\n      <td>...</td>\n      <td>...</td>\n    </tr>\n    <tr>\n      <th>235</th>\n      <td>Wallis and Futuna</td>\n      <td>681</td>\n      <td>WF / WLF</td>\n      <td>16025</td>\n      <td>274</td>\n      <td>NaN</td>\n      <td>WF</td>\n      <td>WLF</td>\n    </tr>\n    <tr>\n      <th>236</th>\n      <td>Western Sahara</td>\n      <td>212</td>\n      <td>EH / ESH</td>\n      <td>273008</td>\n      <td>266000</td>\n      <td>NaN</td>\n      <td>EH</td>\n      <td>ESH</td>\n    </tr>\n    <tr>\n      <th>237</th>\n      <td>Yemen</td>\n      <td>967</td>\n      <td>YE / YEM</td>\n      <td>23495361</td>\n      <td>527970</td>\n      <td>43.89 Billion</td>\n      <td>YE</td>\n      <td>YEM</td>\n    </tr>\n    <tr>\n      <th>238</th>\n      <td>Zambia</td>\n      <td>260</td>\n      <td>ZM / ZMB</td>\n      <td>13460305</td>\n      <td>752614</td>\n      <td>22.24 Billion</td>\n      <td>ZM</td>\n      <td>ZMB</td>\n    </tr>\n    <tr>\n      <th>239</th>\n      <td>Zimbabwe</td>\n      <td>263</td>\n      <td>ZW / ZWE</td>\n      <td>11651858</td>\n      <td>390580</td>\n      <td>10.48 Billion</td>\n      <td>ZW</td>\n      <td>ZWE</td>\n    </tr>\n  </tbody>\n</table>\n<p>240 rows × 8 columns</p>\n</div>"
     },
     "metadata": {},
     "execution_count": 8
    }
   ],
   "source": [
    "# Adding the second three letter code list back to the original dataframe\n",
    "countries_list['ISO CODE 3L'] = iso_code_split[1]\n",
    "countries_list"
   ]
  },
  {
   "cell_type": "code",
   "execution_count": 9,
   "metadata": {},
   "outputs": [
    {
     "output_type": "execute_result",
     "data": {
      "text/plain": [
       "['Afghanistan', 'Albania', 'Algeria', 'American Samoa', 'Andorra']"
      ]
     },
     "metadata": {},
     "execution_count": 9
    }
   ],
   "source": [
    "# Creating a list of countries to iterate\n",
    "list_of_countries = countries_list['COUNTRY'].tolist()\n",
    "list_of_countries[:5]"
   ]
  },
  {
   "cell_type": "code",
   "execution_count": 10,
   "metadata": {},
   "outputs": [
    {
     "output_type": "execute_result",
     "data": {
      "text/plain": [
       "['AF ', 'AL ', 'DZ ', 'AS ', 'AD ']"
      ]
     },
     "metadata": {},
     "execution_count": 10
    }
   ],
   "source": [
    "# Creating a list of the ISO codes to iterate over\n",
    "_2l_ISO_CODES = countries_list['ISO CODE 2L'].tolist()\n",
    "_2l_ISO_CODES[:5]"
   ]
  },
  {
   "cell_type": "code",
   "execution_count": 11,
   "metadata": {},
   "outputs": [
    {
     "output_type": "execute_result",
     "data": {
      "text/plain": [
       "['AF', 'AL', 'DZ', 'AS', 'AD']"
      ]
     },
     "metadata": {},
     "execution_count": 11
    }
   ],
   "source": [
    "# Removing the spaces within the list\n",
    "_2l_ISO_CODES = [x.strip(' ') for x in _2l_ISO_CODES]\n",
    "_2l_ISO_CODES[:5]"
   ]
  },
  {
   "cell_type": "code",
   "execution_count": 12,
   "metadata": {},
   "outputs": [
    {
     "output_type": "execute_result",
     "data": {
      "text/plain": [
       "[' AFG', ' ALB', ' DZA', ' ASM', ' AND']"
      ]
     },
     "metadata": {},
     "execution_count": 12
    }
   ],
   "source": [
    "# Creating a list of the three letter ISO CODES to iterate over\n",
    "_3l_ISO_CODES = countries_list['ISO CODE 3L'].tolist()\n",
    "_3l_ISO_CODES[:5]"
   ]
  },
  {
   "cell_type": "code",
   "execution_count": 13,
   "metadata": {},
   "outputs": [
    {
     "output_type": "execute_result",
     "data": {
      "text/plain": [
       "['AFG', 'ALB', 'DZA', 'ASM', 'AND']"
      ]
     },
     "metadata": {},
     "execution_count": 13
    }
   ],
   "source": [
    "# Removing spaces within the list\n",
    "_3l_ISO_CODES = [x.strip(' ') for x in _3l_ISO_CODES]\n",
    "_3l_ISO_CODES[:5]"
   ]
  },
  {
   "cell_type": "code",
   "execution_count": 14,
   "metadata": {},
   "outputs": [],
   "source": [
    "# Creating a dictionary for the list of countries and their codes\n",
    "countries_dict = {\n",
    "    \"Country\":list_of_countries,\n",
    "    \"LOCATION\":_3l_ISO_CODES,\n",
    "    \"ISO CODE 2 letter\":_2l_ISO_CODES\n",
    "}"
   ]
  },
  {
   "cell_type": "code",
   "execution_count": 15,
   "metadata": {},
   "outputs": [],
   "source": [
    "# Converting the Dictionary to a dataframe\n",
    "country_df = pd.DataFrame(countries_dict)"
   ]
  },
  {
   "cell_type": "code",
   "execution_count": 16,
   "metadata": {},
   "outputs": [
    {
     "output_type": "execute_result",
     "data": {
      "text/plain": [
       "     LOCATION  INDICATOR  SUBJECT  MEASURE FREQUENCY  TIME       Value  \\\n",
       "0         AUS  HOUSECOST  NOMINAL  IDX2015         A  1970    2.552380   \n",
       "1         AUS  HOUSECOST  NOMINAL  IDX2015         A  1971    2.851352   \n",
       "2         AUS  HOUSECOST  NOMINAL  IDX2015         A  1972    3.183667   \n",
       "3         AUS  HOUSECOST  NOMINAL  IDX2015         A  1973    3.837183   \n",
       "4         AUS  HOUSECOST  NOMINAL  IDX2015         A  1974    4.690199   \n",
       "...       ...        ...      ...      ...       ...   ...         ...   \n",
       "1556      SAU  HOUSECOST  NOMINAL  IDX2015         A  2015  100.000000   \n",
       "1557      SAU  HOUSECOST  NOMINAL  IDX2015         A  2016   95.091000   \n",
       "1558      SAU  HOUSECOST  NOMINAL  IDX2015         A  2017   88.967500   \n",
       "1559      SAU  HOUSECOST  NOMINAL  IDX2015         A  2018   86.462500   \n",
       "1560      SAU  HOUSECOST  NOMINAL  IDX2015         A  2019   83.502250   \n",
       "\n",
       "      Flag Codes  \n",
       "0            NaN  \n",
       "1            NaN  \n",
       "2            NaN  \n",
       "3            NaN  \n",
       "4            NaN  \n",
       "...          ...  \n",
       "1556         NaN  \n",
       "1557         NaN  \n",
       "1558         NaN  \n",
       "1559         NaN  \n",
       "1560         NaN  \n",
       "\n",
       "[1561 rows x 8 columns]"
      ],
      "text/html": "<div>\n<style scoped>\n    .dataframe tbody tr th:only-of-type {\n        vertical-align: middle;\n    }\n\n    .dataframe tbody tr th {\n        vertical-align: top;\n    }\n\n    .dataframe thead th {\n        text-align: right;\n    }\n</style>\n<table border=\"1\" class=\"dataframe\">\n  <thead>\n    <tr style=\"text-align: right;\">\n      <th></th>\n      <th>LOCATION</th>\n      <th>INDICATOR</th>\n      <th>SUBJECT</th>\n      <th>MEASURE</th>\n      <th>FREQUENCY</th>\n      <th>TIME</th>\n      <th>Value</th>\n      <th>Flag Codes</th>\n    </tr>\n  </thead>\n  <tbody>\n    <tr>\n      <th>0</th>\n      <td>AUS</td>\n      <td>HOUSECOST</td>\n      <td>NOMINAL</td>\n      <td>IDX2015</td>\n      <td>A</td>\n      <td>1970</td>\n      <td>2.552380</td>\n      <td>NaN</td>\n    </tr>\n    <tr>\n      <th>1</th>\n      <td>AUS</td>\n      <td>HOUSECOST</td>\n      <td>NOMINAL</td>\n      <td>IDX2015</td>\n      <td>A</td>\n      <td>1971</td>\n      <td>2.851352</td>\n      <td>NaN</td>\n    </tr>\n    <tr>\n      <th>2</th>\n      <td>AUS</td>\n      <td>HOUSECOST</td>\n      <td>NOMINAL</td>\n      <td>IDX2015</td>\n      <td>A</td>\n      <td>1972</td>\n      <td>3.183667</td>\n      <td>NaN</td>\n    </tr>\n    <tr>\n      <th>3</th>\n      <td>AUS</td>\n      <td>HOUSECOST</td>\n      <td>NOMINAL</td>\n      <td>IDX2015</td>\n      <td>A</td>\n      <td>1973</td>\n      <td>3.837183</td>\n      <td>NaN</td>\n    </tr>\n    <tr>\n      <th>4</th>\n      <td>AUS</td>\n      <td>HOUSECOST</td>\n      <td>NOMINAL</td>\n      <td>IDX2015</td>\n      <td>A</td>\n      <td>1974</td>\n      <td>4.690199</td>\n      <td>NaN</td>\n    </tr>\n    <tr>\n      <th>...</th>\n      <td>...</td>\n      <td>...</td>\n      <td>...</td>\n      <td>...</td>\n      <td>...</td>\n      <td>...</td>\n      <td>...</td>\n      <td>...</td>\n    </tr>\n    <tr>\n      <th>1556</th>\n      <td>SAU</td>\n      <td>HOUSECOST</td>\n      <td>NOMINAL</td>\n      <td>IDX2015</td>\n      <td>A</td>\n      <td>2015</td>\n      <td>100.000000</td>\n      <td>NaN</td>\n    </tr>\n    <tr>\n      <th>1557</th>\n      <td>SAU</td>\n      <td>HOUSECOST</td>\n      <td>NOMINAL</td>\n      <td>IDX2015</td>\n      <td>A</td>\n      <td>2016</td>\n      <td>95.091000</td>\n      <td>NaN</td>\n    </tr>\n    <tr>\n      <th>1558</th>\n      <td>SAU</td>\n      <td>HOUSECOST</td>\n      <td>NOMINAL</td>\n      <td>IDX2015</td>\n      <td>A</td>\n      <td>2017</td>\n      <td>88.967500</td>\n      <td>NaN</td>\n    </tr>\n    <tr>\n      <th>1559</th>\n      <td>SAU</td>\n      <td>HOUSECOST</td>\n      <td>NOMINAL</td>\n      <td>IDX2015</td>\n      <td>A</td>\n      <td>2018</td>\n      <td>86.462500</td>\n      <td>NaN</td>\n    </tr>\n    <tr>\n      <th>1560</th>\n      <td>SAU</td>\n      <td>HOUSECOST</td>\n      <td>NOMINAL</td>\n      <td>IDX2015</td>\n      <td>A</td>\n      <td>2019</td>\n      <td>83.502250</td>\n      <td>NaN</td>\n    </tr>\n  </tbody>\n</table>\n<p>1561 rows × 8 columns</p>\n</div>"
     },
     "metadata": {},
     "execution_count": 16
    }
   ],
   "source": [
    "# Opening the realestate data frame\n",
    "real_estate = pd.read_csv('raw_data/worldrealestate.csv')\n",
    "real_estate"
   ]
  },
  {
   "cell_type": "code",
   "execution_count": 17,
   "metadata": {},
   "outputs": [],
   "source": [
    "# Renaming the column\n",
    "real_estate = real_estate.rename(columns={'Value':'Nominal_house_price'})"
   ]
  },
  {
   "cell_type": "code",
   "execution_count": 18,
   "metadata": {},
   "outputs": [
    {
     "output_type": "execute_result",
     "data": {
      "text/plain": [
       "            Country LOCATION ISO CODE 2 letter  INDICATOR  SUBJECT  MEASURE  \\\n",
       "0         Australia      AUS                AU  HOUSECOST  NOMINAL  IDX2015   \n",
       "1         Australia      AUS                AU  HOUSECOST  NOMINAL  IDX2015   \n",
       "2         Australia      AUS                AU  HOUSECOST  NOMINAL  IDX2015   \n",
       "3         Australia      AUS                AU  HOUSECOST  NOMINAL  IDX2015   \n",
       "4         Australia      AUS                AU  HOUSECOST  NOMINAL  IDX2015   \n",
       "...             ...      ...               ...        ...      ...      ...   \n",
       "1416  United States      USA                US  HOUSECOST  NOMINAL  IDX2015   \n",
       "1417  United States      USA                US  HOUSECOST  NOMINAL  IDX2015   \n",
       "1418  United States      USA                US  HOUSECOST  NOMINAL  IDX2015   \n",
       "1419  United States      USA                US  HOUSECOST  NOMINAL  IDX2015   \n",
       "1420  United States      USA                US  HOUSECOST  NOMINAL  IDX2015   \n",
       "\n",
       "     FREQUENCY  TIME  Nominal_house_price  Flag Codes  \n",
       "0            A  1970             2.552380         NaN  \n",
       "1            A  1971             2.851352         NaN  \n",
       "2            A  1972             3.183667         NaN  \n",
       "3            A  1973             3.837183         NaN  \n",
       "4            A  1974             4.690199         NaN  \n",
       "...        ...   ...                  ...         ...  \n",
       "1416         A  2015           100.000000         NaN  \n",
       "1417         A  2016           105.730769         NaN  \n",
       "1418         A  2017           112.382036         NaN  \n",
       "1419         A  2018           119.534759         NaN  \n",
       "1420         A  2019           125.761181         NaN  \n",
       "\n",
       "[1421 rows x 10 columns]"
      ],
      "text/html": "<div>\n<style scoped>\n    .dataframe tbody tr th:only-of-type {\n        vertical-align: middle;\n    }\n\n    .dataframe tbody tr th {\n        vertical-align: top;\n    }\n\n    .dataframe thead th {\n        text-align: right;\n    }\n</style>\n<table border=\"1\" class=\"dataframe\">\n  <thead>\n    <tr style=\"text-align: right;\">\n      <th></th>\n      <th>Country</th>\n      <th>LOCATION</th>\n      <th>ISO CODE 2 letter</th>\n      <th>INDICATOR</th>\n      <th>SUBJECT</th>\n      <th>MEASURE</th>\n      <th>FREQUENCY</th>\n      <th>TIME</th>\n      <th>Nominal_house_price</th>\n      <th>Flag Codes</th>\n    </tr>\n  </thead>\n  <tbody>\n    <tr>\n      <th>0</th>\n      <td>Australia</td>\n      <td>AUS</td>\n      <td>AU</td>\n      <td>HOUSECOST</td>\n      <td>NOMINAL</td>\n      <td>IDX2015</td>\n      <td>A</td>\n      <td>1970</td>\n      <td>2.552380</td>\n      <td>NaN</td>\n    </tr>\n    <tr>\n      <th>1</th>\n      <td>Australia</td>\n      <td>AUS</td>\n      <td>AU</td>\n      <td>HOUSECOST</td>\n      <td>NOMINAL</td>\n      <td>IDX2015</td>\n      <td>A</td>\n      <td>1971</td>\n      <td>2.851352</td>\n      <td>NaN</td>\n    </tr>\n    <tr>\n      <th>2</th>\n      <td>Australia</td>\n      <td>AUS</td>\n      <td>AU</td>\n      <td>HOUSECOST</td>\n      <td>NOMINAL</td>\n      <td>IDX2015</td>\n      <td>A</td>\n      <td>1972</td>\n      <td>3.183667</td>\n      <td>NaN</td>\n    </tr>\n    <tr>\n      <th>3</th>\n      <td>Australia</td>\n      <td>AUS</td>\n      <td>AU</td>\n      <td>HOUSECOST</td>\n      <td>NOMINAL</td>\n      <td>IDX2015</td>\n      <td>A</td>\n      <td>1973</td>\n      <td>3.837183</td>\n      <td>NaN</td>\n    </tr>\n    <tr>\n      <th>4</th>\n      <td>Australia</td>\n      <td>AUS</td>\n      <td>AU</td>\n      <td>HOUSECOST</td>\n      <td>NOMINAL</td>\n      <td>IDX2015</td>\n      <td>A</td>\n      <td>1974</td>\n      <td>4.690199</td>\n      <td>NaN</td>\n    </tr>\n    <tr>\n      <th>...</th>\n      <td>...</td>\n      <td>...</td>\n      <td>...</td>\n      <td>...</td>\n      <td>...</td>\n      <td>...</td>\n      <td>...</td>\n      <td>...</td>\n      <td>...</td>\n      <td>...</td>\n    </tr>\n    <tr>\n      <th>1416</th>\n      <td>United States</td>\n      <td>USA</td>\n      <td>US</td>\n      <td>HOUSECOST</td>\n      <td>NOMINAL</td>\n      <td>IDX2015</td>\n      <td>A</td>\n      <td>2015</td>\n      <td>100.000000</td>\n      <td>NaN</td>\n    </tr>\n    <tr>\n      <th>1417</th>\n      <td>United States</td>\n      <td>USA</td>\n      <td>US</td>\n      <td>HOUSECOST</td>\n      <td>NOMINAL</td>\n      <td>IDX2015</td>\n      <td>A</td>\n      <td>2016</td>\n      <td>105.730769</td>\n      <td>NaN</td>\n    </tr>\n    <tr>\n      <th>1418</th>\n      <td>United States</td>\n      <td>USA</td>\n      <td>US</td>\n      <td>HOUSECOST</td>\n      <td>NOMINAL</td>\n      <td>IDX2015</td>\n      <td>A</td>\n      <td>2017</td>\n      <td>112.382036</td>\n      <td>NaN</td>\n    </tr>\n    <tr>\n      <th>1419</th>\n      <td>United States</td>\n      <td>USA</td>\n      <td>US</td>\n      <td>HOUSECOST</td>\n      <td>NOMINAL</td>\n      <td>IDX2015</td>\n      <td>A</td>\n      <td>2018</td>\n      <td>119.534759</td>\n      <td>NaN</td>\n    </tr>\n    <tr>\n      <th>1420</th>\n      <td>United States</td>\n      <td>USA</td>\n      <td>US</td>\n      <td>HOUSECOST</td>\n      <td>NOMINAL</td>\n      <td>IDX2015</td>\n      <td>A</td>\n      <td>2019</td>\n      <td>125.761181</td>\n      <td>NaN</td>\n    </tr>\n  </tbody>\n</table>\n<p>1421 rows × 10 columns</p>\n</div>"
     },
     "metadata": {},
     "execution_count": 18
    }
   ],
   "source": [
    "# Final Real Estate Data\n",
    "final_real_estate_data = pd.merge(country_df, real_estate, how='inner',on='LOCATION')\n",
    "final_real_estate_data"
   ]
  },
  {
   "cell_type": "code",
   "execution_count": 19,
   "metadata": {},
   "outputs": [],
   "source": [
    "# Exporting Real Estate Data\n",
    "final_real_estate_data.to_csv('cleaned_data/realestateOECD.csv')"
   ]
  },
  {
   "source": [
    "# Unemployment Rate OECD"
   ],
   "cell_type": "markdown",
   "metadata": {}
  },
  {
   "cell_type": "code",
   "execution_count": 20,
   "metadata": {},
   "outputs": [
    {
     "output_type": "execute_result",
     "data": {
      "text/plain": [
       "       LOCATION INDICATOR SUBJECT MEASURE FREQUENCY  TIME      Value  \\\n",
       "0           AUS       HUR     TOT   PC_LF         A  1967   1.875000   \n",
       "1           AUS       HUR     TOT   PC_LF         A  1968   1.850000   \n",
       "2           AUS       HUR     TOT   PC_LF         A  1969   1.800000   \n",
       "3           AUS       HUR     TOT   PC_LF         A  1970   1.625000   \n",
       "4           AUS       HUR     TOT   PC_LF         A  1971   1.925000   \n",
       "...         ...       ...     ...     ...       ...   ...        ...   \n",
       "1330  EU27_2020       HUR     TOT   PC_LF         A  2015  10.066670   \n",
       "1331  EU27_2020       HUR     TOT   PC_LF         A  2016   9.125000   \n",
       "1332  EU27_2020       HUR     TOT   PC_LF         A  2017   8.150000   \n",
       "1333  EU27_2020       HUR     TOT   PC_LF         A  2018   7.283333   \n",
       "1334  EU27_2020       HUR     TOT   PC_LF         A  2019   6.725000   \n",
       "\n",
       "     Flag Codes  \n",
       "0           NaN  \n",
       "1           NaN  \n",
       "2           NaN  \n",
       "3           NaN  \n",
       "4           NaN  \n",
       "...         ...  \n",
       "1330        NaN  \n",
       "1331        NaN  \n",
       "1332        NaN  \n",
       "1333        NaN  \n",
       "1334        NaN  \n",
       "\n",
       "[1335 rows x 8 columns]"
      ],
      "text/html": "<div>\n<style scoped>\n    .dataframe tbody tr th:only-of-type {\n        vertical-align: middle;\n    }\n\n    .dataframe tbody tr th {\n        vertical-align: top;\n    }\n\n    .dataframe thead th {\n        text-align: right;\n    }\n</style>\n<table border=\"1\" class=\"dataframe\">\n  <thead>\n    <tr style=\"text-align: right;\">\n      <th></th>\n      <th>LOCATION</th>\n      <th>INDICATOR</th>\n      <th>SUBJECT</th>\n      <th>MEASURE</th>\n      <th>FREQUENCY</th>\n      <th>TIME</th>\n      <th>Value</th>\n      <th>Flag Codes</th>\n    </tr>\n  </thead>\n  <tbody>\n    <tr>\n      <th>0</th>\n      <td>AUS</td>\n      <td>HUR</td>\n      <td>TOT</td>\n      <td>PC_LF</td>\n      <td>A</td>\n      <td>1967</td>\n      <td>1.875000</td>\n      <td>NaN</td>\n    </tr>\n    <tr>\n      <th>1</th>\n      <td>AUS</td>\n      <td>HUR</td>\n      <td>TOT</td>\n      <td>PC_LF</td>\n      <td>A</td>\n      <td>1968</td>\n      <td>1.850000</td>\n      <td>NaN</td>\n    </tr>\n    <tr>\n      <th>2</th>\n      <td>AUS</td>\n      <td>HUR</td>\n      <td>TOT</td>\n      <td>PC_LF</td>\n      <td>A</td>\n      <td>1969</td>\n      <td>1.800000</td>\n      <td>NaN</td>\n    </tr>\n    <tr>\n      <th>3</th>\n      <td>AUS</td>\n      <td>HUR</td>\n      <td>TOT</td>\n      <td>PC_LF</td>\n      <td>A</td>\n      <td>1970</td>\n      <td>1.625000</td>\n      <td>NaN</td>\n    </tr>\n    <tr>\n      <th>4</th>\n      <td>AUS</td>\n      <td>HUR</td>\n      <td>TOT</td>\n      <td>PC_LF</td>\n      <td>A</td>\n      <td>1971</td>\n      <td>1.925000</td>\n      <td>NaN</td>\n    </tr>\n    <tr>\n      <th>...</th>\n      <td>...</td>\n      <td>...</td>\n      <td>...</td>\n      <td>...</td>\n      <td>...</td>\n      <td>...</td>\n      <td>...</td>\n      <td>...</td>\n    </tr>\n    <tr>\n      <th>1330</th>\n      <td>EU27_2020</td>\n      <td>HUR</td>\n      <td>TOT</td>\n      <td>PC_LF</td>\n      <td>A</td>\n      <td>2015</td>\n      <td>10.066670</td>\n      <td>NaN</td>\n    </tr>\n    <tr>\n      <th>1331</th>\n      <td>EU27_2020</td>\n      <td>HUR</td>\n      <td>TOT</td>\n      <td>PC_LF</td>\n      <td>A</td>\n      <td>2016</td>\n      <td>9.125000</td>\n      <td>NaN</td>\n    </tr>\n    <tr>\n      <th>1332</th>\n      <td>EU27_2020</td>\n      <td>HUR</td>\n      <td>TOT</td>\n      <td>PC_LF</td>\n      <td>A</td>\n      <td>2017</td>\n      <td>8.150000</td>\n      <td>NaN</td>\n    </tr>\n    <tr>\n      <th>1333</th>\n      <td>EU27_2020</td>\n      <td>HUR</td>\n      <td>TOT</td>\n      <td>PC_LF</td>\n      <td>A</td>\n      <td>2018</td>\n      <td>7.283333</td>\n      <td>NaN</td>\n    </tr>\n    <tr>\n      <th>1334</th>\n      <td>EU27_2020</td>\n      <td>HUR</td>\n      <td>TOT</td>\n      <td>PC_LF</td>\n      <td>A</td>\n      <td>2019</td>\n      <td>6.725000</td>\n      <td>NaN</td>\n    </tr>\n  </tbody>\n</table>\n<p>1335 rows × 8 columns</p>\n</div>"
     },
     "metadata": {},
     "execution_count": 20
    }
   ],
   "source": [
    "unemployment_df = pd.read_csv('raw_data/worldunemployment.csv')\n",
    "unemployment_df"
   ]
  },
  {
   "cell_type": "code",
   "execution_count": 21,
   "metadata": {},
   "outputs": [
    {
     "output_type": "execute_result",
     "data": {
      "text/plain": [
       "       LOCATION INDICATOR SUBJECT MEASURE FREQUENCY  TIME  Unemployment_%  \\\n",
       "0           AUS       HUR     TOT   PC_LF         A  1967        1.875000   \n",
       "1           AUS       HUR     TOT   PC_LF         A  1968        1.850000   \n",
       "2           AUS       HUR     TOT   PC_LF         A  1969        1.800000   \n",
       "3           AUS       HUR     TOT   PC_LF         A  1970        1.625000   \n",
       "4           AUS       HUR     TOT   PC_LF         A  1971        1.925000   \n",
       "...         ...       ...     ...     ...       ...   ...             ...   \n",
       "1330  EU27_2020       HUR     TOT   PC_LF         A  2015       10.066670   \n",
       "1331  EU27_2020       HUR     TOT   PC_LF         A  2016        9.125000   \n",
       "1332  EU27_2020       HUR     TOT   PC_LF         A  2017        8.150000   \n",
       "1333  EU27_2020       HUR     TOT   PC_LF         A  2018        7.283333   \n",
       "1334  EU27_2020       HUR     TOT   PC_LF         A  2019        6.725000   \n",
       "\n",
       "     Flag Codes  \n",
       "0           NaN  \n",
       "1           NaN  \n",
       "2           NaN  \n",
       "3           NaN  \n",
       "4           NaN  \n",
       "...         ...  \n",
       "1330        NaN  \n",
       "1331        NaN  \n",
       "1332        NaN  \n",
       "1333        NaN  \n",
       "1334        NaN  \n",
       "\n",
       "[1335 rows x 8 columns]"
      ],
      "text/html": "<div>\n<style scoped>\n    .dataframe tbody tr th:only-of-type {\n        vertical-align: middle;\n    }\n\n    .dataframe tbody tr th {\n        vertical-align: top;\n    }\n\n    .dataframe thead th {\n        text-align: right;\n    }\n</style>\n<table border=\"1\" class=\"dataframe\">\n  <thead>\n    <tr style=\"text-align: right;\">\n      <th></th>\n      <th>LOCATION</th>\n      <th>INDICATOR</th>\n      <th>SUBJECT</th>\n      <th>MEASURE</th>\n      <th>FREQUENCY</th>\n      <th>TIME</th>\n      <th>Unemployment_%</th>\n      <th>Flag Codes</th>\n    </tr>\n  </thead>\n  <tbody>\n    <tr>\n      <th>0</th>\n      <td>AUS</td>\n      <td>HUR</td>\n      <td>TOT</td>\n      <td>PC_LF</td>\n      <td>A</td>\n      <td>1967</td>\n      <td>1.875000</td>\n      <td>NaN</td>\n    </tr>\n    <tr>\n      <th>1</th>\n      <td>AUS</td>\n      <td>HUR</td>\n      <td>TOT</td>\n      <td>PC_LF</td>\n      <td>A</td>\n      <td>1968</td>\n      <td>1.850000</td>\n      <td>NaN</td>\n    </tr>\n    <tr>\n      <th>2</th>\n      <td>AUS</td>\n      <td>HUR</td>\n      <td>TOT</td>\n      <td>PC_LF</td>\n      <td>A</td>\n      <td>1969</td>\n      <td>1.800000</td>\n      <td>NaN</td>\n    </tr>\n    <tr>\n      <th>3</th>\n      <td>AUS</td>\n      <td>HUR</td>\n      <td>TOT</td>\n      <td>PC_LF</td>\n      <td>A</td>\n      <td>1970</td>\n      <td>1.625000</td>\n      <td>NaN</td>\n    </tr>\n    <tr>\n      <th>4</th>\n      <td>AUS</td>\n      <td>HUR</td>\n      <td>TOT</td>\n      <td>PC_LF</td>\n      <td>A</td>\n      <td>1971</td>\n      <td>1.925000</td>\n      <td>NaN</td>\n    </tr>\n    <tr>\n      <th>...</th>\n      <td>...</td>\n      <td>...</td>\n      <td>...</td>\n      <td>...</td>\n      <td>...</td>\n      <td>...</td>\n      <td>...</td>\n      <td>...</td>\n    </tr>\n    <tr>\n      <th>1330</th>\n      <td>EU27_2020</td>\n      <td>HUR</td>\n      <td>TOT</td>\n      <td>PC_LF</td>\n      <td>A</td>\n      <td>2015</td>\n      <td>10.066670</td>\n      <td>NaN</td>\n    </tr>\n    <tr>\n      <th>1331</th>\n      <td>EU27_2020</td>\n      <td>HUR</td>\n      <td>TOT</td>\n      <td>PC_LF</td>\n      <td>A</td>\n      <td>2016</td>\n      <td>9.125000</td>\n      <td>NaN</td>\n    </tr>\n    <tr>\n      <th>1332</th>\n      <td>EU27_2020</td>\n      <td>HUR</td>\n      <td>TOT</td>\n      <td>PC_LF</td>\n      <td>A</td>\n      <td>2017</td>\n      <td>8.150000</td>\n      <td>NaN</td>\n    </tr>\n    <tr>\n      <th>1333</th>\n      <td>EU27_2020</td>\n      <td>HUR</td>\n      <td>TOT</td>\n      <td>PC_LF</td>\n      <td>A</td>\n      <td>2018</td>\n      <td>7.283333</td>\n      <td>NaN</td>\n    </tr>\n    <tr>\n      <th>1334</th>\n      <td>EU27_2020</td>\n      <td>HUR</td>\n      <td>TOT</td>\n      <td>PC_LF</td>\n      <td>A</td>\n      <td>2019</td>\n      <td>6.725000</td>\n      <td>NaN</td>\n    </tr>\n  </tbody>\n</table>\n<p>1335 rows × 8 columns</p>\n</div>"
     },
     "metadata": {},
     "execution_count": 21
    }
   ],
   "source": [
    "# Renaming a Column\n",
    "unemployment_df_1 = unemployment_df.rename(columns={'Value':'Unemployment_%'})\n",
    "unemployment_df_1"
   ]
  },
  {
   "cell_type": "code",
   "execution_count": 22,
   "metadata": {},
   "outputs": [
    {
     "output_type": "execute_result",
     "data": {
      "text/plain": [
       "            Country LOCATION ISO CODE 2 letter INDICATOR SUBJECT MEASURE  \\\n",
       "0         Australia      AUS                AU       HUR     TOT   PC_LF   \n",
       "1         Australia      AUS                AU       HUR     TOT   PC_LF   \n",
       "2         Australia      AUS                AU       HUR     TOT   PC_LF   \n",
       "3         Australia      AUS                AU       HUR     TOT   PC_LF   \n",
       "4         Australia      AUS                AU       HUR     TOT   PC_LF   \n",
       "...             ...      ...               ...       ...     ...     ...   \n",
       "1213  United States      USA                US       HUR     TOT   PC_LF   \n",
       "1214  United States      USA                US       HUR     TOT   PC_LF   \n",
       "1215  United States      USA                US       HUR     TOT   PC_LF   \n",
       "1216  United States      USA                US       HUR     TOT   PC_LF   \n",
       "1217  United States      USA                US       HUR     TOT   PC_LF   \n",
       "\n",
       "     FREQUENCY  TIME  Unemployment_% Flag Codes  \n",
       "0            A  1967        1.875000        NaN  \n",
       "1            A  1968        1.850000        NaN  \n",
       "2            A  1969        1.800000        NaN  \n",
       "3            A  1970        1.625000        NaN  \n",
       "4            A  1971        1.925000        NaN  \n",
       "...        ...   ...             ...        ...  \n",
       "1213         A  2015        5.291667        NaN  \n",
       "1214         A  2016        4.866667        NaN  \n",
       "1215         A  2017        4.350000        NaN  \n",
       "1216         A  2018        3.900000        NaN  \n",
       "1217         A  2019        3.666667        NaN  \n",
       "\n",
       "[1218 rows x 10 columns]"
      ],
      "text/html": "<div>\n<style scoped>\n    .dataframe tbody tr th:only-of-type {\n        vertical-align: middle;\n    }\n\n    .dataframe tbody tr th {\n        vertical-align: top;\n    }\n\n    .dataframe thead th {\n        text-align: right;\n    }\n</style>\n<table border=\"1\" class=\"dataframe\">\n  <thead>\n    <tr style=\"text-align: right;\">\n      <th></th>\n      <th>Country</th>\n      <th>LOCATION</th>\n      <th>ISO CODE 2 letter</th>\n      <th>INDICATOR</th>\n      <th>SUBJECT</th>\n      <th>MEASURE</th>\n      <th>FREQUENCY</th>\n      <th>TIME</th>\n      <th>Unemployment_%</th>\n      <th>Flag Codes</th>\n    </tr>\n  </thead>\n  <tbody>\n    <tr>\n      <th>0</th>\n      <td>Australia</td>\n      <td>AUS</td>\n      <td>AU</td>\n      <td>HUR</td>\n      <td>TOT</td>\n      <td>PC_LF</td>\n      <td>A</td>\n      <td>1967</td>\n      <td>1.875000</td>\n      <td>NaN</td>\n    </tr>\n    <tr>\n      <th>1</th>\n      <td>Australia</td>\n      <td>AUS</td>\n      <td>AU</td>\n      <td>HUR</td>\n      <td>TOT</td>\n      <td>PC_LF</td>\n      <td>A</td>\n      <td>1968</td>\n      <td>1.850000</td>\n      <td>NaN</td>\n    </tr>\n    <tr>\n      <th>2</th>\n      <td>Australia</td>\n      <td>AUS</td>\n      <td>AU</td>\n      <td>HUR</td>\n      <td>TOT</td>\n      <td>PC_LF</td>\n      <td>A</td>\n      <td>1969</td>\n      <td>1.800000</td>\n      <td>NaN</td>\n    </tr>\n    <tr>\n      <th>3</th>\n      <td>Australia</td>\n      <td>AUS</td>\n      <td>AU</td>\n      <td>HUR</td>\n      <td>TOT</td>\n      <td>PC_LF</td>\n      <td>A</td>\n      <td>1970</td>\n      <td>1.625000</td>\n      <td>NaN</td>\n    </tr>\n    <tr>\n      <th>4</th>\n      <td>Australia</td>\n      <td>AUS</td>\n      <td>AU</td>\n      <td>HUR</td>\n      <td>TOT</td>\n      <td>PC_LF</td>\n      <td>A</td>\n      <td>1971</td>\n      <td>1.925000</td>\n      <td>NaN</td>\n    </tr>\n    <tr>\n      <th>...</th>\n      <td>...</td>\n      <td>...</td>\n      <td>...</td>\n      <td>...</td>\n      <td>...</td>\n      <td>...</td>\n      <td>...</td>\n      <td>...</td>\n      <td>...</td>\n      <td>...</td>\n    </tr>\n    <tr>\n      <th>1213</th>\n      <td>United States</td>\n      <td>USA</td>\n      <td>US</td>\n      <td>HUR</td>\n      <td>TOT</td>\n      <td>PC_LF</td>\n      <td>A</td>\n      <td>2015</td>\n      <td>5.291667</td>\n      <td>NaN</td>\n    </tr>\n    <tr>\n      <th>1214</th>\n      <td>United States</td>\n      <td>USA</td>\n      <td>US</td>\n      <td>HUR</td>\n      <td>TOT</td>\n      <td>PC_LF</td>\n      <td>A</td>\n      <td>2016</td>\n      <td>4.866667</td>\n      <td>NaN</td>\n    </tr>\n    <tr>\n      <th>1215</th>\n      <td>United States</td>\n      <td>USA</td>\n      <td>US</td>\n      <td>HUR</td>\n      <td>TOT</td>\n      <td>PC_LF</td>\n      <td>A</td>\n      <td>2017</td>\n      <td>4.350000</td>\n      <td>NaN</td>\n    </tr>\n    <tr>\n      <th>1216</th>\n      <td>United States</td>\n      <td>USA</td>\n      <td>US</td>\n      <td>HUR</td>\n      <td>TOT</td>\n      <td>PC_LF</td>\n      <td>A</td>\n      <td>2018</td>\n      <td>3.900000</td>\n      <td>NaN</td>\n    </tr>\n    <tr>\n      <th>1217</th>\n      <td>United States</td>\n      <td>USA</td>\n      <td>US</td>\n      <td>HUR</td>\n      <td>TOT</td>\n      <td>PC_LF</td>\n      <td>A</td>\n      <td>2019</td>\n      <td>3.666667</td>\n      <td>NaN</td>\n    </tr>\n  </tbody>\n</table>\n<p>1218 rows × 10 columns</p>\n</div>"
     },
     "metadata": {},
     "execution_count": 22
    }
   ],
   "source": [
    "# Creating a final data frame\n",
    "unemployment_df_final = pd.merge(country_df,unemployment_df_1, on='LOCATION',how='inner')\n",
    "unemployment_df_final"
   ]
  },
  {
   "cell_type": "code",
   "execution_count": 23,
   "metadata": {},
   "outputs": [],
   "source": [
    "# Exporting the dataframe\n",
    "unemployment_df_final.to_csv('cleaned_data/unemploymentrateOECD.csv')"
   ]
  },
  {
   "source": [
    "# Banking sector"
   ],
   "cell_type": "markdown",
   "metadata": {}
  },
  {
   "cell_type": "code",
   "execution_count": 24,
   "metadata": {},
   "outputs": [
    {
     "output_type": "execute_result",
     "data": {
      "text/plain": [
       "    LOCATION     INDICATOR SUBJECT MEASURE FREQUENCY  TIME      Value  \\\n",
       "0        FRA  BANKLEVERAGE     TOT  PC_NVA         A  1995  19.490000   \n",
       "1        FRA  BANKLEVERAGE     TOT  PC_NVA         A  1996  19.820640   \n",
       "2        FRA  BANKLEVERAGE     TOT  PC_NVA         A  1997  15.312700   \n",
       "3        FRA  BANKLEVERAGE     TOT  PC_NVA         A  1998  18.017870   \n",
       "4        FRA  BANKLEVERAGE     TOT  PC_NVA         A  1999  13.623330   \n",
       "..       ...           ...     ...     ...       ...   ...        ...   \n",
       "746      CHE  BANKLEVERAGE     TOT  PC_NVA         A  2014  11.025050   \n",
       "747      CHE  BANKLEVERAGE     TOT  PC_NVA         A  2015  11.705780   \n",
       "748      CHE  BANKLEVERAGE     TOT  PC_NVA         A  2016  12.029350   \n",
       "749      CHE  BANKLEVERAGE     TOT  PC_NVA         A  2017   9.523528   \n",
       "750      CHE  BANKLEVERAGE     TOT  PC_NVA         A  2018  11.569050   \n",
       "\n",
       "     Flag Codes  \n",
       "0           NaN  \n",
       "1           NaN  \n",
       "2           NaN  \n",
       "3           NaN  \n",
       "4           NaN  \n",
       "..          ...  \n",
       "746         NaN  \n",
       "747         NaN  \n",
       "748         NaN  \n",
       "749         NaN  \n",
       "750         NaN  \n",
       "\n",
       "[751 rows x 8 columns]"
      ],
      "text/html": "<div>\n<style scoped>\n    .dataframe tbody tr th:only-of-type {\n        vertical-align: middle;\n    }\n\n    .dataframe tbody tr th {\n        vertical-align: top;\n    }\n\n    .dataframe thead th {\n        text-align: right;\n    }\n</style>\n<table border=\"1\" class=\"dataframe\">\n  <thead>\n    <tr style=\"text-align: right;\">\n      <th></th>\n      <th>LOCATION</th>\n      <th>INDICATOR</th>\n      <th>SUBJECT</th>\n      <th>MEASURE</th>\n      <th>FREQUENCY</th>\n      <th>TIME</th>\n      <th>Value</th>\n      <th>Flag Codes</th>\n    </tr>\n  </thead>\n  <tbody>\n    <tr>\n      <th>0</th>\n      <td>FRA</td>\n      <td>BANKLEVERAGE</td>\n      <td>TOT</td>\n      <td>PC_NVA</td>\n      <td>A</td>\n      <td>1995</td>\n      <td>19.490000</td>\n      <td>NaN</td>\n    </tr>\n    <tr>\n      <th>1</th>\n      <td>FRA</td>\n      <td>BANKLEVERAGE</td>\n      <td>TOT</td>\n      <td>PC_NVA</td>\n      <td>A</td>\n      <td>1996</td>\n      <td>19.820640</td>\n      <td>NaN</td>\n    </tr>\n    <tr>\n      <th>2</th>\n      <td>FRA</td>\n      <td>BANKLEVERAGE</td>\n      <td>TOT</td>\n      <td>PC_NVA</td>\n      <td>A</td>\n      <td>1997</td>\n      <td>15.312700</td>\n      <td>NaN</td>\n    </tr>\n    <tr>\n      <th>3</th>\n      <td>FRA</td>\n      <td>BANKLEVERAGE</td>\n      <td>TOT</td>\n      <td>PC_NVA</td>\n      <td>A</td>\n      <td>1998</td>\n      <td>18.017870</td>\n      <td>NaN</td>\n    </tr>\n    <tr>\n      <th>4</th>\n      <td>FRA</td>\n      <td>BANKLEVERAGE</td>\n      <td>TOT</td>\n      <td>PC_NVA</td>\n      <td>A</td>\n      <td>1999</td>\n      <td>13.623330</td>\n      <td>NaN</td>\n    </tr>\n    <tr>\n      <th>...</th>\n      <td>...</td>\n      <td>...</td>\n      <td>...</td>\n      <td>...</td>\n      <td>...</td>\n      <td>...</td>\n      <td>...</td>\n      <td>...</td>\n    </tr>\n    <tr>\n      <th>746</th>\n      <td>CHE</td>\n      <td>BANKLEVERAGE</td>\n      <td>TOT</td>\n      <td>PC_NVA</td>\n      <td>A</td>\n      <td>2014</td>\n      <td>11.025050</td>\n      <td>NaN</td>\n    </tr>\n    <tr>\n      <th>747</th>\n      <td>CHE</td>\n      <td>BANKLEVERAGE</td>\n      <td>TOT</td>\n      <td>PC_NVA</td>\n      <td>A</td>\n      <td>2015</td>\n      <td>11.705780</td>\n      <td>NaN</td>\n    </tr>\n    <tr>\n      <th>748</th>\n      <td>CHE</td>\n      <td>BANKLEVERAGE</td>\n      <td>TOT</td>\n      <td>PC_NVA</td>\n      <td>A</td>\n      <td>2016</td>\n      <td>12.029350</td>\n      <td>NaN</td>\n    </tr>\n    <tr>\n      <th>749</th>\n      <td>CHE</td>\n      <td>BANKLEVERAGE</td>\n      <td>TOT</td>\n      <td>PC_NVA</td>\n      <td>A</td>\n      <td>2017</td>\n      <td>9.523528</td>\n      <td>NaN</td>\n    </tr>\n    <tr>\n      <th>750</th>\n      <td>CHE</td>\n      <td>BANKLEVERAGE</td>\n      <td>TOT</td>\n      <td>PC_NVA</td>\n      <td>A</td>\n      <td>2018</td>\n      <td>11.569050</td>\n      <td>NaN</td>\n    </tr>\n  </tbody>\n</table>\n<p>751 rows × 8 columns</p>\n</div>"
     },
     "metadata": {},
     "execution_count": 24
    }
   ],
   "source": [
    "banking = pd.read_csv('raw_data/worldbankingsector.csv')\n",
    "banking"
   ]
  },
  {
   "cell_type": "code",
   "execution_count": 25,
   "metadata": {},
   "outputs": [
    {
     "output_type": "execute_result",
     "data": {
      "text/plain": [
       "    LOCATION     INDICATOR SUBJECT MEASURE FREQUENCY  TIME  net_value_added_%  \\\n",
       "0        FRA  BANKLEVERAGE     TOT  PC_NVA         A  1995          19.490000   \n",
       "1        FRA  BANKLEVERAGE     TOT  PC_NVA         A  1996          19.820640   \n",
       "2        FRA  BANKLEVERAGE     TOT  PC_NVA         A  1997          15.312700   \n",
       "3        FRA  BANKLEVERAGE     TOT  PC_NVA         A  1998          18.017870   \n",
       "4        FRA  BANKLEVERAGE     TOT  PC_NVA         A  1999          13.623330   \n",
       "..       ...           ...     ...     ...       ...   ...                ...   \n",
       "746      CHE  BANKLEVERAGE     TOT  PC_NVA         A  2014          11.025050   \n",
       "747      CHE  BANKLEVERAGE     TOT  PC_NVA         A  2015          11.705780   \n",
       "748      CHE  BANKLEVERAGE     TOT  PC_NVA         A  2016          12.029350   \n",
       "749      CHE  BANKLEVERAGE     TOT  PC_NVA         A  2017           9.523528   \n",
       "750      CHE  BANKLEVERAGE     TOT  PC_NVA         A  2018          11.569050   \n",
       "\n",
       "     Flag Codes  \n",
       "0           NaN  \n",
       "1           NaN  \n",
       "2           NaN  \n",
       "3           NaN  \n",
       "4           NaN  \n",
       "..          ...  \n",
       "746         NaN  \n",
       "747         NaN  \n",
       "748         NaN  \n",
       "749         NaN  \n",
       "750         NaN  \n",
       "\n",
       "[751 rows x 8 columns]"
      ],
      "text/html": "<div>\n<style scoped>\n    .dataframe tbody tr th:only-of-type {\n        vertical-align: middle;\n    }\n\n    .dataframe tbody tr th {\n        vertical-align: top;\n    }\n\n    .dataframe thead th {\n        text-align: right;\n    }\n</style>\n<table border=\"1\" class=\"dataframe\">\n  <thead>\n    <tr style=\"text-align: right;\">\n      <th></th>\n      <th>LOCATION</th>\n      <th>INDICATOR</th>\n      <th>SUBJECT</th>\n      <th>MEASURE</th>\n      <th>FREQUENCY</th>\n      <th>TIME</th>\n      <th>net_value_added_%</th>\n      <th>Flag Codes</th>\n    </tr>\n  </thead>\n  <tbody>\n    <tr>\n      <th>0</th>\n      <td>FRA</td>\n      <td>BANKLEVERAGE</td>\n      <td>TOT</td>\n      <td>PC_NVA</td>\n      <td>A</td>\n      <td>1995</td>\n      <td>19.490000</td>\n      <td>NaN</td>\n    </tr>\n    <tr>\n      <th>1</th>\n      <td>FRA</td>\n      <td>BANKLEVERAGE</td>\n      <td>TOT</td>\n      <td>PC_NVA</td>\n      <td>A</td>\n      <td>1996</td>\n      <td>19.820640</td>\n      <td>NaN</td>\n    </tr>\n    <tr>\n      <th>2</th>\n      <td>FRA</td>\n      <td>BANKLEVERAGE</td>\n      <td>TOT</td>\n      <td>PC_NVA</td>\n      <td>A</td>\n      <td>1997</td>\n      <td>15.312700</td>\n      <td>NaN</td>\n    </tr>\n    <tr>\n      <th>3</th>\n      <td>FRA</td>\n      <td>BANKLEVERAGE</td>\n      <td>TOT</td>\n      <td>PC_NVA</td>\n      <td>A</td>\n      <td>1998</td>\n      <td>18.017870</td>\n      <td>NaN</td>\n    </tr>\n    <tr>\n      <th>4</th>\n      <td>FRA</td>\n      <td>BANKLEVERAGE</td>\n      <td>TOT</td>\n      <td>PC_NVA</td>\n      <td>A</td>\n      <td>1999</td>\n      <td>13.623330</td>\n      <td>NaN</td>\n    </tr>\n    <tr>\n      <th>...</th>\n      <td>...</td>\n      <td>...</td>\n      <td>...</td>\n      <td>...</td>\n      <td>...</td>\n      <td>...</td>\n      <td>...</td>\n      <td>...</td>\n    </tr>\n    <tr>\n      <th>746</th>\n      <td>CHE</td>\n      <td>BANKLEVERAGE</td>\n      <td>TOT</td>\n      <td>PC_NVA</td>\n      <td>A</td>\n      <td>2014</td>\n      <td>11.025050</td>\n      <td>NaN</td>\n    </tr>\n    <tr>\n      <th>747</th>\n      <td>CHE</td>\n      <td>BANKLEVERAGE</td>\n      <td>TOT</td>\n      <td>PC_NVA</td>\n      <td>A</td>\n      <td>2015</td>\n      <td>11.705780</td>\n      <td>NaN</td>\n    </tr>\n    <tr>\n      <th>748</th>\n      <td>CHE</td>\n      <td>BANKLEVERAGE</td>\n      <td>TOT</td>\n      <td>PC_NVA</td>\n      <td>A</td>\n      <td>2016</td>\n      <td>12.029350</td>\n      <td>NaN</td>\n    </tr>\n    <tr>\n      <th>749</th>\n      <td>CHE</td>\n      <td>BANKLEVERAGE</td>\n      <td>TOT</td>\n      <td>PC_NVA</td>\n      <td>A</td>\n      <td>2017</td>\n      <td>9.523528</td>\n      <td>NaN</td>\n    </tr>\n    <tr>\n      <th>750</th>\n      <td>CHE</td>\n      <td>BANKLEVERAGE</td>\n      <td>TOT</td>\n      <td>PC_NVA</td>\n      <td>A</td>\n      <td>2018</td>\n      <td>11.569050</td>\n      <td>NaN</td>\n    </tr>\n  </tbody>\n</table>\n<p>751 rows × 8 columns</p>\n</div>"
     },
     "metadata": {},
     "execution_count": 25
    }
   ],
   "source": [
    "# Renaming the columns\n",
    "banking1 = banking.rename(columns={'Value':'net_value_added_%'})\n",
    "banking1"
   ]
  },
  {
   "cell_type": "code",
   "execution_count": 26,
   "metadata": {},
   "outputs": [
    {
     "output_type": "execute_result",
     "data": {
      "text/plain": [
       "           Country LOCATION ISO CODE 2 letter     INDICATOR SUBJECT MEASURE  \\\n",
       "0        Australia      AUS                AU  BANKLEVERAGE     TOT  PC_NVA   \n",
       "1        Australia      AUS                AU  BANKLEVERAGE     TOT  PC_NVA   \n",
       "2        Australia      AUS                AU  BANKLEVERAGE     TOT  PC_NVA   \n",
       "3        Australia      AUS                AU  BANKLEVERAGE     TOT  PC_NVA   \n",
       "4        Australia      AUS                AU  BANKLEVERAGE     TOT  PC_NVA   \n",
       "..             ...      ...               ...           ...     ...     ...   \n",
       "746  United States      USA                US  BANKLEVERAGE     TOT  PC_NVA   \n",
       "747  United States      USA                US  BANKLEVERAGE     TOT  PC_NVA   \n",
       "748  United States      USA                US  BANKLEVERAGE     TOT  PC_NVA   \n",
       "749  United States      USA                US  BANKLEVERAGE     TOT  PC_NVA   \n",
       "750  United States      USA                US  BANKLEVERAGE     TOT  PC_NVA   \n",
       "\n",
       "    FREQUENCY  TIME  net_value_added_%  Flag Codes  \n",
       "0           A  1995           6.079339         NaN  \n",
       "1           A  1996           5.526472         NaN  \n",
       "2           A  1997           4.680646         NaN  \n",
       "3           A  1998           4.526383         NaN  \n",
       "4           A  1999           4.786476         NaN  \n",
       "..        ...   ...                ...         ...  \n",
       "746         A  2015           6.913682         NaN  \n",
       "747         A  2016           6.343794         NaN  \n",
       "748         A  2017           6.087101         NaN  \n",
       "749         A  2018           6.488258         NaN  \n",
       "750         A  2019           6.101120         NaN  \n",
       "\n",
       "[751 rows x 10 columns]"
      ],
      "text/html": "<div>\n<style scoped>\n    .dataframe tbody tr th:only-of-type {\n        vertical-align: middle;\n    }\n\n    .dataframe tbody tr th {\n        vertical-align: top;\n    }\n\n    .dataframe thead th {\n        text-align: right;\n    }\n</style>\n<table border=\"1\" class=\"dataframe\">\n  <thead>\n    <tr style=\"text-align: right;\">\n      <th></th>\n      <th>Country</th>\n      <th>LOCATION</th>\n      <th>ISO CODE 2 letter</th>\n      <th>INDICATOR</th>\n      <th>SUBJECT</th>\n      <th>MEASURE</th>\n      <th>FREQUENCY</th>\n      <th>TIME</th>\n      <th>net_value_added_%</th>\n      <th>Flag Codes</th>\n    </tr>\n  </thead>\n  <tbody>\n    <tr>\n      <th>0</th>\n      <td>Australia</td>\n      <td>AUS</td>\n      <td>AU</td>\n      <td>BANKLEVERAGE</td>\n      <td>TOT</td>\n      <td>PC_NVA</td>\n      <td>A</td>\n      <td>1995</td>\n      <td>6.079339</td>\n      <td>NaN</td>\n    </tr>\n    <tr>\n      <th>1</th>\n      <td>Australia</td>\n      <td>AUS</td>\n      <td>AU</td>\n      <td>BANKLEVERAGE</td>\n      <td>TOT</td>\n      <td>PC_NVA</td>\n      <td>A</td>\n      <td>1996</td>\n      <td>5.526472</td>\n      <td>NaN</td>\n    </tr>\n    <tr>\n      <th>2</th>\n      <td>Australia</td>\n      <td>AUS</td>\n      <td>AU</td>\n      <td>BANKLEVERAGE</td>\n      <td>TOT</td>\n      <td>PC_NVA</td>\n      <td>A</td>\n      <td>1997</td>\n      <td>4.680646</td>\n      <td>NaN</td>\n    </tr>\n    <tr>\n      <th>3</th>\n      <td>Australia</td>\n      <td>AUS</td>\n      <td>AU</td>\n      <td>BANKLEVERAGE</td>\n      <td>TOT</td>\n      <td>PC_NVA</td>\n      <td>A</td>\n      <td>1998</td>\n      <td>4.526383</td>\n      <td>NaN</td>\n    </tr>\n    <tr>\n      <th>4</th>\n      <td>Australia</td>\n      <td>AUS</td>\n      <td>AU</td>\n      <td>BANKLEVERAGE</td>\n      <td>TOT</td>\n      <td>PC_NVA</td>\n      <td>A</td>\n      <td>1999</td>\n      <td>4.786476</td>\n      <td>NaN</td>\n    </tr>\n    <tr>\n      <th>...</th>\n      <td>...</td>\n      <td>...</td>\n      <td>...</td>\n      <td>...</td>\n      <td>...</td>\n      <td>...</td>\n      <td>...</td>\n      <td>...</td>\n      <td>...</td>\n      <td>...</td>\n    </tr>\n    <tr>\n      <th>746</th>\n      <td>United States</td>\n      <td>USA</td>\n      <td>US</td>\n      <td>BANKLEVERAGE</td>\n      <td>TOT</td>\n      <td>PC_NVA</td>\n      <td>A</td>\n      <td>2015</td>\n      <td>6.913682</td>\n      <td>NaN</td>\n    </tr>\n    <tr>\n      <th>747</th>\n      <td>United States</td>\n      <td>USA</td>\n      <td>US</td>\n      <td>BANKLEVERAGE</td>\n      <td>TOT</td>\n      <td>PC_NVA</td>\n      <td>A</td>\n      <td>2016</td>\n      <td>6.343794</td>\n      <td>NaN</td>\n    </tr>\n    <tr>\n      <th>748</th>\n      <td>United States</td>\n      <td>USA</td>\n      <td>US</td>\n      <td>BANKLEVERAGE</td>\n      <td>TOT</td>\n      <td>PC_NVA</td>\n      <td>A</td>\n      <td>2017</td>\n      <td>6.087101</td>\n      <td>NaN</td>\n    </tr>\n    <tr>\n      <th>749</th>\n      <td>United States</td>\n      <td>USA</td>\n      <td>US</td>\n      <td>BANKLEVERAGE</td>\n      <td>TOT</td>\n      <td>PC_NVA</td>\n      <td>A</td>\n      <td>2018</td>\n      <td>6.488258</td>\n      <td>NaN</td>\n    </tr>\n    <tr>\n      <th>750</th>\n      <td>United States</td>\n      <td>USA</td>\n      <td>US</td>\n      <td>BANKLEVERAGE</td>\n      <td>TOT</td>\n      <td>PC_NVA</td>\n      <td>A</td>\n      <td>2019</td>\n      <td>6.101120</td>\n      <td>NaN</td>\n    </tr>\n  </tbody>\n</table>\n<p>751 rows × 10 columns</p>\n</div>"
     },
     "metadata": {},
     "execution_count": 26
    }
   ],
   "source": [
    "# Adding country name to the dataframe\n",
    "banking2 = pd.merge(country_df, banking1, on='LOCATION', how='inner')\n",
    "banking2"
   ]
  },
  {
   "cell_type": "code",
   "execution_count": 27,
   "metadata": {},
   "outputs": [],
   "source": [
    "# Exporting dataframe\n",
    "banking2.to_csv('cleaned_data/bankingOECD.csv')"
   ]
  },
  {
   "source": [
    "# Insurance Spending"
   ],
   "cell_type": "markdown",
   "metadata": {}
  },
  {
   "cell_type": "code",
   "execution_count": 28,
   "metadata": {},
   "outputs": [
    {
     "output_type": "execute_result",
     "data": {
      "text/plain": [
       "     LOCATION     INDICATOR SUBJECT MEASURE FREQUENCY  TIME  \\\n",
       "0         AUS  INSURANCEEXP     TOT  PC_GDP         A  1983   \n",
       "1         AUS  INSURANCEEXP     TOT  PC_GDP         A  1984   \n",
       "2         AUS  INSURANCEEXP     TOT  PC_GDP         A  1985   \n",
       "3         AUS  INSURANCEEXP     TOT  PC_GDP         A  1986   \n",
       "4         AUS  INSURANCEEXP     TOT  PC_GDP         A  1987   \n",
       "...       ...           ...     ...     ...       ...   ...   \n",
       "1219      HND  INSURANCEEXP     TOT  PC_GDP         A  2018   \n",
       "1220      TUN  INSURANCEEXP     TOT  PC_GDP         A  2016   \n",
       "1221      TUN  INSURANCEEXP     TOT  PC_GDP         A  2017   \n",
       "1222      DOM  INSURANCEEXP     TOT  PC_GDP         A  2018   \n",
       "1223      SLV  INSURANCEEXP     TOT  PC_GDP         A  2018   \n",
       "\n",
       "      % Insurance of GDP  Flag Codes  \n",
       "0                  1.963         NaN  \n",
       "1                  3.874         NaN  \n",
       "2                  3.767         NaN  \n",
       "3                  1.823         NaN  \n",
       "4                  5.256         NaN  \n",
       "...                  ...         ...  \n",
       "1219               2.633         NaN  \n",
       "1220               2.043         NaN  \n",
       "1221               2.155         NaN  \n",
       "1222               1.511         NaN  \n",
       "1223               2.394         NaN  \n",
       "\n",
       "[1224 rows x 8 columns]"
      ],
      "text/html": "<div>\n<style scoped>\n    .dataframe tbody tr th:only-of-type {\n        vertical-align: middle;\n    }\n\n    .dataframe tbody tr th {\n        vertical-align: top;\n    }\n\n    .dataframe thead th {\n        text-align: right;\n    }\n</style>\n<table border=\"1\" class=\"dataframe\">\n  <thead>\n    <tr style=\"text-align: right;\">\n      <th></th>\n      <th>LOCATION</th>\n      <th>INDICATOR</th>\n      <th>SUBJECT</th>\n      <th>MEASURE</th>\n      <th>FREQUENCY</th>\n      <th>TIME</th>\n      <th>% Insurance of GDP</th>\n      <th>Flag Codes</th>\n    </tr>\n  </thead>\n  <tbody>\n    <tr>\n      <th>0</th>\n      <td>AUS</td>\n      <td>INSURANCEEXP</td>\n      <td>TOT</td>\n      <td>PC_GDP</td>\n      <td>A</td>\n      <td>1983</td>\n      <td>1.963</td>\n      <td>NaN</td>\n    </tr>\n    <tr>\n      <th>1</th>\n      <td>AUS</td>\n      <td>INSURANCEEXP</td>\n      <td>TOT</td>\n      <td>PC_GDP</td>\n      <td>A</td>\n      <td>1984</td>\n      <td>3.874</td>\n      <td>NaN</td>\n    </tr>\n    <tr>\n      <th>2</th>\n      <td>AUS</td>\n      <td>INSURANCEEXP</td>\n      <td>TOT</td>\n      <td>PC_GDP</td>\n      <td>A</td>\n      <td>1985</td>\n      <td>3.767</td>\n      <td>NaN</td>\n    </tr>\n    <tr>\n      <th>3</th>\n      <td>AUS</td>\n      <td>INSURANCEEXP</td>\n      <td>TOT</td>\n      <td>PC_GDP</td>\n      <td>A</td>\n      <td>1986</td>\n      <td>1.823</td>\n      <td>NaN</td>\n    </tr>\n    <tr>\n      <th>4</th>\n      <td>AUS</td>\n      <td>INSURANCEEXP</td>\n      <td>TOT</td>\n      <td>PC_GDP</td>\n      <td>A</td>\n      <td>1987</td>\n      <td>5.256</td>\n      <td>NaN</td>\n    </tr>\n    <tr>\n      <th>...</th>\n      <td>...</td>\n      <td>...</td>\n      <td>...</td>\n      <td>...</td>\n      <td>...</td>\n      <td>...</td>\n      <td>...</td>\n      <td>...</td>\n    </tr>\n    <tr>\n      <th>1219</th>\n      <td>HND</td>\n      <td>INSURANCEEXP</td>\n      <td>TOT</td>\n      <td>PC_GDP</td>\n      <td>A</td>\n      <td>2018</td>\n      <td>2.633</td>\n      <td>NaN</td>\n    </tr>\n    <tr>\n      <th>1220</th>\n      <td>TUN</td>\n      <td>INSURANCEEXP</td>\n      <td>TOT</td>\n      <td>PC_GDP</td>\n      <td>A</td>\n      <td>2016</td>\n      <td>2.043</td>\n      <td>NaN</td>\n    </tr>\n    <tr>\n      <th>1221</th>\n      <td>TUN</td>\n      <td>INSURANCEEXP</td>\n      <td>TOT</td>\n      <td>PC_GDP</td>\n      <td>A</td>\n      <td>2017</td>\n      <td>2.155</td>\n      <td>NaN</td>\n    </tr>\n    <tr>\n      <th>1222</th>\n      <td>DOM</td>\n      <td>INSURANCEEXP</td>\n      <td>TOT</td>\n      <td>PC_GDP</td>\n      <td>A</td>\n      <td>2018</td>\n      <td>1.511</td>\n      <td>NaN</td>\n    </tr>\n    <tr>\n      <th>1223</th>\n      <td>SLV</td>\n      <td>INSURANCEEXP</td>\n      <td>TOT</td>\n      <td>PC_GDP</td>\n      <td>A</td>\n      <td>2018</td>\n      <td>2.394</td>\n      <td>NaN</td>\n    </tr>\n  </tbody>\n</table>\n<p>1224 rows × 8 columns</p>\n</div>"
     },
     "metadata": {},
     "execution_count": 28
    }
   ],
   "source": [
    "# Reading the dataframe\n",
    "insurance = pd.read_csv('raw_data/worldinsurance.csv')\n",
    "insurance"
   ]
  },
  {
   "cell_type": "code",
   "execution_count": 29,
   "metadata": {},
   "outputs": [
    {
     "output_type": "execute_result",
     "data": {
      "text/plain": [
       "        Country LOCATION ISO CODE 2 letter     INDICATOR SUBJECT MEASURE  \\\n",
       "0     Argentina      ARG                AR  INSURANCEEXP     TOT  PC_GDP   \n",
       "1     Argentina      ARG                AR  INSURANCEEXP     TOT  PC_GDP   \n",
       "2     Argentina      ARG                AR  INSURANCEEXP     TOT  PC_GDP   \n",
       "3     Argentina      ARG                AR  INSURANCEEXP     TOT  PC_GDP   \n",
       "4     Argentina      ARG                AR  INSURANCEEXP     TOT  PC_GDP   \n",
       "...         ...      ...               ...           ...     ...     ...   \n",
       "1183    Uruguay      URY                UY  INSURANCEEXP     TOT  PC_GDP   \n",
       "1184    Uruguay      URY                UY  INSURANCEEXP     TOT  PC_GDP   \n",
       "1185    Uruguay      URY                UY  INSURANCEEXP     TOT  PC_GDP   \n",
       "1186    Uruguay      URY                UY  INSURANCEEXP     TOT  PC_GDP   \n",
       "1187    Uruguay      URY                UY  INSURANCEEXP     TOT  PC_GDP   \n",
       "\n",
       "     FREQUENCY  TIME  % Insurance of GDP  Flag Codes  \n",
       "0            A  2012               2.251         NaN  \n",
       "1            A  2013               2.408         NaN  \n",
       "2            A  2014               2.378         NaN  \n",
       "3            A  2015               2.575         NaN  \n",
       "4            A  2016               2.565         NaN  \n",
       "...        ...   ...                 ...         ...  \n",
       "1183         A  2012               2.071         NaN  \n",
       "1184         A  2013               2.100         NaN  \n",
       "1185         A  2014               2.276         NaN  \n",
       "1186         A  2015               2.398         NaN  \n",
       "1187         A  2017               2.664         NaN  \n",
       "\n",
       "[1188 rows x 10 columns]"
      ],
      "text/html": "<div>\n<style scoped>\n    .dataframe tbody tr th:only-of-type {\n        vertical-align: middle;\n    }\n\n    .dataframe tbody tr th {\n        vertical-align: top;\n    }\n\n    .dataframe thead th {\n        text-align: right;\n    }\n</style>\n<table border=\"1\" class=\"dataframe\">\n  <thead>\n    <tr style=\"text-align: right;\">\n      <th></th>\n      <th>Country</th>\n      <th>LOCATION</th>\n      <th>ISO CODE 2 letter</th>\n      <th>INDICATOR</th>\n      <th>SUBJECT</th>\n      <th>MEASURE</th>\n      <th>FREQUENCY</th>\n      <th>TIME</th>\n      <th>% Insurance of GDP</th>\n      <th>Flag Codes</th>\n    </tr>\n  </thead>\n  <tbody>\n    <tr>\n      <th>0</th>\n      <td>Argentina</td>\n      <td>ARG</td>\n      <td>AR</td>\n      <td>INSURANCEEXP</td>\n      <td>TOT</td>\n      <td>PC_GDP</td>\n      <td>A</td>\n      <td>2012</td>\n      <td>2.251</td>\n      <td>NaN</td>\n    </tr>\n    <tr>\n      <th>1</th>\n      <td>Argentina</td>\n      <td>ARG</td>\n      <td>AR</td>\n      <td>INSURANCEEXP</td>\n      <td>TOT</td>\n      <td>PC_GDP</td>\n      <td>A</td>\n      <td>2013</td>\n      <td>2.408</td>\n      <td>NaN</td>\n    </tr>\n    <tr>\n      <th>2</th>\n      <td>Argentina</td>\n      <td>ARG</td>\n      <td>AR</td>\n      <td>INSURANCEEXP</td>\n      <td>TOT</td>\n      <td>PC_GDP</td>\n      <td>A</td>\n      <td>2014</td>\n      <td>2.378</td>\n      <td>NaN</td>\n    </tr>\n    <tr>\n      <th>3</th>\n      <td>Argentina</td>\n      <td>ARG</td>\n      <td>AR</td>\n      <td>INSURANCEEXP</td>\n      <td>TOT</td>\n      <td>PC_GDP</td>\n      <td>A</td>\n      <td>2015</td>\n      <td>2.575</td>\n      <td>NaN</td>\n    </tr>\n    <tr>\n      <th>4</th>\n      <td>Argentina</td>\n      <td>ARG</td>\n      <td>AR</td>\n      <td>INSURANCEEXP</td>\n      <td>TOT</td>\n      <td>PC_GDP</td>\n      <td>A</td>\n      <td>2016</td>\n      <td>2.565</td>\n      <td>NaN</td>\n    </tr>\n    <tr>\n      <th>...</th>\n      <td>...</td>\n      <td>...</td>\n      <td>...</td>\n      <td>...</td>\n      <td>...</td>\n      <td>...</td>\n      <td>...</td>\n      <td>...</td>\n      <td>...</td>\n      <td>...</td>\n    </tr>\n    <tr>\n      <th>1183</th>\n      <td>Uruguay</td>\n      <td>URY</td>\n      <td>UY</td>\n      <td>INSURANCEEXP</td>\n      <td>TOT</td>\n      <td>PC_GDP</td>\n      <td>A</td>\n      <td>2012</td>\n      <td>2.071</td>\n      <td>NaN</td>\n    </tr>\n    <tr>\n      <th>1184</th>\n      <td>Uruguay</td>\n      <td>URY</td>\n      <td>UY</td>\n      <td>INSURANCEEXP</td>\n      <td>TOT</td>\n      <td>PC_GDP</td>\n      <td>A</td>\n      <td>2013</td>\n      <td>2.100</td>\n      <td>NaN</td>\n    </tr>\n    <tr>\n      <th>1185</th>\n      <td>Uruguay</td>\n      <td>URY</td>\n      <td>UY</td>\n      <td>INSURANCEEXP</td>\n      <td>TOT</td>\n      <td>PC_GDP</td>\n      <td>A</td>\n      <td>2014</td>\n      <td>2.276</td>\n      <td>NaN</td>\n    </tr>\n    <tr>\n      <th>1186</th>\n      <td>Uruguay</td>\n      <td>URY</td>\n      <td>UY</td>\n      <td>INSURANCEEXP</td>\n      <td>TOT</td>\n      <td>PC_GDP</td>\n      <td>A</td>\n      <td>2015</td>\n      <td>2.398</td>\n      <td>NaN</td>\n    </tr>\n    <tr>\n      <th>1187</th>\n      <td>Uruguay</td>\n      <td>URY</td>\n      <td>UY</td>\n      <td>INSURANCEEXP</td>\n      <td>TOT</td>\n      <td>PC_GDP</td>\n      <td>A</td>\n      <td>2017</td>\n      <td>2.664</td>\n      <td>NaN</td>\n    </tr>\n  </tbody>\n</table>\n<p>1188 rows × 10 columns</p>\n</div>"
     },
     "metadata": {},
     "execution_count": 29
    }
   ],
   "source": [
    "# Merging dataframes to countries \n",
    "insurance1 = pd.merge(country_df,insurance, on='LOCATION',how='inner')\n",
    "insurance1"
   ]
  },
  {
   "cell_type": "code",
   "execution_count": 30,
   "metadata": {},
   "outputs": [],
   "source": [
    "# Renaming Column\n",
    "insurance1 = insurance1.rename(columns={'% Insurance of GDP':'%_GDP'})"
   ]
  },
  {
   "cell_type": "code",
   "execution_count": 31,
   "metadata": {},
   "outputs": [],
   "source": [
    "# Exporting Dataframe\n",
    "insurance1.to_csv('cleaned_data/insuranceOECD.csv')"
   ]
  },
  {
   "source": [
    "# Purchasing power parities"
   ],
   "cell_type": "markdown",
   "metadata": {}
  },
  {
   "cell_type": "code",
   "execution_count": 32,
   "metadata": {},
   "outputs": [
    {
     "output_type": "execute_result",
     "data": {
      "text/plain": [
       "     LOCATION INDICATOR SUBJECT MEASURE FREQUENCY  TIME     Value  Flag Codes\n",
       "0         AUS       PPP     TOT  NATUSD         A  2000  1.311473         NaN\n",
       "1         AUS       PPP     TOT  NATUSD         A  2001  1.326806         NaN\n",
       "2         AUS       PPP     TOT  NATUSD         A  2002  1.336490         NaN\n",
       "3         AUS       PPP     TOT  NATUSD         A  2003  1.353924         NaN\n",
       "4         AUS       PPP     TOT  NATUSD         A  2004  1.366397         NaN\n",
       "...       ...       ...     ...     ...       ...   ...       ...         ...\n",
       "1189      SGP       PPP     TOT  NATUSD         A  2014  0.864060         NaN\n",
       "1190      SGP       PPP     TOT  NATUSD         A  2015  0.879622         NaN\n",
       "1191      SGP       PPP     TOT  NATUSD         A  2016  0.878245         NaN\n",
       "1192      SGP       PPP     TOT  NATUSD         A  2017  0.885980         NaN\n",
       "1193      SGP       PPP     TOT  NATUSD         A  2018  0.881417         NaN\n",
       "\n",
       "[1194 rows x 8 columns]"
      ],
      "text/html": "<div>\n<style scoped>\n    .dataframe tbody tr th:only-of-type {\n        vertical-align: middle;\n    }\n\n    .dataframe tbody tr th {\n        vertical-align: top;\n    }\n\n    .dataframe thead th {\n        text-align: right;\n    }\n</style>\n<table border=\"1\" class=\"dataframe\">\n  <thead>\n    <tr style=\"text-align: right;\">\n      <th></th>\n      <th>LOCATION</th>\n      <th>INDICATOR</th>\n      <th>SUBJECT</th>\n      <th>MEASURE</th>\n      <th>FREQUENCY</th>\n      <th>TIME</th>\n      <th>Value</th>\n      <th>Flag Codes</th>\n    </tr>\n  </thead>\n  <tbody>\n    <tr>\n      <th>0</th>\n      <td>AUS</td>\n      <td>PPP</td>\n      <td>TOT</td>\n      <td>NATUSD</td>\n      <td>A</td>\n      <td>2000</td>\n      <td>1.311473</td>\n      <td>NaN</td>\n    </tr>\n    <tr>\n      <th>1</th>\n      <td>AUS</td>\n      <td>PPP</td>\n      <td>TOT</td>\n      <td>NATUSD</td>\n      <td>A</td>\n      <td>2001</td>\n      <td>1.326806</td>\n      <td>NaN</td>\n    </tr>\n    <tr>\n      <th>2</th>\n      <td>AUS</td>\n      <td>PPP</td>\n      <td>TOT</td>\n      <td>NATUSD</td>\n      <td>A</td>\n      <td>2002</td>\n      <td>1.336490</td>\n      <td>NaN</td>\n    </tr>\n    <tr>\n      <th>3</th>\n      <td>AUS</td>\n      <td>PPP</td>\n      <td>TOT</td>\n      <td>NATUSD</td>\n      <td>A</td>\n      <td>2003</td>\n      <td>1.353924</td>\n      <td>NaN</td>\n    </tr>\n    <tr>\n      <th>4</th>\n      <td>AUS</td>\n      <td>PPP</td>\n      <td>TOT</td>\n      <td>NATUSD</td>\n      <td>A</td>\n      <td>2004</td>\n      <td>1.366397</td>\n      <td>NaN</td>\n    </tr>\n    <tr>\n      <th>...</th>\n      <td>...</td>\n      <td>...</td>\n      <td>...</td>\n      <td>...</td>\n      <td>...</td>\n      <td>...</td>\n      <td>...</td>\n      <td>...</td>\n    </tr>\n    <tr>\n      <th>1189</th>\n      <td>SGP</td>\n      <td>PPP</td>\n      <td>TOT</td>\n      <td>NATUSD</td>\n      <td>A</td>\n      <td>2014</td>\n      <td>0.864060</td>\n      <td>NaN</td>\n    </tr>\n    <tr>\n      <th>1190</th>\n      <td>SGP</td>\n      <td>PPP</td>\n      <td>TOT</td>\n      <td>NATUSD</td>\n      <td>A</td>\n      <td>2015</td>\n      <td>0.879622</td>\n      <td>NaN</td>\n    </tr>\n    <tr>\n      <th>1191</th>\n      <td>SGP</td>\n      <td>PPP</td>\n      <td>TOT</td>\n      <td>NATUSD</td>\n      <td>A</td>\n      <td>2016</td>\n      <td>0.878245</td>\n      <td>NaN</td>\n    </tr>\n    <tr>\n      <th>1192</th>\n      <td>SGP</td>\n      <td>PPP</td>\n      <td>TOT</td>\n      <td>NATUSD</td>\n      <td>A</td>\n      <td>2017</td>\n      <td>0.885980</td>\n      <td>NaN</td>\n    </tr>\n    <tr>\n      <th>1193</th>\n      <td>SGP</td>\n      <td>PPP</td>\n      <td>TOT</td>\n      <td>NATUSD</td>\n      <td>A</td>\n      <td>2018</td>\n      <td>0.881417</td>\n      <td>NaN</td>\n    </tr>\n  </tbody>\n</table>\n<p>1194 rows × 8 columns</p>\n</div>"
     },
     "metadata": {},
     "execution_count": 32
    }
   ],
   "source": [
    "# Reading the dataframe\n",
    "purchasingpp = pd.read_csv('raw_data/pppworld.csv')\n",
    "purchasingpp"
   ]
  },
  {
   "cell_type": "code",
   "execution_count": 33,
   "metadata": {},
   "outputs": [
    {
     "output_type": "execute_result",
     "data": {
      "text/plain": [
       "     LOCATION INDICATOR SUBJECT MEASURE FREQUENCY  TIME  value_to_usdollar  \\\n",
       "0         AUS       PPP     TOT  NATUSD         A  2000           1.311473   \n",
       "1         AUS       PPP     TOT  NATUSD         A  2001           1.326806   \n",
       "2         AUS       PPP     TOT  NATUSD         A  2002           1.336490   \n",
       "3         AUS       PPP     TOT  NATUSD         A  2003           1.353924   \n",
       "4         AUS       PPP     TOT  NATUSD         A  2004           1.366397   \n",
       "...       ...       ...     ...     ...       ...   ...                ...   \n",
       "1189      SGP       PPP     TOT  NATUSD         A  2014           0.864060   \n",
       "1190      SGP       PPP     TOT  NATUSD         A  2015           0.879622   \n",
       "1191      SGP       PPP     TOT  NATUSD         A  2016           0.878245   \n",
       "1192      SGP       PPP     TOT  NATUSD         A  2017           0.885980   \n",
       "1193      SGP       PPP     TOT  NATUSD         A  2018           0.881417   \n",
       "\n",
       "      Flag Codes  \n",
       "0            NaN  \n",
       "1            NaN  \n",
       "2            NaN  \n",
       "3            NaN  \n",
       "4            NaN  \n",
       "...          ...  \n",
       "1189         NaN  \n",
       "1190         NaN  \n",
       "1191         NaN  \n",
       "1192         NaN  \n",
       "1193         NaN  \n",
       "\n",
       "[1194 rows x 8 columns]"
      ],
      "text/html": "<div>\n<style scoped>\n    .dataframe tbody tr th:only-of-type {\n        vertical-align: middle;\n    }\n\n    .dataframe tbody tr th {\n        vertical-align: top;\n    }\n\n    .dataframe thead th {\n        text-align: right;\n    }\n</style>\n<table border=\"1\" class=\"dataframe\">\n  <thead>\n    <tr style=\"text-align: right;\">\n      <th></th>\n      <th>LOCATION</th>\n      <th>INDICATOR</th>\n      <th>SUBJECT</th>\n      <th>MEASURE</th>\n      <th>FREQUENCY</th>\n      <th>TIME</th>\n      <th>value_to_usdollar</th>\n      <th>Flag Codes</th>\n    </tr>\n  </thead>\n  <tbody>\n    <tr>\n      <th>0</th>\n      <td>AUS</td>\n      <td>PPP</td>\n      <td>TOT</td>\n      <td>NATUSD</td>\n      <td>A</td>\n      <td>2000</td>\n      <td>1.311473</td>\n      <td>NaN</td>\n    </tr>\n    <tr>\n      <th>1</th>\n      <td>AUS</td>\n      <td>PPP</td>\n      <td>TOT</td>\n      <td>NATUSD</td>\n      <td>A</td>\n      <td>2001</td>\n      <td>1.326806</td>\n      <td>NaN</td>\n    </tr>\n    <tr>\n      <th>2</th>\n      <td>AUS</td>\n      <td>PPP</td>\n      <td>TOT</td>\n      <td>NATUSD</td>\n      <td>A</td>\n      <td>2002</td>\n      <td>1.336490</td>\n      <td>NaN</td>\n    </tr>\n    <tr>\n      <th>3</th>\n      <td>AUS</td>\n      <td>PPP</td>\n      <td>TOT</td>\n      <td>NATUSD</td>\n      <td>A</td>\n      <td>2003</td>\n      <td>1.353924</td>\n      <td>NaN</td>\n    </tr>\n    <tr>\n      <th>4</th>\n      <td>AUS</td>\n      <td>PPP</td>\n      <td>TOT</td>\n      <td>NATUSD</td>\n      <td>A</td>\n      <td>2004</td>\n      <td>1.366397</td>\n      <td>NaN</td>\n    </tr>\n    <tr>\n      <th>...</th>\n      <td>...</td>\n      <td>...</td>\n      <td>...</td>\n      <td>...</td>\n      <td>...</td>\n      <td>...</td>\n      <td>...</td>\n      <td>...</td>\n    </tr>\n    <tr>\n      <th>1189</th>\n      <td>SGP</td>\n      <td>PPP</td>\n      <td>TOT</td>\n      <td>NATUSD</td>\n      <td>A</td>\n      <td>2014</td>\n      <td>0.864060</td>\n      <td>NaN</td>\n    </tr>\n    <tr>\n      <th>1190</th>\n      <td>SGP</td>\n      <td>PPP</td>\n      <td>TOT</td>\n      <td>NATUSD</td>\n      <td>A</td>\n      <td>2015</td>\n      <td>0.879622</td>\n      <td>NaN</td>\n    </tr>\n    <tr>\n      <th>1191</th>\n      <td>SGP</td>\n      <td>PPP</td>\n      <td>TOT</td>\n      <td>NATUSD</td>\n      <td>A</td>\n      <td>2016</td>\n      <td>0.878245</td>\n      <td>NaN</td>\n    </tr>\n    <tr>\n      <th>1192</th>\n      <td>SGP</td>\n      <td>PPP</td>\n      <td>TOT</td>\n      <td>NATUSD</td>\n      <td>A</td>\n      <td>2017</td>\n      <td>0.885980</td>\n      <td>NaN</td>\n    </tr>\n    <tr>\n      <th>1193</th>\n      <td>SGP</td>\n      <td>PPP</td>\n      <td>TOT</td>\n      <td>NATUSD</td>\n      <td>A</td>\n      <td>2018</td>\n      <td>0.881417</td>\n      <td>NaN</td>\n    </tr>\n  </tbody>\n</table>\n<p>1194 rows × 8 columns</p>\n</div>"
     },
     "metadata": {},
     "execution_count": 33
    }
   ],
   "source": [
    "# Renaming columns\n",
    "purchasingpp1 = purchasingpp.rename(columns={\"Value\":\"value_to_usdollar\"})\n",
    "purchasingpp1"
   ]
  },
  {
   "cell_type": "code",
   "execution_count": 34,
   "metadata": {},
   "outputs": [
    {
     "output_type": "execute_result",
     "data": {
      "text/plain": [
       "        Country LOCATION ISO CODE 2 letter INDICATOR SUBJECT MEASURE  \\\n",
       "0     Argentina      ARG                AR       PPP     TOT  NATUSD   \n",
       "1     Argentina      ARG                AR       PPP     TOT  NATUSD   \n",
       "2     Argentina      ARG                AR       PPP     TOT  NATUSD   \n",
       "3     Argentina      ARG                AR       PPP     TOT  NATUSD   \n",
       "4     Argentina      ARG                AR       PPP     TOT  NATUSD   \n",
       "...         ...      ...               ...       ...     ...     ...   \n",
       "1149     Zambia      ZMB                ZM       PPP     TOT  NATUSD   \n",
       "1150     Zambia      ZMB                ZM       PPP     TOT  NATUSD   \n",
       "1151     Zambia      ZMB                ZM       PPP     TOT  NATUSD   \n",
       "1152     Zambia      ZMB                ZM       PPP     TOT  NATUSD   \n",
       "1153     Zambia      ZMB                ZM       PPP     TOT  NATUSD   \n",
       "\n",
       "     FREQUENCY  TIME  value_to_usdollar  Flag Codes  \n",
       "0            A  2000           0.663416         NaN  \n",
       "1            A  2001           0.642064         NaN  \n",
       "2            A  2002           0.825195         NaN  \n",
       "3            A  2003           0.895181         NaN  \n",
       "4            A  2004           1.031788         NaN  \n",
       "...        ...   ...                ...         ...  \n",
       "1149         A  2014           3.064750         NaN  \n",
       "1150         A  2015           3.365914         NaN  \n",
       "1151         A  2016           3.877613         NaN  \n",
       "1152         A  2017           4.192580         NaN  \n",
       "1153         A  2018           4.474701         NaN  \n",
       "\n",
       "[1154 rows x 10 columns]"
      ],
      "text/html": "<div>\n<style scoped>\n    .dataframe tbody tr th:only-of-type {\n        vertical-align: middle;\n    }\n\n    .dataframe tbody tr th {\n        vertical-align: top;\n    }\n\n    .dataframe thead th {\n        text-align: right;\n    }\n</style>\n<table border=\"1\" class=\"dataframe\">\n  <thead>\n    <tr style=\"text-align: right;\">\n      <th></th>\n      <th>Country</th>\n      <th>LOCATION</th>\n      <th>ISO CODE 2 letter</th>\n      <th>INDICATOR</th>\n      <th>SUBJECT</th>\n      <th>MEASURE</th>\n      <th>FREQUENCY</th>\n      <th>TIME</th>\n      <th>value_to_usdollar</th>\n      <th>Flag Codes</th>\n    </tr>\n  </thead>\n  <tbody>\n    <tr>\n      <th>0</th>\n      <td>Argentina</td>\n      <td>ARG</td>\n      <td>AR</td>\n      <td>PPP</td>\n      <td>TOT</td>\n      <td>NATUSD</td>\n      <td>A</td>\n      <td>2000</td>\n      <td>0.663416</td>\n      <td>NaN</td>\n    </tr>\n    <tr>\n      <th>1</th>\n      <td>Argentina</td>\n      <td>ARG</td>\n      <td>AR</td>\n      <td>PPP</td>\n      <td>TOT</td>\n      <td>NATUSD</td>\n      <td>A</td>\n      <td>2001</td>\n      <td>0.642064</td>\n      <td>NaN</td>\n    </tr>\n    <tr>\n      <th>2</th>\n      <td>Argentina</td>\n      <td>ARG</td>\n      <td>AR</td>\n      <td>PPP</td>\n      <td>TOT</td>\n      <td>NATUSD</td>\n      <td>A</td>\n      <td>2002</td>\n      <td>0.825195</td>\n      <td>NaN</td>\n    </tr>\n    <tr>\n      <th>3</th>\n      <td>Argentina</td>\n      <td>ARG</td>\n      <td>AR</td>\n      <td>PPP</td>\n      <td>TOT</td>\n      <td>NATUSD</td>\n      <td>A</td>\n      <td>2003</td>\n      <td>0.895181</td>\n      <td>NaN</td>\n    </tr>\n    <tr>\n      <th>4</th>\n      <td>Argentina</td>\n      <td>ARG</td>\n      <td>AR</td>\n      <td>PPP</td>\n      <td>TOT</td>\n      <td>NATUSD</td>\n      <td>A</td>\n      <td>2004</td>\n      <td>1.031788</td>\n      <td>NaN</td>\n    </tr>\n    <tr>\n      <th>...</th>\n      <td>...</td>\n      <td>...</td>\n      <td>...</td>\n      <td>...</td>\n      <td>...</td>\n      <td>...</td>\n      <td>...</td>\n      <td>...</td>\n      <td>...</td>\n      <td>...</td>\n    </tr>\n    <tr>\n      <th>1149</th>\n      <td>Zambia</td>\n      <td>ZMB</td>\n      <td>ZM</td>\n      <td>PPP</td>\n      <td>TOT</td>\n      <td>NATUSD</td>\n      <td>A</td>\n      <td>2014</td>\n      <td>3.064750</td>\n      <td>NaN</td>\n    </tr>\n    <tr>\n      <th>1150</th>\n      <td>Zambia</td>\n      <td>ZMB</td>\n      <td>ZM</td>\n      <td>PPP</td>\n      <td>TOT</td>\n      <td>NATUSD</td>\n      <td>A</td>\n      <td>2015</td>\n      <td>3.365914</td>\n      <td>NaN</td>\n    </tr>\n    <tr>\n      <th>1151</th>\n      <td>Zambia</td>\n      <td>ZMB</td>\n      <td>ZM</td>\n      <td>PPP</td>\n      <td>TOT</td>\n      <td>NATUSD</td>\n      <td>A</td>\n      <td>2016</td>\n      <td>3.877613</td>\n      <td>NaN</td>\n    </tr>\n    <tr>\n      <th>1152</th>\n      <td>Zambia</td>\n      <td>ZMB</td>\n      <td>ZM</td>\n      <td>PPP</td>\n      <td>TOT</td>\n      <td>NATUSD</td>\n      <td>A</td>\n      <td>2017</td>\n      <td>4.192580</td>\n      <td>NaN</td>\n    </tr>\n    <tr>\n      <th>1153</th>\n      <td>Zambia</td>\n      <td>ZMB</td>\n      <td>ZM</td>\n      <td>PPP</td>\n      <td>TOT</td>\n      <td>NATUSD</td>\n      <td>A</td>\n      <td>2018</td>\n      <td>4.474701</td>\n      <td>NaN</td>\n    </tr>\n  </tbody>\n</table>\n<p>1154 rows × 10 columns</p>\n</div>"
     },
     "metadata": {},
     "execution_count": 34
    }
   ],
   "source": [
    "# Merging the dataframes with country dataframe\n",
    "purchasingpp2 = pd.merge(country_df, purchasingpp1, on='LOCATION', how='inner')\n",
    "purchasingpp2"
   ]
  },
  {
   "cell_type": "code",
   "execution_count": 35,
   "metadata": {},
   "outputs": [],
   "source": [
    "# Exporting dataframe\n",
    "purchasingpp2.to_csv('cleaned_data/purchasingppOECD.csv')"
   ]
  },
  {
   "source": [
    "# World Interest Rates\n"
   ],
   "cell_type": "markdown",
   "metadata": {}
  },
  {
   "cell_type": "code",
   "execution_count": 36,
   "metadata": {},
   "outputs": [
    {
     "output_type": "execute_result",
     "data": {
      "text/plain": [
       "     LOCATION INDICATOR SUBJECT MEASURE FREQUENCY  TIME      Value Flag Codes\n",
       "0         PRT     LTINT     TOT   PC_PA         A  1994  10.478330        NaN\n",
       "1         PRT     LTINT     TOT   PC_PA         A  1995  11.465000        NaN\n",
       "2         PRT     LTINT     TOT   PC_PA         A  1996   8.559167        NaN\n",
       "3         PRT     LTINT     TOT   PC_PA         A  1997   6.358333        NaN\n",
       "4         PRT     LTINT     TOT   PC_PA         A  1998   4.877500        NaN\n",
       "...       ...       ...     ...     ...       ...   ...        ...        ...\n",
       "1377      IND     LTINT     TOT   PC_PA         A  2015   7.776181        NaN\n",
       "1378      IND     LTINT     TOT   PC_PA         A  2016   7.205917        NaN\n",
       "1379      IND     LTINT     TOT   PC_PA         A  2017   6.924250        NaN\n",
       "1380      IND     LTINT     TOT   PC_PA         A  2018   7.704333        NaN\n",
       "1381      IND     LTINT     TOT   PC_PA         A  2019   6.993000        NaN\n",
       "\n",
       "[1382 rows x 8 columns]"
      ],
      "text/html": "<div>\n<style scoped>\n    .dataframe tbody tr th:only-of-type {\n        vertical-align: middle;\n    }\n\n    .dataframe tbody tr th {\n        vertical-align: top;\n    }\n\n    .dataframe thead th {\n        text-align: right;\n    }\n</style>\n<table border=\"1\" class=\"dataframe\">\n  <thead>\n    <tr style=\"text-align: right;\">\n      <th></th>\n      <th>LOCATION</th>\n      <th>INDICATOR</th>\n      <th>SUBJECT</th>\n      <th>MEASURE</th>\n      <th>FREQUENCY</th>\n      <th>TIME</th>\n      <th>Value</th>\n      <th>Flag Codes</th>\n    </tr>\n  </thead>\n  <tbody>\n    <tr>\n      <th>0</th>\n      <td>PRT</td>\n      <td>LTINT</td>\n      <td>TOT</td>\n      <td>PC_PA</td>\n      <td>A</td>\n      <td>1994</td>\n      <td>10.478330</td>\n      <td>NaN</td>\n    </tr>\n    <tr>\n      <th>1</th>\n      <td>PRT</td>\n      <td>LTINT</td>\n      <td>TOT</td>\n      <td>PC_PA</td>\n      <td>A</td>\n      <td>1995</td>\n      <td>11.465000</td>\n      <td>NaN</td>\n    </tr>\n    <tr>\n      <th>2</th>\n      <td>PRT</td>\n      <td>LTINT</td>\n      <td>TOT</td>\n      <td>PC_PA</td>\n      <td>A</td>\n      <td>1996</td>\n      <td>8.559167</td>\n      <td>NaN</td>\n    </tr>\n    <tr>\n      <th>3</th>\n      <td>PRT</td>\n      <td>LTINT</td>\n      <td>TOT</td>\n      <td>PC_PA</td>\n      <td>A</td>\n      <td>1997</td>\n      <td>6.358333</td>\n      <td>NaN</td>\n    </tr>\n    <tr>\n      <th>4</th>\n      <td>PRT</td>\n      <td>LTINT</td>\n      <td>TOT</td>\n      <td>PC_PA</td>\n      <td>A</td>\n      <td>1998</td>\n      <td>4.877500</td>\n      <td>NaN</td>\n    </tr>\n    <tr>\n      <th>...</th>\n      <td>...</td>\n      <td>...</td>\n      <td>...</td>\n      <td>...</td>\n      <td>...</td>\n      <td>...</td>\n      <td>...</td>\n      <td>...</td>\n    </tr>\n    <tr>\n      <th>1377</th>\n      <td>IND</td>\n      <td>LTINT</td>\n      <td>TOT</td>\n      <td>PC_PA</td>\n      <td>A</td>\n      <td>2015</td>\n      <td>7.776181</td>\n      <td>NaN</td>\n    </tr>\n    <tr>\n      <th>1378</th>\n      <td>IND</td>\n      <td>LTINT</td>\n      <td>TOT</td>\n      <td>PC_PA</td>\n      <td>A</td>\n      <td>2016</td>\n      <td>7.205917</td>\n      <td>NaN</td>\n    </tr>\n    <tr>\n      <th>1379</th>\n      <td>IND</td>\n      <td>LTINT</td>\n      <td>TOT</td>\n      <td>PC_PA</td>\n      <td>A</td>\n      <td>2017</td>\n      <td>6.924250</td>\n      <td>NaN</td>\n    </tr>\n    <tr>\n      <th>1380</th>\n      <td>IND</td>\n      <td>LTINT</td>\n      <td>TOT</td>\n      <td>PC_PA</td>\n      <td>A</td>\n      <td>2018</td>\n      <td>7.704333</td>\n      <td>NaN</td>\n    </tr>\n    <tr>\n      <th>1381</th>\n      <td>IND</td>\n      <td>LTINT</td>\n      <td>TOT</td>\n      <td>PC_PA</td>\n      <td>A</td>\n      <td>2019</td>\n      <td>6.993000</td>\n      <td>NaN</td>\n    </tr>\n  </tbody>\n</table>\n<p>1382 rows × 8 columns</p>\n</div>"
     },
     "metadata": {},
     "execution_count": 36
    }
   ],
   "source": [
    "# Reading the dataframe\n",
    "interest_rates = pd.read_csv('raw_data/worldinterestrates.csv')\n",
    "interest_rates"
   ]
  },
  {
   "cell_type": "code",
   "execution_count": 37,
   "metadata": {},
   "outputs": [
    {
     "output_type": "execute_result",
     "data": {
      "text/plain": [
       "     LOCATION INDICATOR SUBJECT MEASURE FREQUENCY  TIME  interest_rate_pa_%  \\\n",
       "0         PRT     LTINT     TOT   PC_PA         A  1994           10.478330   \n",
       "1         PRT     LTINT     TOT   PC_PA         A  1995           11.465000   \n",
       "2         PRT     LTINT     TOT   PC_PA         A  1996            8.559167   \n",
       "3         PRT     LTINT     TOT   PC_PA         A  1997            6.358333   \n",
       "4         PRT     LTINT     TOT   PC_PA         A  1998            4.877500   \n",
       "...       ...       ...     ...     ...       ...   ...                 ...   \n",
       "1377      IND     LTINT     TOT   PC_PA         A  2015            7.776181   \n",
       "1378      IND     LTINT     TOT   PC_PA         A  2016            7.205917   \n",
       "1379      IND     LTINT     TOT   PC_PA         A  2017            6.924250   \n",
       "1380      IND     LTINT     TOT   PC_PA         A  2018            7.704333   \n",
       "1381      IND     LTINT     TOT   PC_PA         A  2019            6.993000   \n",
       "\n",
       "     Flag Codes  \n",
       "0           NaN  \n",
       "1           NaN  \n",
       "2           NaN  \n",
       "3           NaN  \n",
       "4           NaN  \n",
       "...         ...  \n",
       "1377        NaN  \n",
       "1378        NaN  \n",
       "1379        NaN  \n",
       "1380        NaN  \n",
       "1381        NaN  \n",
       "\n",
       "[1382 rows x 8 columns]"
      ],
      "text/html": "<div>\n<style scoped>\n    .dataframe tbody tr th:only-of-type {\n        vertical-align: middle;\n    }\n\n    .dataframe tbody tr th {\n        vertical-align: top;\n    }\n\n    .dataframe thead th {\n        text-align: right;\n    }\n</style>\n<table border=\"1\" class=\"dataframe\">\n  <thead>\n    <tr style=\"text-align: right;\">\n      <th></th>\n      <th>LOCATION</th>\n      <th>INDICATOR</th>\n      <th>SUBJECT</th>\n      <th>MEASURE</th>\n      <th>FREQUENCY</th>\n      <th>TIME</th>\n      <th>interest_rate_pa_%</th>\n      <th>Flag Codes</th>\n    </tr>\n  </thead>\n  <tbody>\n    <tr>\n      <th>0</th>\n      <td>PRT</td>\n      <td>LTINT</td>\n      <td>TOT</td>\n      <td>PC_PA</td>\n      <td>A</td>\n      <td>1994</td>\n      <td>10.478330</td>\n      <td>NaN</td>\n    </tr>\n    <tr>\n      <th>1</th>\n      <td>PRT</td>\n      <td>LTINT</td>\n      <td>TOT</td>\n      <td>PC_PA</td>\n      <td>A</td>\n      <td>1995</td>\n      <td>11.465000</td>\n      <td>NaN</td>\n    </tr>\n    <tr>\n      <th>2</th>\n      <td>PRT</td>\n      <td>LTINT</td>\n      <td>TOT</td>\n      <td>PC_PA</td>\n      <td>A</td>\n      <td>1996</td>\n      <td>8.559167</td>\n      <td>NaN</td>\n    </tr>\n    <tr>\n      <th>3</th>\n      <td>PRT</td>\n      <td>LTINT</td>\n      <td>TOT</td>\n      <td>PC_PA</td>\n      <td>A</td>\n      <td>1997</td>\n      <td>6.358333</td>\n      <td>NaN</td>\n    </tr>\n    <tr>\n      <th>4</th>\n      <td>PRT</td>\n      <td>LTINT</td>\n      <td>TOT</td>\n      <td>PC_PA</td>\n      <td>A</td>\n      <td>1998</td>\n      <td>4.877500</td>\n      <td>NaN</td>\n    </tr>\n    <tr>\n      <th>...</th>\n      <td>...</td>\n      <td>...</td>\n      <td>...</td>\n      <td>...</td>\n      <td>...</td>\n      <td>...</td>\n      <td>...</td>\n      <td>...</td>\n    </tr>\n    <tr>\n      <th>1377</th>\n      <td>IND</td>\n      <td>LTINT</td>\n      <td>TOT</td>\n      <td>PC_PA</td>\n      <td>A</td>\n      <td>2015</td>\n      <td>7.776181</td>\n      <td>NaN</td>\n    </tr>\n    <tr>\n      <th>1378</th>\n      <td>IND</td>\n      <td>LTINT</td>\n      <td>TOT</td>\n      <td>PC_PA</td>\n      <td>A</td>\n      <td>2016</td>\n      <td>7.205917</td>\n      <td>NaN</td>\n    </tr>\n    <tr>\n      <th>1379</th>\n      <td>IND</td>\n      <td>LTINT</td>\n      <td>TOT</td>\n      <td>PC_PA</td>\n      <td>A</td>\n      <td>2017</td>\n      <td>6.924250</td>\n      <td>NaN</td>\n    </tr>\n    <tr>\n      <th>1380</th>\n      <td>IND</td>\n      <td>LTINT</td>\n      <td>TOT</td>\n      <td>PC_PA</td>\n      <td>A</td>\n      <td>2018</td>\n      <td>7.704333</td>\n      <td>NaN</td>\n    </tr>\n    <tr>\n      <th>1381</th>\n      <td>IND</td>\n      <td>LTINT</td>\n      <td>TOT</td>\n      <td>PC_PA</td>\n      <td>A</td>\n      <td>2019</td>\n      <td>6.993000</td>\n      <td>NaN</td>\n    </tr>\n  </tbody>\n</table>\n<p>1382 rows × 8 columns</p>\n</div>"
     },
     "metadata": {},
     "execution_count": 37
    }
   ],
   "source": [
    "# Renaming the columns\n",
    "interest_rates1 = interest_rates.rename(columns={'Value':'interest_rate_pa_%'})\n",
    "interest_rates1"
   ]
  },
  {
   "cell_type": "code",
   "execution_count": 38,
   "metadata": {},
   "outputs": [
    {
     "output_type": "execute_result",
     "data": {
      "text/plain": [
       "            Country LOCATION ISO CODE 2 letter INDICATOR SUBJECT MEASURE  \\\n",
       "0         Australia      AUS                AU     LTINT     TOT   PC_PA   \n",
       "1         Australia      AUS                AU     LTINT     TOT   PC_PA   \n",
       "2         Australia      AUS                AU     LTINT     TOT   PC_PA   \n",
       "3         Australia      AUS                AU     LTINT     TOT   PC_PA   \n",
       "4         Australia      AUS                AU     LTINT     TOT   PC_PA   \n",
       "...             ...      ...               ...       ...     ...     ...   \n",
       "1327  United States      USA                US     LTINT     TOT   PC_PA   \n",
       "1328  United States      USA                US     LTINT     TOT   PC_PA   \n",
       "1329  United States      USA                US     LTINT     TOT   PC_PA   \n",
       "1330  United States      USA                US     LTINT     TOT   PC_PA   \n",
       "1331  United States      USA                US     LTINT     TOT   PC_PA   \n",
       "\n",
       "     FREQUENCY  TIME  interest_rate_pa_% Flag Codes  \n",
       "0            A  1970            6.646667        NaN  \n",
       "1            A  1971            6.713333        NaN  \n",
       "2            A  1972            5.831666        NaN  \n",
       "3            A  1973            6.933333        NaN  \n",
       "4            A  1974            9.036667        NaN  \n",
       "...        ...   ...                 ...        ...  \n",
       "1327         A  2015            2.135833        NaN  \n",
       "1328         A  2016            1.841667        NaN  \n",
       "1329         A  2017            2.330000        NaN  \n",
       "1330         A  2018            2.910000        NaN  \n",
       "1331         A  2019            2.144167        NaN  \n",
       "\n",
       "[1332 rows x 10 columns]"
      ],
      "text/html": "<div>\n<style scoped>\n    .dataframe tbody tr th:only-of-type {\n        vertical-align: middle;\n    }\n\n    .dataframe tbody tr th {\n        vertical-align: top;\n    }\n\n    .dataframe thead th {\n        text-align: right;\n    }\n</style>\n<table border=\"1\" class=\"dataframe\">\n  <thead>\n    <tr style=\"text-align: right;\">\n      <th></th>\n      <th>Country</th>\n      <th>LOCATION</th>\n      <th>ISO CODE 2 letter</th>\n      <th>INDICATOR</th>\n      <th>SUBJECT</th>\n      <th>MEASURE</th>\n      <th>FREQUENCY</th>\n      <th>TIME</th>\n      <th>interest_rate_pa_%</th>\n      <th>Flag Codes</th>\n    </tr>\n  </thead>\n  <tbody>\n    <tr>\n      <th>0</th>\n      <td>Australia</td>\n      <td>AUS</td>\n      <td>AU</td>\n      <td>LTINT</td>\n      <td>TOT</td>\n      <td>PC_PA</td>\n      <td>A</td>\n      <td>1970</td>\n      <td>6.646667</td>\n      <td>NaN</td>\n    </tr>\n    <tr>\n      <th>1</th>\n      <td>Australia</td>\n      <td>AUS</td>\n      <td>AU</td>\n      <td>LTINT</td>\n      <td>TOT</td>\n      <td>PC_PA</td>\n      <td>A</td>\n      <td>1971</td>\n      <td>6.713333</td>\n      <td>NaN</td>\n    </tr>\n    <tr>\n      <th>2</th>\n      <td>Australia</td>\n      <td>AUS</td>\n      <td>AU</td>\n      <td>LTINT</td>\n      <td>TOT</td>\n      <td>PC_PA</td>\n      <td>A</td>\n      <td>1972</td>\n      <td>5.831666</td>\n      <td>NaN</td>\n    </tr>\n    <tr>\n      <th>3</th>\n      <td>Australia</td>\n      <td>AUS</td>\n      <td>AU</td>\n      <td>LTINT</td>\n      <td>TOT</td>\n      <td>PC_PA</td>\n      <td>A</td>\n      <td>1973</td>\n      <td>6.933333</td>\n      <td>NaN</td>\n    </tr>\n    <tr>\n      <th>4</th>\n      <td>Australia</td>\n      <td>AUS</td>\n      <td>AU</td>\n      <td>LTINT</td>\n      <td>TOT</td>\n      <td>PC_PA</td>\n      <td>A</td>\n      <td>1974</td>\n      <td>9.036667</td>\n      <td>NaN</td>\n    </tr>\n    <tr>\n      <th>...</th>\n      <td>...</td>\n      <td>...</td>\n      <td>...</td>\n      <td>...</td>\n      <td>...</td>\n      <td>...</td>\n      <td>...</td>\n      <td>...</td>\n      <td>...</td>\n      <td>...</td>\n    </tr>\n    <tr>\n      <th>1327</th>\n      <td>United States</td>\n      <td>USA</td>\n      <td>US</td>\n      <td>LTINT</td>\n      <td>TOT</td>\n      <td>PC_PA</td>\n      <td>A</td>\n      <td>2015</td>\n      <td>2.135833</td>\n      <td>NaN</td>\n    </tr>\n    <tr>\n      <th>1328</th>\n      <td>United States</td>\n      <td>USA</td>\n      <td>US</td>\n      <td>LTINT</td>\n      <td>TOT</td>\n      <td>PC_PA</td>\n      <td>A</td>\n      <td>2016</td>\n      <td>1.841667</td>\n      <td>NaN</td>\n    </tr>\n    <tr>\n      <th>1329</th>\n      <td>United States</td>\n      <td>USA</td>\n      <td>US</td>\n      <td>LTINT</td>\n      <td>TOT</td>\n      <td>PC_PA</td>\n      <td>A</td>\n      <td>2017</td>\n      <td>2.330000</td>\n      <td>NaN</td>\n    </tr>\n    <tr>\n      <th>1330</th>\n      <td>United States</td>\n      <td>USA</td>\n      <td>US</td>\n      <td>LTINT</td>\n      <td>TOT</td>\n      <td>PC_PA</td>\n      <td>A</td>\n      <td>2018</td>\n      <td>2.910000</td>\n      <td>NaN</td>\n    </tr>\n    <tr>\n      <th>1331</th>\n      <td>United States</td>\n      <td>USA</td>\n      <td>US</td>\n      <td>LTINT</td>\n      <td>TOT</td>\n      <td>PC_PA</td>\n      <td>A</td>\n      <td>2019</td>\n      <td>2.144167</td>\n      <td>NaN</td>\n    </tr>\n  </tbody>\n</table>\n<p>1332 rows × 10 columns</p>\n</div>"
     },
     "metadata": {},
     "execution_count": 38
    }
   ],
   "source": [
    "# Merging the dataframe to country\n",
    "interest_rates2 = pd.merge(country_df,interest_rates1, on='LOCATION', how='inner')\n",
    "interest_rates2"
   ]
  },
  {
   "cell_type": "code",
   "execution_count": 39,
   "metadata": {},
   "outputs": [],
   "source": [
    "# Exporting dataframe\n",
    "interest_rates2.to_csv('cleaned_data/interestratesOECD.csv')"
   ]
  },
  {
   "source": [
    "# World Tourism"
   ],
   "cell_type": "markdown",
   "metadata": {}
  },
  {
   "cell_type": "code",
   "execution_count": 43,
   "metadata": {},
   "outputs": [
    {
     "output_type": "execute_result",
     "data": {
      "text/plain": [
       "     LOCATION            VARIABLE                      Variable  SOURCE  \\\n",
       "0         AUS  INB_ARRIVALS_TOTAL  Total international arrivals  DEMAND   \n",
       "1         AUS  INB_ARRIVALS_TOTAL  Total international arrivals  DEMAND   \n",
       "2         AUS  INB_ARRIVALS_TOTAL  Total international arrivals  DEMAND   \n",
       "3         AUS  INB_ARRIVALS_TOTAL  Total international arrivals  DEMAND   \n",
       "4         AUS  INB_ARRIVALS_TOTAL  Total international arrivals  DEMAND   \n",
       "...       ...                 ...                           ...     ...   \n",
       "6009      RUS                 KAZ                    Kazakhstan  DEMAND   \n",
       "6010      RUS                 KAZ                    Kazakhstan  DEMAND   \n",
       "6011      RUS                 KAZ                    Kazakhstan  DEMAND   \n",
       "6012      RUS                 KAZ                    Kazakhstan  DEMAND   \n",
       "6013      RUS                 KAZ                    Kazakhstan  DEMAND   \n",
       "\n",
       "                      Source  YEAR  Year  visitors Flag Codes Flags  \n",
       "0     Tourism demand surveys  2008  2008   5621800        NaN   NaN  \n",
       "1     Tourism demand surveys  2009  2009   5515000        NaN   NaN  \n",
       "2     Tourism demand surveys  2010  2010   5671000        NaN   NaN  \n",
       "3     Tourism demand surveys  2011  2011   5899800        NaN   NaN  \n",
       "4     Tourism demand surveys  2012  2012   5990800        NaN   NaN  \n",
       "...                      ...   ...   ...       ...        ...   ...  \n",
       "6009  Tourism demand surveys  2014  2014   3733319        NaN   NaN  \n",
       "6010  Tourism demand surveys  2015  2015   4711082        NaN   NaN  \n",
       "6011  Tourism demand surveys  2016  2016   3564152        NaN   NaN  \n",
       "6012  Tourism demand surveys  2017  2017   3484687        NaN   NaN  \n",
       "6013  Tourism demand surveys  2018  2018   3510144        NaN   NaN  \n",
       "\n",
       "[6014 rows x 10 columns]"
      ],
      "text/html": "<div>\n<style scoped>\n    .dataframe tbody tr th:only-of-type {\n        vertical-align: middle;\n    }\n\n    .dataframe tbody tr th {\n        vertical-align: top;\n    }\n\n    .dataframe thead th {\n        text-align: right;\n    }\n</style>\n<table border=\"1\" class=\"dataframe\">\n  <thead>\n    <tr style=\"text-align: right;\">\n      <th></th>\n      <th>LOCATION</th>\n      <th>VARIABLE</th>\n      <th>Variable</th>\n      <th>SOURCE</th>\n      <th>Source</th>\n      <th>YEAR</th>\n      <th>Year</th>\n      <th>visitors</th>\n      <th>Flag Codes</th>\n      <th>Flags</th>\n    </tr>\n  </thead>\n  <tbody>\n    <tr>\n      <th>0</th>\n      <td>AUS</td>\n      <td>INB_ARRIVALS_TOTAL</td>\n      <td>Total international arrivals</td>\n      <td>DEMAND</td>\n      <td>Tourism demand surveys</td>\n      <td>2008</td>\n      <td>2008</td>\n      <td>5621800</td>\n      <td>NaN</td>\n      <td>NaN</td>\n    </tr>\n    <tr>\n      <th>1</th>\n      <td>AUS</td>\n      <td>INB_ARRIVALS_TOTAL</td>\n      <td>Total international arrivals</td>\n      <td>DEMAND</td>\n      <td>Tourism demand surveys</td>\n      <td>2009</td>\n      <td>2009</td>\n      <td>5515000</td>\n      <td>NaN</td>\n      <td>NaN</td>\n    </tr>\n    <tr>\n      <th>2</th>\n      <td>AUS</td>\n      <td>INB_ARRIVALS_TOTAL</td>\n      <td>Total international arrivals</td>\n      <td>DEMAND</td>\n      <td>Tourism demand surveys</td>\n      <td>2010</td>\n      <td>2010</td>\n      <td>5671000</td>\n      <td>NaN</td>\n      <td>NaN</td>\n    </tr>\n    <tr>\n      <th>3</th>\n      <td>AUS</td>\n      <td>INB_ARRIVALS_TOTAL</td>\n      <td>Total international arrivals</td>\n      <td>DEMAND</td>\n      <td>Tourism demand surveys</td>\n      <td>2011</td>\n      <td>2011</td>\n      <td>5899800</td>\n      <td>NaN</td>\n      <td>NaN</td>\n    </tr>\n    <tr>\n      <th>4</th>\n      <td>AUS</td>\n      <td>INB_ARRIVALS_TOTAL</td>\n      <td>Total international arrivals</td>\n      <td>DEMAND</td>\n      <td>Tourism demand surveys</td>\n      <td>2012</td>\n      <td>2012</td>\n      <td>5990800</td>\n      <td>NaN</td>\n      <td>NaN</td>\n    </tr>\n    <tr>\n      <th>...</th>\n      <td>...</td>\n      <td>...</td>\n      <td>...</td>\n      <td>...</td>\n      <td>...</td>\n      <td>...</td>\n      <td>...</td>\n      <td>...</td>\n      <td>...</td>\n      <td>...</td>\n    </tr>\n    <tr>\n      <th>6009</th>\n      <td>RUS</td>\n      <td>KAZ</td>\n      <td>Kazakhstan</td>\n      <td>DEMAND</td>\n      <td>Tourism demand surveys</td>\n      <td>2014</td>\n      <td>2014</td>\n      <td>3733319</td>\n      <td>NaN</td>\n      <td>NaN</td>\n    </tr>\n    <tr>\n      <th>6010</th>\n      <td>RUS</td>\n      <td>KAZ</td>\n      <td>Kazakhstan</td>\n      <td>DEMAND</td>\n      <td>Tourism demand surveys</td>\n      <td>2015</td>\n      <td>2015</td>\n      <td>4711082</td>\n      <td>NaN</td>\n      <td>NaN</td>\n    </tr>\n    <tr>\n      <th>6011</th>\n      <td>RUS</td>\n      <td>KAZ</td>\n      <td>Kazakhstan</td>\n      <td>DEMAND</td>\n      <td>Tourism demand surveys</td>\n      <td>2016</td>\n      <td>2016</td>\n      <td>3564152</td>\n      <td>NaN</td>\n      <td>NaN</td>\n    </tr>\n    <tr>\n      <th>6012</th>\n      <td>RUS</td>\n      <td>KAZ</td>\n      <td>Kazakhstan</td>\n      <td>DEMAND</td>\n      <td>Tourism demand surveys</td>\n      <td>2017</td>\n      <td>2017</td>\n      <td>3484687</td>\n      <td>NaN</td>\n      <td>NaN</td>\n    </tr>\n    <tr>\n      <th>6013</th>\n      <td>RUS</td>\n      <td>KAZ</td>\n      <td>Kazakhstan</td>\n      <td>DEMAND</td>\n      <td>Tourism demand surveys</td>\n      <td>2018</td>\n      <td>2018</td>\n      <td>3510144</td>\n      <td>NaN</td>\n      <td>NaN</td>\n    </tr>\n  </tbody>\n</table>\n<p>6014 rows × 10 columns</p>\n</div>"
     },
     "metadata": {},
     "execution_count": 43
    }
   ],
   "source": [
    "# Reading the dataframe\n",
    "tourism = pd.read_csv('raw_data/worldtourism.csv')\n",
    "tourism"
   ]
  },
  {
   "cell_type": "code",
   "execution_count": 44,
   "metadata": {},
   "outputs": [
    {
     "output_type": "execute_result",
     "data": {
      "text/plain": [
       "            Country LOCATION ISO CODE 2 letter                   VARIABLE  \\\n",
       "0         Argentina      ARG                AR     INB_ARRIVALS_OVERNIGHT   \n",
       "1         Argentina      ARG                AR     INB_ARRIVALS_OVERNIGHT   \n",
       "2         Argentina      ARG                AR     INB_ARRIVALS_OVERNIGHT   \n",
       "3         Argentina      ARG                AR     INB_ARRIVALS_OVERNIGHT   \n",
       "4         Argentina      ARG                AR     INB_ARRIVALS_OVERNIGHT   \n",
       "...             ...      ...               ...                        ...   \n",
       "5712  United States      USA                US  INB_ACCOMM_PRIVATE_NIGHTS   \n",
       "5713  United States      USA                US  INB_ACCOMM_PRIVATE_NIGHTS   \n",
       "5714  United States      USA                US  INB_ACCOMM_PRIVATE_NIGHTS   \n",
       "5715  United States      USA                US  INB_ACCOMM_PRIVATE_NIGHTS   \n",
       "5716  United States      USA                US  INB_ACCOMM_PRIVATE_NIGHTS   \n",
       "\n",
       "                           Variable  SOURCE                  Source  YEAR  \\\n",
       "0     Overnight visitors (tourists)  SUPPLY  Tourism supply surveys  2008   \n",
       "1     Overnight visitors (tourists)  DEMAND  Tourism demand surveys  2008   \n",
       "2     Overnight visitors (tourists)  DEMAND  Tourism demand surveys  2009   \n",
       "3     Overnight visitors (tourists)  DEMAND  Tourism demand surveys  2010   \n",
       "4     Overnight visitors (tourists)  DEMAND  Tourism demand surveys  2011   \n",
       "...                             ...     ...                     ...   ...   \n",
       "5712          Private accommodation  DEMAND  Tourism demand surveys  2014   \n",
       "5713          Private accommodation  DEMAND  Tourism demand surveys  2015   \n",
       "5714          Private accommodation  DEMAND  Tourism demand surveys  2016   \n",
       "5715          Private accommodation  DEMAND  Tourism demand surveys  2017   \n",
       "5716          Private accommodation  DEMAND  Tourism demand surveys  2018   \n",
       "\n",
       "      Year   visitors Flag Codes Flags  \n",
       "0     2008    4700000        NaN   NaN  \n",
       "1     2008    4700000        NaN   NaN  \n",
       "2     2009    4308000        NaN   NaN  \n",
       "3     2010    5325000        NaN   NaN  \n",
       "4     2011    5704648        NaN   NaN  \n",
       "...    ...        ...        ...   ...  \n",
       "5712  2014  164056964        NaN   NaN  \n",
       "5713  2015  172721248        NaN   NaN  \n",
       "5714  2016  165987359        NaN   NaN  \n",
       "5715  2017  179489131        NaN   NaN  \n",
       "5716  2018  174929528        NaN   NaN  \n",
       "\n",
       "[5717 rows x 12 columns]"
      ],
      "text/html": "<div>\n<style scoped>\n    .dataframe tbody tr th:only-of-type {\n        vertical-align: middle;\n    }\n\n    .dataframe tbody tr th {\n        vertical-align: top;\n    }\n\n    .dataframe thead th {\n        text-align: right;\n    }\n</style>\n<table border=\"1\" class=\"dataframe\">\n  <thead>\n    <tr style=\"text-align: right;\">\n      <th></th>\n      <th>Country</th>\n      <th>LOCATION</th>\n      <th>ISO CODE 2 letter</th>\n      <th>VARIABLE</th>\n      <th>Variable</th>\n      <th>SOURCE</th>\n      <th>Source</th>\n      <th>YEAR</th>\n      <th>Year</th>\n      <th>visitors</th>\n      <th>Flag Codes</th>\n      <th>Flags</th>\n    </tr>\n  </thead>\n  <tbody>\n    <tr>\n      <th>0</th>\n      <td>Argentina</td>\n      <td>ARG</td>\n      <td>AR</td>\n      <td>INB_ARRIVALS_OVERNIGHT</td>\n      <td>Overnight visitors (tourists)</td>\n      <td>SUPPLY</td>\n      <td>Tourism supply surveys</td>\n      <td>2008</td>\n      <td>2008</td>\n      <td>4700000</td>\n      <td>NaN</td>\n      <td>NaN</td>\n    </tr>\n    <tr>\n      <th>1</th>\n      <td>Argentina</td>\n      <td>ARG</td>\n      <td>AR</td>\n      <td>INB_ARRIVALS_OVERNIGHT</td>\n      <td>Overnight visitors (tourists)</td>\n      <td>DEMAND</td>\n      <td>Tourism demand surveys</td>\n      <td>2008</td>\n      <td>2008</td>\n      <td>4700000</td>\n      <td>NaN</td>\n      <td>NaN</td>\n    </tr>\n    <tr>\n      <th>2</th>\n      <td>Argentina</td>\n      <td>ARG</td>\n      <td>AR</td>\n      <td>INB_ARRIVALS_OVERNIGHT</td>\n      <td>Overnight visitors (tourists)</td>\n      <td>DEMAND</td>\n      <td>Tourism demand surveys</td>\n      <td>2009</td>\n      <td>2009</td>\n      <td>4308000</td>\n      <td>NaN</td>\n      <td>NaN</td>\n    </tr>\n    <tr>\n      <th>3</th>\n      <td>Argentina</td>\n      <td>ARG</td>\n      <td>AR</td>\n      <td>INB_ARRIVALS_OVERNIGHT</td>\n      <td>Overnight visitors (tourists)</td>\n      <td>DEMAND</td>\n      <td>Tourism demand surveys</td>\n      <td>2010</td>\n      <td>2010</td>\n      <td>5325000</td>\n      <td>NaN</td>\n      <td>NaN</td>\n    </tr>\n    <tr>\n      <th>4</th>\n      <td>Argentina</td>\n      <td>ARG</td>\n      <td>AR</td>\n      <td>INB_ARRIVALS_OVERNIGHT</td>\n      <td>Overnight visitors (tourists)</td>\n      <td>DEMAND</td>\n      <td>Tourism demand surveys</td>\n      <td>2011</td>\n      <td>2011</td>\n      <td>5704648</td>\n      <td>NaN</td>\n      <td>NaN</td>\n    </tr>\n    <tr>\n      <th>...</th>\n      <td>...</td>\n      <td>...</td>\n      <td>...</td>\n      <td>...</td>\n      <td>...</td>\n      <td>...</td>\n      <td>...</td>\n      <td>...</td>\n      <td>...</td>\n      <td>...</td>\n      <td>...</td>\n      <td>...</td>\n    </tr>\n    <tr>\n      <th>5712</th>\n      <td>United States</td>\n      <td>USA</td>\n      <td>US</td>\n      <td>INB_ACCOMM_PRIVATE_NIGHTS</td>\n      <td>Private accommodation</td>\n      <td>DEMAND</td>\n      <td>Tourism demand surveys</td>\n      <td>2014</td>\n      <td>2014</td>\n      <td>164056964</td>\n      <td>NaN</td>\n      <td>NaN</td>\n    </tr>\n    <tr>\n      <th>5713</th>\n      <td>United States</td>\n      <td>USA</td>\n      <td>US</td>\n      <td>INB_ACCOMM_PRIVATE_NIGHTS</td>\n      <td>Private accommodation</td>\n      <td>DEMAND</td>\n      <td>Tourism demand surveys</td>\n      <td>2015</td>\n      <td>2015</td>\n      <td>172721248</td>\n      <td>NaN</td>\n      <td>NaN</td>\n    </tr>\n    <tr>\n      <th>5714</th>\n      <td>United States</td>\n      <td>USA</td>\n      <td>US</td>\n      <td>INB_ACCOMM_PRIVATE_NIGHTS</td>\n      <td>Private accommodation</td>\n      <td>DEMAND</td>\n      <td>Tourism demand surveys</td>\n      <td>2016</td>\n      <td>2016</td>\n      <td>165987359</td>\n      <td>NaN</td>\n      <td>NaN</td>\n    </tr>\n    <tr>\n      <th>5715</th>\n      <td>United States</td>\n      <td>USA</td>\n      <td>US</td>\n      <td>INB_ACCOMM_PRIVATE_NIGHTS</td>\n      <td>Private accommodation</td>\n      <td>DEMAND</td>\n      <td>Tourism demand surveys</td>\n      <td>2017</td>\n      <td>2017</td>\n      <td>179489131</td>\n      <td>NaN</td>\n      <td>NaN</td>\n    </tr>\n    <tr>\n      <th>5716</th>\n      <td>United States</td>\n      <td>USA</td>\n      <td>US</td>\n      <td>INB_ACCOMM_PRIVATE_NIGHTS</td>\n      <td>Private accommodation</td>\n      <td>DEMAND</td>\n      <td>Tourism demand surveys</td>\n      <td>2018</td>\n      <td>2018</td>\n      <td>174929528</td>\n      <td>NaN</td>\n      <td>NaN</td>\n    </tr>\n  </tbody>\n</table>\n<p>5717 rows × 12 columns</p>\n</div>"
     },
     "metadata": {},
     "execution_count": 44
    }
   ],
   "source": [
    "# Merging with countries df\n",
    "tourism1 = pd.merge(country_df, tourism, on='LOCATION', how='inner')\n",
    "tourism1"
   ]
  },
  {
   "cell_type": "code",
   "execution_count": 45,
   "metadata": {},
   "outputs": [],
   "source": [
    "# Exporting dataframes\n",
    "tourism1.to_csv('cleaned_data/tourisminboundOECD.csv')"
   ]
  },
  {
   "cell_type": "code",
   "execution_count": 48,
   "metadata": {},
   "outputs": [
    {
     "output_type": "execute_result",
     "data": {
      "text/plain": [
       "     LOCATION        VARIABLE                        Variable  YEAR  Year  \\\n",
       "0         AUS  OBND_DEP_TOTAL  Total international departures  2008  2008   \n",
       "1         AUS  OBND_DEP_TOTAL  Total international departures  2009  2009   \n",
       "2         AUS  OBND_DEP_TOTAL  Total international departures  2010  2010   \n",
       "3         AUS  OBND_DEP_TOTAL  Total international departures  2011  2011   \n",
       "4         AUS  OBND_DEP_TOTAL  Total international departures  2012  2012   \n",
       "...       ...             ...                             ...   ...   ...   \n",
       "2931      TUR             ENS            Europe not specified  2014  2014   \n",
       "2932      TUR             ENS            Europe not specified  2015  2015   \n",
       "2933      TUR             ENS            Europe not specified  2016  2016   \n",
       "2934      TUR             ENS            Europe not specified  2017  2017   \n",
       "2935      TUR             ENS            Europe not specified  2018  2018   \n",
       "\n",
       "     Unit Code    Unit  PowerCode Code PowerCode  Reference Period Code  \\\n",
       "0          NBR  Number               0     Units                    NaN   \n",
       "1          NBR  Number               0     Units                    NaN   \n",
       "2          NBR  Number               0     Units                    NaN   \n",
       "3          NBR  Number               0     Units                    NaN   \n",
       "4          NBR  Number               0     Units                    NaN   \n",
       "...        ...     ...             ...       ...                    ...   \n",
       "2931       NBR  Number               0     Units                    NaN   \n",
       "2932       NBR  Number               0     Units                    NaN   \n",
       "2933       NBR  Number               0     Units                    NaN   \n",
       "2934       NBR  Number               0     Units                    NaN   \n",
       "2935       NBR  Number               0     Units                    NaN   \n",
       "\n",
       "      Reference Period  travellers Flag Codes Flags  \n",
       "0                  NaN   5716200.0        NaN   NaN  \n",
       "1                  NaN   5858200.0        NaN   NaN  \n",
       "2                  NaN   6680900.0        NaN   NaN  \n",
       "3                  NaN   7424500.0        NaN   NaN  \n",
       "4                  NaN   8015600.0        NaN   NaN  \n",
       "...                ...         ...        ...   ...  \n",
       "2931               NaN    648742.0        NaN   NaN  \n",
       "2932               NaN    767269.0        NaN   NaN  \n",
       "2933               NaN    921701.0        NaN   NaN  \n",
       "2934               NaN   1104725.0        NaN   NaN  \n",
       "2935               NaN   1228506.0        NaN   NaN  \n",
       "\n",
       "[2936 rows x 14 columns]"
      ],
      "text/html": "<div>\n<style scoped>\n    .dataframe tbody tr th:only-of-type {\n        vertical-align: middle;\n    }\n\n    .dataframe tbody tr th {\n        vertical-align: top;\n    }\n\n    .dataframe thead th {\n        text-align: right;\n    }\n</style>\n<table border=\"1\" class=\"dataframe\">\n  <thead>\n    <tr style=\"text-align: right;\">\n      <th></th>\n      <th>LOCATION</th>\n      <th>VARIABLE</th>\n      <th>Variable</th>\n      <th>YEAR</th>\n      <th>Year</th>\n      <th>Unit Code</th>\n      <th>Unit</th>\n      <th>PowerCode Code</th>\n      <th>PowerCode</th>\n      <th>Reference Period Code</th>\n      <th>Reference Period</th>\n      <th>travellers</th>\n      <th>Flag Codes</th>\n      <th>Flags</th>\n    </tr>\n  </thead>\n  <tbody>\n    <tr>\n      <th>0</th>\n      <td>AUS</td>\n      <td>OBND_DEP_TOTAL</td>\n      <td>Total international departures</td>\n      <td>2008</td>\n      <td>2008</td>\n      <td>NBR</td>\n      <td>Number</td>\n      <td>0</td>\n      <td>Units</td>\n      <td>NaN</td>\n      <td>NaN</td>\n      <td>5716200.0</td>\n      <td>NaN</td>\n      <td>NaN</td>\n    </tr>\n    <tr>\n      <th>1</th>\n      <td>AUS</td>\n      <td>OBND_DEP_TOTAL</td>\n      <td>Total international departures</td>\n      <td>2009</td>\n      <td>2009</td>\n      <td>NBR</td>\n      <td>Number</td>\n      <td>0</td>\n      <td>Units</td>\n      <td>NaN</td>\n      <td>NaN</td>\n      <td>5858200.0</td>\n      <td>NaN</td>\n      <td>NaN</td>\n    </tr>\n    <tr>\n      <th>2</th>\n      <td>AUS</td>\n      <td>OBND_DEP_TOTAL</td>\n      <td>Total international departures</td>\n      <td>2010</td>\n      <td>2010</td>\n      <td>NBR</td>\n      <td>Number</td>\n      <td>0</td>\n      <td>Units</td>\n      <td>NaN</td>\n      <td>NaN</td>\n      <td>6680900.0</td>\n      <td>NaN</td>\n      <td>NaN</td>\n    </tr>\n    <tr>\n      <th>3</th>\n      <td>AUS</td>\n      <td>OBND_DEP_TOTAL</td>\n      <td>Total international departures</td>\n      <td>2011</td>\n      <td>2011</td>\n      <td>NBR</td>\n      <td>Number</td>\n      <td>0</td>\n      <td>Units</td>\n      <td>NaN</td>\n      <td>NaN</td>\n      <td>7424500.0</td>\n      <td>NaN</td>\n      <td>NaN</td>\n    </tr>\n    <tr>\n      <th>4</th>\n      <td>AUS</td>\n      <td>OBND_DEP_TOTAL</td>\n      <td>Total international departures</td>\n      <td>2012</td>\n      <td>2012</td>\n      <td>NBR</td>\n      <td>Number</td>\n      <td>0</td>\n      <td>Units</td>\n      <td>NaN</td>\n      <td>NaN</td>\n      <td>8015600.0</td>\n      <td>NaN</td>\n      <td>NaN</td>\n    </tr>\n    <tr>\n      <th>...</th>\n      <td>...</td>\n      <td>...</td>\n      <td>...</td>\n      <td>...</td>\n      <td>...</td>\n      <td>...</td>\n      <td>...</td>\n      <td>...</td>\n      <td>...</td>\n      <td>...</td>\n      <td>...</td>\n      <td>...</td>\n      <td>...</td>\n      <td>...</td>\n    </tr>\n    <tr>\n      <th>2931</th>\n      <td>TUR</td>\n      <td>ENS</td>\n      <td>Europe not specified</td>\n      <td>2014</td>\n      <td>2014</td>\n      <td>NBR</td>\n      <td>Number</td>\n      <td>0</td>\n      <td>Units</td>\n      <td>NaN</td>\n      <td>NaN</td>\n      <td>648742.0</td>\n      <td>NaN</td>\n      <td>NaN</td>\n    </tr>\n    <tr>\n      <th>2932</th>\n      <td>TUR</td>\n      <td>ENS</td>\n      <td>Europe not specified</td>\n      <td>2015</td>\n      <td>2015</td>\n      <td>NBR</td>\n      <td>Number</td>\n      <td>0</td>\n      <td>Units</td>\n      <td>NaN</td>\n      <td>NaN</td>\n      <td>767269.0</td>\n      <td>NaN</td>\n      <td>NaN</td>\n    </tr>\n    <tr>\n      <th>2933</th>\n      <td>TUR</td>\n      <td>ENS</td>\n      <td>Europe not specified</td>\n      <td>2016</td>\n      <td>2016</td>\n      <td>NBR</td>\n      <td>Number</td>\n      <td>0</td>\n      <td>Units</td>\n      <td>NaN</td>\n      <td>NaN</td>\n      <td>921701.0</td>\n      <td>NaN</td>\n      <td>NaN</td>\n    </tr>\n    <tr>\n      <th>2934</th>\n      <td>TUR</td>\n      <td>ENS</td>\n      <td>Europe not specified</td>\n      <td>2017</td>\n      <td>2017</td>\n      <td>NBR</td>\n      <td>Number</td>\n      <td>0</td>\n      <td>Units</td>\n      <td>NaN</td>\n      <td>NaN</td>\n      <td>1104725.0</td>\n      <td>NaN</td>\n      <td>NaN</td>\n    </tr>\n    <tr>\n      <th>2935</th>\n      <td>TUR</td>\n      <td>ENS</td>\n      <td>Europe not specified</td>\n      <td>2018</td>\n      <td>2018</td>\n      <td>NBR</td>\n      <td>Number</td>\n      <td>0</td>\n      <td>Units</td>\n      <td>NaN</td>\n      <td>NaN</td>\n      <td>1228506.0</td>\n      <td>NaN</td>\n      <td>NaN</td>\n    </tr>\n  </tbody>\n</table>\n<p>2936 rows × 14 columns</p>\n</div>"
     },
     "metadata": {},
     "execution_count": 48
    }
   ],
   "source": [
    "# Outbound Tourism by Country\n",
    "outbound_tourism = pd.read_csv('raw_data/worldtourismoutbound.csv')\n",
    "outbound_tourism"
   ]
  },
  {
   "cell_type": "code",
   "execution_count": 49,
   "metadata": {},
   "outputs": [
    {
     "output_type": "execute_result",
     "data": {
      "text/plain": [
       "            Country LOCATION ISO CODE 2 letter            VARIABLE  \\\n",
       "0         Argentina      ARG                AR  OBND_DEP_OVERNIGHT   \n",
       "1         Argentina      ARG                AR  OBND_DEP_OVERNIGHT   \n",
       "2         Argentina      ARG                AR  OBND_DEP_OVERNIGHT   \n",
       "3         Argentina      ARG                AR  OBND_DEP_OVERNIGHT   \n",
       "4         Argentina      ARG                AR  OBND_DEP_OVERNIGHT   \n",
       "...             ...      ...               ...                 ...   \n",
       "2898  United States      USA                US                 GBR   \n",
       "2899  United States      USA                US                 GBR   \n",
       "2900  United States      USA                US                 GBR   \n",
       "2901  United States      USA                US                 GBR   \n",
       "2902  United States      USA                US                 GBR   \n",
       "\n",
       "                           Variable  YEAR  Year Unit Code    Unit  \\\n",
       "0     Overnight visitors (tourists)  2008  2008       NBR  Number   \n",
       "1     Overnight visitors (tourists)  2009  2009       NBR  Number   \n",
       "2     Overnight visitors (tourists)  2010  2010       NBR  Number   \n",
       "3     Overnight visitors (tourists)  2011  2011       NBR  Number   \n",
       "4     Overnight visitors (tourists)  2012  2012       NBR  Number   \n",
       "...                             ...   ...   ...       ...     ...   \n",
       "2898                 United Kingdom  2014  2014       NBR  Number   \n",
       "2899                 United Kingdom  2015  2015       NBR  Number   \n",
       "2900                 United Kingdom  2016  2016       NBR  Number   \n",
       "2901                 United Kingdom  2017  2017       NBR  Number   \n",
       "2902                 United Kingdom  2018  2018       NBR  Number   \n",
       "\n",
       "      PowerCode Code PowerCode  Reference Period Code  Reference Period  \\\n",
       "0                  0     Units                    NaN               NaN   \n",
       "1                  0     Units                    NaN               NaN   \n",
       "2                  0     Units                    NaN               NaN   \n",
       "3                  0     Units                    NaN               NaN   \n",
       "4                  0     Units                    NaN               NaN   \n",
       "...              ...       ...                    ...               ...   \n",
       "2898               0     Units                    NaN               NaN   \n",
       "2899               0     Units                    NaN               NaN   \n",
       "2900               0     Units                    NaN               NaN   \n",
       "2901               0     Units                    NaN               NaN   \n",
       "2902               0     Units                    NaN               NaN   \n",
       "\n",
       "       travellers Flag Codes Flags  \n",
       "0     4614000.000        NaN   NaN  \n",
       "1     4981000.000        NaN   NaN  \n",
       "2     5307000.000        NaN   NaN  \n",
       "3     6686193.000        NaN   NaN  \n",
       "4     7247040.466        NaN   NaN  \n",
       "...           ...        ...   ...  \n",
       "2898  2831760.000        NaN   NaN  \n",
       "2899  2885432.000        NaN   NaN  \n",
       "2900  3197467.000        NaN   NaN  \n",
       "2901  3756046.000        NaN   NaN  \n",
       "2902  3926756.000        NaN   NaN  \n",
       "\n",
       "[2903 rows x 16 columns]"
      ],
      "text/html": "<div>\n<style scoped>\n    .dataframe tbody tr th:only-of-type {\n        vertical-align: middle;\n    }\n\n    .dataframe tbody tr th {\n        vertical-align: top;\n    }\n\n    .dataframe thead th {\n        text-align: right;\n    }\n</style>\n<table border=\"1\" class=\"dataframe\">\n  <thead>\n    <tr style=\"text-align: right;\">\n      <th></th>\n      <th>Country</th>\n      <th>LOCATION</th>\n      <th>ISO CODE 2 letter</th>\n      <th>VARIABLE</th>\n      <th>Variable</th>\n      <th>YEAR</th>\n      <th>Year</th>\n      <th>Unit Code</th>\n      <th>Unit</th>\n      <th>PowerCode Code</th>\n      <th>PowerCode</th>\n      <th>Reference Period Code</th>\n      <th>Reference Period</th>\n      <th>travellers</th>\n      <th>Flag Codes</th>\n      <th>Flags</th>\n    </tr>\n  </thead>\n  <tbody>\n    <tr>\n      <th>0</th>\n      <td>Argentina</td>\n      <td>ARG</td>\n      <td>AR</td>\n      <td>OBND_DEP_OVERNIGHT</td>\n      <td>Overnight visitors (tourists)</td>\n      <td>2008</td>\n      <td>2008</td>\n      <td>NBR</td>\n      <td>Number</td>\n      <td>0</td>\n      <td>Units</td>\n      <td>NaN</td>\n      <td>NaN</td>\n      <td>4614000.000</td>\n      <td>NaN</td>\n      <td>NaN</td>\n    </tr>\n    <tr>\n      <th>1</th>\n      <td>Argentina</td>\n      <td>ARG</td>\n      <td>AR</td>\n      <td>OBND_DEP_OVERNIGHT</td>\n      <td>Overnight visitors (tourists)</td>\n      <td>2009</td>\n      <td>2009</td>\n      <td>NBR</td>\n      <td>Number</td>\n      <td>0</td>\n      <td>Units</td>\n      <td>NaN</td>\n      <td>NaN</td>\n      <td>4981000.000</td>\n      <td>NaN</td>\n      <td>NaN</td>\n    </tr>\n    <tr>\n      <th>2</th>\n      <td>Argentina</td>\n      <td>ARG</td>\n      <td>AR</td>\n      <td>OBND_DEP_OVERNIGHT</td>\n      <td>Overnight visitors (tourists)</td>\n      <td>2010</td>\n      <td>2010</td>\n      <td>NBR</td>\n      <td>Number</td>\n      <td>0</td>\n      <td>Units</td>\n      <td>NaN</td>\n      <td>NaN</td>\n      <td>5307000.000</td>\n      <td>NaN</td>\n      <td>NaN</td>\n    </tr>\n    <tr>\n      <th>3</th>\n      <td>Argentina</td>\n      <td>ARG</td>\n      <td>AR</td>\n      <td>OBND_DEP_OVERNIGHT</td>\n      <td>Overnight visitors (tourists)</td>\n      <td>2011</td>\n      <td>2011</td>\n      <td>NBR</td>\n      <td>Number</td>\n      <td>0</td>\n      <td>Units</td>\n      <td>NaN</td>\n      <td>NaN</td>\n      <td>6686193.000</td>\n      <td>NaN</td>\n      <td>NaN</td>\n    </tr>\n    <tr>\n      <th>4</th>\n      <td>Argentina</td>\n      <td>ARG</td>\n      <td>AR</td>\n      <td>OBND_DEP_OVERNIGHT</td>\n      <td>Overnight visitors (tourists)</td>\n      <td>2012</td>\n      <td>2012</td>\n      <td>NBR</td>\n      <td>Number</td>\n      <td>0</td>\n      <td>Units</td>\n      <td>NaN</td>\n      <td>NaN</td>\n      <td>7247040.466</td>\n      <td>NaN</td>\n      <td>NaN</td>\n    </tr>\n    <tr>\n      <th>...</th>\n      <td>...</td>\n      <td>...</td>\n      <td>...</td>\n      <td>...</td>\n      <td>...</td>\n      <td>...</td>\n      <td>...</td>\n      <td>...</td>\n      <td>...</td>\n      <td>...</td>\n      <td>...</td>\n      <td>...</td>\n      <td>...</td>\n      <td>...</td>\n      <td>...</td>\n      <td>...</td>\n    </tr>\n    <tr>\n      <th>2898</th>\n      <td>United States</td>\n      <td>USA</td>\n      <td>US</td>\n      <td>GBR</td>\n      <td>United Kingdom</td>\n      <td>2014</td>\n      <td>2014</td>\n      <td>NBR</td>\n      <td>Number</td>\n      <td>0</td>\n      <td>Units</td>\n      <td>NaN</td>\n      <td>NaN</td>\n      <td>2831760.000</td>\n      <td>NaN</td>\n      <td>NaN</td>\n    </tr>\n    <tr>\n      <th>2899</th>\n      <td>United States</td>\n      <td>USA</td>\n      <td>US</td>\n      <td>GBR</td>\n      <td>United Kingdom</td>\n      <td>2015</td>\n      <td>2015</td>\n      <td>NBR</td>\n      <td>Number</td>\n      <td>0</td>\n      <td>Units</td>\n      <td>NaN</td>\n      <td>NaN</td>\n      <td>2885432.000</td>\n      <td>NaN</td>\n      <td>NaN</td>\n    </tr>\n    <tr>\n      <th>2900</th>\n      <td>United States</td>\n      <td>USA</td>\n      <td>US</td>\n      <td>GBR</td>\n      <td>United Kingdom</td>\n      <td>2016</td>\n      <td>2016</td>\n      <td>NBR</td>\n      <td>Number</td>\n      <td>0</td>\n      <td>Units</td>\n      <td>NaN</td>\n      <td>NaN</td>\n      <td>3197467.000</td>\n      <td>NaN</td>\n      <td>NaN</td>\n    </tr>\n    <tr>\n      <th>2901</th>\n      <td>United States</td>\n      <td>USA</td>\n      <td>US</td>\n      <td>GBR</td>\n      <td>United Kingdom</td>\n      <td>2017</td>\n      <td>2017</td>\n      <td>NBR</td>\n      <td>Number</td>\n      <td>0</td>\n      <td>Units</td>\n      <td>NaN</td>\n      <td>NaN</td>\n      <td>3756046.000</td>\n      <td>NaN</td>\n      <td>NaN</td>\n    </tr>\n    <tr>\n      <th>2902</th>\n      <td>United States</td>\n      <td>USA</td>\n      <td>US</td>\n      <td>GBR</td>\n      <td>United Kingdom</td>\n      <td>2018</td>\n      <td>2018</td>\n      <td>NBR</td>\n      <td>Number</td>\n      <td>0</td>\n      <td>Units</td>\n      <td>NaN</td>\n      <td>NaN</td>\n      <td>3926756.000</td>\n      <td>NaN</td>\n      <td>NaN</td>\n    </tr>\n  </tbody>\n</table>\n<p>2903 rows × 16 columns</p>\n</div>"
     },
     "metadata": {},
     "execution_count": 49
    }
   ],
   "source": [
    "# Merging the dataframe with countries list\n",
    "outbound_tourism1 = pd.merge(country_df, outbound_tourism, on='LOCATION', how='inner')\n",
    "outbound_tourism1"
   ]
  },
  {
   "cell_type": "code",
   "execution_count": 50,
   "metadata": {},
   "outputs": [],
   "source": [
    "# Exporting the dataframe to \n",
    "outbound_tourism1.to_csv('cleaned_data/outboundtourismOECD.csv')"
   ]
  },
  {
   "cell_type": "code",
   "execution_count": null,
   "metadata": {},
   "outputs": [],
   "source": []
  }
 ]
}