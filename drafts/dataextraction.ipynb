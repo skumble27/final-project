{
 "metadata": {
  "language_info": {
   "codemirror_mode": {
    "name": "ipython",
    "version": 3
   },
   "file_extension": ".py",
   "mimetype": "text/x-python",
   "name": "python",
   "nbconvert_exporter": "python",
   "pygments_lexer": "ipython3",
   "version": "3.6.12-final"
  },
  "orig_nbformat": 2,
  "kernelspec": {
   "name": "python3",
   "display_name": "Python 3.6.12 64-bit ('apiproject': conda)",
   "metadata": {
    "interpreter": {
     "hash": "65141e336b334a21ac1724ea85117fff93a000c15b507ad8f7a437392607e163"
    }
   }
  }
 },
 "nbformat": 4,
 "nbformat_minor": 2,
 "cells": [
  {
   "cell_type": "code",
   "execution_count": 1,
   "metadata": {},
   "outputs": [],
   "source": [
    "from config import api_key\n",
    "import quandl\n",
    "import pandas as pd"
   ]
  },
  {
   "cell_type": "code",
   "execution_count": 2,
   "metadata": {},
   "outputs": [],
   "source": [
    "quandl.ApiConfig.api_key = api_key"
   ]
  },
  {
   "cell_type": "code",
   "execution_count": 3,
   "metadata": {},
   "outputs": [],
   "source": [
    "date = '1900-12-31'\n",
    "nation = 'IND'"
   ]
  },
  {
   "cell_type": "code",
   "execution_count": 4,
   "metadata": {},
   "outputs": [],
   "source": [
    "x = quandl.get(f'BP/C02_EMMISSIONS_{nation}', start_date=f'{date}', end_date='2018-12-31')"
   ]
  },
  {
   "cell_type": "code",
   "execution_count": 5,
   "metadata": {},
   "outputs": [
    {
     "output_type": "execute_result",
     "data": {
      "text/plain": [
       "                  Value\n",
       "Date                   \n",
       "1965-12-31   167.716820\n",
       "1966-12-31   170.332348\n",
       "1967-12-31   174.811433\n",
       "1968-12-31   182.894821\n",
       "1969-12-31   197.863155\n",
       "1970-12-31   190.268789\n",
       "1971-12-31   207.019529\n",
       "1972-12-31   219.216362\n",
       "1973-12-31   219.742777\n",
       "1974-12-31   239.328453\n",
       "1975-12-31   254.334661\n",
       "1976-12-31   264.770080\n",
       "1977-12-31   278.664196\n",
       "1978-12-31   278.100469\n",
       "1979-12-31   297.378585\n",
       "1980-12-31   311.219451\n",
       "1981-12-31   341.301665\n",
       "1982-12-31   343.631063\n",
       "1983-12-31   366.577819\n",
       "1984-12-31   388.055289\n",
       "1985-12-31   410.414074\n",
       "1986-12-31   439.592404\n",
       "1987-12-31   476.367322\n",
       "1988-12-31   513.365176\n",
       "1989-12-31   560.537017\n",
       "1990-12-31   603.187543\n",
       "1991-12-31   635.680048\n",
       "1992-12-31   673.074846\n",
       "1993-12-31   693.646077\n",
       "1994-12-31   724.851682\n",
       "1995-12-31   774.466091\n",
       "1996-12-31   813.525105\n",
       "1997-12-31   855.266514\n",
       "1998-12-31   894.773924\n",
       "1999-12-31   911.691750\n",
       "2000-12-31   962.480804\n",
       "2001-12-31   970.319356\n",
       "2002-12-31  1021.909215\n",
       "2003-12-31  1062.269894\n",
       "2004-12-31  1116.585317\n",
       "2005-12-31  1204.552701\n",
       "2006-12-31  1252.540623\n",
       "2007-12-31  1365.507712\n",
       "2008-12-31  1466.924217\n",
       "2009-12-31  1595.641632\n",
       "2010-12-31  1660.970497\n",
       "2011-12-31  1735.730609\n",
       "2012-12-31  1849.248166\n",
       "2013-12-31  1930.003162\n",
       "2014-12-31  2083.340817\n",
       "2015-12-31  2147.809695\n",
       "2016-12-31  2234.221421\n",
       "2017-12-31  2316.871730\n",
       "2018-12-31  2479.071902"
      ],
      "text/html": "<div>\n<style scoped>\n    .dataframe tbody tr th:only-of-type {\n        vertical-align: middle;\n    }\n\n    .dataframe tbody tr th {\n        vertical-align: top;\n    }\n\n    .dataframe thead th {\n        text-align: right;\n    }\n</style>\n<table border=\"1\" class=\"dataframe\">\n  <thead>\n    <tr style=\"text-align: right;\">\n      <th></th>\n      <th>Value</th>\n    </tr>\n    <tr>\n      <th>Date</th>\n      <th></th>\n    </tr>\n  </thead>\n  <tbody>\n    <tr>\n      <th>1965-12-31</th>\n      <td>167.716820</td>\n    </tr>\n    <tr>\n      <th>1966-12-31</th>\n      <td>170.332348</td>\n    </tr>\n    <tr>\n      <th>1967-12-31</th>\n      <td>174.811433</td>\n    </tr>\n    <tr>\n      <th>1968-12-31</th>\n      <td>182.894821</td>\n    </tr>\n    <tr>\n      <th>1969-12-31</th>\n      <td>197.863155</td>\n    </tr>\n    <tr>\n      <th>1970-12-31</th>\n      <td>190.268789</td>\n    </tr>\n    <tr>\n      <th>1971-12-31</th>\n      <td>207.019529</td>\n    </tr>\n    <tr>\n      <th>1972-12-31</th>\n      <td>219.216362</td>\n    </tr>\n    <tr>\n      <th>1973-12-31</th>\n      <td>219.742777</td>\n    </tr>\n    <tr>\n      <th>1974-12-31</th>\n      <td>239.328453</td>\n    </tr>\n    <tr>\n      <th>1975-12-31</th>\n      <td>254.334661</td>\n    </tr>\n    <tr>\n      <th>1976-12-31</th>\n      <td>264.770080</td>\n    </tr>\n    <tr>\n      <th>1977-12-31</th>\n      <td>278.664196</td>\n    </tr>\n    <tr>\n      <th>1978-12-31</th>\n      <td>278.100469</td>\n    </tr>\n    <tr>\n      <th>1979-12-31</th>\n      <td>297.378585</td>\n    </tr>\n    <tr>\n      <th>1980-12-31</th>\n      <td>311.219451</td>\n    </tr>\n    <tr>\n      <th>1981-12-31</th>\n      <td>341.301665</td>\n    </tr>\n    <tr>\n      <th>1982-12-31</th>\n      <td>343.631063</td>\n    </tr>\n    <tr>\n      <th>1983-12-31</th>\n      <td>366.577819</td>\n    </tr>\n    <tr>\n      <th>1984-12-31</th>\n      <td>388.055289</td>\n    </tr>\n    <tr>\n      <th>1985-12-31</th>\n      <td>410.414074</td>\n    </tr>\n    <tr>\n      <th>1986-12-31</th>\n      <td>439.592404</td>\n    </tr>\n    <tr>\n      <th>1987-12-31</th>\n      <td>476.367322</td>\n    </tr>\n    <tr>\n      <th>1988-12-31</th>\n      <td>513.365176</td>\n    </tr>\n    <tr>\n      <th>1989-12-31</th>\n      <td>560.537017</td>\n    </tr>\n    <tr>\n      <th>1990-12-31</th>\n      <td>603.187543</td>\n    </tr>\n    <tr>\n      <th>1991-12-31</th>\n      <td>635.680048</td>\n    </tr>\n    <tr>\n      <th>1992-12-31</th>\n      <td>673.074846</td>\n    </tr>\n    <tr>\n      <th>1993-12-31</th>\n      <td>693.646077</td>\n    </tr>\n    <tr>\n      <th>1994-12-31</th>\n      <td>724.851682</td>\n    </tr>\n    <tr>\n      <th>1995-12-31</th>\n      <td>774.466091</td>\n    </tr>\n    <tr>\n      <th>1996-12-31</th>\n      <td>813.525105</td>\n    </tr>\n    <tr>\n      <th>1997-12-31</th>\n      <td>855.266514</td>\n    </tr>\n    <tr>\n      <th>1998-12-31</th>\n      <td>894.773924</td>\n    </tr>\n    <tr>\n      <th>1999-12-31</th>\n      <td>911.691750</td>\n    </tr>\n    <tr>\n      <th>2000-12-31</th>\n      <td>962.480804</td>\n    </tr>\n    <tr>\n      <th>2001-12-31</th>\n      <td>970.319356</td>\n    </tr>\n    <tr>\n      <th>2002-12-31</th>\n      <td>1021.909215</td>\n    </tr>\n    <tr>\n      <th>2003-12-31</th>\n      <td>1062.269894</td>\n    </tr>\n    <tr>\n      <th>2004-12-31</th>\n      <td>1116.585317</td>\n    </tr>\n    <tr>\n      <th>2005-12-31</th>\n      <td>1204.552701</td>\n    </tr>\n    <tr>\n      <th>2006-12-31</th>\n      <td>1252.540623</td>\n    </tr>\n    <tr>\n      <th>2007-12-31</th>\n      <td>1365.507712</td>\n    </tr>\n    <tr>\n      <th>2008-12-31</th>\n      <td>1466.924217</td>\n    </tr>\n    <tr>\n      <th>2009-12-31</th>\n      <td>1595.641632</td>\n    </tr>\n    <tr>\n      <th>2010-12-31</th>\n      <td>1660.970497</td>\n    </tr>\n    <tr>\n      <th>2011-12-31</th>\n      <td>1735.730609</td>\n    </tr>\n    <tr>\n      <th>2012-12-31</th>\n      <td>1849.248166</td>\n    </tr>\n    <tr>\n      <th>2013-12-31</th>\n      <td>1930.003162</td>\n    </tr>\n    <tr>\n      <th>2014-12-31</th>\n      <td>2083.340817</td>\n    </tr>\n    <tr>\n      <th>2015-12-31</th>\n      <td>2147.809695</td>\n    </tr>\n    <tr>\n      <th>2016-12-31</th>\n      <td>2234.221421</td>\n    </tr>\n    <tr>\n      <th>2017-12-31</th>\n      <td>2316.871730</td>\n    </tr>\n    <tr>\n      <th>2018-12-31</th>\n      <td>2479.071902</td>\n    </tr>\n  </tbody>\n</table>\n</div>"
     },
     "metadata": {},
     "execution_count": 5
    }
   ],
   "source": [
    "x"
   ]
  },
  {
   "cell_type": "code",
   "execution_count": 6,
   "metadata": {},
   "outputs": [],
   "source": [
    "countries = pd.read_html('https://countrycode.org/')"
   ]
  },
  {
   "cell_type": "code",
   "execution_count": 12,
   "metadata": {},
   "outputs": [],
   "source": [
    "cleaned = countries[1]"
   ]
  },
  {
   "cell_type": "code",
   "execution_count": 13,
   "metadata": {},
   "outputs": [
    {
     "output_type": "execute_result",
     "data": {
      "text/plain": [
       "               COUNTRY COUNTRY CODE ISO CODES\n",
       "0          Afghanistan           93  AF / AFG\n",
       "1              Albania          355  AL / ALB\n",
       "2              Algeria          213  DZ / DZA\n",
       "3       American Samoa        1-684  AS / ASM\n",
       "4              Andorra          376  AD / AND\n",
       "..                 ...          ...       ...\n",
       "235  Wallis and Futuna          681  WF / WLF\n",
       "236     Western Sahara          212  EH / ESH\n",
       "237              Yemen          967  YE / YEM\n",
       "238             Zambia          260  ZM / ZMB\n",
       "239           Zimbabwe          263  ZW / ZWE\n",
       "\n",
       "[240 rows x 3 columns]"
      ],
      "text/html": "<div>\n<style scoped>\n    .dataframe tbody tr th:only-of-type {\n        vertical-align: middle;\n    }\n\n    .dataframe tbody tr th {\n        vertical-align: top;\n    }\n\n    .dataframe thead th {\n        text-align: right;\n    }\n</style>\n<table border=\"1\" class=\"dataframe\">\n  <thead>\n    <tr style=\"text-align: right;\">\n      <th></th>\n      <th>COUNTRY</th>\n      <th>COUNTRY CODE</th>\n      <th>ISO CODES</th>\n    </tr>\n  </thead>\n  <tbody>\n    <tr>\n      <th>0</th>\n      <td>Afghanistan</td>\n      <td>93</td>\n      <td>AF / AFG</td>\n    </tr>\n    <tr>\n      <th>1</th>\n      <td>Albania</td>\n      <td>355</td>\n      <td>AL / ALB</td>\n    </tr>\n    <tr>\n      <th>2</th>\n      <td>Algeria</td>\n      <td>213</td>\n      <td>DZ / DZA</td>\n    </tr>\n    <tr>\n      <th>3</th>\n      <td>American Samoa</td>\n      <td>1-684</td>\n      <td>AS / ASM</td>\n    </tr>\n    <tr>\n      <th>4</th>\n      <td>Andorra</td>\n      <td>376</td>\n      <td>AD / AND</td>\n    </tr>\n    <tr>\n      <th>...</th>\n      <td>...</td>\n      <td>...</td>\n      <td>...</td>\n    </tr>\n    <tr>\n      <th>235</th>\n      <td>Wallis and Futuna</td>\n      <td>681</td>\n      <td>WF / WLF</td>\n    </tr>\n    <tr>\n      <th>236</th>\n      <td>Western Sahara</td>\n      <td>212</td>\n      <td>EH / ESH</td>\n    </tr>\n    <tr>\n      <th>237</th>\n      <td>Yemen</td>\n      <td>967</td>\n      <td>YE / YEM</td>\n    </tr>\n    <tr>\n      <th>238</th>\n      <td>Zambia</td>\n      <td>260</td>\n      <td>ZM / ZMB</td>\n    </tr>\n    <tr>\n      <th>239</th>\n      <td>Zimbabwe</td>\n      <td>263</td>\n      <td>ZW / ZWE</td>\n    </tr>\n  </tbody>\n</table>\n<p>240 rows × 3 columns</p>\n</div>"
     },
     "metadata": {},
     "execution_count": 13
    }
   ],
   "source": [
    "cleaned"
   ]
  },
  {
   "cell_type": "code",
   "execution_count": null,
   "metadata": {},
   "outputs": [],
   "source": []
  }
 ]
}