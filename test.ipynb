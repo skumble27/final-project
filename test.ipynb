{
 "metadata": {
  "language_info": {
   "codemirror_mode": {
    "name": "ipython",
    "version": 3
   },
   "file_extension": ".py",
   "mimetype": "text/x-python",
   "name": "python",
   "nbconvert_exporter": "python",
   "pygments_lexer": "ipython3",
   "version": "3.6.12-final"
  },
  "orig_nbformat": 2,
  "kernelspec": {
   "name": "python361264bitbootcampmonashconda2e6efb6a376242db90ce542f5ab8dbba",
   "display_name": "Python 3.6.12 64-bit ('BootCampMonash': conda)",
   "language": "python"
  }
 },
 "nbformat": 4,
 "nbformat_minor": 2,
 "cells": [
  {
   "cell_type": "code",
   "execution_count": 1,
   "metadata": {},
   "outputs": [],
   "source": [
    "import pandas as pd"
   ]
  },
  {
   "cell_type": "code",
   "execution_count": 2,
   "metadata": {},
   "outputs": [
    {
     "output_type": "execute_result",
     "data": {
      "text/plain": [
       "      LOCATION  TIME  \\\n",
       "0          AFG  1960   \n",
       "1          AFG  1961   \n",
       "2          AFG  1962   \n",
       "3          AFG  1963   \n",
       "4          AFG  1964   \n",
       "...        ...   ...   \n",
       "16099      WLD  2016   \n",
       "16100      WLD  2017   \n",
       "16101      WLD  2018   \n",
       "16102      WLD  2019   \n",
       "16103      WLD  2020   \n",
       "\n",
       "       Life satisfaction in Cantril Ladder (World Happiness Report 2019)  \\\n",
       "0                                                    NaN                   \n",
       "1                                                    NaN                   \n",
       "2                                                    NaN                   \n",
       "3                                                    NaN                   \n",
       "4                                                    NaN                   \n",
       "...                                                  ...                   \n",
       "16099                                                NaN                   \n",
       "16100                                                NaN                   \n",
       "16101                                                NaN                   \n",
       "16102                                                NaN                   \n",
       "16103                                                NaN                   \n",
       "\n",
       "       Unnamed: 3  Unnamed: 4  Unnamed: 5  Unnamed: 6  Unnamed: 7  Unnamed: 8  \\\n",
       "0             NaN         NaN         NaN         NaN         NaN         NaN   \n",
       "1             NaN         NaN         NaN         NaN         NaN         NaN   \n",
       "2             NaN         NaN         NaN         NaN         NaN         NaN   \n",
       "3             NaN         NaN         NaN         NaN         NaN         NaN   \n",
       "4             NaN         NaN         NaN         NaN         NaN         NaN   \n",
       "...           ...         ...         ...         ...         ...         ...   \n",
       "16099         NaN         NaN         NaN         NaN         NaN         NaN   \n",
       "16100         NaN         NaN         NaN         NaN         NaN         NaN   \n",
       "16101         NaN         NaN         NaN         NaN         NaN         NaN   \n",
       "16102         NaN         NaN         NaN         NaN         NaN         NaN   \n",
       "16103         NaN         NaN         NaN         NaN         NaN         NaN   \n",
       "\n",
       "      Code    Year  \\\n",
       "0      AFG  2008.0   \n",
       "1      AFG  2009.0   \n",
       "2      AFG  2010.0   \n",
       "3      AFG  2011.0   \n",
       "4      AFG  2012.0   \n",
       "...    ...     ...   \n",
       "16099  NaN     NaN   \n",
       "16100  NaN     NaN   \n",
       "16101  NaN     NaN   \n",
       "16102  NaN     NaN   \n",
       "16103  NaN     NaN   \n",
       "\n",
       "       Life satisfaction in Cantril Ladder (World Happiness Report 2019).1  \\\n",
       "0                                               3.723590                     \n",
       "1                                               4.401778                     \n",
       "2                                               4.758381                     \n",
       "3                                               3.831719                     \n",
       "4                                               3.782938                     \n",
       "...                                                  ...                     \n",
       "16099                                                NaN                     \n",
       "16100                                                NaN                     \n",
       "16101                                                NaN                     \n",
       "16102                                                NaN                     \n",
       "16103                                                NaN                     \n",
       "\n",
       "       Unnamed: 12  Unnamed: 13  Unnamed: 14  Unnamed: 15  Unnamed: 16  \\\n",
       "0              NaN          NaN          NaN          NaN          NaN   \n",
       "1              NaN          NaN          NaN          NaN          NaN   \n",
       "2              NaN          NaN          NaN          NaN          NaN   \n",
       "3              NaN          NaN          NaN          NaN          NaN   \n",
       "4              NaN          NaN          NaN          NaN          NaN   \n",
       "...            ...          ...          ...          ...          ...   \n",
       "16099          NaN          NaN          NaN          NaN          NaN   \n",
       "16100          NaN          NaN          NaN          NaN          NaN   \n",
       "16101          NaN          NaN          NaN          NaN          NaN   \n",
       "16102          NaN          NaN          NaN          NaN          NaN   \n",
       "16103          NaN          NaN          NaN          NaN          NaN   \n",
       "\n",
       "       Unnamed: 17  Unnamed: 18  Unnamed: 19  \n",
       "0              NaN          NaN       1960.0  \n",
       "1              NaN          NaN       1961.0  \n",
       "2              NaN          NaN       1962.0  \n",
       "3              NaN          NaN       1963.0  \n",
       "4              NaN          NaN       1964.0  \n",
       "...            ...          ...          ...  \n",
       "16099          NaN          NaN          NaN  \n",
       "16100          NaN          NaN          NaN  \n",
       "16101          NaN          NaN          NaN  \n",
       "16102          NaN          NaN          NaN  \n",
       "16103          NaN          NaN          NaN  \n",
       "\n",
       "[16104 rows x 20 columns]"
      ],
      "text/html": "<div>\n<style scoped>\n    .dataframe tbody tr th:only-of-type {\n        vertical-align: middle;\n    }\n\n    .dataframe tbody tr th {\n        vertical-align: top;\n    }\n\n    .dataframe thead th {\n        text-align: right;\n    }\n</style>\n<table border=\"1\" class=\"dataframe\">\n  <thead>\n    <tr style=\"text-align: right;\">\n      <th></th>\n      <th>LOCATION</th>\n      <th>TIME</th>\n      <th>Life satisfaction in Cantril Ladder (World Happiness Report 2019)</th>\n      <th>Unnamed: 3</th>\n      <th>Unnamed: 4</th>\n      <th>Unnamed: 5</th>\n      <th>Unnamed: 6</th>\n      <th>Unnamed: 7</th>\n      <th>Unnamed: 8</th>\n      <th>Code</th>\n      <th>Year</th>\n      <th>Life satisfaction in Cantril Ladder (World Happiness Report 2019).1</th>\n      <th>Unnamed: 12</th>\n      <th>Unnamed: 13</th>\n      <th>Unnamed: 14</th>\n      <th>Unnamed: 15</th>\n      <th>Unnamed: 16</th>\n      <th>Unnamed: 17</th>\n      <th>Unnamed: 18</th>\n      <th>Unnamed: 19</th>\n    </tr>\n  </thead>\n  <tbody>\n    <tr>\n      <th>0</th>\n      <td>AFG</td>\n      <td>1960</td>\n      <td>NaN</td>\n      <td>NaN</td>\n      <td>NaN</td>\n      <td>NaN</td>\n      <td>NaN</td>\n      <td>NaN</td>\n      <td>NaN</td>\n      <td>AFG</td>\n      <td>2008.0</td>\n      <td>3.723590</td>\n      <td>NaN</td>\n      <td>NaN</td>\n      <td>NaN</td>\n      <td>NaN</td>\n      <td>NaN</td>\n      <td>NaN</td>\n      <td>NaN</td>\n      <td>1960.0</td>\n    </tr>\n    <tr>\n      <th>1</th>\n      <td>AFG</td>\n      <td>1961</td>\n      <td>NaN</td>\n      <td>NaN</td>\n      <td>NaN</td>\n      <td>NaN</td>\n      <td>NaN</td>\n      <td>NaN</td>\n      <td>NaN</td>\n      <td>AFG</td>\n      <td>2009.0</td>\n      <td>4.401778</td>\n      <td>NaN</td>\n      <td>NaN</td>\n      <td>NaN</td>\n      <td>NaN</td>\n      <td>NaN</td>\n      <td>NaN</td>\n      <td>NaN</td>\n      <td>1961.0</td>\n    </tr>\n    <tr>\n      <th>2</th>\n      <td>AFG</td>\n      <td>1962</td>\n      <td>NaN</td>\n      <td>NaN</td>\n      <td>NaN</td>\n      <td>NaN</td>\n      <td>NaN</td>\n      <td>NaN</td>\n      <td>NaN</td>\n      <td>AFG</td>\n      <td>2010.0</td>\n      <td>4.758381</td>\n      <td>NaN</td>\n      <td>NaN</td>\n      <td>NaN</td>\n      <td>NaN</td>\n      <td>NaN</td>\n      <td>NaN</td>\n      <td>NaN</td>\n      <td>1962.0</td>\n    </tr>\n    <tr>\n      <th>3</th>\n      <td>AFG</td>\n      <td>1963</td>\n      <td>NaN</td>\n      <td>NaN</td>\n      <td>NaN</td>\n      <td>NaN</td>\n      <td>NaN</td>\n      <td>NaN</td>\n      <td>NaN</td>\n      <td>AFG</td>\n      <td>2011.0</td>\n      <td>3.831719</td>\n      <td>NaN</td>\n      <td>NaN</td>\n      <td>NaN</td>\n      <td>NaN</td>\n      <td>NaN</td>\n      <td>NaN</td>\n      <td>NaN</td>\n      <td>1963.0</td>\n    </tr>\n    <tr>\n      <th>4</th>\n      <td>AFG</td>\n      <td>1964</td>\n      <td>NaN</td>\n      <td>NaN</td>\n      <td>NaN</td>\n      <td>NaN</td>\n      <td>NaN</td>\n      <td>NaN</td>\n      <td>NaN</td>\n      <td>AFG</td>\n      <td>2012.0</td>\n      <td>3.782938</td>\n      <td>NaN</td>\n      <td>NaN</td>\n      <td>NaN</td>\n      <td>NaN</td>\n      <td>NaN</td>\n      <td>NaN</td>\n      <td>NaN</td>\n      <td>1964.0</td>\n    </tr>\n    <tr>\n      <th>...</th>\n      <td>...</td>\n      <td>...</td>\n      <td>...</td>\n      <td>...</td>\n      <td>...</td>\n      <td>...</td>\n      <td>...</td>\n      <td>...</td>\n      <td>...</td>\n      <td>...</td>\n      <td>...</td>\n      <td>...</td>\n      <td>...</td>\n      <td>...</td>\n      <td>...</td>\n      <td>...</td>\n      <td>...</td>\n      <td>...</td>\n      <td>...</td>\n      <td>...</td>\n    </tr>\n    <tr>\n      <th>16099</th>\n      <td>WLD</td>\n      <td>2016</td>\n      <td>NaN</td>\n      <td>NaN</td>\n      <td>NaN</td>\n      <td>NaN</td>\n      <td>NaN</td>\n      <td>NaN</td>\n      <td>NaN</td>\n      <td>NaN</td>\n      <td>NaN</td>\n      <td>NaN</td>\n      <td>NaN</td>\n      <td>NaN</td>\n      <td>NaN</td>\n      <td>NaN</td>\n      <td>NaN</td>\n      <td>NaN</td>\n      <td>NaN</td>\n      <td>NaN</td>\n    </tr>\n    <tr>\n      <th>16100</th>\n      <td>WLD</td>\n      <td>2017</td>\n      <td>NaN</td>\n      <td>NaN</td>\n      <td>NaN</td>\n      <td>NaN</td>\n      <td>NaN</td>\n      <td>NaN</td>\n      <td>NaN</td>\n      <td>NaN</td>\n      <td>NaN</td>\n      <td>NaN</td>\n      <td>NaN</td>\n      <td>NaN</td>\n      <td>NaN</td>\n      <td>NaN</td>\n      <td>NaN</td>\n      <td>NaN</td>\n      <td>NaN</td>\n      <td>NaN</td>\n    </tr>\n    <tr>\n      <th>16101</th>\n      <td>WLD</td>\n      <td>2018</td>\n      <td>NaN</td>\n      <td>NaN</td>\n      <td>NaN</td>\n      <td>NaN</td>\n      <td>NaN</td>\n      <td>NaN</td>\n      <td>NaN</td>\n      <td>NaN</td>\n      <td>NaN</td>\n      <td>NaN</td>\n      <td>NaN</td>\n      <td>NaN</td>\n      <td>NaN</td>\n      <td>NaN</td>\n      <td>NaN</td>\n      <td>NaN</td>\n      <td>NaN</td>\n      <td>NaN</td>\n    </tr>\n    <tr>\n      <th>16102</th>\n      <td>WLD</td>\n      <td>2019</td>\n      <td>NaN</td>\n      <td>NaN</td>\n      <td>NaN</td>\n      <td>NaN</td>\n      <td>NaN</td>\n      <td>NaN</td>\n      <td>NaN</td>\n      <td>NaN</td>\n      <td>NaN</td>\n      <td>NaN</td>\n      <td>NaN</td>\n      <td>NaN</td>\n      <td>NaN</td>\n      <td>NaN</td>\n      <td>NaN</td>\n      <td>NaN</td>\n      <td>NaN</td>\n      <td>NaN</td>\n    </tr>\n    <tr>\n      <th>16103</th>\n      <td>WLD</td>\n      <td>2020</td>\n      <td>NaN</td>\n      <td>NaN</td>\n      <td>NaN</td>\n      <td>NaN</td>\n      <td>NaN</td>\n      <td>NaN</td>\n      <td>NaN</td>\n      <td>NaN</td>\n      <td>NaN</td>\n      <td>NaN</td>\n      <td>NaN</td>\n      <td>NaN</td>\n      <td>NaN</td>\n      <td>NaN</td>\n      <td>NaN</td>\n      <td>NaN</td>\n      <td>NaN</td>\n      <td>NaN</td>\n    </tr>\n  </tbody>\n</table>\n<p>16104 rows × 20 columns</p>\n</div>"
     },
     "metadata": {},
     "execution_count": 2
    }
   ],
   "source": [
    "df = pd.read_csv('raw_data/happinessdata.csv')\n",
    "df"
   ]
  },
  {
   "cell_type": "code",
   "execution_count": 3,
   "metadata": {},
   "outputs": [],
   "source": [
    "df1 = df[['LOCATION','TIME']]\n",
    "df2 = df[['Code','Year','Life satisfaction in Cantril Ladder (World Happiness Report 2019).1']]\n"
   ]
  },
  {
   "cell_type": "code",
   "execution_count": 8,
   "metadata": {},
   "outputs": [],
   "source": [
    "df1.dropna(inplace=True)\n",
    "df2.dropna(inplace=True)"
   ]
  },
  {
   "cell_type": "code",
   "execution_count": 9,
   "metadata": {},
   "outputs": [
    {
     "output_type": "execute_result",
     "data": {
      "text/plain": [
       "     Code    Year  \\\n",
       "0     AFG  2008.0   \n",
       "1     AFG  2009.0   \n",
       "2     AFG  2010.0   \n",
       "3     AFG  2011.0   \n",
       "4     AFG  2012.0   \n",
       "...   ...     ...   \n",
       "1699  ZWE  2014.0   \n",
       "1700  ZWE  2015.0   \n",
       "1701  ZWE  2016.0   \n",
       "1702  ZWE  2017.0   \n",
       "1703  ZWE  2018.0   \n",
       "\n",
       "      Life satisfaction in Cantril Ladder (World Happiness Report 2019).1  \n",
       "0                                              3.723590                    \n",
       "1                                              4.401778                    \n",
       "2                                              4.758381                    \n",
       "3                                              3.831719                    \n",
       "4                                              3.782938                    \n",
       "...                                                 ...                    \n",
       "1699                                           4.184451                    \n",
       "1700                                           3.703191                    \n",
       "1701                                           3.735400                    \n",
       "1702                                           3.638300                    \n",
       "1703                                           3.616480                    \n",
       "\n",
       "[1704 rows x 3 columns]"
      ],
      "text/html": "<div>\n<style scoped>\n    .dataframe tbody tr th:only-of-type {\n        vertical-align: middle;\n    }\n\n    .dataframe tbody tr th {\n        vertical-align: top;\n    }\n\n    .dataframe thead th {\n        text-align: right;\n    }\n</style>\n<table border=\"1\" class=\"dataframe\">\n  <thead>\n    <tr style=\"text-align: right;\">\n      <th></th>\n      <th>Code</th>\n      <th>Year</th>\n      <th>Life satisfaction in Cantril Ladder (World Happiness Report 2019).1</th>\n    </tr>\n  </thead>\n  <tbody>\n    <tr>\n      <th>0</th>\n      <td>AFG</td>\n      <td>2008.0</td>\n      <td>3.723590</td>\n    </tr>\n    <tr>\n      <th>1</th>\n      <td>AFG</td>\n      <td>2009.0</td>\n      <td>4.401778</td>\n    </tr>\n    <tr>\n      <th>2</th>\n      <td>AFG</td>\n      <td>2010.0</td>\n      <td>4.758381</td>\n    </tr>\n    <tr>\n      <th>3</th>\n      <td>AFG</td>\n      <td>2011.0</td>\n      <td>3.831719</td>\n    </tr>\n    <tr>\n      <th>4</th>\n      <td>AFG</td>\n      <td>2012.0</td>\n      <td>3.782938</td>\n    </tr>\n    <tr>\n      <th>...</th>\n      <td>...</td>\n      <td>...</td>\n      <td>...</td>\n    </tr>\n    <tr>\n      <th>1699</th>\n      <td>ZWE</td>\n      <td>2014.0</td>\n      <td>4.184451</td>\n    </tr>\n    <tr>\n      <th>1700</th>\n      <td>ZWE</td>\n      <td>2015.0</td>\n      <td>3.703191</td>\n    </tr>\n    <tr>\n      <th>1701</th>\n      <td>ZWE</td>\n      <td>2016.0</td>\n      <td>3.735400</td>\n    </tr>\n    <tr>\n      <th>1702</th>\n      <td>ZWE</td>\n      <td>2017.0</td>\n      <td>3.638300</td>\n    </tr>\n    <tr>\n      <th>1703</th>\n      <td>ZWE</td>\n      <td>2018.0</td>\n      <td>3.616480</td>\n    </tr>\n  </tbody>\n</table>\n<p>1704 rows × 3 columns</p>\n</div>"
     },
     "metadata": {},
     "execution_count": 9
    }
   ],
   "source": [
    "df2"
   ]
  },
  {
   "cell_type": "code",
   "execution_count": 10,
   "metadata": {},
   "outputs": [
    {
     "output_type": "execute_result",
     "data": {
      "text/plain": [
       "      LOCATION  TIME\n",
       "0          AFG  1960\n",
       "1          AFG  1961\n",
       "2          AFG  1962\n",
       "3          AFG  1963\n",
       "4          AFG  1964\n",
       "...        ...   ...\n",
       "16099      WLD  2016\n",
       "16100      WLD  2017\n",
       "16101      WLD  2018\n",
       "16102      WLD  2019\n",
       "16103      WLD  2020\n",
       "\n",
       "[16104 rows x 2 columns]"
      ],
      "text/html": "<div>\n<style scoped>\n    .dataframe tbody tr th:only-of-type {\n        vertical-align: middle;\n    }\n\n    .dataframe tbody tr th {\n        vertical-align: top;\n    }\n\n    .dataframe thead th {\n        text-align: right;\n    }\n</style>\n<table border=\"1\" class=\"dataframe\">\n  <thead>\n    <tr style=\"text-align: right;\">\n      <th></th>\n      <th>LOCATION</th>\n      <th>TIME</th>\n    </tr>\n  </thead>\n  <tbody>\n    <tr>\n      <th>0</th>\n      <td>AFG</td>\n      <td>1960</td>\n    </tr>\n    <tr>\n      <th>1</th>\n      <td>AFG</td>\n      <td>1961</td>\n    </tr>\n    <tr>\n      <th>2</th>\n      <td>AFG</td>\n      <td>1962</td>\n    </tr>\n    <tr>\n      <th>3</th>\n      <td>AFG</td>\n      <td>1963</td>\n    </tr>\n    <tr>\n      <th>4</th>\n      <td>AFG</td>\n      <td>1964</td>\n    </tr>\n    <tr>\n      <th>...</th>\n      <td>...</td>\n      <td>...</td>\n    </tr>\n    <tr>\n      <th>16099</th>\n      <td>WLD</td>\n      <td>2016</td>\n    </tr>\n    <tr>\n      <th>16100</th>\n      <td>WLD</td>\n      <td>2017</td>\n    </tr>\n    <tr>\n      <th>16101</th>\n      <td>WLD</td>\n      <td>2018</td>\n    </tr>\n    <tr>\n      <th>16102</th>\n      <td>WLD</td>\n      <td>2019</td>\n    </tr>\n    <tr>\n      <th>16103</th>\n      <td>WLD</td>\n      <td>2020</td>\n    </tr>\n  </tbody>\n</table>\n<p>16104 rows × 2 columns</p>\n</div>"
     },
     "metadata": {},
     "execution_count": 10
    }
   ],
   "source": [
    "df1"
   ]
  },
  {
   "cell_type": "code",
   "execution_count": 11,
   "metadata": {},
   "outputs": [
    {
     "output_type": "execute_result",
     "data": {
      "text/plain": [
       "Index(['LOCATION', 'TIME'], dtype='object')"
      ]
     },
     "metadata": {},
     "execution_count": 11
    }
   ],
   "source": [
    "df1.columns"
   ]
  },
  {
   "cell_type": "code",
   "execution_count": 13,
   "metadata": {},
   "outputs": [
    {
     "output_type": "execute_result",
     "data": {
      "text/plain": [
       "      Code  Year\n",
       "0      AFG  1960\n",
       "1      AFG  1961\n",
       "2      AFG  1962\n",
       "3      AFG  1963\n",
       "4      AFG  1964\n",
       "...    ...   ...\n",
       "16099  WLD  2016\n",
       "16100  WLD  2017\n",
       "16101  WLD  2018\n",
       "16102  WLD  2019\n",
       "16103  WLD  2020\n",
       "\n",
       "[16104 rows x 2 columns]"
      ],
      "text/html": "<div>\n<style scoped>\n    .dataframe tbody tr th:only-of-type {\n        vertical-align: middle;\n    }\n\n    .dataframe tbody tr th {\n        vertical-align: top;\n    }\n\n    .dataframe thead th {\n        text-align: right;\n    }\n</style>\n<table border=\"1\" class=\"dataframe\">\n  <thead>\n    <tr style=\"text-align: right;\">\n      <th></th>\n      <th>Code</th>\n      <th>Year</th>\n    </tr>\n  </thead>\n  <tbody>\n    <tr>\n      <th>0</th>\n      <td>AFG</td>\n      <td>1960</td>\n    </tr>\n    <tr>\n      <th>1</th>\n      <td>AFG</td>\n      <td>1961</td>\n    </tr>\n    <tr>\n      <th>2</th>\n      <td>AFG</td>\n      <td>1962</td>\n    </tr>\n    <tr>\n      <th>3</th>\n      <td>AFG</td>\n      <td>1963</td>\n    </tr>\n    <tr>\n      <th>4</th>\n      <td>AFG</td>\n      <td>1964</td>\n    </tr>\n    <tr>\n      <th>...</th>\n      <td>...</td>\n      <td>...</td>\n    </tr>\n    <tr>\n      <th>16099</th>\n      <td>WLD</td>\n      <td>2016</td>\n    </tr>\n    <tr>\n      <th>16100</th>\n      <td>WLD</td>\n      <td>2017</td>\n    </tr>\n    <tr>\n      <th>16101</th>\n      <td>WLD</td>\n      <td>2018</td>\n    </tr>\n    <tr>\n      <th>16102</th>\n      <td>WLD</td>\n      <td>2019</td>\n    </tr>\n    <tr>\n      <th>16103</th>\n      <td>WLD</td>\n      <td>2020</td>\n    </tr>\n  </tbody>\n</table>\n<p>16104 rows × 2 columns</p>\n</div>"
     },
     "metadata": {},
     "execution_count": 13
    }
   ],
   "source": [
    "df1 = df1.rename(columns={'TIME':'Year','LOCATION':'Code'})\n",
    "df1"
   ]
  },
  {
   "cell_type": "code",
   "execution_count": 18,
   "metadata": {},
   "outputs": [],
   "source": [
    "df2['Year']=df2['Year'].astype(\"int\")"
   ]
  },
  {
   "cell_type": "code",
   "execution_count": 19,
   "metadata": {},
   "outputs": [
    {
     "output_type": "execute_result",
     "data": {
      "text/plain": [
       "     Code  Year  \\\n",
       "0     AFG  2008   \n",
       "1     AFG  2009   \n",
       "2     AFG  2010   \n",
       "3     AFG  2011   \n",
       "4     AFG  2012   \n",
       "...   ...   ...   \n",
       "1699  ZWE  2014   \n",
       "1700  ZWE  2015   \n",
       "1701  ZWE  2016   \n",
       "1702  ZWE  2017   \n",
       "1703  ZWE  2018   \n",
       "\n",
       "      Life satisfaction in Cantril Ladder (World Happiness Report 2019).1  \n",
       "0                                              3.723590                    \n",
       "1                                              4.401778                    \n",
       "2                                              4.758381                    \n",
       "3                                              3.831719                    \n",
       "4                                              3.782938                    \n",
       "...                                                 ...                    \n",
       "1699                                           4.184451                    \n",
       "1700                                           3.703191                    \n",
       "1701                                           3.735400                    \n",
       "1702                                           3.638300                    \n",
       "1703                                           3.616480                    \n",
       "\n",
       "[1704 rows x 3 columns]"
      ],
      "text/html": "<div>\n<style scoped>\n    .dataframe tbody tr th:only-of-type {\n        vertical-align: middle;\n    }\n\n    .dataframe tbody tr th {\n        vertical-align: top;\n    }\n\n    .dataframe thead th {\n        text-align: right;\n    }\n</style>\n<table border=\"1\" class=\"dataframe\">\n  <thead>\n    <tr style=\"text-align: right;\">\n      <th></th>\n      <th>Code</th>\n      <th>Year</th>\n      <th>Life satisfaction in Cantril Ladder (World Happiness Report 2019).1</th>\n    </tr>\n  </thead>\n  <tbody>\n    <tr>\n      <th>0</th>\n      <td>AFG</td>\n      <td>2008</td>\n      <td>3.723590</td>\n    </tr>\n    <tr>\n      <th>1</th>\n      <td>AFG</td>\n      <td>2009</td>\n      <td>4.401778</td>\n    </tr>\n    <tr>\n      <th>2</th>\n      <td>AFG</td>\n      <td>2010</td>\n      <td>4.758381</td>\n    </tr>\n    <tr>\n      <th>3</th>\n      <td>AFG</td>\n      <td>2011</td>\n      <td>3.831719</td>\n    </tr>\n    <tr>\n      <th>4</th>\n      <td>AFG</td>\n      <td>2012</td>\n      <td>3.782938</td>\n    </tr>\n    <tr>\n      <th>...</th>\n      <td>...</td>\n      <td>...</td>\n      <td>...</td>\n    </tr>\n    <tr>\n      <th>1699</th>\n      <td>ZWE</td>\n      <td>2014</td>\n      <td>4.184451</td>\n    </tr>\n    <tr>\n      <th>1700</th>\n      <td>ZWE</td>\n      <td>2015</td>\n      <td>3.703191</td>\n    </tr>\n    <tr>\n      <th>1701</th>\n      <td>ZWE</td>\n      <td>2016</td>\n      <td>3.735400</td>\n    </tr>\n    <tr>\n      <th>1702</th>\n      <td>ZWE</td>\n      <td>2017</td>\n      <td>3.638300</td>\n    </tr>\n    <tr>\n      <th>1703</th>\n      <td>ZWE</td>\n      <td>2018</td>\n      <td>3.616480</td>\n    </tr>\n  </tbody>\n</table>\n<p>1704 rows × 3 columns</p>\n</div>"
     },
     "metadata": {},
     "execution_count": 19
    }
   ],
   "source": [
    "df2"
   ]
  },
  {
   "cell_type": "code",
   "execution_count": 22,
   "metadata": {},
   "outputs": [
    {
     "output_type": "execute_result",
     "data": {
      "text/plain": [
       "Code    object\n",
       "Year     int64\n",
       "dtype: object"
      ]
     },
     "metadata": {},
     "execution_count": 22
    }
   ],
   "source": [
    "df1.dtypes\n"
   ]
  },
  {
   "cell_type": "code",
   "execution_count": 25,
   "metadata": {},
   "outputs": [
    {
     "output_type": "execute_result",
     "data": {
      "text/plain": [
       "      Code  Year  \\\n",
       "0      AFG  1960   \n",
       "1      AFG  1961   \n",
       "2      AFG  1962   \n",
       "3      AFG  1963   \n",
       "4      AFG  1964   \n",
       "...    ...   ...   \n",
       "16099  WLD  2016   \n",
       "16100  WLD  2017   \n",
       "16101  WLD  2018   \n",
       "16102  WLD  2019   \n",
       "16103  WLD  2020   \n",
       "\n",
       "       Life satisfaction in Cantril Ladder (World Happiness Report 2019).1  \n",
       "0                                                    NaN                    \n",
       "1                                                    NaN                    \n",
       "2                                                    NaN                    \n",
       "3                                                    NaN                    \n",
       "4                                                    NaN                    \n",
       "...                                                  ...                    \n",
       "16099                                                NaN                    \n",
       "16100                                                NaN                    \n",
       "16101                                                NaN                    \n",
       "16102                                                NaN                    \n",
       "16103                                                NaN                    \n",
       "\n",
       "[16104 rows x 3 columns]"
      ],
      "text/html": "<div>\n<style scoped>\n    .dataframe tbody tr th:only-of-type {\n        vertical-align: middle;\n    }\n\n    .dataframe tbody tr th {\n        vertical-align: top;\n    }\n\n    .dataframe thead th {\n        text-align: right;\n    }\n</style>\n<table border=\"1\" class=\"dataframe\">\n  <thead>\n    <tr style=\"text-align: right;\">\n      <th></th>\n      <th>Code</th>\n      <th>Year</th>\n      <th>Life satisfaction in Cantril Ladder (World Happiness Report 2019).1</th>\n    </tr>\n  </thead>\n  <tbody>\n    <tr>\n      <th>0</th>\n      <td>AFG</td>\n      <td>1960</td>\n      <td>NaN</td>\n    </tr>\n    <tr>\n      <th>1</th>\n      <td>AFG</td>\n      <td>1961</td>\n      <td>NaN</td>\n    </tr>\n    <tr>\n      <th>2</th>\n      <td>AFG</td>\n      <td>1962</td>\n      <td>NaN</td>\n    </tr>\n    <tr>\n      <th>3</th>\n      <td>AFG</td>\n      <td>1963</td>\n      <td>NaN</td>\n    </tr>\n    <tr>\n      <th>4</th>\n      <td>AFG</td>\n      <td>1964</td>\n      <td>NaN</td>\n    </tr>\n    <tr>\n      <th>...</th>\n      <td>...</td>\n      <td>...</td>\n      <td>...</td>\n    </tr>\n    <tr>\n      <th>16099</th>\n      <td>WLD</td>\n      <td>2016</td>\n      <td>NaN</td>\n    </tr>\n    <tr>\n      <th>16100</th>\n      <td>WLD</td>\n      <td>2017</td>\n      <td>NaN</td>\n    </tr>\n    <tr>\n      <th>16101</th>\n      <td>WLD</td>\n      <td>2018</td>\n      <td>NaN</td>\n    </tr>\n    <tr>\n      <th>16102</th>\n      <td>WLD</td>\n      <td>2019</td>\n      <td>NaN</td>\n    </tr>\n    <tr>\n      <th>16103</th>\n      <td>WLD</td>\n      <td>2020</td>\n      <td>NaN</td>\n    </tr>\n  </tbody>\n</table>\n<p>16104 rows × 3 columns</p>\n</div>"
     },
     "metadata": {},
     "execution_count": 25
    }
   ],
   "source": [
    "merge = pd.merge(df1, df2, on=['Code','Year'], how='left')\n",
    "merge"
   ]
  },
  {
   "cell_type": "code",
   "execution_count": 27,
   "metadata": {},
   "outputs": [
    {
     "output_type": "execute_result",
     "data": {
      "text/plain": [
       "      Code  Year  \\\n",
       "0      AFG  1960   \n",
       "1      AFG  1961   \n",
       "2      AFG  1962   \n",
       "3      AFG  1963   \n",
       "4      AFG  1964   \n",
       "...    ...   ...   \n",
       "16099  WLD  2016   \n",
       "16100  WLD  2017   \n",
       "16101  WLD  2018   \n",
       "16102  WLD  2019   \n",
       "16103  WLD  2020   \n",
       "\n",
       "       Life satisfaction in Cantril Ladder (World Happiness Report 2019).1  \n",
       "0                                                    0.0                    \n",
       "1                                                    0.0                    \n",
       "2                                                    0.0                    \n",
       "3                                                    0.0                    \n",
       "4                                                    0.0                    \n",
       "...                                                  ...                    \n",
       "16099                                                0.0                    \n",
       "16100                                                0.0                    \n",
       "16101                                                0.0                    \n",
       "16102                                                0.0                    \n",
       "16103                                                0.0                    \n",
       "\n",
       "[16104 rows x 3 columns]"
      ],
      "text/html": "<div>\n<style scoped>\n    .dataframe tbody tr th:only-of-type {\n        vertical-align: middle;\n    }\n\n    .dataframe tbody tr th {\n        vertical-align: top;\n    }\n\n    .dataframe thead th {\n        text-align: right;\n    }\n</style>\n<table border=\"1\" class=\"dataframe\">\n  <thead>\n    <tr style=\"text-align: right;\">\n      <th></th>\n      <th>Code</th>\n      <th>Year</th>\n      <th>Life satisfaction in Cantril Ladder (World Happiness Report 2019).1</th>\n    </tr>\n  </thead>\n  <tbody>\n    <tr>\n      <th>0</th>\n      <td>AFG</td>\n      <td>1960</td>\n      <td>0.0</td>\n    </tr>\n    <tr>\n      <th>1</th>\n      <td>AFG</td>\n      <td>1961</td>\n      <td>0.0</td>\n    </tr>\n    <tr>\n      <th>2</th>\n      <td>AFG</td>\n      <td>1962</td>\n      <td>0.0</td>\n    </tr>\n    <tr>\n      <th>3</th>\n      <td>AFG</td>\n      <td>1963</td>\n      <td>0.0</td>\n    </tr>\n    <tr>\n      <th>4</th>\n      <td>AFG</td>\n      <td>1964</td>\n      <td>0.0</td>\n    </tr>\n    <tr>\n      <th>...</th>\n      <td>...</td>\n      <td>...</td>\n      <td>...</td>\n    </tr>\n    <tr>\n      <th>16099</th>\n      <td>WLD</td>\n      <td>2016</td>\n      <td>0.0</td>\n    </tr>\n    <tr>\n      <th>16100</th>\n      <td>WLD</td>\n      <td>2017</td>\n      <td>0.0</td>\n    </tr>\n    <tr>\n      <th>16101</th>\n      <td>WLD</td>\n      <td>2018</td>\n      <td>0.0</td>\n    </tr>\n    <tr>\n      <th>16102</th>\n      <td>WLD</td>\n      <td>2019</td>\n      <td>0.0</td>\n    </tr>\n    <tr>\n      <th>16103</th>\n      <td>WLD</td>\n      <td>2020</td>\n      <td>0.0</td>\n    </tr>\n  </tbody>\n</table>\n<p>16104 rows × 3 columns</p>\n</div>"
     },
     "metadata": {},
     "execution_count": 27
    }
   ],
   "source": [
    "merge1 = merge.fillna(0)\n",
    "merge1"
   ]
  },
  {
   "cell_type": "code",
   "execution_count": 28,
   "metadata": {},
   "outputs": [
    {
     "output_type": "execute_result",
     "data": {
      "text/plain": [
       "   Code  Year  \\\n",
       "0   AFG  1960   \n",
       "1   AFG  1961   \n",
       "2   AFG  1962   \n",
       "3   AFG  1963   \n",
       "4   AFG  1964   \n",
       "..  ...   ...   \n",
       "56  AFG  2016   \n",
       "57  AFG  2017   \n",
       "58  AFG  2018   \n",
       "59  AFG  2019   \n",
       "60  AFG  2020   \n",
       "\n",
       "    Life satisfaction in Cantril Ladder (World Happiness Report 2019).1  \n",
       "0                                            0.000000                    \n",
       "1                                            0.000000                    \n",
       "2                                            0.000000                    \n",
       "3                                            0.000000                    \n",
       "4                                            0.000000                    \n",
       "..                                                ...                    \n",
       "56                                           4.220169                    \n",
       "57                                           2.661718                    \n",
       "58                                           2.694303                    \n",
       "59                                           0.000000                    \n",
       "60                                           0.000000                    \n",
       "\n",
       "[61 rows x 3 columns]"
      ],
      "text/html": "<div>\n<style scoped>\n    .dataframe tbody tr th:only-of-type {\n        vertical-align: middle;\n    }\n\n    .dataframe tbody tr th {\n        vertical-align: top;\n    }\n\n    .dataframe thead th {\n        text-align: right;\n    }\n</style>\n<table border=\"1\" class=\"dataframe\">\n  <thead>\n    <tr style=\"text-align: right;\">\n      <th></th>\n      <th>Code</th>\n      <th>Year</th>\n      <th>Life satisfaction in Cantril Ladder (World Happiness Report 2019).1</th>\n    </tr>\n  </thead>\n  <tbody>\n    <tr>\n      <th>0</th>\n      <td>AFG</td>\n      <td>1960</td>\n      <td>0.000000</td>\n    </tr>\n    <tr>\n      <th>1</th>\n      <td>AFG</td>\n      <td>1961</td>\n      <td>0.000000</td>\n    </tr>\n    <tr>\n      <th>2</th>\n      <td>AFG</td>\n      <td>1962</td>\n      <td>0.000000</td>\n    </tr>\n    <tr>\n      <th>3</th>\n      <td>AFG</td>\n      <td>1963</td>\n      <td>0.000000</td>\n    </tr>\n    <tr>\n      <th>4</th>\n      <td>AFG</td>\n      <td>1964</td>\n      <td>0.000000</td>\n    </tr>\n    <tr>\n      <th>...</th>\n      <td>...</td>\n      <td>...</td>\n      <td>...</td>\n    </tr>\n    <tr>\n      <th>56</th>\n      <td>AFG</td>\n      <td>2016</td>\n      <td>4.220169</td>\n    </tr>\n    <tr>\n      <th>57</th>\n      <td>AFG</td>\n      <td>2017</td>\n      <td>2.661718</td>\n    </tr>\n    <tr>\n      <th>58</th>\n      <td>AFG</td>\n      <td>2018</td>\n      <td>2.694303</td>\n    </tr>\n    <tr>\n      <th>59</th>\n      <td>AFG</td>\n      <td>2019</td>\n      <td>0.000000</td>\n    </tr>\n    <tr>\n      <th>60</th>\n      <td>AFG</td>\n      <td>2020</td>\n      <td>0.000000</td>\n    </tr>\n  </tbody>\n</table>\n<p>61 rows × 3 columns</p>\n</div>"
     },
     "metadata": {},
     "execution_count": 28
    }
   ],
   "source": [
    "merge1[merge1['Code']=='AFG']"
   ]
  },
  {
   "cell_type": "code",
   "execution_count": null,
   "metadata": {},
   "outputs": [],
   "source": []
  }
 ]
}